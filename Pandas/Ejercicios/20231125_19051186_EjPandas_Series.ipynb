{
 "cells": [
  {
   "cell_type": "markdown",
   "metadata": {},
   "source": [
    "# 👨🏽‍💻 Ejercicio Pandas: Series"
   ]
  },
  {
   "cell_type": "markdown",
   "metadata": {},
   "source": [
    "> 🏗 Construir series y realizar los siguientes ejercicios.\n",
    ">\n",
    "> 🕵🏽‍♂️ Explorar más métodos que se puedan utilizar."
   ]
  },
  {
   "cell_type": "markdown",
   "metadata": {},
   "source": [
    "Importar las librerías necesarias ☝🤓."
   ]
  },
  {
   "cell_type": "code",
   "execution_count": 1,
   "metadata": {},
   "outputs": [],
   "source": [
    "import pandas as pd\n",
    "import numpy as np"
   ]
  },
  {
   "cell_type": "markdown",
   "metadata": {},
   "source": [
    "##### **Ejercicio** 1️⃣\n",
    "Crea una Serie llamada «notas» con los nombres de alumnos como índices y sus calificaciones como valores. Luego, muestra las calificaciones de mayor a menor."
   ]
  },
  {
   "cell_type": "code",
   "execution_count": 2,
   "metadata": {},
   "outputs": [
    {
     "data": {
      "text/plain": [
       "Claudia      100\n",
       "Mayra         95\n",
       "Lorena        94\n",
       "Alejandro     90\n",
       "Felipe        87\n",
       "Fernanda      87\n",
       "Leonardo      84\n",
       "Orlando       83\n",
       "César         78\n",
       "Mariana       78\n",
       "dtype: int32"
      ]
     },
     "execution_count": 2,
     "metadata": {},
     "output_type": "execute_result"
    }
   ],
   "source": [
    "nombre_alumnos = [\"Felipe\", \"Orlando\", \"César\", \"Mayra\", \"Claudia\",\n",
    "                  \"Fernanda\", \"Leonardo\", \"Lorena\", \"Alejandro\", \"Mariana\"]\n",
    "# Arreglo con 10 números aleatorios entre 70 y 100 para las calificaciones.\n",
    "calificaciones = np.random.randint(70, 101, 10)\n",
    "# Serie con los nombres de los alumnos como índices y sus calificaciones \n",
    "# como valores.\n",
    "notas = pd.Series(calificaciones, nombre_alumnos)\n",
    "# Mostrar las calificaciones de mayor a menor.\n",
    "notas.sort_values(ascending=False)"
   ]
  },
  {
   "cell_type": "markdown",
   "metadata": {},
   "source": [
    "---\n",
    "Ordenamiento de mayor a menor con el método `nlargest()`: Éste método devuelve los n elementos más grandes de la serie. El número de elementos a devolver se especifica mediante el parámetro `n`."
   ]
  },
  {
   "cell_type": "code",
   "execution_count": 3,
   "metadata": {},
   "outputs": [
    {
     "data": {
      "text/plain": [
       "Claudia      100\n",
       "Mayra         95\n",
       "Lorena        94\n",
       "Alejandro     90\n",
       "Felipe        87\n",
       "Fernanda      87\n",
       "Leonardo      84\n",
       "Orlando       83\n",
       "César         78\n",
       "Mariana       78\n",
       "dtype: int32"
      ]
     },
     "execution_count": 3,
     "metadata": {},
     "output_type": "execute_result"
    }
   ],
   "source": [
    "# En este caso, n = 10 para mostrar todas las calificaciones.\n",
    "notas.nlargest(n=10)"
   ]
  },
  {
   "cell_type": "markdown",
   "metadata": {},
   "source": [
    "##### **Ejercicio** 2️⃣\n",
    "Dada la Serie «edades» con nombres de personas como índices y sus edades como valores, encuentra la edad promedio de las personas mayores de 25 años."
   ]
  },
  {
   "cell_type": "code",
   "execution_count": 4,
   "metadata": {},
   "outputs": [
    {
     "name": "stdout",
     "output_type": "stream",
     "text": [
      "Serie de edades:\n",
      " Ricardo Arjona      59\n",
      "Joaquín Sabina      74\n",
      "Silvio Rodríguez    76\n",
      "Lazcano Malo        24\n",
      "Julieta Venegas     49\n",
      "Rocío Dúrcal        61\n",
      "Chavela Vargas      93\n",
      "Luis Miguel         21\n",
      "José Alfredo        71\n",
      "Juanes              22\n",
      "dtype: int64\n",
      "Edad promedio de personas mayores de 25 años: 69.0\n"
     ]
    }
   ],
   "source": [
    "nombres = [\"Ricardo Arjona\", \"Joaquín Sabina\", \"Silvio Rodríguez\", \"Lazcano Malo\",\n",
    "           \"Julieta Venegas\", \"Rocío Dúrcal\", \"Chavela Vargas\", \"Luis Miguel\", \n",
    "           \"José Alfredo\", \"Juanes\"]\n",
    "edades = [59, 74, 76, 24, 49, 61, 93, 21, 71, 22]\n",
    "serie_edades = pd.Series(edades, nombres)\n",
    "# Mostrar la serie de edades completa.\n",
    "print(\"Serie de edades:\\n\", serie_edades)\n",
    "# Mostrar la edad promedio de las personas mayores de 25 años.\n",
    "print(\"Edad promedio de personas mayores de 25 años:\",\n",
    "      serie_edades[serie_edades > 25].mean())"
   ]
  },
  {
   "cell_type": "markdown",
   "metadata": {},
   "source": [
    "---\n",
    "Otra manera de obtener el promedio de los valores de una serie es con el método `average()` de la librería *numpy*."
   ]
  },
  {
   "cell_type": "code",
   "execution_count": 5,
   "metadata": {},
   "outputs": [
    {
     "name": "stdout",
     "output_type": "stream",
     "text": [
      "Edad promedio de personas mayores de 25 años: 69.0\n"
     ]
    }
   ],
   "source": [
    "print(\"Edad promedio de personas mayores de 25 años:\",\n",
    "      np.average(serie_edades[serie_edades > 25]))"
   ]
  },
  {
   "cell_type": "markdown",
   "metadata": {},
   "source": [
    "##### **Ejercicio** 3️⃣\n",
    "Dada la Serie «ventas» con nombres de productos como índices y sus cantidades vendidas como valores, muestra los productos que tienen ventas superiores a 50 unidades."
   ]
  },
  {
   "cell_type": "code",
   "execution_count": 6,
   "metadata": {},
   "outputs": [
    {
     "name": "stdout",
     "output_type": "stream",
     "text": [
      "Ventas totales:\n",
      " Papas        68\n",
      "Refresco     43\n",
      "Jugo         56\n",
      "Cerveza      60\n",
      "Cigarros     21\n",
      "Papel        95\n",
      "Café         32\n",
      "Chocolate    61\n",
      "Galletas      4\n",
      "Chicles      67\n",
      "dtype: int32\n",
      "\n",
      "Productos con ventas superiores a 50 unidades:\n",
      " Papas        68\n",
      "Jugo         56\n",
      "Cerveza      60\n",
      "Papel        95\n",
      "Chocolate    61\n",
      "Chicles      67\n",
      "dtype: int32\n"
     ]
    }
   ],
   "source": [
    "productos = [\"Papas\", \"Refresco\", \"Jugo\", \"Cerveza\", \"Cigarros\",\n",
    "             \"Papel\", \"Café\", \"Chocolate\", \"Galletas\", \"Chicles\"]\n",
    "cantidades_vendidas = np.random.randint(1, 101, 10)\n",
    "ventas = pd.Series(cantidades_vendidas, productos)\n",
    "print(\"Ventas totales:\\n\", ventas)\n",
    "print(\"\\nProductos con ventas superiores a 50 unidades:\\n\",\n",
    "      ventas[ventas > 50])"
   ]
  },
  {
   "cell_type": "markdown",
   "metadata": {},
   "source": [
    "---\n",
    "💡 Para filtrar los valores de una serie se pueden utilizar los operadores de comparación `>`, `<`, `>=`, `<=`, `==` y `!=`. El resultado de la comparación es una serie de valores booleanos que se pueden utilizar para filtrar los valores de la serie original.\n",
    "\n",
    "Sin embargo, también se puede utilizar el método `where()`, que recibe como parámetro una condición booleana y devuelve una serie con los valores que cumplen la condición y `NaN` en caso contrario."
   ]
  },
  {
   "cell_type": "code",
   "execution_count": 7,
   "metadata": {},
   "outputs": [
    {
     "data": {
      "text/plain": [
       "Papas        68.0\n",
       "Refresco      NaN\n",
       "Jugo         56.0\n",
       "Cerveza      60.0\n",
       "Cigarros      NaN\n",
       "Papel        95.0\n",
       "Café          NaN\n",
       "Chocolate    61.0\n",
       "Galletas      NaN\n",
       "Chicles      67.0\n",
       "dtype: float64"
      ]
     },
     "execution_count": 7,
     "metadata": {},
     "output_type": "execute_result"
    }
   ],
   "source": [
    "ventas.where(ventas > 50)"
   ]
  }
 ],
 "metadata": {
  "kernelspec": {
   "display_name": "Python 3",
   "language": "python",
   "name": "python3"
  },
  "language_info": {
   "codemirror_mode": {
    "name": "ipython",
    "version": 3
   },
   "file_extension": ".py",
   "mimetype": "text/x-python",
   "name": "python",
   "nbconvert_exporter": "python",
   "pygments_lexer": "ipython3",
   "version": "3.10.8"
  }
 },
 "nbformat": 4,
 "nbformat_minor": 2
}
