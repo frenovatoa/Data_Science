{
 "cells": [
  {
   "cell_type": "markdown",
   "metadata": {},
   "source": [
    "# 👨🏽‍💻 Ejercicio Pandas: DataFrames 06"
   ]
  },
  {
   "cell_type": "markdown",
   "metadata": {},
   "source": [
    "> Con un nuevo dataframe, realizar lo siguiente:"
   ]
  },
  {
   "cell_type": "code",
   "execution_count": 9,
   "metadata": {},
   "outputs": [],
   "source": [
    "import pandas as pd\n",
    "import numpy as np\n",
    "# Dataset con los precios de las acciones de Microsoft desde el 2000 hasta el 2023:\n",
    "df = pd.read_csv('c:\\\\Users\\\\Admin\\\\Documents\\\\ITS\\\\Semestre 9\\\\Data_Science\\\\Pandas\\\\Datasets\\\\msft_2000_2023.csv')"
   ]
  },
  {
   "cell_type": "code",
   "execution_count": 10,
   "metadata": {},
   "outputs": [
    {
     "data": {
      "text/html": [
       "<div>\n",
       "<style scoped>\n",
       "    .dataframe tbody tr th:only-of-type {\n",
       "        vertical-align: middle;\n",
       "    }\n",
       "\n",
       "    .dataframe tbody tr th {\n",
       "        vertical-align: top;\n",
       "    }\n",
       "\n",
       "    .dataframe thead th {\n",
       "        text-align: right;\n",
       "    }\n",
       "</style>\n",
       "<table border=\"1\" class=\"dataframe\">\n",
       "  <thead>\n",
       "    <tr style=\"text-align: right;\">\n",
       "      <th></th>\n",
       "      <th>Date</th>\n",
       "      <th>Open</th>\n",
       "      <th>High</th>\n",
       "      <th>Low</th>\n",
       "      <th>Close</th>\n",
       "      <th>Adj Close</th>\n",
       "      <th>Volume</th>\n",
       "    </tr>\n",
       "  </thead>\n",
       "  <tbody>\n",
       "    <tr>\n",
       "      <th>0</th>\n",
       "      <td>1/3/2000</td>\n",
       "      <td>58.68750</td>\n",
       "      <td>59.3125</td>\n",
       "      <td>56.00000</td>\n",
       "      <td>58.28125</td>\n",
       "      <td>36.132248</td>\n",
       "      <td>53228400</td>\n",
       "    </tr>\n",
       "    <tr>\n",
       "      <th>1</th>\n",
       "      <td>1/4/2000</td>\n",
       "      <td>56.78125</td>\n",
       "      <td>58.5625</td>\n",
       "      <td>56.12500</td>\n",
       "      <td>56.31250</td>\n",
       "      <td>34.911709</td>\n",
       "      <td>54119000</td>\n",
       "    </tr>\n",
       "    <tr>\n",
       "      <th>2</th>\n",
       "      <td>1/5/2000</td>\n",
       "      <td>55.56250</td>\n",
       "      <td>58.1875</td>\n",
       "      <td>54.68750</td>\n",
       "      <td>56.90625</td>\n",
       "      <td>35.279816</td>\n",
       "      <td>64059600</td>\n",
       "    </tr>\n",
       "    <tr>\n",
       "      <th>3</th>\n",
       "      <td>1/6/2000</td>\n",
       "      <td>56.09375</td>\n",
       "      <td>56.9375</td>\n",
       "      <td>54.18750</td>\n",
       "      <td>55.00000</td>\n",
       "      <td>34.098019</td>\n",
       "      <td>54976600</td>\n",
       "    </tr>\n",
       "    <tr>\n",
       "      <th>4</th>\n",
       "      <td>1/7/2000</td>\n",
       "      <td>54.31250</td>\n",
       "      <td>56.1250</td>\n",
       "      <td>53.65625</td>\n",
       "      <td>55.71875</td>\n",
       "      <td>34.543629</td>\n",
       "      <td>62013600</td>\n",
       "    </tr>\n",
       "  </tbody>\n",
       "</table>\n",
       "</div>"
      ],
      "text/plain": [
       "       Date      Open     High       Low     Close  Adj Close    Volume\n",
       "0  1/3/2000  58.68750  59.3125  56.00000  58.28125  36.132248  53228400\n",
       "1  1/4/2000  56.78125  58.5625  56.12500  56.31250  34.911709  54119000\n",
       "2  1/5/2000  55.56250  58.1875  54.68750  56.90625  35.279816  64059600\n",
       "3  1/6/2000  56.09375  56.9375  54.18750  55.00000  34.098019  54976600\n",
       "4  1/7/2000  54.31250  56.1250  53.65625  55.71875  34.543629  62013600"
      ]
     },
     "execution_count": 10,
     "metadata": {},
     "output_type": "execute_result"
    }
   ],
   "source": [
    "df.head()"
   ]
  },
  {
   "cell_type": "markdown",
   "metadata": {},
   "source": [
    "#### 1️⃣ Realizar una función que involucre 2 columnas:"
   ]
  },
  {
   "cell_type": "code",
   "execution_count": 11,
   "metadata": {},
   "outputs": [],
   "source": [
    "def calc_difference(open, close):\n",
    "    \"\"\"\n",
    "    Calcula la diferencia entre el precio de apertura y el precio de cierre.\n",
    "    \"\"\"\n",
    "    return open - close"
   ]
  },
  {
   "cell_type": "code",
   "execution_count": 12,
   "metadata": {},
   "outputs": [
    {
     "data": {
      "text/plain": [
       "7"
      ]
     },
     "execution_count": 12,
     "metadata": {},
     "output_type": "execute_result"
    }
   ],
   "source": [
    "# Uso de la función calc_difference:\n",
    "calc_difference(10, 3)"
   ]
  },
  {
   "cell_type": "markdown",
   "metadata": {},
   "source": [
    "#### 2️⃣ Utilizar `np.vectorize` y aplicar el resultado a una nueva columna."
   ]
  },
  {
   "cell_type": "code",
   "execution_count": 13,
   "metadata": {},
   "outputs": [
    {
     "data": {
      "text/html": [
       "<div>\n",
       "<style scoped>\n",
       "    .dataframe tbody tr th:only-of-type {\n",
       "        vertical-align: middle;\n",
       "    }\n",
       "\n",
       "    .dataframe tbody tr th {\n",
       "        vertical-align: top;\n",
       "    }\n",
       "\n",
       "    .dataframe thead th {\n",
       "        text-align: right;\n",
       "    }\n",
       "</style>\n",
       "<table border=\"1\" class=\"dataframe\">\n",
       "  <thead>\n",
       "    <tr style=\"text-align: right;\">\n",
       "      <th></th>\n",
       "      <th>Date</th>\n",
       "      <th>Open</th>\n",
       "      <th>High</th>\n",
       "      <th>Low</th>\n",
       "      <th>Close</th>\n",
       "      <th>Adj Close</th>\n",
       "      <th>Volume</th>\n",
       "      <th>Difference</th>\n",
       "    </tr>\n",
       "  </thead>\n",
       "  <tbody>\n",
       "    <tr>\n",
       "      <th>0</th>\n",
       "      <td>1/3/2000</td>\n",
       "      <td>58.68750</td>\n",
       "      <td>59.3125</td>\n",
       "      <td>56.00000</td>\n",
       "      <td>58.28125</td>\n",
       "      <td>36.132248</td>\n",
       "      <td>53228400</td>\n",
       "      <td>0.40625</td>\n",
       "    </tr>\n",
       "    <tr>\n",
       "      <th>1</th>\n",
       "      <td>1/4/2000</td>\n",
       "      <td>56.78125</td>\n",
       "      <td>58.5625</td>\n",
       "      <td>56.12500</td>\n",
       "      <td>56.31250</td>\n",
       "      <td>34.911709</td>\n",
       "      <td>54119000</td>\n",
       "      <td>0.46875</td>\n",
       "    </tr>\n",
       "    <tr>\n",
       "      <th>2</th>\n",
       "      <td>1/5/2000</td>\n",
       "      <td>55.56250</td>\n",
       "      <td>58.1875</td>\n",
       "      <td>54.68750</td>\n",
       "      <td>56.90625</td>\n",
       "      <td>35.279816</td>\n",
       "      <td>64059600</td>\n",
       "      <td>-1.34375</td>\n",
       "    </tr>\n",
       "    <tr>\n",
       "      <th>3</th>\n",
       "      <td>1/6/2000</td>\n",
       "      <td>56.09375</td>\n",
       "      <td>56.9375</td>\n",
       "      <td>54.18750</td>\n",
       "      <td>55.00000</td>\n",
       "      <td>34.098019</td>\n",
       "      <td>54976600</td>\n",
       "      <td>1.09375</td>\n",
       "    </tr>\n",
       "    <tr>\n",
       "      <th>4</th>\n",
       "      <td>1/7/2000</td>\n",
       "      <td>54.31250</td>\n",
       "      <td>56.1250</td>\n",
       "      <td>53.65625</td>\n",
       "      <td>55.71875</td>\n",
       "      <td>34.543629</td>\n",
       "      <td>62013600</td>\n",
       "      <td>-1.40625</td>\n",
       "    </tr>\n",
       "  </tbody>\n",
       "</table>\n",
       "</div>"
      ],
      "text/plain": [
       "       Date      Open     High       Low     Close  Adj Close    Volume   \n",
       "0  1/3/2000  58.68750  59.3125  56.00000  58.28125  36.132248  53228400  \\\n",
       "1  1/4/2000  56.78125  58.5625  56.12500  56.31250  34.911709  54119000   \n",
       "2  1/5/2000  55.56250  58.1875  54.68750  56.90625  35.279816  64059600   \n",
       "3  1/6/2000  56.09375  56.9375  54.18750  55.00000  34.098019  54976600   \n",
       "4  1/7/2000  54.31250  56.1250  53.65625  55.71875  34.543629  62013600   \n",
       "\n",
       "   Difference  \n",
       "0     0.40625  \n",
       "1     0.46875  \n",
       "2    -1.34375  \n",
       "3     1.09375  \n",
       "4    -1.40625  "
      ]
     },
     "execution_count": 13,
     "metadata": {},
     "output_type": "execute_result"
    }
   ],
   "source": [
    "# Guardar la diferencia en una nueva columna:\n",
    "df[\"Difference\"] = np.vectorize(calc_difference)(df[\"Open\"], df[\"Close\"])\n",
    "df.head()"
   ]
  },
  {
   "cell_type": "markdown",
   "metadata": {},
   "source": [
    "#### 3️⃣ Ordenar los valores en una columna que usted indique."
   ]
  },
  {
   "cell_type": "code",
   "execution_count": 14,
   "metadata": {},
   "outputs": [
    {
     "data": {
      "text/html": [
       "<div>\n",
       "<style scoped>\n",
       "    .dataframe tbody tr th:only-of-type {\n",
       "        vertical-align: middle;\n",
       "    }\n",
       "\n",
       "    .dataframe tbody tr th {\n",
       "        vertical-align: top;\n",
       "    }\n",
       "\n",
       "    .dataframe thead th {\n",
       "        text-align: right;\n",
       "    }\n",
       "</style>\n",
       "<table border=\"1\" class=\"dataframe\">\n",
       "  <thead>\n",
       "    <tr style=\"text-align: right;\">\n",
       "      <th></th>\n",
       "      <th>Date</th>\n",
       "      <th>Open</th>\n",
       "      <th>High</th>\n",
       "      <th>Low</th>\n",
       "      <th>Close</th>\n",
       "      <th>Adj Close</th>\n",
       "      <th>Volume</th>\n",
       "      <th>Difference</th>\n",
       "    </tr>\n",
       "  </thead>\n",
       "  <tbody>\n",
       "    <tr>\n",
       "      <th>1588</th>\n",
       "      <td>4/28/2006</td>\n",
       "      <td>24.230000</td>\n",
       "      <td>24.500000</td>\n",
       "      <td>24.000000</td>\n",
       "      <td>24.150000</td>\n",
       "      <td>17.148354</td>\n",
       "      <td>591052200</td>\n",
       "      <td>0.080000</td>\n",
       "    </tr>\n",
       "    <tr>\n",
       "      <th>2848</th>\n",
       "      <td>4/29/2011</td>\n",
       "      <td>26.549999</td>\n",
       "      <td>26.639999</td>\n",
       "      <td>25.360001</td>\n",
       "      <td>25.920000</td>\n",
       "      <td>20.187849</td>\n",
       "      <td>319317900</td>\n",
       "      <td>0.629999</td>\n",
       "    </tr>\n",
       "    <tr>\n",
       "      <th>77</th>\n",
       "      <td>4/24/2000</td>\n",
       "      <td>33.625000</td>\n",
       "      <td>34.000000</td>\n",
       "      <td>32.500000</td>\n",
       "      <td>33.312500</td>\n",
       "      <td>20.652540</td>\n",
       "      <td>313645800</td>\n",
       "      <td>0.312500</td>\n",
       "    </tr>\n",
       "    <tr>\n",
       "      <th>2031</th>\n",
       "      <td>2/1/2008</td>\n",
       "      <td>31.059999</td>\n",
       "      <td>33.250000</td>\n",
       "      <td>30.250000</td>\n",
       "      <td>30.450001</td>\n",
       "      <td>22.157578</td>\n",
       "      <td>291138900</td>\n",
       "      <td>0.609998</td>\n",
       "    </tr>\n",
       "    <tr>\n",
       "      <th>1965</th>\n",
       "      <td>10/26/2007</td>\n",
       "      <td>36.009998</td>\n",
       "      <td>36.029999</td>\n",
       "      <td>34.560001</td>\n",
       "      <td>35.029999</td>\n",
       "      <td>25.406311</td>\n",
       "      <td>288121200</td>\n",
       "      <td>0.979999</td>\n",
       "    </tr>\n",
       "    <tr>\n",
       "      <th>...</th>\n",
       "      <td>...</td>\n",
       "      <td>...</td>\n",
       "      <td>...</td>\n",
       "      <td>...</td>\n",
       "      <td>...</td>\n",
       "      <td>...</td>\n",
       "      <td>...</td>\n",
       "      <td>...</td>\n",
       "    </tr>\n",
       "    <tr>\n",
       "      <th>5762</th>\n",
       "      <td>11/25/2022</td>\n",
       "      <td>247.309998</td>\n",
       "      <td>248.699997</td>\n",
       "      <td>246.729996</td>\n",
       "      <td>247.490005</td>\n",
       "      <td>245.314819</td>\n",
       "      <td>9200800</td>\n",
       "      <td>-0.180007</td>\n",
       "    </tr>\n",
       "    <tr>\n",
       "      <th>4001</th>\n",
       "      <td>11/27/2015</td>\n",
       "      <td>53.799999</td>\n",
       "      <td>54.080002</td>\n",
       "      <td>53.790001</td>\n",
       "      <td>53.930000</td>\n",
       "      <td>47.925758</td>\n",
       "      <td>9009100</td>\n",
       "      <td>-0.130001</td>\n",
       "    </tr>\n",
       "    <tr>\n",
       "      <th>5026</th>\n",
       "      <td>12/24/2019</td>\n",
       "      <td>157.479996</td>\n",
       "      <td>157.710007</td>\n",
       "      <td>157.119995</td>\n",
       "      <td>157.380005</td>\n",
       "      <td>151.657349</td>\n",
       "      <td>8989200</td>\n",
       "      <td>0.099991</td>\n",
       "    </tr>\n",
       "    <tr>\n",
       "      <th>4252</th>\n",
       "      <td>11/25/2016</td>\n",
       "      <td>60.299999</td>\n",
       "      <td>60.529999</td>\n",
       "      <td>60.130001</td>\n",
       "      <td>60.529999</td>\n",
       "      <td>55.266979</td>\n",
       "      <td>8409600</td>\n",
       "      <td>-0.230000</td>\n",
       "    </tr>\n",
       "    <tr>\n",
       "      <th>4503</th>\n",
       "      <td>11/24/2017</td>\n",
       "      <td>83.010002</td>\n",
       "      <td>83.430000</td>\n",
       "      <td>82.779999</td>\n",
       "      <td>83.260002</td>\n",
       "      <td>77.718071</td>\n",
       "      <td>7425600</td>\n",
       "      <td>-0.250000</td>\n",
       "    </tr>\n",
       "  </tbody>\n",
       "</table>\n",
       "<p>6012 rows × 8 columns</p>\n",
       "</div>"
      ],
      "text/plain": [
       "            Date        Open        High         Low       Close   Adj Close   \n",
       "1588   4/28/2006   24.230000   24.500000   24.000000   24.150000   17.148354  \\\n",
       "2848   4/29/2011   26.549999   26.639999   25.360001   25.920000   20.187849   \n",
       "77     4/24/2000   33.625000   34.000000   32.500000   33.312500   20.652540   \n",
       "2031    2/1/2008   31.059999   33.250000   30.250000   30.450001   22.157578   \n",
       "1965  10/26/2007   36.009998   36.029999   34.560001   35.029999   25.406311   \n",
       "...          ...         ...         ...         ...         ...         ...   \n",
       "5762  11/25/2022  247.309998  248.699997  246.729996  247.490005  245.314819   \n",
       "4001  11/27/2015   53.799999   54.080002   53.790001   53.930000   47.925758   \n",
       "5026  12/24/2019  157.479996  157.710007  157.119995  157.380005  151.657349   \n",
       "4252  11/25/2016   60.299999   60.529999   60.130001   60.529999   55.266979   \n",
       "4503  11/24/2017   83.010002   83.430000   82.779999   83.260002   77.718071   \n",
       "\n",
       "         Volume  Difference  \n",
       "1588  591052200    0.080000  \n",
       "2848  319317900    0.629999  \n",
       "77    313645800    0.312500  \n",
       "2031  291138900    0.609998  \n",
       "1965  288121200    0.979999  \n",
       "...         ...         ...  \n",
       "5762    9200800   -0.180007  \n",
       "4001    9009100   -0.130001  \n",
       "5026    8989200    0.099991  \n",
       "4252    8409600   -0.230000  \n",
       "4503    7425600   -0.250000  \n",
       "\n",
       "[6012 rows x 8 columns]"
      ]
     },
     "execution_count": 14,
     "metadata": {},
     "output_type": "execute_result"
    }
   ],
   "source": [
    "# Ordenar de forma descendente por la columna «Volume»:\n",
    "df.sort_values(\"Volume\", ascending=False)"
   ]
  },
  {
   "cell_type": "markdown",
   "metadata": {},
   "source": [
    "#### 4️⃣ Obtener el valor mínimo, máximo, su localización y ver la información de esa columna."
   ]
  },
  {
   "cell_type": "code",
   "execution_count": 18,
   "metadata": {},
   "outputs": [
    {
     "data": {
      "text/plain": [
       "7425600"
      ]
     },
     "execution_count": 18,
     "metadata": {},
     "output_type": "execute_result"
    }
   ],
   "source": [
    "# Mínimo valor de la columna «Volume»:\n",
    "df[\"Volume\"].min()"
   ]
  },
  {
   "cell_type": "code",
   "execution_count": 19,
   "metadata": {},
   "outputs": [
    {
     "data": {
      "text/plain": [
       "4503"
      ]
     },
     "execution_count": 19,
     "metadata": {},
     "output_type": "execute_result"
    }
   ],
   "source": [
    "# Localización del valor mínimo de la columna «Volume»:\n",
    "df[\"Volume\"].idxmin()"
   ]
  },
  {
   "cell_type": "code",
   "execution_count": 27,
   "metadata": {},
   "outputs": [
    {
     "data": {
      "text/plain": [
       "Date          11/24/2017\n",
       "Open           83.010002\n",
       "High               83.43\n",
       "Low            82.779999\n",
       "Close          83.260002\n",
       "Adj Close      77.718071\n",
       "Volume           7425600\n",
       "Difference         -0.25\n",
       "Name: 4503, dtype: object"
      ]
     },
     "execution_count": 27,
     "metadata": {},
     "output_type": "execute_result"
    }
   ],
   "source": [
    "# Ver la información de registro anterior:\n",
    "df.iloc[4503]"
   ]
  },
  {
   "cell_type": "code",
   "execution_count": 22,
   "metadata": {},
   "outputs": [
    {
     "data": {
      "text/plain": [
       "591052200"
      ]
     },
     "execution_count": 22,
     "metadata": {},
     "output_type": "execute_result"
    }
   ],
   "source": [
    "# Máximo valor de la columna «Volume»:\n",
    "df[\"Volume\"].max()"
   ]
  },
  {
   "cell_type": "code",
   "execution_count": 23,
   "metadata": {},
   "outputs": [
    {
     "data": {
      "text/plain": [
       "1588"
      ]
     },
     "execution_count": 23,
     "metadata": {},
     "output_type": "execute_result"
    }
   ],
   "source": [
    "# Localización del valor máximo de la columna «Volume»:\n",
    "df[\"Volume\"].idxmax()"
   ]
  },
  {
   "cell_type": "code",
   "execution_count": 26,
   "metadata": {},
   "outputs": [
    {
     "data": {
      "text/plain": [
       "Date          4/28/2006\n",
       "Open              24.23\n",
       "High               24.5\n",
       "Low                24.0\n",
       "Close             24.15\n",
       "Adj Close     17.148354\n",
       "Volume        591052200\n",
       "Difference         0.08\n",
       "Name: 1588, dtype: object"
      ]
     },
     "execution_count": 26,
     "metadata": {},
     "output_type": "execute_result"
    }
   ],
   "source": [
    "# Ver la información de registro anterior:\n",
    "df.iloc[1588]"
   ]
  },
  {
   "cell_type": "code",
   "execution_count": 20,
   "metadata": {},
   "outputs": [
    {
     "data": {
      "text/plain": [
       "count    6.012000e+03\n",
       "mean     5.132949e+07\n",
       "std      3.074841e+07\n",
       "min      7.425600e+06\n",
       "25%      2.865732e+07\n",
       "50%      4.605860e+07\n",
       "75%      6.504930e+07\n",
       "max      5.910522e+08\n",
       "Name: Volume, dtype: float64"
      ]
     },
     "execution_count": 20,
     "metadata": {},
     "output_type": "execute_result"
    }
   ],
   "source": [
    "# Ver la información de la columna «Volume»:\n",
    "df[\"Volume\"].describe()"
   ]
  },
  {
   "cell_type": "markdown",
   "metadata": {},
   "source": [
    "#### 5️⃣ Obtener, de 2 columnas, sus respectivos:"
   ]
  },
  {
   "cell_type": "markdown",
   "metadata": {},
   "source": [
    "###### Creación de nuevas columnas para poder realizar el ejercicio:"
   ]
  },
  {
   "cell_type": "code",
   "execution_count": 32,
   "metadata": {},
   "outputs": [
    {
     "data": {
      "text/plain": [
       "dtype('<M8[ns]')"
      ]
     },
     "execution_count": 32,
     "metadata": {},
     "output_type": "execute_result"
    }
   ],
   "source": [
    "# Formatear la columna «Date»:\n",
    "df[\"Date\"] = pd.to_datetime(df[\"Date\"])\n",
    "\n",
    "# Validar el tipo de dato de la columna «Date»:\n",
    "df[\"Date\"].dtype"
   ]
  },
  {
   "cell_type": "code",
   "execution_count": 34,
   "metadata": {},
   "outputs": [],
   "source": [
    "# Crear una nueva columna con el año de la columna «Date»:\n",
    "df[\"Year\"] = df[\"Date\"].dt.year\n",
    "\n",
    "# Crear una nueva columna con el mes de la columna «Date»:\n",
    "df[\"Month\"] = df[\"Date\"].dt.month"
   ]
  },
  {
   "cell_type": "code",
   "execution_count": 35,
   "metadata": {},
   "outputs": [
    {
     "data": {
      "text/html": [
       "<div>\n",
       "<style scoped>\n",
       "    .dataframe tbody tr th:only-of-type {\n",
       "        vertical-align: middle;\n",
       "    }\n",
       "\n",
       "    .dataframe tbody tr th {\n",
       "        vertical-align: top;\n",
       "    }\n",
       "\n",
       "    .dataframe thead th {\n",
       "        text-align: right;\n",
       "    }\n",
       "</style>\n",
       "<table border=\"1\" class=\"dataframe\">\n",
       "  <thead>\n",
       "    <tr style=\"text-align: right;\">\n",
       "      <th></th>\n",
       "      <th>Date</th>\n",
       "      <th>Open</th>\n",
       "      <th>High</th>\n",
       "      <th>Low</th>\n",
       "      <th>Close</th>\n",
       "      <th>Adj Close</th>\n",
       "      <th>Volume</th>\n",
       "      <th>Difference</th>\n",
       "      <th>Year</th>\n",
       "      <th>Month</th>\n",
       "    </tr>\n",
       "  </thead>\n",
       "  <tbody>\n",
       "    <tr>\n",
       "      <th>0</th>\n",
       "      <td>2000-01-03</td>\n",
       "      <td>58.68750</td>\n",
       "      <td>59.3125</td>\n",
       "      <td>56.00000</td>\n",
       "      <td>58.28125</td>\n",
       "      <td>36.132248</td>\n",
       "      <td>53228400</td>\n",
       "      <td>0.40625</td>\n",
       "      <td>2000</td>\n",
       "      <td>1</td>\n",
       "    </tr>\n",
       "    <tr>\n",
       "      <th>1</th>\n",
       "      <td>2000-01-04</td>\n",
       "      <td>56.78125</td>\n",
       "      <td>58.5625</td>\n",
       "      <td>56.12500</td>\n",
       "      <td>56.31250</td>\n",
       "      <td>34.911709</td>\n",
       "      <td>54119000</td>\n",
       "      <td>0.46875</td>\n",
       "      <td>2000</td>\n",
       "      <td>1</td>\n",
       "    </tr>\n",
       "    <tr>\n",
       "      <th>2</th>\n",
       "      <td>2000-01-05</td>\n",
       "      <td>55.56250</td>\n",
       "      <td>58.1875</td>\n",
       "      <td>54.68750</td>\n",
       "      <td>56.90625</td>\n",
       "      <td>35.279816</td>\n",
       "      <td>64059600</td>\n",
       "      <td>-1.34375</td>\n",
       "      <td>2000</td>\n",
       "      <td>1</td>\n",
       "    </tr>\n",
       "    <tr>\n",
       "      <th>3</th>\n",
       "      <td>2000-01-06</td>\n",
       "      <td>56.09375</td>\n",
       "      <td>56.9375</td>\n",
       "      <td>54.18750</td>\n",
       "      <td>55.00000</td>\n",
       "      <td>34.098019</td>\n",
       "      <td>54976600</td>\n",
       "      <td>1.09375</td>\n",
       "      <td>2000</td>\n",
       "      <td>1</td>\n",
       "    </tr>\n",
       "    <tr>\n",
       "      <th>4</th>\n",
       "      <td>2000-01-07</td>\n",
       "      <td>54.31250</td>\n",
       "      <td>56.1250</td>\n",
       "      <td>53.65625</td>\n",
       "      <td>55.71875</td>\n",
       "      <td>34.543629</td>\n",
       "      <td>62013600</td>\n",
       "      <td>-1.40625</td>\n",
       "      <td>2000</td>\n",
       "      <td>1</td>\n",
       "    </tr>\n",
       "  </tbody>\n",
       "</table>\n",
       "</div>"
      ],
      "text/plain": [
       "        Date      Open     High       Low     Close  Adj Close    Volume   \n",
       "0 2000-01-03  58.68750  59.3125  56.00000  58.28125  36.132248  53228400  \\\n",
       "1 2000-01-04  56.78125  58.5625  56.12500  56.31250  34.911709  54119000   \n",
       "2 2000-01-05  55.56250  58.1875  54.68750  56.90625  35.279816  64059600   \n",
       "3 2000-01-06  56.09375  56.9375  54.18750  55.00000  34.098019  54976600   \n",
       "4 2000-01-07  54.31250  56.1250  53.65625  55.71875  34.543629  62013600   \n",
       "\n",
       "   Difference  Year  Month  \n",
       "0     0.40625  2000      1  \n",
       "1     0.46875  2000      1  \n",
       "2    -1.34375  2000      1  \n",
       "3     1.09375  2000      1  \n",
       "4    -1.40625  2000      1  "
      ]
     },
     "execution_count": 35,
     "metadata": {},
     "output_type": "execute_result"
    }
   ],
   "source": [
    "df.head()"
   ]
  },
  {
   "cell_type": "code",
   "execution_count": null,
   "metadata": {},
   "outputs": [],
   "source": []
  },
  {
   "cell_type": "markdown",
   "metadata": {},
   "source": [
    "##### 🧮 `value_counts()`"
   ]
  },
  {
   "cell_type": "code",
   "execution_count": 36,
   "metadata": {},
   "outputs": [
    {
     "data": {
      "text/plain": [
       "Year\n",
       "2020    253\n",
       "2008    253\n",
       "2021    252\n",
       "2019    252\n",
       "2016    252\n",
       "2015    252\n",
       "2014    252\n",
       "2013    252\n",
       "2011    252\n",
       "2000    252\n",
       "2009    252\n",
       "2005    252\n",
       "2004    252\n",
       "2003    252\n",
       "2002    252\n",
       "2010    252\n",
       "2007    251\n",
       "2022    251\n",
       "2006    251\n",
       "2017    251\n",
       "2018    251\n",
       "2012    250\n",
       "2001    248\n",
       "2023    225\n",
       "Name: count, dtype: int64"
      ]
     },
     "execution_count": 36,
     "metadata": {},
     "output_type": "execute_result"
    }
   ],
   "source": [
    "# Contar el número de registros por año:\n",
    "df[\"Year\"].value_counts()"
   ]
  },
  {
   "cell_type": "code",
   "execution_count": 37,
   "metadata": {},
   "outputs": [
    {
     "data": {
      "text/plain": [
       "Month\n",
       "8     534\n",
       "10    529\n",
       "3     527\n",
       "6     512\n",
       "5     509\n",
       "7     505\n",
       "4     494\n",
       "11    487\n",
       "1     486\n",
       "9     485\n",
       "12    484\n",
       "2     460\n",
       "Name: count, dtype: int64"
      ]
     },
     "execution_count": 37,
     "metadata": {},
     "output_type": "execute_result"
    }
   ],
   "source": [
    "# Contar el número de registros por mes:\n",
    "df[\"Month\"].value_counts()"
   ]
  },
  {
   "cell_type": "markdown",
   "metadata": {},
   "source": [
    "##### 💎 `unique()`"
   ]
  },
  {
   "cell_type": "code",
   "execution_count": 38,
   "metadata": {},
   "outputs": [
    {
     "data": {
      "text/plain": [
       "array([2000, 2001, 2002, 2003, 2004, 2005, 2006, 2007, 2008, 2009, 2010,\n",
       "       2011, 2012, 2013, 2014, 2015, 2016, 2017, 2018, 2019, 2020, 2021,\n",
       "       2022, 2023])"
      ]
     },
     "execution_count": 38,
     "metadata": {},
     "output_type": "execute_result"
    }
   ],
   "source": [
    "# Ver los valores únicos de la columna «Year»:\n",
    "df[\"Year\"].unique()"
   ]
  },
  {
   "cell_type": "code",
   "execution_count": 39,
   "metadata": {},
   "outputs": [
    {
     "data": {
      "text/plain": [
       "array([ 1,  2,  3,  4,  5,  6,  7,  8,  9, 10, 11, 12])"
      ]
     },
     "execution_count": 39,
     "metadata": {},
     "output_type": "execute_result"
    }
   ],
   "source": [
    "# Ver los valores únicos de la columna «Month»:\n",
    "df[\"Month\"].unique()"
   ]
  },
  {
   "cell_type": "markdown",
   "metadata": {},
   "source": [
    "#### 6️⃣ Hacer un reemplazo de nombres en una columna utilizando el método `map()`."
   ]
  },
  {
   "cell_type": "code",
   "execution_count": 40,
   "metadata": {},
   "outputs": [
    {
     "data": {
      "text/html": [
       "<div>\n",
       "<style scoped>\n",
       "    .dataframe tbody tr th:only-of-type {\n",
       "        vertical-align: middle;\n",
       "    }\n",
       "\n",
       "    .dataframe tbody tr th {\n",
       "        vertical-align: top;\n",
       "    }\n",
       "\n",
       "    .dataframe thead th {\n",
       "        text-align: right;\n",
       "    }\n",
       "</style>\n",
       "<table border=\"1\" class=\"dataframe\">\n",
       "  <thead>\n",
       "    <tr style=\"text-align: right;\">\n",
       "      <th></th>\n",
       "      <th>Date</th>\n",
       "      <th>Open</th>\n",
       "      <th>High</th>\n",
       "      <th>Low</th>\n",
       "      <th>Close</th>\n",
       "      <th>Adj Close</th>\n",
       "      <th>Volume</th>\n",
       "      <th>Difference</th>\n",
       "      <th>Year</th>\n",
       "      <th>Month</th>\n",
       "    </tr>\n",
       "  </thead>\n",
       "  <tbody>\n",
       "    <tr>\n",
       "      <th>0</th>\n",
       "      <td>2000-01-03</td>\n",
       "      <td>58.687500</td>\n",
       "      <td>59.312500</td>\n",
       "      <td>56.000000</td>\n",
       "      <td>58.281250</td>\n",
       "      <td>36.132248</td>\n",
       "      <td>53228400</td>\n",
       "      <td>0.406250</td>\n",
       "      <td>2000</td>\n",
       "      <td>Enero</td>\n",
       "    </tr>\n",
       "    <tr>\n",
       "      <th>1</th>\n",
       "      <td>2000-01-04</td>\n",
       "      <td>56.781250</td>\n",
       "      <td>58.562500</td>\n",
       "      <td>56.125000</td>\n",
       "      <td>56.312500</td>\n",
       "      <td>34.911709</td>\n",
       "      <td>54119000</td>\n",
       "      <td>0.468750</td>\n",
       "      <td>2000</td>\n",
       "      <td>Enero</td>\n",
       "    </tr>\n",
       "    <tr>\n",
       "      <th>2</th>\n",
       "      <td>2000-01-05</td>\n",
       "      <td>55.562500</td>\n",
       "      <td>58.187500</td>\n",
       "      <td>54.687500</td>\n",
       "      <td>56.906250</td>\n",
       "      <td>35.279816</td>\n",
       "      <td>64059600</td>\n",
       "      <td>-1.343750</td>\n",
       "      <td>2000</td>\n",
       "      <td>Enero</td>\n",
       "    </tr>\n",
       "    <tr>\n",
       "      <th>3</th>\n",
       "      <td>2000-01-06</td>\n",
       "      <td>56.093750</td>\n",
       "      <td>56.937500</td>\n",
       "      <td>54.187500</td>\n",
       "      <td>55.000000</td>\n",
       "      <td>34.098019</td>\n",
       "      <td>54976600</td>\n",
       "      <td>1.093750</td>\n",
       "      <td>2000</td>\n",
       "      <td>Enero</td>\n",
       "    </tr>\n",
       "    <tr>\n",
       "      <th>4</th>\n",
       "      <td>2000-01-07</td>\n",
       "      <td>54.312500</td>\n",
       "      <td>56.125000</td>\n",
       "      <td>53.656250</td>\n",
       "      <td>55.718750</td>\n",
       "      <td>34.543629</td>\n",
       "      <td>62013600</td>\n",
       "      <td>-1.406250</td>\n",
       "      <td>2000</td>\n",
       "      <td>Enero</td>\n",
       "    </tr>\n",
       "    <tr>\n",
       "      <th>...</th>\n",
       "      <td>...</td>\n",
       "      <td>...</td>\n",
       "      <td>...</td>\n",
       "      <td>...</td>\n",
       "      <td>...</td>\n",
       "      <td>...</td>\n",
       "      <td>...</td>\n",
       "      <td>...</td>\n",
       "      <td>...</td>\n",
       "      <td>...</td>\n",
       "    </tr>\n",
       "    <tr>\n",
       "      <th>6007</th>\n",
       "      <td>2023-11-16</td>\n",
       "      <td>370.959991</td>\n",
       "      <td>376.350006</td>\n",
       "      <td>370.179993</td>\n",
       "      <td>376.170013</td>\n",
       "      <td>376.170013</td>\n",
       "      <td>27182300</td>\n",
       "      <td>-5.210022</td>\n",
       "      <td>2023</td>\n",
       "      <td>Noviembre</td>\n",
       "    </tr>\n",
       "    <tr>\n",
       "      <th>6008</th>\n",
       "      <td>2023-11-17</td>\n",
       "      <td>373.609985</td>\n",
       "      <td>374.369995</td>\n",
       "      <td>367.000000</td>\n",
       "      <td>369.850006</td>\n",
       "      <td>369.850006</td>\n",
       "      <td>40157000</td>\n",
       "      <td>3.759979</td>\n",
       "      <td>2023</td>\n",
       "      <td>Noviembre</td>\n",
       "    </tr>\n",
       "    <tr>\n",
       "      <th>6009</th>\n",
       "      <td>2023-11-20</td>\n",
       "      <td>371.220001</td>\n",
       "      <td>378.869995</td>\n",
       "      <td>371.000000</td>\n",
       "      <td>377.440002</td>\n",
       "      <td>377.440002</td>\n",
       "      <td>52465100</td>\n",
       "      <td>-6.220001</td>\n",
       "      <td>2023</td>\n",
       "      <td>Noviembre</td>\n",
       "    </tr>\n",
       "    <tr>\n",
       "      <th>6010</th>\n",
       "      <td>2023-11-21</td>\n",
       "      <td>375.670013</td>\n",
       "      <td>376.220001</td>\n",
       "      <td>371.119995</td>\n",
       "      <td>373.070007</td>\n",
       "      <td>373.070007</td>\n",
       "      <td>28423100</td>\n",
       "      <td>2.600006</td>\n",
       "      <td>2023</td>\n",
       "      <td>Noviembre</td>\n",
       "    </tr>\n",
       "    <tr>\n",
       "      <th>6011</th>\n",
       "      <td>2023-11-22</td>\n",
       "      <td>378.000000</td>\n",
       "      <td>379.790009</td>\n",
       "      <td>374.970001</td>\n",
       "      <td>377.850006</td>\n",
       "      <td>377.850006</td>\n",
       "      <td>23345300</td>\n",
       "      <td>0.149994</td>\n",
       "      <td>2023</td>\n",
       "      <td>Noviembre</td>\n",
       "    </tr>\n",
       "  </tbody>\n",
       "</table>\n",
       "<p>6012 rows × 10 columns</p>\n",
       "</div>"
      ],
      "text/plain": [
       "           Date        Open        High         Low       Close   Adj Close   \n",
       "0    2000-01-03   58.687500   59.312500   56.000000   58.281250   36.132248  \\\n",
       "1    2000-01-04   56.781250   58.562500   56.125000   56.312500   34.911709   \n",
       "2    2000-01-05   55.562500   58.187500   54.687500   56.906250   35.279816   \n",
       "3    2000-01-06   56.093750   56.937500   54.187500   55.000000   34.098019   \n",
       "4    2000-01-07   54.312500   56.125000   53.656250   55.718750   34.543629   \n",
       "...         ...         ...         ...         ...         ...         ...   \n",
       "6007 2023-11-16  370.959991  376.350006  370.179993  376.170013  376.170013   \n",
       "6008 2023-11-17  373.609985  374.369995  367.000000  369.850006  369.850006   \n",
       "6009 2023-11-20  371.220001  378.869995  371.000000  377.440002  377.440002   \n",
       "6010 2023-11-21  375.670013  376.220001  371.119995  373.070007  373.070007   \n",
       "6011 2023-11-22  378.000000  379.790009  374.970001  377.850006  377.850006   \n",
       "\n",
       "        Volume  Difference  Year      Month  \n",
       "0     53228400    0.406250  2000      Enero  \n",
       "1     54119000    0.468750  2000      Enero  \n",
       "2     64059600   -1.343750  2000      Enero  \n",
       "3     54976600    1.093750  2000      Enero  \n",
       "4     62013600   -1.406250  2000      Enero  \n",
       "...        ...         ...   ...        ...  \n",
       "6007  27182300   -5.210022  2023  Noviembre  \n",
       "6008  40157000    3.759979  2023  Noviembre  \n",
       "6009  52465100   -6.220001  2023  Noviembre  \n",
       "6010  28423100    2.600006  2023  Noviembre  \n",
       "6011  23345300    0.149994  2023  Noviembre  \n",
       "\n",
       "[6012 rows x 10 columns]"
      ]
     },
     "execution_count": 40,
     "metadata": {},
     "output_type": "execute_result"
    }
   ],
   "source": [
    "# Mapear los valores de la columna «Month»:\n",
    "meses = {\n",
    "    1: \"Enero\",\n",
    "    2: \"Febrero\",\n",
    "    3: \"Marzo\",\n",
    "    4: \"Abril\",\n",
    "    5: \"Mayo\",\n",
    "    6: \"Junio\",\n",
    "    7: \"Julio\",\n",
    "    8: \"Agosto\",\n",
    "    9: \"Septiembre\",\n",
    "    10: \"Octubre\",\n",
    "    11: \"Noviembre\",\n",
    "    12: \"Diciembre\"\n",
    "}\n",
    "\n",
    "df[\"Month\"] = df[\"Month\"].map(meses)\n",
    "df"
   ]
  },
  {
   "cell_type": "code",
   "execution_count": null,
   "metadata": {},
   "outputs": [],
   "source": []
  }
 ],
 "metadata": {
  "kernelspec": {
   "display_name": "Python 3",
   "language": "python",
   "name": "python3"
  },
  "language_info": {
   "codemirror_mode": {
    "name": "ipython",
    "version": 3
   },
   "file_extension": ".py",
   "mimetype": "text/x-python",
   "name": "python",
   "nbconvert_exporter": "python",
   "pygments_lexer": "ipython3",
   "version": "3.10.8"
  }
 },
 "nbformat": 4,
 "nbformat_minor": 2
}
