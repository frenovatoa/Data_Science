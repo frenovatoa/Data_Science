{
 "cells": [
  {
   "cell_type": "markdown",
   "metadata": {},
   "source": [
    "# 👨🏽‍💻 Ejercicio Pandas 01"
   ]
  },
  {
   "cell_type": "code",
   "execution_count": 1,
   "metadata": {},
   "outputs": [],
   "source": [
    "import pandas as pd\n",
    "import numpy as np"
   ]
  },
  {
   "cell_type": "markdown",
   "metadata": {},
   "source": [
    "#### 1. Crear una serie que incluya como datos números aleatorios del 1 al 150 y como índices nombre de países, al menos 10 elementos."
   ]
  },
  {
   "cell_type": "code",
   "execution_count": 15,
   "metadata": {},
   "outputs": [
    {
     "data": {
      "text/plain": [
       "México        89\n",
       "USA           35\n",
       "Canadá        10\n",
       "Argentina     40\n",
       "Chile         23\n",
       "Brasil        40\n",
       "Perú          26\n",
       "Colombia     102\n",
       "Uruguay       70\n",
       "Bolivia       73\n",
       "dtype: int32"
      ]
     },
     "execution_count": 15,
     "metadata": {},
     "output_type": "execute_result"
    }
   ],
   "source": [
    "random_numbers = np.random.randint(1, 151, 10)\n",
    "countries = [\"México\", \"USA\", \"Canadá\", \"Argentina\", \"Chile\", \"Brasil\", \"Perú\", \"Colombia\", \"Uruguay\", \"Bolivia\"]\n",
    "countries_serie = pd.Series(random_numbers, countries)\n",
    "countries_serie"
   ]
  },
  {
   "cell_type": "markdown",
   "metadata": {},
   "source": [
    "#### 2. Crear una serie que incluya como datos números aleatorios y como índices nombre de elementos de tabla periódica, al menos 10 elementos."
   ]
  },
  {
   "cell_type": "code",
   "execution_count": 16,
   "metadata": {},
   "outputs": [
    {
     "data": {
      "text/plain": [
       "Oro        -1.904670\n",
       "Mercurio   -0.296130\n",
       "Zinc        0.186684\n",
       "Plata      -0.997338\n",
       "Cobre      -0.039806\n",
       "Plomo       0.527952\n",
       "Aluminio    0.834939\n",
       "Hierro      0.720860\n",
       "Niquel      0.988561\n",
       "Cromo       1.329449\n",
       "dtype: float64"
      ]
     },
     "execution_count": 16,
     "metadata": {},
     "output_type": "execute_result"
    }
   ],
   "source": [
    "random_numbers = np.random.randn(10)\n",
    "elements = [\"Oro\", \"Mercurio\", \"Zinc\", \"Plata\", \"Cobre\", \"Plomo\", \"Aluminio\", \"Hierro\", \"Niquel\", \"Cromo\"]\n",
    "chemical_elements_serie = pd.Series(random_numbers, elements)\n",
    "chemical_elements_serie"
   ]
  },
  {
   "cell_type": "markdown",
   "metadata": {},
   "source": [
    "#### 3. Acceder a cada uno de los elementos de la serie anterior."
   ]
  },
  {
   "cell_type": "code",
   "execution_count": 17,
   "metadata": {},
   "outputs": [
    {
     "name": "stdout",
     "output_type": "stream",
     "text": [
      "Valor de México:\t89\n",
      "Valor de USA:\t\t35\n",
      "Valor de Canadá:\t10\n",
      "Valor de Argentina:\t40\n",
      "Valor de Chile:\t\t23\n"
     ]
    }
   ],
   "source": [
    "# Algunos elementos de la serie de países.\n",
    "print(\"Valor de México:\\t\" + str(countries_serie[\"México\"]))\n",
    "print(\"Valor de USA:\\t\\t\" + str(countries_serie[\"USA\"]))\n",
    "print(\"Valor de Canadá:\\t\" + str(countries_serie[\"Canadá\"]))\n",
    "print(\"Valor de Argentina:\\t\" + str(countries_serie[\"Argentina\"]))\n",
    "print(\"Valor de Chile:\\t\\t\" + str(countries_serie[\"Chile\"]))"
   ]
  },
  {
   "cell_type": "code",
   "execution_count": 18,
   "metadata": {},
   "outputs": [
    {
     "name": "stdout",
     "output_type": "stream",
     "text": [
      "Valor de Oro:\t\t-1.904669678892392\n",
      "Valor de Mercurio:\t-0.2961304518292674\n",
      "Valor de Zinc:\t\t0.18668441880897632\n",
      "Valor de Plata:\t\t-0.9973378537829554\n",
      "Valor de Cobre:\t\t-0.03980600487322233\n"
     ]
    }
   ],
   "source": [
    "# Algunos elementos de la serie de elementos químicos.\n",
    "print(\"Valor de Oro:\\t\\t\" + str(chemical_elements_serie[\"Oro\"]))\n",
    "print(\"Valor de Mercurio:\\t\" + str(chemical_elements_serie[\"Mercurio\"]))\n",
    "print(\"Valor de Zinc:\\t\\t\" + str(chemical_elements_serie[\"Zinc\"]))\n",
    "print(\"Valor de Plata:\\t\\t\" + str(chemical_elements_serie[\"Plata\"]))\n",
    "print(\"Valor de Cobre:\\t\\t\" + str(chemical_elements_serie[\"Cobre\"]))"
   ]
  },
  {
   "cell_type": "markdown",
   "metadata": {},
   "source": [
    "#### 4. Multiplicar ambas series x 2.\n"
   ]
  },
  {
   "cell_type": "code",
   "execution_count": 20,
   "metadata": {},
   "outputs": [
    {
     "data": {
      "text/plain": [
       "México       178\n",
       "USA           70\n",
       "Canadá        20\n",
       "Argentina     80\n",
       "Chile         46\n",
       "Brasil        80\n",
       "Perú          52\n",
       "Colombia     204\n",
       "Uruguay      140\n",
       "Bolivia      146\n",
       "dtype: int32"
      ]
     },
     "execution_count": 20,
     "metadata": {},
     "output_type": "execute_result"
    }
   ],
   "source": [
    "countries_serie * 2"
   ]
  },
  {
   "cell_type": "code",
   "execution_count": 21,
   "metadata": {},
   "outputs": [
    {
     "data": {
      "text/plain": [
       "Oro        -3.809339\n",
       "Mercurio   -0.592261\n",
       "Zinc        0.373369\n",
       "Plata      -1.994676\n",
       "Cobre      -0.079612\n",
       "Plomo       1.055905\n",
       "Aluminio    1.669878\n",
       "Hierro      1.441720\n",
       "Niquel      1.977122\n",
       "Cromo       2.658897\n",
       "dtype: float64"
      ]
     },
     "execution_count": 21,
     "metadata": {},
     "output_type": "execute_result"
    }
   ],
   "source": [
    "chemical_elements_serie * 2"
   ]
  }
 ],
 "metadata": {
  "kernelspec": {
   "display_name": "base",
   "language": "python",
   "name": "python3"
  },
  "language_info": {
   "codemirror_mode": {
    "name": "ipython",
    "version": 3
   },
   "file_extension": ".py",
   "mimetype": "text/x-python",
   "name": "python",
   "nbconvert_exporter": "python",
   "pygments_lexer": "ipython3",
   "version": "3.10.8"
  }
 },
 "nbformat": 4,
 "nbformat_minor": 2
}
