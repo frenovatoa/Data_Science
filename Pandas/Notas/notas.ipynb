{
 "cells": [
  {
   "cell_type": "markdown",
   "metadata": {},
   "source": [
    "# 🐼 Pandas"
   ]
  },
  {
   "cell_type": "markdown",
   "metadata": {},
   "source": [
    "---\n",
    "> **Pandas** es una librería de **Python** especializada en la manipulación y el análisis de datos. Ofrece estructuras de datos y operaciones para manipular tablas numéricas y series temporales, es como el *Excel de Python*.\n",
    "---"
   ]
  },
  {
   "cell_type": "markdown",
   "metadata": {},
   "source": [
    "## 📅 2023-11-22"
   ]
  },
  {
   "cell_type": "code",
   "execution_count": 1,
   "metadata": {},
   "outputs": [],
   "source": [
    "import pandas as pd\n",
    "import numpy as np"
   ]
  },
  {
   "cell_type": "markdown",
   "metadata": {},
   "source": [
    "- **Series**: Arreglos unidimensionales de datos (una columna).\n",
    "- **DataFrame**: Arreglos bidimensionales de datos (una tabla)."
   ]
  },
  {
   "cell_type": "markdown",
   "metadata": {},
   "source": [
    "### 📊 Series"
   ]
  },
  {
   "cell_type": "code",
   "execution_count": 1,
   "metadata": {},
   "outputs": [],
   "source": [
    "# Lista de marcas de vehículos.\n",
    "marcas = [ 'Toyota', 'Volkswagen', 'Hyundai', 'Ford', 'Nissan', 'Chevrolet', ]\n",
    "\n",
    "# Lista de índices alfabetizados.\n",
    "index = [ 'a', 'b', 'c', 'd', 'e', 'f', ]"
   ]
  },
  {
   "cell_type": "code",
   "execution_count": 10,
   "metadata": {},
   "outputs": [],
   "source": [
    "# Crear una serie.\n",
    "s = pd.Series([\"MEX\", \"USA\", \"CAN\"])"
   ]
  },
  {
   "cell_type": "code",
   "execution_count": 11,
   "metadata": {},
   "outputs": [
    {
     "data": {
      "text/plain": [
       "0    MEX\n",
       "1    USA\n",
       "2    CAN\n",
       "dtype: object"
      ]
     },
     "execution_count": 11,
     "metadata": {},
     "output_type": "execute_result"
    }
   ],
   "source": [
    "# Observar la serie creada. Es una columna de datos con un índice.\n",
    "s"
   ]
  },
  {
   "cell_type": "code",
   "execution_count": 12,
   "metadata": {},
   "outputs": [
    {
     "data": {
      "text/plain": [
       "'MEX'"
      ]
     },
     "execution_count": 12,
     "metadata": {},
     "output_type": "execute_result"
    }
   ],
   "source": [
    "# Es posible acceder a los datos de la serie por medio de su índice.\n",
    "s[0]"
   ]
  },
  {
   "cell_type": "code",
   "execution_count": 13,
   "metadata": {},
   "outputs": [],
   "source": [
    "# Crear una serie a partir de la lista de vehículos y el índice.\n",
    "serie = pd.Series(marcas, index)"
   ]
  },
  {
   "cell_type": "code",
   "execution_count": 14,
   "metadata": {},
   "outputs": [
    {
     "data": {
      "text/plain": [
       "a        Toyota\n",
       "b    Volkswagen\n",
       "c       Hyundai\n",
       "d          Ford\n",
       "e        Nissan\n",
       "f     Chevrolet\n",
       "dtype: object"
      ]
     },
     "execution_count": 14,
     "metadata": {},
     "output_type": "execute_result"
    }
   ],
   "source": [
    "serie"
   ]
  },
  {
   "cell_type": "code",
   "execution_count": 16,
   "metadata": {},
   "outputs": [
    {
     "name": "stdout",
     "output_type": "stream",
     "text": [
      "Toyota\n",
      "Toyota\n"
     ]
    }
   ],
   "source": [
    "# Se puede acceder a los datos de la serie por medio de su índice (número o letra).\n",
    "print(serie[0])\n",
    "print(serie['a'])"
   ]
  },
  {
   "cell_type": "code",
   "execution_count": 18,
   "metadata": {},
   "outputs": [
    {
     "data": {
      "text/plain": [
       "Juan     25\n",
       "María    22\n",
       "Pedro    21\n",
       "Luis     19\n",
       "Ana      20\n",
       "Pablo    23\n",
       "dtype: int64"
      ]
     },
     "execution_count": 18,
     "metadata": {},
     "output_type": "execute_result"
    }
   ],
   "source": [
    "# Serie a partir de un diccionario de edades.\n",
    "edades = { \"Juan\": 25, \"María\": 22, \"Pedro\": 21, \"Luis\": 19, \"Ana\": 20, \"Pablo\": 23, }\n",
    "serie_edades = pd.Series(edades)\n",
    "serie_edades"
   ]
  },
  {
   "cell_type": "code",
   "execution_count": 19,
   "metadata": {},
   "outputs": [],
   "source": [
    "# Ventas del primer y segundo cuarto del año.\n",
    "q1 = { \"MEX\": 100, \"USA\": 200, \"CAN\": 300, \"CHI\": 400 }\n",
    "q2 = { \"ARG\": 500, \"USA\": 600, \"CAN\": 700, \"CHI\": 800 }"
   ]
  },
  {
   "cell_type": "code",
   "execution_count": 22,
   "metadata": {},
   "outputs": [],
   "source": [
    "sales_q1 = pd.Series(q1)\n",
    "sales_q2 = pd.Series(q2)"
   ]
  },
  {
   "cell_type": "code",
   "execution_count": 23,
   "metadata": {},
   "outputs": [
    {
     "data": {
      "text/plain": [
       "MEX    100\n",
       "USA    200\n",
       "CAN    300\n",
       "CHI    400\n",
       "dtype: int64"
      ]
     },
     "execution_count": 23,
     "metadata": {},
     "output_type": "execute_result"
    }
   ],
   "source": [
    "sales_q1"
   ]
  },
  {
   "cell_type": "code",
   "execution_count": 24,
   "metadata": {},
   "outputs": [
    {
     "data": {
      "text/plain": [
       "ARG    500\n",
       "USA    600\n",
       "CAN    700\n",
       "CHI    800\n",
       "dtype: int64"
      ]
     },
     "execution_count": 24,
     "metadata": {},
     "output_type": "execute_result"
    }
   ],
   "source": [
    "sales_q2"
   ]
  },
  {
   "cell_type": "code",
   "execution_count": 25,
   "metadata": {},
   "outputs": [
    {
     "data": {
      "text/plain": [
       "[2, 4, 2, 4]"
      ]
     },
     "execution_count": 25,
     "metadata": {},
     "output_type": "execute_result"
    }
   ],
   "source": [
    "# Si se multiplica un arreglo por un escalar, se multiplica el arreglo. En este caso se duplica.\n",
    "[2, 4] * 2"
   ]
  },
  {
   "cell_type": "code",
   "execution_count": 26,
   "metadata": {},
   "outputs": [
    {
     "data": {
      "text/plain": [
       "array([4, 8])"
      ]
     },
     "execution_count": 26,
     "metadata": {},
     "output_type": "execute_result"
    }
   ],
   "source": [
    "# Si se multiplica un arreglo de NumPy por un escalar, se multiplica cada elemento del arreglo por el escalar.\n",
    "np.array([2, 4]) * 2"
   ]
  },
  {
   "cell_type": "code",
   "execution_count": 27,
   "metadata": {},
   "outputs": [
    {
     "data": {
      "text/plain": [
       "MEX    200\n",
       "USA    400\n",
       "CAN    600\n",
       "CHI    800\n",
       "dtype: int64"
      ]
     },
     "execution_count": 27,
     "metadata": {},
     "output_type": "execute_result"
    }
   ],
   "source": [
    "# Si se multiplica una serie por un escalar, se multiplica cada elemento de la serie por el escalar.\n",
    "sales_q1 * 2"
   ]
  }
 ],
 "metadata": {
  "kernelspec": {
   "display_name": "base",
   "language": "python",
   "name": "python3"
  },
  "language_info": {
   "codemirror_mode": {
    "name": "ipython",
    "version": 3
   },
   "file_extension": ".py",
   "mimetype": "text/x-python",
   "name": "python",
   "nbconvert_exporter": "python",
   "pygments_lexer": "ipython3",
   "version": "3.10.8"
  }
 },
 "nbformat": 4,
 "nbformat_minor": 2
}
