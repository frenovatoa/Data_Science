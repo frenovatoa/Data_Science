{
 "cells": [
  {
   "cell_type": "code",
   "execution_count": 1,
   "metadata": {},
   "outputs": [],
   "source": [
    "import numpy as np"
   ]
  },
  {
   "cell_type": "markdown",
   "metadata": {},
   "source": [
    "$$\n",
    "A = \\begin{bmatrix}\n",
    "5 & 6 & 9 \\\\\n",
    "10 & 15 & 20 \\\\\n",
    "16 & 21 & 14\n",
    "\\end{bmatrix}\n",
    "B = \\begin{bmatrix}\n",
    "7 & 2 & 6 \\\\\n",
    "2 & 5 & 10 \\\\\n",
    "1 & 1 & 1 \\\\\n",
    "10 & 10 & 10\n",
    "\\end{bmatrix}\n",
    "$$"
   ]
  },
  {
   "cell_type": "code",
   "execution_count": 3,
   "metadata": {},
   "outputs": [
    {
     "name": "stdout",
     "output_type": "stream",
     "text": [
      "Matriz A: \n",
      " [[ 5  6  9]\n",
      " [10 15 20]\n",
      " [16 21 14]]\n",
      "\n",
      "\n",
      "Matriz B: \n",
      " [[ 7  2  6]\n",
      " [ 2  5 10]\n",
      " [ 1  1  1]\n",
      " [10 10 10]]\n"
     ]
    }
   ],
   "source": [
    "A = np.array([[5, 6, 9], [10, 15, 20], [16, 21, 14]])\n",
    "print(\"Matriz A: \\n\", A)\n",
    "print(\"\\n\")\n",
    "B = np.array([[7, 2, 6], [2, 5, 10], [1, 1, 1], [10, 10, 10]])\n",
    "print(\"Matriz B: \\n\", B)"
   ]
  },
  {
   "cell_type": "markdown",
   "metadata": {},
   "source": [
    "C = Es un vector generado por la función arange(2, 14). Sin incluir el 14."
   ]
  },
  {
   "cell_type": "code",
   "execution_count": 15,
   "metadata": {},
   "outputs": [
    {
     "name": "stdout",
     "output_type": "stream",
     "text": [
      "Vector C: \n",
      " [ 2  3  4  5  6  7  8  9 10 11 12 13]\n"
     ]
    }
   ],
   "source": [
    "C = np.arange(2, 14)\n",
    "print(\"Vector C: \\n\", C)"
   ]
  },
  {
   "cell_type": "markdown",
   "metadata": {},
   "source": [
    "D = Es el vector C convertido a matriz de orden (3, 4)."
   ]
  },
  {
   "cell_type": "code",
   "execution_count": 5,
   "metadata": {},
   "outputs": [
    {
     "name": "stdout",
     "output_type": "stream",
     "text": [
      "Matriz D: \n",
      " [[ 2  3  4  5]\n",
      " [ 6  7  8  9]\n",
      " [10 11 12 13]]\n"
     ]
    }
   ],
   "source": [
    "D = C.reshape(3, 4)\n",
    "print(\"Matriz D: \\n\", D)"
   ]
  },
  {
   "cell_type": "markdown",
   "metadata": {},
   "source": [
    "E = D<sub>T</sub>"
   ]
  },
  {
   "cell_type": "code",
   "execution_count": 6,
   "metadata": {},
   "outputs": [
    {
     "name": "stdout",
     "output_type": "stream",
     "text": [
      "Matriz E: \n",
      " [[ 2  6 10]\n",
      " [ 3  7 11]\n",
      " [ 4  8 12]\n",
      " [ 5  9 13]]\n"
     ]
    }
   ],
   "source": [
    "E = D.T\n",
    "print(\"Matriz E: \\n\", E)"
   ]
  },
  {
   "cell_type": "markdown",
   "metadata": {},
   "source": [
    "Y = Matriz de puros «unos» de orden (3, 4)."
   ]
  },
  {
   "cell_type": "code",
   "execution_count": 7,
   "metadata": {},
   "outputs": [
    {
     "name": "stdout",
     "output_type": "stream",
     "text": [
      "Matriz Y: \n",
      " [[1. 1. 1. 1.]\n",
      " [1. 1. 1. 1.]\n",
      " [1. 1. 1. 1.]]\n"
     ]
    }
   ],
   "source": [
    "Y = np.ones((3, 4))\n",
    "print(\"Matriz Y: \\n\", Y)"
   ]
  },
  {
   "cell_type": "markdown",
   "metadata": {},
   "source": [
    "v = [1, 2 , 3]"
   ]
  },
  {
   "cell_type": "code",
   "execution_count": 13,
   "metadata": {},
   "outputs": [
    {
     "name": "stdout",
     "output_type": "stream",
     "text": [
      "Vector v: \n",
      " [1 2 3]\n"
     ]
    }
   ],
   "source": [
    "v = np.array([1, 2, 3])\n",
    "print(\"Vector v: \\n\", v)"
   ]
  },
  {
   "cell_type": "code",
   "execution_count": 9,
   "metadata": {},
   "outputs": [
    {
     "name": "stdout",
     "output_type": "stream",
     "text": [
      "Matriz X: \n",
      " [[153 204 197]\n",
      " [223 304 269]\n",
      " [ 35  50  55]\n",
      " [315 429 443]]\n"
     ]
    }
   ],
   "source": [
    "# 1. Obtener el valor de X, X = (B * A) + E.\n",
    "X = (B @ A) + E\n",
    "print(\"Matriz X: \\n\", X)"
   ]
  },
  {
   "cell_type": "code",
   "execution_count": 16,
   "metadata": {},
   "outputs": [
    {
     "name": "stdout",
     "output_type": "stream",
     "text": [
      "Máximo:  443\n",
      "Mínimo:  35\n",
      "Sumatoria:  2677\n",
      "Promedio:  223.08333333333334\n",
      "Argmax:  11\n",
      "Argmin:  6\n"
     ]
    }
   ],
   "source": [
    "# 2. El valor mínimo, máximo, la sumatoria, el promedio, argmax y argmin de la matriz X.\n",
    "print(\"Máximo: \", np.max(X))\n",
    "print(\"Mínimo: \", np.min(X))\n",
    "print(\"Sumatoria: \", np.sum(X))\n",
    "print(\"Promedio: \", np.mean(X))\n",
    "print(\"Argmax: \", np.argmax(X))\n",
    "print(\"Argmin: \", np.argmin(X))"
   ]
  },
  {
   "cell_type": "code",
   "execution_count": 12,
   "metadata": {},
   "outputs": [
    {
     "name": "stdout",
     "output_type": "stream",
     "text": [
      "Matriz R: \n",
      " [[ 554.  554.  554.  554.]\n",
      " [ 796.  796.  796.  796.]\n",
      " [ 140.  140.  140.  140.]\n",
      " [1187. 1187. 1187. 1187.]]\n"
     ]
    }
   ],
   "source": [
    "# 3. Obtener el valor de R, R = X * Y.\n",
    "R = X @ Y\n",
    "print(\"Matriz R: \\n\", R)"
   ]
  },
  {
   "cell_type": "code",
   "execution_count": 14,
   "metadata": {},
   "outputs": [
    {
     "ename": "ValueError",
     "evalue": "matmul: Input operand 1 has a mismatch in its core dimension 0, with gufunc signature (n?,k),(k,m?)->(n?,m?) (size 3 is different from 4)",
     "output_type": "error",
     "traceback": [
      "\u001b[1;31m---------------------------------------------------------------------------\u001b[0m",
      "\u001b[1;31mValueError\u001b[0m                                Traceback (most recent call last)",
      "\u001b[1;32mc:\\Users\\Admin\\Documents\\ITS\\Semestre 9\\Data_Science\\NumPy\\Examenes\\20231115_19051186_ExamenNumPy_01.ipynb Cell 17\u001b[0m line \u001b[0;36m2\n\u001b[0;32m      <a href='vscode-notebook-cell:/c%3A/Users/Admin/Documents/ITS/Semestre%209/Data_Science/NumPy/Examenes/20231115_19051186_ExamenNumPy_01.ipynb#X31sZmlsZQ%3D%3D?line=0'>1</a>\u001b[0m \u001b[39m# 4. Obtener el valor de S, S = R * v.\u001b[39;00m\n\u001b[1;32m----> <a href='vscode-notebook-cell:/c%3A/Users/Admin/Documents/ITS/Semestre%209/Data_Science/NumPy/Examenes/20231115_19051186_ExamenNumPy_01.ipynb#X31sZmlsZQ%3D%3D?line=1'>2</a>\u001b[0m S \u001b[39m=\u001b[39m R \u001b[39m@\u001b[39;49m v\n",
      "\u001b[1;31mValueError\u001b[0m: matmul: Input operand 1 has a mismatch in its core dimension 0, with gufunc signature (n?,k),(k,m?)->(n?,m?) (size 3 is different from 4)"
     ]
    }
   ],
   "source": [
    "# 4. Obtener el valor de S, S = R * v.\n",
    "S = R @ v"
   ]
  },
  {
   "cell_type": "markdown",
   "metadata": {},
   "source": [
    "*El error anterior se debe a que el numero de columnas de la primer matriz 🚨NO🚨 es igual al numero de filas del vector (4 no es igual a 3).*"
   ]
  },
  {
   "cell_type": "markdown",
   "metadata": {},
   "source": []
  }
 ],
 "metadata": {
  "kernelspec": {
   "display_name": "base",
   "language": "python",
   "name": "python3"
  },
  "language_info": {
   "codemirror_mode": {
    "name": "ipython",
    "version": 3
   },
   "file_extension": ".py",
   "mimetype": "text/x-python",
   "name": "python",
   "nbconvert_exporter": "python",
   "pygments_lexer": "ipython3",
   "version": "3.11.4"
  }
 },
 "nbformat": 4,
 "nbformat_minor": 2
}
