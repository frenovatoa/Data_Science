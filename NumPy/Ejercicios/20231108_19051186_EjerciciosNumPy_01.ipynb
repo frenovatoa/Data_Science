{
 "cells": [
  {
   "cell_type": "markdown",
   "metadata": {},
   "source": [
    "# 👨🏽‍💻 Ejercicios NumPy 01"
   ]
  },
  {
   "cell_type": "markdown",
   "metadata": {},
   "source": [
    "## 🧮 Ejercicio 01"
   ]
  },
  {
   "cell_type": "markdown",
   "metadata": {},
   "source": [
    "*Dadas las siguientes matrices:*"
   ]
  },
  {
   "cell_type": "markdown",
   "metadata": {},
   "source": [
    "$$\n",
    "A = \\begin{bmatrix}\n",
    "2 & 8 & -3 \\\\\n",
    "3 & -1 & 0 \\\\\n",
    "-1 & 1 & 2\n",
    "\\end{bmatrix}\n",
    "B = \\begin{bmatrix}\n",
    "4 & 0 \\\\\n",
    "3 & 5 \\\\\n",
    "1 & -4\n",
    "\\end{bmatrix}\n",
    "C = \\begin{bmatrix}\n",
    "2 & 5 & 3 \\\\\n",
    "1 & -2 & 0\n",
    "\\end{bmatrix}\n",
    "D = \\begin{bmatrix}\n",
    "8 & 3 & 0 \\\\\n",
    "7 & -1 & 3 \\\\\n",
    "0 & -1 & 0\n",
    "\\end{bmatrix}\n",
    "$$"
   ]
  },
  {
   "cell_type": "markdown",
   "metadata": {},
   "source": [
    "> Efectúe la siguiente operación algebraica:\n",
    "\n",
    "$$\n",
    "U = (6B) \\cdot C + A^T\n",
    "$$"
   ]
  },
  {
   "cell_type": "code",
   "execution_count": 7,
   "metadata": {},
   "outputs": [
    {
     "name": "stdout",
     "output_type": "stream",
     "text": [
      "[[ 50 123  71]\n",
      " [ 74  29  55]\n",
      " [-15  78  20]]\n"
     ]
    }
   ],
   "source": [
    "# Importar numpy:\n",
    "import numpy as np\n",
    "\n",
    "# Definir las matrices:\n",
    "A = np.array([[2, 8, -3], [3, -1, 0], [-1, 1, 2]])\n",
    "B = np.array([[4, 0], [3, 5], [1, -4]])\n",
    "C = np.array([[2, 5, 3], [1, -2, 0]])\n",
    "D = np.array([[8, 3, 0], [7, -1, 3], [0, -1, 0]])\n",
    "\n",
    "# Efectuar la operación algebraica:\n",
    "U = (6 * B) @ C + A.T\n",
    "print(U)"
   ]
  },
  {
   "cell_type": "markdown",
   "metadata": {},
   "source": [
    "## 🔢 Ejercicio 02"
   ]
  },
  {
   "cell_type": "markdown",
   "metadata": {},
   "source": [
    "*Considerando la siguiente matriz A:*\n",
    "$$\n",
    "A = \\begin{bmatrix}\n",
    "1 & 2 & 3 \\\\\n",
    "4 & 5 & 6 \\\\\n",
    "7 & 8 & 9\n",
    "\\end{bmatrix}\n",
    "$$"
   ]
  },
  {
   "cell_type": "markdown",
   "metadata": {},
   "source": [
    "> Resolver:\n",
    "> 1. La matriz A multiplicarla por una matriz B de «1»s de orden 3x4.\n",
    "> 2. Generar un vector desde el número 5 hasta el número 14 con pasos de 3 en 3.\n",
    "> 3. Multiplicar el vector por el resultado de la multiplicación de las dos matrices."
   ]
  },
  {
   "cell_type": "code",
   "execution_count": 8,
   "metadata": {},
   "outputs": [
    {
     "name": "stdout",
     "output_type": "stream",
     "text": [
      "[[ 6  6  6  6]\n",
      " [15 15 15 15]\n",
      " [24 24 24 24]]\n"
     ]
    }
   ],
   "source": [
    "# 1. La matriz A multiplicarla por una matriz B de «1»s de orden 3x4.\n",
    "A = np.array([[1,2,3], [4,5,6], [7,8,9]])\n",
    "B = np.ones((3,4), dtype = int)\n",
    "C = A @ B\n",
    "print(C)"
   ]
  },
  {
   "cell_type": "code",
   "execution_count": 9,
   "metadata": {},
   "outputs": [
    {
     "name": "stdout",
     "output_type": "stream",
     "text": [
      "[ 5  8 11 14]\n"
     ]
    }
   ],
   "source": [
    "# 2. Generar un vector desde el número 5 hasta el número 14 con pasos de 3 en 3.\n",
    "v = np.arange(5, 15, 3, dtype = int)\n",
    "print(v)"
   ]
  },
  {
   "cell_type": "code",
   "execution_count": 10,
   "metadata": {},
   "outputs": [
    {
     "ename": "ValueError",
     "evalue": "matmul: Input operand 1 has a mismatch in its core dimension 0, with gufunc signature (n?,k),(k,m?)->(n?,m?) (size 3 is different from 4)",
     "output_type": "error",
     "traceback": [
      "\u001b[1;31m---------------------------------------------------------------------------\u001b[0m",
      "\u001b[1;31mValueError\u001b[0m                                Traceback (most recent call last)",
      "Cell \u001b[1;32mIn[10], line 2\u001b[0m\n\u001b[0;32m      1\u001b[0m \u001b[38;5;66;03m# 3. Multiplicar el vector por el resultado de la multiplicación de las dos matrices.\u001b[39;00m\n\u001b[1;32m----> 2\u001b[0m R \u001b[38;5;241m=\u001b[39m \u001b[43mv\u001b[49m\u001b[43m \u001b[49m\u001b[38;5;241;43m@\u001b[39;49m\u001b[43m \u001b[49m\u001b[43mC\u001b[49m\n\u001b[0;32m      3\u001b[0m \u001b[38;5;28mprint\u001b[39m(R)\n",
      "\u001b[1;31mValueError\u001b[0m: matmul: Input operand 1 has a mismatch in its core dimension 0, with gufunc signature (n?,k),(k,m?)->(n?,m?) (size 3 is different from 4)"
     ]
    }
   ],
   "source": [
    "# 3. Multiplicar el vector por el resultado de la multiplicación de las dos matrices.\n",
    "R = v @ C\n",
    "print(R)"
   ]
  },
  {
   "cell_type": "markdown",
   "metadata": {},
   "source": [
    "*El error anterior se debe a que el numero de columnas de la primer matriz 🚨NO🚨 es igual al numero de filas de la segunda matriz.*\n",
    "> 👨🏽‍🏫 **Broadcasting**: Se refiere a cómo NumPy trata los arreglos con diferentes dimensiones durante las operaciones aritméticas. Sujeto a ciertas restricciones, el arreglo con la forma más pequeña se «transmite» a la forma del más grande, de modo que se puedan aplicar las operaciones."
   ]
  },
  {
   "cell_type": "markdown",
   "metadata": {},
   "source": [
    "*Luis Felipe Renovato Ávila*\n",
    "\n",
    "*19051186*\n",
    "\n",
    "*Ciencia de Datos (19:00 - 20:00)*"
   ]
  }
 ],
 "metadata": {
  "kernelspec": {
   "display_name": "Python 3 (ipykernel)",
   "language": "python",
   "name": "python3"
  },
  "language_info": {
   "codemirror_mode": {
    "name": "ipython",
    "version": 3
   },
   "file_extension": ".py",
   "mimetype": "text/x-python",
   "name": "python",
   "nbconvert_exporter": "python",
   "pygments_lexer": "ipython3",
   "version": "3.11.4"
  }
 },
 "nbformat": 4,
 "nbformat_minor": 2
}
