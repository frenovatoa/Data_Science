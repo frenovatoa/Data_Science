{
 "cells": [
  {
   "cell_type": "markdown",
   "metadata": {},
   "source": [
    "# 👨🏽‍💻 Ejercicios NumPy 05"
   ]
  },
  {
   "cell_type": "code",
   "execution_count": 1,
   "metadata": {},
   "outputs": [],
   "source": [
    "import numpy as np"
   ]
  },
  {
   "cell_type": "markdown",
   "metadata": {},
   "source": [
    "De la siguiente matriz:\n",
    "\n",
    "$$\n",
    "A = \\begin{bmatrix}\n",
    "53 & 37 & 30 \\\\\n",
    "64 & 85 & 69 \\\\\n",
    "58 & 98 & 21 \\\\\n",
    "24 & 48 & 89\n",
    "\\end{bmatrix}\n",
    "$$"
   ]
  },
  {
   "cell_type": "code",
   "execution_count": 2,
   "metadata": {},
   "outputs": [
    {
     "name": "stdout",
     "output_type": "stream",
     "text": [
      "A = \n",
      " [[53 37 30]\n",
      " [64 85 69]\n",
      " [58 98 21]\n",
      " [24 48 89]]\n"
     ]
    }
   ],
   "source": [
    "A = np.array([[53, 37, 30], [64, 85, 69], [58, 98, 21], [24, 48, 89]])\n",
    "print(\"A = \\n\", A)"
   ]
  },
  {
   "cell_type": "code",
   "execution_count": 3,
   "metadata": {},
   "outputs": [
    {
     "data": {
      "text/plain": [
       "array([64, 85, 69])"
      ]
     },
     "execution_count": 3,
     "metadata": {},
     "output_type": "execute_result"
    }
   ],
   "source": [
    "# a) Muestre el renglón 2.\n",
    "A[1]"
   ]
  },
  {
   "cell_type": "code",
   "execution_count": 4,
   "metadata": {},
   "outputs": [
    {
     "data": {
      "text/plain": [
       "85"
      ]
     },
     "execution_count": 4,
     "metadata": {},
     "output_type": "execute_result"
    }
   ],
   "source": [
    "# b) Ubique el valor de la posición del segundo renglón y segunda columna.\n",
    "A[1, 1]"
   ]
  },
  {
   "cell_type": "code",
   "execution_count": 5,
   "metadata": {},
   "outputs": [
    {
     "data": {
      "text/plain": [
       "array([[53, 37],\n",
       "       [64, 85]])"
      ]
     },
     "execution_count": 5,
     "metadata": {},
     "output_type": "execute_result"
    }
   ],
   "source": [
    "# c) Muestre la intersección de los dos primeros rengloes y dos primeras columnas.\n",
    "A[0:2, 0:2]"
   ]
  },
  {
   "cell_type": "code",
   "execution_count": 6,
   "metadata": {},
   "outputs": [
    {
     "data": {
      "text/plain": [
       "array([[98, 21],\n",
       "       [48, 89]])"
      ]
     },
     "execution_count": 6,
     "metadata": {},
     "output_type": "execute_result"
    }
   ],
   "source": [
    "# d) Muestre la intersección de los dos últimos renglones y dos últimas columnas.\n",
    "A[2:4, 1:3]"
   ]
  },
  {
   "cell_type": "code",
   "execution_count": 7,
   "metadata": {},
   "outputs": [
    {
     "data": {
      "text/plain": [
       "array([37, 85, 98, 48])"
      ]
     },
     "execution_count": 7,
     "metadata": {},
     "output_type": "execute_result"
    }
   ],
   "source": [
    "# e) Muestre solamente la segunda columna.\n",
    "A[:, 1]"
   ]
  },
  {
   "cell_type": "code",
   "execution_count": 8,
   "metadata": {},
   "outputs": [
    {
     "name": "stdout",
     "output_type": "stream",
     "text": [
      "v =  [81 51 14 68 55 99 81 94 46 17]\n",
      "sumatoria =  606\n",
      "producto =  -1217622496\n",
      "máximo =  99\n",
      "mínimo =  14\n",
      "desviación estándar =  28.082734909548964\n",
      "varianza =  788.64\n",
      "seno =  [-0.62988799  0.67022918  0.99060736 -0.89792768 -0.99975517 -0.99920683\n",
      " -0.62988799 -0.24525199  0.90178835 -0.96139749]\n",
      "raíz cuadrada =  [9.         7.14142843 3.74165739 8.24621125 7.41619849 9.94987437\n",
      " 9.         9.69535971 6.78232998 4.12310563]\n",
      "logaritmo =  [4.39444915 3.93182563 2.63905733 4.21950771 4.00733319 4.59511985\n",
      " 4.39444915 4.54329478 3.8286414  2.83321334]\n"
     ]
    }
   ],
   "source": [
    "# f) Genere un arreglo vector de 10 elementos, y realice: sumatoria, producto, máximo, mínimo, desviación estándar, varianza, seno, raíz cuadrada y logaritmo.\n",
    "v = np.random.randint(0, 100, 10)\n",
    "print(\"v = \", v)\n",
    "print(\"sumatoria = \", v.sum())\n",
    "print(\"producto = \", v.prod())\n",
    "print(\"máximo = \", v.max())\n",
    "print(\"mínimo = \", v.min())\n",
    "print(\"desviación estándar = \", v.std())\n",
    "print(\"varianza = \", v.var())\n",
    "print(\"seno = \", np.sin(v))\n",
    "print(\"raíz cuadrada = \", np.sqrt(v))\n",
    "print(\"logaritmo = \", np.log(v))"
   ]
  },
  {
   "cell_type": "code",
   "execution_count": 9,
   "metadata": {},
   "outputs": [
    {
     "name": "stdout",
     "output_type": "stream",
     "text": [
      "Suma de los renglones =\t [199 268 209]\n",
      "Suma de las columnas =\t [120 218 177 161]\n"
     ]
    }
   ],
   "source": [
    "# g) De la matriz, genere la suma de los renglones y la suma de las columnas.\n",
    "print(\"Suma de los renglones =\\t\", A.sum(axis=0))\n",
    "print(\"Suma de las columnas =\\t\", A.sum(axis=1))"
   ]
  },
  {
   "cell_type": "code",
   "execution_count": null,
   "metadata": {},
   "outputs": [],
   "source": []
  }
 ],
 "metadata": {
  "kernelspec": {
   "display_name": "base",
   "language": "python",
   "name": "python3"
  },
  "language_info": {
   "codemirror_mode": {
    "name": "ipython",
    "version": 3
   },
   "file_extension": ".py",
   "mimetype": "text/x-python",
   "name": "python",
   "nbconvert_exporter": "python",
   "pygments_lexer": "ipython3",
   "version": "3.10.8"
  }
 },
 "nbformat": 4,
 "nbformat_minor": 2
}
