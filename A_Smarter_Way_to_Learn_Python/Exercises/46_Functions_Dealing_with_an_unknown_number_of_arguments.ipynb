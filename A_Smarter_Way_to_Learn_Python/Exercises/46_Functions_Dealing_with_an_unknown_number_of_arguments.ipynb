{
 "cells": [
  {
   "cell_type": "markdown",
   "metadata": {},
   "source": [
    "# Functions: Dealing with an unknown number of arguments"
   ]
  },
  {
   "cell_type": "code",
   "execution_count": 1,
   "metadata": {},
   "outputs": [],
   "source": [
    "def display_result(winner, score):\n",
    "    print(\"The winner was \" + winner + \"\\nThe score was \" + score)\n"
   ]
  },
  {
   "cell_type": "code",
   "execution_count": 2,
   "metadata": {},
   "outputs": [
    {
     "name": "stdout",
     "output_type": "stream",
     "text": [
      "The winner was Barcelona\n",
      "The score was 1 - 0\n"
     ]
    }
   ],
   "source": [
    "display_result(\"Barcelona\", \"1 - 0\")"
   ]
  },
  {
   "cell_type": "code",
   "execution_count": 1,
   "metadata": {},
   "outputs": [],
   "source": [
    "def display_result(winner, score, **other_info):\n",
    "    print(\"The winner was \" + winner)\n",
    "    print(\"The score was \" + score)\n",
    "    for key, value in other_info.items():\n",
    "        print(key + \": \" + value)"
   ]
  },
  {
   "cell_type": "code",
   "execution_count": 3,
   "metadata": {},
   "outputs": [
    {
     "name": "stdout",
     "output_type": "stream",
     "text": [
      "The winner was Real Madrid\n",
      "The score was 1-0\n",
      "overtime: yes\n",
      "injuries: none\n"
     ]
    }
   ],
   "source": [
    "display_result(winner = \"Real Madrid\", score = \"1-0\", overtime = \"yes\", injuries = \"none\")"
   ]
  },
  {
   "cell_type": "code",
   "execution_count": 4,
   "metadata": {},
   "outputs": [
    {
     "name": "stdout",
     "output_type": "stream",
     "text": [
      "10\n",
      "20\n",
      "(30, 40)\n"
     ]
    }
   ],
   "source": [
    "def numbers(a, b, *others):\n",
    "    print(a)\n",
    "    print(b)\n",
    "    print(others)\n",
    "numbers(10, 20, 30, 40)"
   ]
  },
  {
   "cell_type": "markdown",
   "metadata": {},
   "source": [
    "---\n",
    "**NOTE**:\n",
    "\n",
    "«*» for positional arguments and\n",
    "\n",
    "«**» for keyword arguments.\n",
    "\n",
    "---"
   ]
  },
  {
   "cell_type": "markdown",
   "metadata": {},
   "source": [
    "##### 01. Fill in the blank to add a parameter that receives optional positional arguments. Make up the name.\n",
    "```python\n",
    "def do_something(school, state, ________):\n",
    "```"
   ]
  },
  {
   "cell_type": "markdown",
   "metadata": {},
   "source": [
    "```python\n",
    "*other_data\n",
    "```"
   ]
  },
  {
   "cell_type": "markdown",
   "metadata": {},
   "source": [
    "##### 02. Fill in the blank to add a parameter that receives optional keyword arguments. Make up the name.\n",
    "```python\n",
    "def do_something(school, state, ________):\n",
    "```"
   ]
  },
  {
   "cell_type": "markdown",
   "metadata": {},
   "source": [
    "```python\n",
    "**other_data\n",
    "```"
   ]
  },
  {
   "cell_type": "markdown",
   "metadata": {},
   "source": [
    "##### 03. Call the function **sort_out**. Pass a keyword argument. The key is **dict**. The value is a variable, **products**."
   ]
  },
  {
   "cell_type": "markdown",
   "metadata": {},
   "source": [
    "```python\n",
    "sort_out(dict = products)\n",
    "```"
   ]
  },
  {
   "cell_type": "markdown",
   "metadata": {},
   "source": [
    "##### 04. Code the first line of a function definition, **analyze**. **qty** is the parameter. 0 is the default."
   ]
  },
  {
   "cell_type": "markdown",
   "metadata": {},
   "source": [
    "```python\n",
    "def analyze(qty = 0):\n",
    "```"
   ]
  },
  {
   "cell_type": "markdown",
   "metadata": {},
   "source": [
    "##### 05. This is the first line of a function definition. When optional arguments are passed, they're assigned to **x**, which is a ____________.\n",
    "```python\n",
    "def fill_dictionary(new_customer, first_name, last_name, **x):\n",
    "```"
   ]
  },
  {
   "cell_type": "markdown",
   "metadata": {},
   "source": [
    "dictionary"
   ]
  },
  {
   "cell_type": "markdown",
   "metadata": {},
   "source": [
    "##### 06. Code the first line of a function definition. It has a single parameter that receives optional positional arguments from the calling code. Make up the function name and the parameter name."
   ]
  },
  {
   "cell_type": "markdown",
   "metadata": {},
   "source": [
    "```python\n",
    "def say_our_names(*names):\n",
    "```"
   ]
  },
  {
   "cell_type": "markdown",
   "metadata": {},
   "source": [
    "##### 07. The fourth and last parameter holds optional keyword arguments that are passed by the calling code. Complete the line. Make up the argument name.\n",
    "```python\n",
    "def a(b, c, d = 1, _________\n",
    "```"
   ]
  },
  {
   "cell_type": "markdown",
   "metadata": {},
   "source": [
    "```python\n",
    "**e):\n",
    "```"
   ]
  },
  {
   "cell_type": "markdown",
   "metadata": {},
   "source": [
    "##### 08. Code the first line of a function. Its only parameter holds optional keyword arguments. Make everything up."
   ]
  },
  {
   "cell_type": "markdown",
   "metadata": {},
   "source": [
    "```python\n",
    "def do_something(**data):\n",
    "```"
   ]
  },
  {
   "cell_type": "markdown",
   "metadata": {},
   "source": [
    "##### 09. I've coded the first line of a function. Tell Python to display each value in turn on a separate line. Start by displaying the value of the first parameter. The second line that you'll code is\n",
    "```python\n",
    "    for value in extras.values():\n",
    "```\n",
    "Indent correctly.\n",
    "\n",
    "```python\n",
    "def show_things(name, **extras):\n",
    "```"
   ]
  },
  {
   "cell_type": "markdown",
   "metadata": {},
   "source": [
    "```python\n",
    "    print(name)\n",
    "    for value in extras.values():\n",
    "        print(value)\n",
    "```"
   ]
  },
  {
   "cell_type": "markdown",
   "metadata": {},
   "source": [
    "##### 10. Try it again, without help: I've coded the first line of a function. Tell Python to display each value in turn on a separate line. Make up the name of the variable that holds each value in the dictionary. Remember to indent.\n",
    "```python\n",
    "def show_things(name, **extras):\n",
    "```"
   ]
  },
  {
   "cell_type": "markdown",
   "metadata": {},
   "source": [
    "```python\n",
    "    print(name)\n",
    "    for value in extras.values():\n",
    "        print(value)\n",
    "```"
   ]
  },
  {
   "cell_type": "markdown",
   "metadata": {},
   "source": [
    "##### 11. Code a function with only one parameter, one that handles optional keyword arguments. The function prints each optional value in turn. Call the function, providing two keyword arguments whose values are strings. Make everything up."
   ]
  },
  {
   "cell_type": "code",
   "execution_count": 4,
   "metadata": {},
   "outputs": [
    {
     "name": "stdout",
     "output_type": "stream",
     "text": [
      "Felipe\n",
      "22 years old\n"
     ]
    }
   ],
   "source": [
    "def get_some_data(**data):\n",
    "    for value in data.values():\n",
    "        print(value)\n",
    "get_some_data(name = \"Felipe\", age = \"22 years old\")"
   ]
  },
  {
   "cell_type": "markdown",
   "metadata": {},
   "source": [
    "##### 12. Solve the following:\n",
    "1. I've coded an empty list. Code a function that fills the list.\n",
    "2. In the function definition include three parameters—two parameters that accept keyword arguments and a third parameter that accepts optional keyword arguments.\n",
    "3. Append each of the first two parameters to the list. Then loop through the dictionary of optional values and append each of those values to the list. Display the list.\n",
    "4. Call the function, providing four keyword arguments."
   ]
  },
  {
   "cell_type": "code",
   "execution_count": 8,
   "metadata": {},
   "outputs": [
    {
     "name": "stdout",
     "output_type": "stream",
     "text": [
      "['Felipe', 22, 'Saltillo', True]\n"
     ]
    }
   ],
   "source": [
    "list_to_be_filled = []\n",
    "def fill_list(name, age, **others):\n",
    "    list_to_be_filled.append(name)\n",
    "    list_to_be_filled.append(age)\n",
    "    for value in others.values():\n",
    "        list_to_be_filled.append(value)\n",
    "    print(list_to_be_filled)\n",
    "fill_list(name = \"Felipe\", age = 22, city = \"Saltillo\", single = True)"
   ]
  }
 ],
 "metadata": {
  "kernelspec": {
   "display_name": "Python 3",
   "language": "python",
   "name": "python3"
  },
  "language_info": {
   "codemirror_mode": {
    "name": "ipython",
    "version": 3
   },
   "file_extension": ".py",
   "mimetype": "text/x-python",
   "name": "python",
   "nbconvert_exporter": "python",
   "pygments_lexer": "ipython3",
   "version": "3.10.8"
  },
  "orig_nbformat": 4
 },
 "nbformat": 4,
 "nbformat_minor": 2
}
