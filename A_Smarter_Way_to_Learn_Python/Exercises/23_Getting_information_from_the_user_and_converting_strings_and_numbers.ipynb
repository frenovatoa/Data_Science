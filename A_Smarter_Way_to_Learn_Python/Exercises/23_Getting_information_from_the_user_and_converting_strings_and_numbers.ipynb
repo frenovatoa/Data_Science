{
 "cells": [
  {
   "cell_type": "markdown",
   "metadata": {},
   "source": [
    "# Getting information from the user and converting strings and numbers\n",
    "If you want to get information from the user, you can use the `input()` function. This function takes a string as an argument, and displays it to the user. It then waits for the user to type something and press enter. When the user presses enter, the `input()` function returns what they typed as a string."
   ]
  },
  {
   "cell_type": "code",
   "execution_count": 2,
   "metadata": {},
   "outputs": [
    {
     "name": "stdout",
     "output_type": "stream",
     "text": [
      "Your favorite sport is baseball.\n"
     ]
    }
   ],
   "source": [
    "sport_to_check = input(\"Enter your favorite sport: \")\n",
    "print(\"Your favorite sport is \" + sport_to_check + \".\")"
   ]
  },
  {
   "cell_type": "code",
   "execution_count": 3,
   "metadata": {},
   "outputs": [
    {
     "name": "stdout",
     "output_type": "stream",
     "text": [
      "I love baseball!\n"
     ]
    }
   ],
   "source": [
    "sports = [\"soccer\", \"baseball\", \"football\", \"hockey\"]\n",
    "\n",
    "# Loop through the list of sports.\n",
    "for sport in sports:\n",
    "    if sport_to_check == sport:\n",
    "        print(\"I love \" + sport + \"!\")"
   ]
  },
  {
   "cell_type": "code",
   "execution_count": 9,
   "metadata": {},
   "outputs": [
    {
     "name": "stdout",
     "output_type": "stream",
     "text": [
      "Your grade is 98.575.\n",
      "98.575\n",
      "98.58\n"
     ]
    }
   ],
   "source": [
    "grade = input(\"Enter your Computing Cloud grade: \")\n",
    "print(\"Your grade is \" + grade + \".\")\n",
    "\n",
    "# The grade is a string, so we need to convert it to a float.\n",
    "print(float(grade))\n",
    "\n",
    "# Also, we can round the grade to two decimal places.\n",
    "print(round(float(grade),2))"
   ]
  },
  {
   "cell_type": "markdown",
   "metadata": {},
   "source": [
    "##### 01. What is the keyword used to get information from the user?"
   ]
  },
  {
   "cell_type": "markdown",
   "metadata": {},
   "source": [
    "input"
   ]
  },
  {
   "cell_type": "markdown",
   "metadata": {},
   "source": [
    "##### 02. The following code will break Python because there's no __________ to receive the input. (1 word)\n",
    "```python\t\n",
    "input(\"Enter your first name: \")\n",
    "```"
   ]
  },
  {
   "cell_type": "markdown",
   "metadata": {},
   "source": [
    "variable"
   ]
  },
  {
   "cell_type": "markdown",
   "metadata": {},
   "source": [
    "##### 03. Complete the code. The prompt is \"Name: \"\n",
    "```python\n",
    "user_name =\n",
    "``` "
   ]
  },
  {
   "cell_type": "markdown",
   "metadata": {},
   "source": [
    "```python\n",
    "input(\"Name: \")\n",
    "```"
   ]
  },
  {
   "cell_type": "markdown",
   "metadata": {},
   "source": [
    "##### 04. Ask for the user's name and store the answer in **user_name**. The prompt is \"Name: \". Don't forget to add the space after Name:"
   ]
  },
  {
   "cell_type": "code",
   "execution_count": 1,
   "metadata": {},
   "outputs": [
    {
     "name": "stdout",
     "output_type": "stream",
     "text": [
      "Hello, Felipe!\n"
     ]
    }
   ],
   "source": [
    "user_name = input(\"Name: \")\n",
    "print(\"Hello, \" + user_name + \"!\")"
   ]
  },
  {
   "cell_type": "markdown",
   "metadata": {},
   "source": [
    "##### 05. Code an input statement. Make up the variable name and the prompt."
   ]
  },
  {
   "cell_type": "code",
   "execution_count": 3,
   "metadata": {},
   "outputs": [],
   "source": [
    "pet = input(\"What is your pet's name? \")"
   ]
  },
  {
   "cell_type": "markdown",
   "metadata": {},
   "source": [
    "##### 06. Code an input statement. Make up the variable name and the prompt. Then display the user's answer."
   ]
  },
  {
   "cell_type": "code",
   "execution_count": 4,
   "metadata": {},
   "outputs": [
    {
     "name": "stdout",
     "output_type": "stream",
     "text": [
      "Your pet's name is Coquita.\n"
     ]
    }
   ],
   "source": [
    "pet = input(\"What is your pet's name? \")\n",
    "print(pet)"
   ]
  },
  {
   "cell_type": "markdown",
   "metadata": {},
   "source": [
    "##### 07. In a single line of code convert a number to a string and assign it to a variable. Make up the number and the variable name."
   ]
  },
  {
   "cell_type": "code",
   "execution_count": 5,
   "metadata": {},
   "outputs": [],
   "source": [
    "str_number = str(15)"
   ]
  },
  {
   "cell_type": "markdown",
   "metadata": {},
   "source": [
    "##### 08. Convert a string to an integer and assign it to a variable. Make up the string and the variable name."
   ]
  },
  {
   "cell_type": "code",
   "execution_count": 6,
   "metadata": {},
   "outputs": [],
   "source": [
    "int_string = int(\"15\")"
   ]
  },
  {
   "cell_type": "markdown",
   "metadata": {},
   "source": [
    "##### 09. Convert a string to a float and assign it to a variable. Make up the string and the variable name."
   ]
  },
  {
   "cell_type": "code",
   "execution_count": 7,
   "metadata": {},
   "outputs": [],
   "source": [
    "float_string = float(\"15.12\")"
   ]
  },
  {
   "cell_type": "markdown",
   "metadata": {},
   "source": [
    "##### 10. On line 1 ask the user for a number. On line 2 convert it to a float. On line 3 add the float to another number and assign the sum to a variable. Make everything up."
   ]
  },
  {
   "cell_type": "code",
   "execution_count": 10,
   "metadata": {},
   "outputs": [
    {
     "name": "stdout",
     "output_type": "stream",
     "text": [
      "60.75\n"
     ]
    }
   ],
   "source": [
    "number = input(\"Enter a number: \")\n",
    "number = float(number)\n",
    "sum = 50.25 + number\n",
    "# Result:\n",
    "print(sum)"
   ]
  },
  {
   "cell_type": "markdown",
   "metadata": {},
   "source": [
    "##### 11. Ask the user his age. Then display \"Your age is \" concatenated with his response. After clicking Run, test the code by entering your own age."
   ]
  },
  {
   "cell_type": "code",
   "execution_count": 11,
   "metadata": {},
   "outputs": [
    {
     "name": "stdout",
     "output_type": "stream",
     "text": [
      "Your age is 22\n"
     ]
    }
   ],
   "source": [
    "age = input(\"What is your age? \")\n",
    "print(\"Your age is \" + age)"
   ]
  },
  {
   "cell_type": "markdown",
   "metadata": {},
   "source": [
    "##### 12. Solve the following:\n",
    "1. Get the user's age.\n",
    "2. Python interprets the user's input as a string even if it's a number, so convert the response to an integer.\n",
    "3. Add 1 to the integer.\n",
    "4. Convert the sum to a string.\n",
    "5. Display **Next year you'll be** plus next year's age."
   ]
  },
  {
   "cell_type": "code",
   "execution_count": 2,
   "metadata": {},
   "outputs": [
    {
     "name": "stdout",
     "output_type": "stream",
     "text": [
      "Next year you'll be 23\n"
     ]
    }
   ],
   "source": [
    "# Get the age from the user.\n",
    "age = input(\"What is your age? \")\n",
    "# Convert the age to an integer and add 1.\n",
    "age = int(age) + 1\n",
    "# Convert the age back to a string and print it.\n",
    "age = str(age)\n",
    "print(\"Next year you'll be \" + age)"
   ]
  }
 ],
 "metadata": {
  "kernelspec": {
   "display_name": "Python 3",
   "language": "python",
   "name": "python3"
  },
  "language_info": {
   "codemirror_mode": {
    "name": "ipython",
    "version": 3
   },
   "file_extension": ".py",
   "mimetype": "text/x-python",
   "name": "python",
   "nbconvert_exporter": "python",
   "pygments_lexer": "ipython3",
   "version": "3.10.8"
  },
  "orig_nbformat": 4
 },
 "nbformat": 4,
 "nbformat_minor": 2
}
