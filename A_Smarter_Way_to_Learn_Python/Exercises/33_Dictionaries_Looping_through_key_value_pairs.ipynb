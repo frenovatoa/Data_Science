{
 "cells": [
  {
   "cell_type": "markdown",
   "metadata": {},
   "source": [
    "# Dictionaries: Looping through key-value pairs"
   ]
  },
  {
   "cell_type": "code",
   "execution_count": 5,
   "metadata": {},
   "outputs": [
    {
     "name": "stdout",
     "output_type": "stream",
     "text": [
      "first_name: Felipe\n",
      "last_name: Renovato\n",
      "nss: 151200\n"
     ]
    }
   ],
   "source": [
    "customer_25 = {\"first_name\": \"Felipe\", \"last_name\": \"Renovato\", \"nss\": 151200}\n",
    "\n",
    "# Print each key-value pair from the above dictionary.\n",
    "for each_key, each_value in customer_25.items():\n",
    "    print(str(each_key) + \": \" + str(each_value))"
   ]
  },
  {
   "cell_type": "markdown",
   "metadata": {},
   "source": [
    "##### 01. To loop through a dictionary getting both its keys and values, what keyword do you use?"
   ]
  },
  {
   "cell_type": "markdown",
   "metadata": {},
   "source": [
    "items"
   ]
  },
  {
   "cell_type": "markdown",
   "metadata": {},
   "source": [
    "##### 02. Type the character that's missing in this code.\n",
    "```python\n",
    "for each_key each_value in products.items()\n",
    "```"
   ]
  },
  {
   "cell_type": "markdown",
   "metadata": {},
   "source": [
    ","
   ]
  },
  {
   "cell_type": "markdown",
   "metadata": {},
   "source": [
    "##### 03. Complete the line to loop through the dictionary, getting both keys and values.\n",
    "```python\n",
    "for x, y in z__________\n",
    "```"
   ]
  },
  {
   "cell_type": "markdown",
   "metadata": {},
   "source": [
    "```python\n",
    ".items():\n",
    "```"
   ]
  },
  {
   "cell_type": "markdown",
   "metadata": {},
   "source": [
    "##### 04. Code the first line to loop through **z** to get both keys and values. Assign keys to **x** and values to **y**."
   ]
  },
  {
   "cell_type": "markdown",
   "metadata": {},
   "source": [
    "```python\n",
    "for x, y in z.items():\n",
    "```"
   ]
  },
  {
   "cell_type": "markdown",
   "metadata": {},
   "source": [
    "##### 05. Code the first line to loop through keys. Make everything up."
   ]
  },
  {
   "cell_type": "markdown",
   "metadata": {},
   "source": [
    "```python\n",
    "for each_key in a_dictionary.keys():\n",
    "```"
   ]
  },
  {
   "cell_type": "markdown",
   "metadata": {},
   "source": [
    "##### 06. Code the first line to loop through values. Make everything up."
   ]
  },
  {
   "cell_type": "markdown",
   "metadata": {},
   "source": [
    "```python\n",
    "for each_value in a_dictionary.values():\n",
    "```"
   ]
  },
  {
   "cell_type": "markdown",
   "metadata": {},
   "source": [
    "##### 07. Code the first line to loop through a dictionary, getting both keys and values. Make everything up."
   ]
  },
  {
   "cell_type": "markdown",
   "metadata": {},
   "source": [
    "```python\n",
    "for each_key, each_value in a_dictionary.items():\n",
    "```"
   ]
  },
  {
   "cell_type": "markdown",
   "metadata": {},
   "source": [
    "##### 08. Loop through a dictionary, getting both keys and values. Display the values. Make everything up."
   ]
  },
  {
   "cell_type": "code",
   "execution_count": 8,
   "metadata": {},
   "outputs": [],
   "source": [
    "protagonists = {\n",
    "    \"Bates Motel\": \"Norman Bates\",\n",
    "    \"Breaking Bad\": \"Walter White\",\n",
    "    \"Game of Thrones\": \"Jon Snow\",\n",
    "    \"Naruto\": \"Naruto\",\n",
    "    \"Stranger Things\": \"Eleven\",\n",
    "}"
   ]
  },
  {
   "cell_type": "code",
   "execution_count": 9,
   "metadata": {},
   "outputs": [
    {
     "name": "stdout",
     "output_type": "stream",
     "text": [
      "Norman Bates\n",
      "Walter White\n",
      "Jon Snow\n",
      "Naruto\n",
      "Eleven\n"
     ]
    }
   ],
   "source": [
    "for each_key, each_value in protagonists.items():\n",
    "    print(each_value)"
   ]
  },
  {
   "cell_type": "markdown",
   "metadata": {},
   "source": [
    "##### 09. Loop through a dictionary, getting both keys and values. Display \"The key is \" and then the key. Remember to include a space at the end of the string. Make everything up."
   ]
  },
  {
   "cell_type": "code",
   "execution_count": 10,
   "metadata": {},
   "outputs": [
    {
     "name": "stdout",
     "output_type": "stream",
     "text": [
      "The key is Bates Motel\n",
      "The key is Breaking Bad\n",
      "The key is Game of Thrones\n",
      "The key is Naruto\n",
      "The key is Stranger Things\n"
     ]
    }
   ],
   "source": [
    "for each_key, each_value in protagonists.items():\n",
    "    print(\"The key is \" + each_key)"
   ]
  },
  {
   "cell_type": "markdown",
   "metadata": {},
   "source": [
    "##### 10. Loop through a dictionary, getting both keys and values. If you find an item that has the same key and value, display \"weird\" and break the loop. Make up the names of everything."
   ]
  },
  {
   "cell_type": "code",
   "execution_count": 11,
   "metadata": {},
   "outputs": [
    {
     "name": "stdout",
     "output_type": "stream",
     "text": [
      "weird\n"
     ]
    }
   ],
   "source": [
    "for each_key, each_value in protagonists.items():\n",
    "    if each_key == each_value:\n",
    "        print(\"weird\")\n",
    "        break"
   ]
  },
  {
   "cell_type": "markdown",
   "metadata": {},
   "source": [
    "##### 11. Loop through the dictionary to get both keys and values. Display the values.\n",
    "```python\n",
    "numbers = {\n",
    "    \"one\": \"uno\",\n",
    "    \"two\": \"due\",\n",
    "    \"three\": \"tre\",\n",
    "    \"four\": \"quattro\",\n",
    "}\n",
    "```"
   ]
  },
  {
   "cell_type": "code",
   "execution_count": 12,
   "metadata": {},
   "outputs": [
    {
     "name": "stdout",
     "output_type": "stream",
     "text": [
      "uno\n",
      "due\n",
      "tre\n",
      "quattro\n"
     ]
    }
   ],
   "source": [
    "numbers = {\n",
    "    \"one\": \"uno\",\n",
    "    \"two\": \"due\",\n",
    "    \"three\": \"tre\",\n",
    "    \"four\": \"quattro\",\n",
    "}\n",
    "for each_key, each_value in numbers.items():\n",
    "    print(each_value)"
   ]
  },
  {
   "cell_type": "markdown",
   "metadata": {},
   "source": [
    "##### 12. Loop through the dictionary to get both keys and values. Display:\n",
    "```\n",
    "The Italian word for one is uno\n",
    "The Italian word for two is due\n",
    "The Italian word for three is tre\n",
    "The Italian word for four is quattro\n",
    "```\n",
    "Don't forget to include spaces in the strings.\n",
    "```python\n",
    "numbers = {\n",
    "    \"one\": \"uno\",\n",
    "    \"two\": \"due\",\n",
    "    \"three\": \"tre\",\n",
    "    \"four\": \"quattro\",\n",
    "}\n",
    "```\n"
   ]
  },
  {
   "cell_type": "code",
   "execution_count": 13,
   "metadata": {},
   "outputs": [
    {
     "name": "stdout",
     "output_type": "stream",
     "text": [
      "The Italian word for one is uno\n",
      "The Italian word for two is due\n",
      "The Italian word for three is tre\n",
      "The Italian word for four is quattro\n"
     ]
    }
   ],
   "source": [
    "numbers = {\n",
    "    \"one\": \"uno\",\n",
    "    \"two\": \"due\",\n",
    "    \"three\": \"tre\",\n",
    "    \"four\": \"quattro\",\n",
    "}\n",
    "for each_key, each_value in numbers.items():\n",
    "    print(\"The Italian word for \" + each_key + \" is \" + each_value)"
   ]
  }
 ],
 "metadata": {
  "kernelspec": {
   "display_name": "Python 3",
   "language": "python",
   "name": "python3"
  },
  "language_info": {
   "codemirror_mode": {
    "name": "ipython",
    "version": 3
   },
   "file_extension": ".py",
   "mimetype": "text/x-python",
   "name": "python",
   "nbconvert_exporter": "python",
   "pygments_lexer": "ipython3",
   "version": "3.10.8"
  },
  "orig_nbformat": 4
 },
 "nbformat": 4,
 "nbformat_minor": 2
}
