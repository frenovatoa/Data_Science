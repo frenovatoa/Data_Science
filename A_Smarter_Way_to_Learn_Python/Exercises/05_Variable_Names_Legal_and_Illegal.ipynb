{
 "cells": [
  {
   "cell_type": "markdown",
   "metadata": {},
   "source": [
    "# Variable Names Legal and Illegal\n",
    "A variable can't be any of Python's *reserved* words, also known as **keywords**.\n",
    "| and           | False         | not           |\n",
    "|:-------------:|:-------------:|:-------------:|\n",
    "| as            | finally       | or            |\n",
    "| assert        | for           | pass          |\n",
    "| break         | from          | print         |\n",
    "| class         | global        | raise         |\n",
    "| continue      | if            | return        |\n",
    "| def           | import        | True          |\n",
    "| del           | in            | try           |\n",
    "| elif          | is            | while         |\n",
    "| else          | lambda        | with          |\n",
    "| except        | None          | yield         |\n",
    "|               | nonlocal      |               |"
   ]
  },
  {
   "cell_type": "markdown",
   "metadata": {},
   "source": [
    "##### 01. Type the illegal character in this variable name: `2nd_address`."
   ]
  },
  {
   "cell_type": "markdown",
   "metadata": {},
   "source": [
    "2"
   ]
  },
  {
   "cell_type": "markdown",
   "metadata": {},
   "source": [
    "##### 02. Type the illegal character in this variable name: `fourth-Player`."
   ]
  },
  {
   "cell_type": "markdown",
   "metadata": {},
   "source": [
    "\\-"
   ]
  },
  {
   "cell_type": "markdown",
   "metadata": {},
   "source": [
    "##### 03. Rewrite this variable name using the recommended style: `customerlastname`."
   ]
  },
  {
   "cell_type": "markdown",
   "metadata": {},
   "source": [
    "`customer_last_name`"
   ]
  },
  {
   "cell_type": "markdown",
   "metadata": {},
   "source": [
    "##### 04. Rewrite this variable name using the recommended style: `totalaftertax`."
   ]
  },
  {
   "cell_type": "markdown",
   "metadata": {},
   "source": [
    "`total_after_tax`"
   ]
  },
  {
   "cell_type": "markdown",
   "metadata": {},
   "source": [
    "##### 05. Make up a variable name that includes a number."
   ]
  },
  {
   "cell_type": "markdown",
   "metadata": {},
   "source": [
    "`address_1`"
   ]
  },
  {
   "cell_type": "markdown",
   "metadata": {},
   "source": [
    "##### 06. Assign a string to a variable. Make up the string and the variable name."
   ]
  },
  {
   "cell_type": "code",
   "execution_count": 2,
   "metadata": {},
   "outputs": [],
   "source": [
    "address = \"Tlaxcaltecas 2077\""
   ]
  },
  {
   "cell_type": "markdown",
   "metadata": {},
   "source": [
    "##### 07. Assign a number to a variable. Make up the number and the variable name."
   ]
  },
  {
   "cell_type": "code",
   "execution_count": 1,
   "metadata": {},
   "outputs": [],
   "source": [
    "year = 2023"
   ]
  },
  {
   "cell_type": "markdown",
   "metadata": {},
   "source": [
    "##### 08. Assign the sum of two numbers to a variable. Make up the numbers and the variable name."
   ]
  },
  {
   "cell_type": "code",
   "execution_count": 3,
   "metadata": {},
   "outputs": [],
   "source": [
    "total = 720 + 90"
   ]
  },
  {
   "cell_type": "markdown",
   "metadata": {},
   "source": [
    "##### 09. Assign one variable to another. Make up the variable names."
   ]
  },
  {
   "cell_type": "code",
   "execution_count": 4,
   "metadata": {},
   "outputs": [],
   "source": [
    "this_year = year"
   ]
  },
  {
   "cell_type": "markdown",
   "metadata": {},
   "source": [
    "##### 10. Divide one variable by another and assign the result to a third variable. Make up the variable names."
   ]
  },
  {
   "cell_type": "code",
   "execution_count": 6,
   "metadata": {},
   "outputs": [
    {
     "name": "stdout",
     "output_type": "stream",
     "text": [
      "128.0\n"
     ]
    }
   ],
   "source": [
    "dividend = 1024\n",
    "divisor = 8\n",
    "quotient = dividend / divisor\n",
    "print(quotient)"
   ]
  },
  {
   "cell_type": "markdown",
   "metadata": {},
   "source": [
    "##### 11. Correct the variable naming errors.\n",
    "```python\n",
    "4h=\"yes\"\n",
    "negative answer = \"no\"\n",
    "asian_country = \"China\"\n",
    "african-country = \"Kenya\"\n",
    "print(\"ok\")\n",
    "```"
   ]
  },
  {
   "cell_type": "code",
   "execution_count": 7,
   "metadata": {},
   "outputs": [
    {
     "name": "stdout",
     "output_type": "stream",
     "text": [
      "ok\n"
     ]
    }
   ],
   "source": [
    "h4=\"yes\"\n",
    "negative_answer = \"no\"\n",
    "asian_country = \"China\"\n",
    "african_country = \"Kenya\"\n",
    "print(\"ok\")"
   ]
  },
  {
   "cell_type": "markdown",
   "metadata": {},
   "source": [
    "##### 12. Correct the illegal variable names and revise them so they have the recommended style.\n",
    "```python\n",
    "1stvariable = 1\n",
    "another-variable = 2\n",
    "onemorevariable = 3\n",
    "print(another-variable)\n",
    "```"
   ]
  },
  {
   "cell_type": "code",
   "execution_count": 8,
   "metadata": {},
   "outputs": [
    {
     "name": "stdout",
     "output_type": "stream",
     "text": [
      "2\n"
     ]
    }
   ],
   "source": [
    "first_variable = 1\n",
    "another_variable = 2\n",
    "one_more_variable = 3\n",
    "print(another_variable)"
   ]
  }
 ],
 "metadata": {
  "kernelspec": {
   "display_name": "Python 3",
   "language": "python",
   "name": "python3"
  },
  "language_info": {
   "codemirror_mode": {
    "name": "ipython",
    "version": 3
   },
   "file_extension": ".py",
   "mimetype": "text/x-python",
   "name": "python",
   "nbconvert_exporter": "python",
   "pygments_lexer": "ipython3",
   "version": "3.10.8"
  },
  "orig_nbformat": 4
 },
 "nbformat": 4,
 "nbformat_minor": 2
}
