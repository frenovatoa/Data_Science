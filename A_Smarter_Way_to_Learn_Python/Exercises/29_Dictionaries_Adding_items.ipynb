{
 "cells": [
  {
   "cell_type": "markdown",
   "metadata": {},
   "source": [
    "# Dictionaries: Adding items"
   ]
  },
  {
   "cell_type": "code",
   "execution_count": 2,
   "metadata": {},
   "outputs": [],
   "source": [
    "things_to_remember = {\n",
    "    0: \"first_index\",\n",
    "    12: \"a dozen\",\n",
    "    \"messi\": 10,\n",
    "    \"ronaldo\": 7,\n",
    "    \"country\": \"Mexico\",\n",
    "    \"costco\": \"cake\",\n",
    "}"
   ]
  },
  {
   "cell_type": "code",
   "execution_count": 3,
   "metadata": {},
   "outputs": [],
   "source": [
    "# Add the pi key to things_to_remember with the value 3.1416.\n",
    "things_to_remember[\"pi\"] = 3.1416"
   ]
  },
  {
   "cell_type": "code",
   "execution_count": 4,
   "metadata": {},
   "outputs": [
    {
     "name": "stdout",
     "output_type": "stream",
     "text": [
      "{0: 'first_index', 12: 'a dozen', 'messi': 10, 'ronaldo': 7, 'country': 'Mexico', 'costco': 'cake', 'pi': 3.1416}\n"
     ]
    }
   ],
   "source": [
    "# Print the dictionary.\n",
    "print(things_to_remember)"
   ]
  },
  {
   "cell_type": "markdown",
   "metadata": {},
   "source": [
    "##### 01. Code an empty list. Make up the list name."
   ]
  },
  {
   "cell_type": "code",
   "execution_count": 1,
   "metadata": {},
   "outputs": [],
   "source": [
    "empty_list = []"
   ]
  },
  {
   "cell_type": "markdown",
   "metadata": {},
   "source": [
    "##### 02. Code an empty dictionary. Make up the dictionary name."
   ]
  },
  {
   "cell_type": "code",
   "execution_count": 2,
   "metadata": {},
   "outputs": [],
   "source": [
    "empty_dict = {}"
   ]
  },
  {
   "cell_type": "markdown",
   "metadata": {},
   "source": [
    "##### 03. The dictionary name is **ranks**. Add an item to it. The key is 10. The value is \"Spain\"."
   ]
  },
  {
   "cell_type": "markdown",
   "metadata": {},
   "source": [
    "```python\n",
    "ranks[10] = \"Spain\"\n",
    "```"
   ]
  },
  {
   "cell_type": "markdown",
   "metadata": {},
   "source": [
    "##### 04. The dictionary name is **products**. Add an item to it. The key is \"laptop\". The value is 397.50."
   ]
  },
  {
   "cell_type": "markdown",
   "metadata": {},
   "source": [
    "```python\n",
    "products[\"laptop\"] = 397.50\n",
    "```"
   ]
  },
  {
   "cell_type": "markdown",
   "metadata": {},
   "source": [
    "##### 05. Add a string element to a list, using the plus sign. Make up the string and the list name."
   ]
  },
  {
   "cell_type": "markdown",
   "metadata": {},
   "source": [
    "```python\n",
    "movies = movies + [\"Star Wars\"]\n",
    "```"
   ]
  },
  {
   "cell_type": "markdown",
   "metadata": {},
   "source": [
    "##### 06. Add an item to a dictionary. The key is a number. The value is a string. Make everything up."
   ]
  },
  {
   "cell_type": "markdown",
   "metadata": {},
   "source": [
    "```python\n",
    "movies[15] = \"Star Wars\"\n",
    "```"
   ]
  },
  {
   "cell_type": "markdown",
   "metadata": {},
   "source": [
    "##### 07. Add two elements to a list using the plus sign. The elements are numbers. Make everything up."
   ]
  },
  {
   "cell_type": "markdown",
   "metadata": {},
   "source": [
    "```python\n",
    "birth_years = birth_years + [1990, 1991]\n",
    "```"
   ]
  },
  {
   "cell_type": "markdown",
   "metadata": {},
   "source": [
    "##### 08. Add two items to a dictionary. All keys and values are strings. Make everything up."
   ]
  },
  {
   "cell_type": "markdown",
   "metadata": {},
   "source": [
    "```python\n",
    "movies[\"Star Wars\"] = \"1977\"\n",
    "movies[\"The Godfather\"] = \"1972\"\n",
    "```"
   ]
  },
  {
   "cell_type": "markdown",
   "metadata": {},
   "source": [
    "##### 09. Add a string to the end of a list using the **append** keyword. Make up the list name and the string."
   ]
  },
  {
   "cell_type": "markdown",
   "metadata": {},
   "source": [
    "```python\n",
    "movies.append(\"The Godfather\")\n",
    "```"
   ]
  },
  {
   "cell_type": "markdown",
   "metadata": {},
   "source": [
    "##### 10. Add two items to a dictionary. Keys and values can be any combination of strings and numbers. Make everything up."
   ]
  },
  {
   "cell_type": "markdown",
   "metadata": {},
   "source": [
    "```python\n",
    "movies[\"The Godfather\"] = 1972\n",
    "movies[\"Star Wars\"] = 1977\n",
    "```"
   ]
  },
  {
   "cell_type": "markdown",
   "metadata": {},
   "source": [
    "##### 11. Add an item to the dictionary. The key is \"gold\". The value is 1281. Targeting the gold item in the dictionary, display gold's price."
   ]
  },
  {
   "cell_type": "code",
   "execution_count": 5,
   "metadata": {},
   "outputs": [
    {
     "name": "stdout",
     "output_type": "stream",
     "text": [
      "1281\n"
     ]
    }
   ],
   "source": [
    "prices = {\n",
    "    \"ethanol\": 1.531,\n",
    "    \"natural gas\": 2.892,\n",
    "    \"gasoline\": 1.5646,\n",
    "}\n",
    "prices[\"gold\"] = 1281\n",
    "print(prices[\"gold\"])"
   ]
  },
  {
   "cell_type": "markdown",
   "metadata": {},
   "source": [
    "##### 12. Code a dictionary with three items. Then add a fourth item to the dictionary. Display the complete dictionary."
   ]
  },
  {
   "cell_type": "code",
   "execution_count": 6,
   "metadata": {},
   "outputs": [
    {
     "name": "stdout",
     "output_type": "stream",
     "text": [
      "{'Cs': 55, 'Au': 79, 'Hg': 80, 'H': 1}\n"
     ]
    }
   ],
   "source": [
    "atomic_numbers = {\n",
    "    \"Cs\": 55,\n",
    "    \"Au\": 79,\n",
    "    \"Hg\": 80,\n",
    "}\n",
    "atomic_numbers[\"H\"] = 1\n",
    "print(atomic_numbers)"
   ]
  }
 ],
 "metadata": {
  "kernelspec": {
   "display_name": "Python 3",
   "language": "python",
   "name": "python3"
  },
  "language_info": {
   "codemirror_mode": {
    "name": "ipython",
    "version": 3
   },
   "file_extension": ".py",
   "mimetype": "text/x-python",
   "name": "python",
   "nbconvert_exporter": "python",
   "pygments_lexer": "ipython3",
   "version": "3.10.8"
  },
  "orig_nbformat": 4
 },
 "nbformat": 4,
 "nbformat_minor": 2
}
