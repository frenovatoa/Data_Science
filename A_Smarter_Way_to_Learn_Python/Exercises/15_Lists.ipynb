{
 "cells": [
  {
   "cell_type": "markdown",
   "metadata": {},
   "source": [
    "# Lists"
   ]
  },
  {
   "cell_type": "code",
   "execution_count": 1,
   "metadata": {},
   "outputs": [
    {
     "name": "stdout",
     "output_type": "stream",
     "text": [
      "Welcome to Saltillo!\n"
     ]
    }
   ],
   "source": [
    "# Let's assign some string values to some variables:\n",
    "city_0 = \"Saltillo\"\n",
    "city_1 = \"Monterrey\"\n",
    "city_2 = \"Colima\"\n",
    "city_3 = \"Cancun\"\n",
    "\n",
    "print(\"Welcome to \" + city_0 + \"!\")"
   ]
  },
  {
   "cell_type": "code",
   "execution_count": 3,
   "metadata": {},
   "outputs": [
    {
     "name": "stdout",
     "output_type": "stream",
     "text": [
      "Welcome to Cancún!\n"
     ]
    }
   ],
   "source": [
    "# Now, let's create a list of cities:\n",
    "# Each element in the list has an index, starting from 0.\n",
    "cities = [\"Saltillo\", \"Monterrey\", \"Colima\", \"Cancún\", \"San Pedro\", \"Chihuahua\"]\n",
    "print(\"Welcome to \" + cities[3] + \"!\")"
   ]
  },
  {
   "cell_type": "code",
   "execution_count": 7,
   "metadata": {},
   "outputs": [
    {
     "name": "stdout",
     "output_type": "stream",
     "text": [
      "Iron Man's favorite number is 3.1416.\n"
     ]
    }
   ],
   "source": [
    "# It is possible to mix different types of data in a list:\n",
    "mixed_things = [\"Spongebob\", \"Iron Man\", 3.1416]\n",
    "print(mixed_things[1] + \"'s favorite number is \" + str(mixed_things[2]) + \".\")"
   ]
  },
  {
   "cell_type": "markdown",
   "metadata": {},
   "source": [
    "##### 01. What is players? (one word)\n",
    "```python\n",
    "players = [\"Jane\", \"Jen\", \"Jill\"]\n",
    "```"
   ]
  },
  {
   "cell_type": "markdown",
   "metadata": {},
   "source": [
    "list"
   ]
  },
  {
   "cell_type": "markdown",
   "metadata": {},
   "source": [
    "##### 02. Type the two characters that are missing from this list definition.\n",
    "```python\t\n",
    "scores = 78, 47, 3, 52, 16\n",
    "```"
   ]
  },
  {
   "cell_type": "markdown",
   "metadata": {},
   "source": [
    "[]"
   ]
  },
  {
   "cell_type": "markdown",
   "metadata": {},
   "source": [
    "##### 03. The last element in the list is 0. Complete the list definition.\n",
    "`qtys = [144, 12, 16__________`"
   ]
  },
  {
   "cell_type": "markdown",
   "metadata": {},
   "source": [
    ", 0]"
   ]
  },
  {
   "cell_type": "markdown",
   "metadata": {},
   "source": [
    "##### 04. Define a list, **noncolors**, that has a single element, \"black\"."
   ]
  },
  {
   "cell_type": "code",
   "execution_count": 8,
   "metadata": {},
   "outputs": [],
   "source": [
    "noncolors = [\"black\"]"
   ]
  },
  {
   "cell_type": "markdown",
   "metadata": {},
   "source": [
    "##### 05. What is the index number of a list's first element?"
   ]
  },
  {
   "cell_type": "markdown",
   "metadata": {},
   "source": [
    "0"
   ]
  },
  {
   "cell_type": "markdown",
   "metadata": {},
   "source": [
    "##### 06. A list contains 20 elements. What is the index number of the last element?"
   ]
  },
  {
   "cell_type": "markdown",
   "metadata": {},
   "source": [
    "19"
   ]
  },
  {
   "cell_type": "markdown",
   "metadata": {},
   "source": [
    "##### 07. Assign the third element in the list to a variable. Make up the variable name.\n",
    "```python\n",
    "cities = [\"Atlanta\", \"Baltimore\", \"Chicago\", \"Denver\", \"Los Angeles\", \"Seattle\"]\n",
    "```"
   ]
  },
  {
   "cell_type": "code",
   "execution_count": 10,
   "metadata": {},
   "outputs": [
    {
     "name": "stdout",
     "output_type": "stream",
     "text": [
      "Welcome to Chicago!\n"
     ]
    }
   ],
   "source": [
    "cities = [\"Atlanta\", \"Baltimore\", \"Chicago\", \"Denver\", \"Los Angeles\", \"Seattle\"]\n",
    "city = cities[2]\n",
    "print(\"Welcome to \" + city + \"!\")"
   ]
  },
  {
   "cell_type": "markdown",
   "metadata": {},
   "source": [
    "##### 08. Code a list whose three elements are integers. Make up the name of the list and the integers."
   ]
  },
  {
   "cell_type": "code",
   "execution_count": 11,
   "metadata": {},
   "outputs": [
    {
     "name": "stdout",
     "output_type": "stream",
     "text": [
      "[1521, 1810, 1910]\n"
     ]
    }
   ],
   "source": [
    "years = [1521, 1810, 1910]\n",
    "print(years)"
   ]
  },
  {
   "cell_type": "markdown",
   "metadata": {},
   "source": [
    "##### 09. Code a list whose two elements are strings. Make up the name of the list and the strings."
   ]
  },
  {
   "cell_type": "code",
   "execution_count": 12,
   "metadata": {},
   "outputs": [],
   "source": [
    "pets = [\"Coffee\", \"Coquita\"]"
   ]
  },
  {
   "cell_type": "markdown",
   "metadata": {},
   "source": [
    "##### 10. In a single line of code and using the list to specify the element, display \"Black\".\n",
    "```python\n",
    "seas = [\"North\", \"Red\", \"Dead\", \"Black\", \"Baltic\", \"Bali\"]\n",
    "```"
   ]
  },
  {
   "cell_type": "code",
   "execution_count": 14,
   "metadata": {},
   "outputs": [
    {
     "name": "stdout",
     "output_type": "stream",
     "text": [
      "Black\n"
     ]
    }
   ],
   "source": [
    "seas = [\"North\", \"Red\", \"Dead\", \"Black\", \"Baltic\", \"Bali\"]\n",
    "print(seas[3])"
   ]
  },
  {
   "cell_type": "markdown",
   "metadata": {},
   "source": [
    "##### 11. Complete line 2 to assign the last element of the list to the variable.\n",
    "```python\n",
    "weekdays = [\"Mon\", \"Tue\", \"Wed\", \"Thu\", \"Fri\"]\n",
    "fifth_weekday = _________\n",
    "print(fifth_weekday)\n",
    "```"
   ]
  },
  {
   "cell_type": "code",
   "execution_count": 15,
   "metadata": {},
   "outputs": [
    {
     "name": "stdout",
     "output_type": "stream",
     "text": [
      "Fri\n"
     ]
    }
   ],
   "source": [
    "weekdays = [\"Mon\", \"Tue\", \"Wed\", \"Thu\", \"Fri\"]\n",
    "fifth_weekday = weekdays[4]\n",
    "print(fifth_weekday)"
   ]
  },
  {
   "cell_type": "markdown",
   "metadata": {},
   "source": [
    "##### 12. Define a list that contains three elements. Display the list."
   ]
  },
  {
   "cell_type": "code",
   "execution_count": 17,
   "metadata": {},
   "outputs": [
    {
     "name": "stdout",
     "output_type": "stream",
     "text": [
      "['MySQL', 'Postgresql', 'Oracle']\n"
     ]
    }
   ],
   "source": [
    "databases = [\"MySQL\", \"Postgresql\", \"Oracle\"]\n",
    "print(databases)"
   ]
  }
 ],
 "metadata": {
  "kernelspec": {
   "display_name": "Python 3",
   "language": "python",
   "name": "python3"
  },
  "language_info": {
   "codemirror_mode": {
    "name": "ipython",
    "version": 3
   },
   "file_extension": ".py",
   "mimetype": "text/x-python",
   "name": "python",
   "nbconvert_exporter": "python",
   "pygments_lexer": "ipython3",
   "version": "3.10.8"
  },
  "orig_nbformat": 4
 },
 "nbformat": 4,
 "nbformat_minor": 2
}
