{
 "cells": [
  {
   "cell_type": "markdown",
   "metadata": {},
   "source": [
    "# Lists: popping elements\n",
    "When you delete or remove a list element, that element disappears into oblivion. It's just gone. But sometimes, you want to strike an element off a list but hang onto it for another purpose."
   ]
  },
  {
   "cell_type": "code",
   "execution_count": 3,
   "metadata": {},
   "outputs": [
    {
     "name": "stdout",
     "output_type": "stream",
     "text": [
      "['the sopranos', 'the office', 'game of thrones']\n",
      "breaking bad\n"
     ]
    }
   ],
   "source": [
    "series = [\"the sopranos\", \"breaking bad\", \"the office\", \"game of thrones\"]\n",
    "a_serie = series.pop(1)\n",
    "print(series)\n",
    "print(a_serie)"
   ]
  },
  {
   "cell_type": "markdown",
   "metadata": {},
   "source": [
    "> **Test question**: pop an element of a list and add it to another list."
   ]
  },
  {
   "cell_type": "code",
   "execution_count": 1,
   "metadata": {},
   "outputs": [
    {
     "name": "stdout",
     "output_type": "stream",
     "text": [
      "['the sopranos', 'the office', 'game of thrones']\n",
      "['breaking bad']\n"
     ]
    }
   ],
   "source": [
    "series = [\"the sopranos\", \"breaking bad\", \"the office\", \"game of thrones\"]\n",
    "my_favorite_serie = []\n",
    "my_favorite_serie.insert(0, series.pop(1))\n",
    "print(series)\n",
    "print(my_favorite_serie)"
   ]
  },
  {
   "cell_type": "code",
   "execution_count": 2,
   "metadata": {},
   "outputs": [
    {
     "name": "stdout",
     "output_type": "stream",
     "text": [
      "['the sopranos', 'breaking bad', 'the office']\n",
      "game of thrones\n"
     ]
    }
   ],
   "source": [
    "# If I don't specify the index, it will remove the last element\n",
    "series = [\"the sopranos\", \"breaking bad\", \"the office\", \"game of thrones\"]\n",
    "serie = series.pop()\n",
    "print(series)\n",
    "print(serie)"
   ]
  },
  {
   "cell_type": "markdown",
   "metadata": {},
   "source": [
    "##### 01. To strike an element off a list and assign it to a variable, what keyword do you use?"
   ]
  },
  {
   "cell_type": "markdown",
   "metadata": {},
   "source": [
    "`pop`"
   ]
  },
  {
   "cell_type": "markdown",
   "metadata": {},
   "source": [
    "##### 02. Fill in the blank to pop the third element off the list.\n",
    "```python\n",
    "popped_element = big_list.pop(__)\n",
    "```"
   ]
  },
  {
   "cell_type": "markdown",
   "metadata": {},
   "source": [
    "2"
   ]
  },
  {
   "cell_type": "markdown",
   "metadata": {},
   "source": [
    "##### 03. Complete the code to pop the first element off the list.\n",
    "```python\n",
    "popped_element = big_list____________\n",
    "```"
   ]
  },
  {
   "cell_type": "markdown",
   "metadata": {},
   "source": [
    "```python\n",
    ".pop(0)\n",
    "```"
   ]
  },
  {
   "cell_type": "markdown",
   "metadata": {},
   "source": [
    "##### 04. Pop the second element off the list y and assign it to the variable x."
   ]
  },
  {
   "cell_type": "markdown",
   "metadata": {},
   "source": [
    "```python\n",
    "x = y.pop(1)\n",
    "```"
   ]
  },
  {
   "cell_type": "markdown",
   "metadata": {},
   "source": [
    "##### 05. Pop an element off a list and assign it to a variable. Make everything up."
   ]
  },
  {
   "cell_type": "markdown",
   "metadata": {},
   "source": [
    "```python\n",
    "my_favorite_color = colors.pop(2)\n",
    "```"
   ]
  },
  {
   "cell_type": "markdown",
   "metadata": {},
   "source": [
    "##### 06. Pop the first element of list **y** and append it to the end of list **x**."
   ]
  },
  {
   "cell_type": "markdown",
   "metadata": {},
   "source": [
    "```python\n",
    "x.append(y.pop(0))\n",
    "```"
   ]
  },
  {
   "cell_type": "markdown",
   "metadata": {},
   "source": [
    "##### 07. Pop the fourth element of list **y** and insert it as the third element of list **x**."
   ]
  },
  {
   "cell_type": "markdown",
   "metadata": {},
   "source": [
    "```python\n",
    "x.insert(2, y.pop(3))\n",
    "```"
   ]
  },
  {
   "cell_type": "markdown",
   "metadata": {},
   "source": [
    "##### 08. Using minimal code, pop the last element off list **y** and assign it to the variable **x**."
   ]
  },
  {
   "cell_type": "markdown",
   "metadata": {},
   "source": [
    "```python\n",
    "x = y.pop()\n",
    "```"
   ]
  },
  {
   "cell_type": "markdown",
   "metadata": {},
   "source": [
    "##### 09. x equals 100 plus the sixth element popped off list **y**. Code it in a single statement."
   ]
  },
  {
   "cell_type": "markdown",
   "metadata": {},
   "source": [
    "```python\n",
    "x = 100 + y.pop(5)\n",
    "```"
   ]
  },
  {
   "cell_type": "markdown",
   "metadata": {},
   "source": [
    "##### 10. Using the keywords `append` and `pop`, move the first element of the list x to the end of list x."
   ]
  },
  {
   "cell_type": "markdown",
   "metadata": {},
   "source": [
    "```python\n",
    "x.append(x.pop(0))\n",
    "```"
   ]
  },
  {
   "cell_type": "markdown",
   "metadata": {},
   "source": [
    "##### 11. Pop the fourth element of **y** and assign it to **x**. Then display **x**.\n",
    "```python\n",
    "y = [5, 11, 8, 2, 44]\n",
    "```"
   ]
  },
  {
   "cell_type": "code",
   "execution_count": 3,
   "metadata": {},
   "outputs": [
    {
     "name": "stdout",
     "output_type": "stream",
     "text": [
      "2\n"
     ]
    }
   ],
   "source": [
    "y = [5, 11, 8, 2, 44]\n",
    "x = y.pop(3)\n",
    "print(x)"
   ]
  },
  {
   "cell_type": "markdown",
   "metadata": {},
   "source": [
    "##### 12. Pop \"bunny\" off the **hoppers** list and append it to the **pets** list. Then display the **pets** list.\n",
    "```python\n",
    "hoppers = [\"rabbit\", \"hare\", \"bunny\", \"cottontail\"]\n",
    "pets = [\"dog\", \"cat\", \"fish\"]\n",
    "```"
   ]
  },
  {
   "cell_type": "code",
   "execution_count": 4,
   "metadata": {},
   "outputs": [
    {
     "name": "stdout",
     "output_type": "stream",
     "text": [
      "['dog', 'cat', 'fish', 'bunny']\n"
     ]
    }
   ],
   "source": [
    "hoppers = [\"rabbit\", \"hare\", \"bunny\", \"cottontail\"]\n",
    "pets = [\"dog\", \"cat\", \"fish\"]\n",
    "pets.append(hoppers.pop(2))\n",
    "print(pets)"
   ]
  }
 ],
 "metadata": {
  "kernelspec": {
   "display_name": "Python 3",
   "language": "python",
   "name": "python3"
  },
  "language_info": {
   "codemirror_mode": {
    "name": "ipython",
    "version": 3
   },
   "file_extension": ".py",
   "mimetype": "text/x-python",
   "name": "python",
   "nbconvert_exporter": "python",
   "pygments_lexer": "ipython3",
   "version": "3.10.8"
  },
  "orig_nbformat": 4
 },
 "nbformat": 4,
 "nbformat_minor": 2
}
