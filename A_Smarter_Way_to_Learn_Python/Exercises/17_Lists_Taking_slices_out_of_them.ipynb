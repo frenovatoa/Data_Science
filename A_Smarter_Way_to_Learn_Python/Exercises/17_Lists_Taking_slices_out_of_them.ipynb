{
 "cells": [
  {
   "cell_type": "markdown",
   "metadata": {},
   "source": [
    "# Lists: Taking slices out of them"
   ]
  },
  {
   "cell_type": "code",
   "execution_count": 4,
   "metadata": {},
   "outputs": [
    {
     "name": "stdout",
     "output_type": "stream",
     "text": [
      "['London', 'Paris', 'Berlin']\n",
      "['New York', 'Sydney', 'Tokyo']\n",
      "['London', 'Paris', 'Berlin', 'New York', 'Sydney']\n",
      "['Sydney', 'Tokyo']\n"
     ]
    }
   ],
   "source": [
    "# If we have a list, we can take slices out of it.\n",
    "cities = [\"London\", \"Paris\", \"Berlin\", \"New York\", \"Sydney\", \"Tokyo\"]\n",
    "print(cities[0:3])\n",
    "# If we want to take a slice from New York to Tokyo, we can do this:\n",
    "print(cities[3:])\n",
    "# If we want to take a slice from London to Sydney, we can do this:\n",
    "print(cities[:5])\n",
    "# If we want to take the last two elements, we can do this:\n",
    "print(cities[-2:])"
   ]
  },
  {
   "cell_type": "markdown",
   "metadata": {},
   "source": [
    "##### 01. In the following code, **smaller_list_of_cities** is assigned __ elements of the **cities** list.\n",
    "```python\t\n",
    "smaller_list_of_cities = cities[2:5]\n",
    "```"
   ]
  },
  {
   "cell_type": "markdown",
   "metadata": {},
   "source": [
    "3"
   ]
  },
  {
   "cell_type": "markdown",
   "metadata": {},
   "source": []
  },
  {
   "cell_type": "markdown",
   "metadata": {},
   "source": [
    "##### 02. Fill in the blank. The first element in the slice is the second element in the list. The last element in the slice is the third element in the list.\n",
    "```python\n",
    "smaller_list_of_cities = cities[____]\n",
    "```"
   ]
  },
  {
   "cell_type": "markdown",
   "metadata": {},
   "source": [
    "1:3"
   ]
  },
  {
   "cell_type": "markdown",
   "metadata": {},
   "source": [
    "##### 03. Copy the second through eighth elements from the list y and assign the slice to the list x."
   ]
  },
  {
   "cell_type": "markdown",
   "metadata": {},
   "source": [
    "```python\t\n",
    "x = y[1:8]\n",
    "```"
   ]
  },
  {
   "cell_type": "markdown",
   "metadata": {},
   "source": [
    "##### 04. Reduce the list x to a slice of itself—the sixth through 8th elements."
   ]
  },
  {
   "cell_type": "markdown",
   "metadata": {},
   "source": [
    "```python\n",
    "x = x[5:8]\n",
    "```"
   ]
  },
  {
   "cell_type": "markdown",
   "metadata": {},
   "source": [
    "##### 05. Copy some elements from a list and assign the slice to another list. Make up the list names and the index numbers."
   ]
  },
  {
   "cell_type": "markdown",
   "metadata": {},
   "source": [
    "```python\n",
    "another_list = list[12:15]\n",
    "```"
   ]
  },
  {
   "cell_type": "markdown",
   "metadata": {},
   "source": [
    "##### 06. What is the index number of the last element in the slice?\n",
    "```python\t\n",
    "x = y[7:9]\n",
    "```"
   ]
  },
  {
   "cell_type": "markdown",
   "metadata": {},
   "source": [
    "8"
   ]
  },
  {
   "cell_type": "markdown",
   "metadata": {},
   "source": [
    "##### 07. Fill in the blank to slice the first through ninth element with minimal coding.\n",
    "```python\n",
    "x = y[____]\n",
    "```"
   ]
  },
  {
   "cell_type": "markdown",
   "metadata": {},
   "source": [
    ":9"
   ]
  },
  {
   "cell_type": "markdown",
   "metadata": {},
   "source": [
    "##### 08. Using minimal coding, copy the fifth through last element from **y** and assign the slice to **x**."
   ]
  },
  {
   "cell_type": "markdown",
   "metadata": {},
   "source": [
    "```python\n",
    "x = y[4:]\n",
    "```"
   ]
  },
  {
   "cell_type": "markdown",
   "metadata": {},
   "source": [
    "##### 09. Copy the numbers 2 through 4 out of **y** and assign the slice to **x**.\n",
    "```python\n",
    "y = [1, 2, 3, 4, 5]\n",
    "```"
   ]
  },
  {
   "cell_type": "markdown",
   "metadata": {},
   "source": [
    "```python\n",
    "x = y[1:4]\n",
    "```"
   ]
  },
  {
   "cell_type": "markdown",
   "metadata": {},
   "source": [
    "##### 10. Using minimal coding, reduce the list **x** to its first five elements."
   ]
  },
  {
   "cell_type": "markdown",
   "metadata": {},
   "source": [
    "```python\n",
    "x = x[:5]\n",
    "```"
   ]
  },
  {
   "cell_type": "markdown",
   "metadata": {},
   "source": [
    "##### 11. Copy the middle two numbers out of list y and assign the slice to list x. Display list x. If you've coded correctly, **[13, 14]** will be displayed.\n",
    "```python\n",
    "y = [10, 11, 12, 13, 14, 15, 17, 18]\n",
    "```"
   ]
  },
  {
   "cell_type": "code",
   "execution_count": 1,
   "metadata": {},
   "outputs": [
    {
     "name": "stdout",
     "output_type": "stream",
     "text": [
      "[13, 14]\n"
     ]
    }
   ],
   "source": [
    "y = [10, 11, 12, 13, 14, 15, 17, 18]\n",
    "x = y[3:5]\n",
    "print(x)"
   ]
  },
  {
   "cell_type": "markdown",
   "metadata": {},
   "source": [
    "##### 12. Using minimal coding, reduce the list x to \"elm\" and \"chestnut.\" Then display the list. If you've coded correctly, ['elm', 'chestnut'] will be displayed.\n",
    "```python\n",
    "x = [\"elm\", \"chestnut\", \"oak\", \"palm\", \"fir\"]\n",
    "```"
   ]
  },
  {
   "cell_type": "code",
   "execution_count": 2,
   "metadata": {},
   "outputs": [
    {
     "name": "stdout",
     "output_type": "stream",
     "text": [
      "['elm', 'chestnut']\n"
     ]
    }
   ],
   "source": [
    "x = [\"elm\", \"chestnut\", \"oak\", \"palm\", \"fir\"]\n",
    "x = x[:2]\n",
    "print(x)"
   ]
  }
 ],
 "metadata": {
  "kernelspec": {
   "display_name": "Python 3",
   "language": "python",
   "name": "python3"
  },
  "language_info": {
   "codemirror_mode": {
    "name": "ipython",
    "version": 3
   },
   "file_extension": ".py",
   "mimetype": "text/x-python",
   "name": "python",
   "nbconvert_exporter": "python",
   "pygments_lexer": "ipython3",
   "version": "3.10.8"
  },
  "orig_nbformat": 4
 },
 "nbformat": 4,
 "nbformat_minor": 2
}
