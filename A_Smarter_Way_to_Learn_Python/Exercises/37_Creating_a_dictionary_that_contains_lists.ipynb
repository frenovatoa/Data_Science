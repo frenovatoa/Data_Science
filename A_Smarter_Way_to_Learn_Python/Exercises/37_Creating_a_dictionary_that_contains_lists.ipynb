{
 "cells": [
  {
   "cell_type": "markdown",
   "metadata": {},
   "source": [
    "# Creating a dictionary that contains lists\n",
    "> ***Example**: Let's say we offer our customers different discounts. David Elliott has qualified for three of them: a standard discount, a volume discount, and a loyalty discount.*\n",
    "\n",
    "A good way to include this information in the dictionary is to code the discounts <u>as a list</u> and put the list in the dictionary. This is the code:"
   ]
  },
  {
   "cell_type": "code",
   "execution_count": null,
   "metadata": {},
   "outputs": [],
   "source": [
    "customer_29876 = {\n",
    "    \"first name\": \"David\",\n",
    "    \"last name\": \"Elliott\",\n",
    "    \"address\": \"4803 Wellesley St.\",\n",
    "    \"discounts\": [\"standard\", \"volume\", \"loyalty\"],\n",
    "}"
   ]
  },
  {
   "cell_type": "markdown",
   "metadata": {},
   "source": [
    "##### 01. The last key-value pair in the dictionary is this list. What is the name of the list?\n",
    "```python\n",
    "\"discounts\": [\"standard\", \"volume\", \"loyalty\"],\n",
    "```"
   ]
  },
  {
   "cell_type": "markdown",
   "metadata": {},
   "source": [
    "\"discounts\""
   ]
  },
  {
   "cell_type": "markdown",
   "metadata": {},
   "source": [
    "##### 02. What is the element in the list with an index number of 1?\n",
    "```python\n",
    "\"discounts\": [\"standard\", \"volume\", \"loyalty\"],\n",
    "```"
   ]
  },
  {
   "cell_type": "markdown",
   "metadata": {},
   "source": [
    "\"volume\""
   ]
  },
  {
   "cell_type": "markdown",
   "metadata": {},
   "source": [
    "##### 03. Fill in the blank to specify the last element of the list, \"loyalty\"—and close the list. Remember to end the line with a comma.\n",
    "```python\n",
    "\"discounts\": [\"standard\", \"volume\", _____________\n",
    "```"
   ]
  },
  {
   "cell_type": "markdown",
   "metadata": {},
   "source": [
    "\"loyalty\"],"
   ]
  },
  {
   "cell_type": "markdown",
   "metadata": {},
   "source": [
    "##### 04. Extend this dictionary by coding the next key-value pair. It's a list named \"a list\". The elements are the integers 1, 2, 3. Remember to indent and to end the line with a comma.\n",
    "```python\n",
    "dict = {\n",
    "    \"nation\": \"Uganda\",\n",
    "```"
   ]
  },
  {
   "cell_type": "markdown",
   "metadata": {},
   "source": [
    "```python\n",
    "    \"a list\": [1, 2, 3],\n",
    "```"
   ]
  },
  {
   "cell_type": "markdown",
   "metadata": {},
   "source": [
    "##### 05. Code a dictionary that contains just one item. The item is a list that contains just one element. The key is a string. The single element in the list is an integer. Make everything up. Remember to end the list definition with a comma."
   ]
  },
  {
   "cell_type": "code",
   "execution_count": 2,
   "metadata": {},
   "outputs": [],
   "source": [
    "a_dict = {\n",
    "    \"a_list\": [15],\n",
    "}"
   ]
  },
  {
   "cell_type": "markdown",
   "metadata": {},
   "source": [
    "##### 06. Code a dictionary that contains just one item. The item is a list that contains two elements. The key is a string. The elements in the list are strings. Make everything up. Remember to end the list definition with a comma."
   ]
  },
  {
   "cell_type": "code",
   "execution_count": 3,
   "metadata": {},
   "outputs": [],
   "source": [
    "roman_reigns = {\n",
    "    \"champion\": [\"universal\", \"tag team\"],\n",
    "}"
   ]
  },
  {
   "cell_type": "markdown",
   "metadata": {},
   "source": [
    "##### 07. Code a dictionary that contains two items. The first item is key-value pair. The key and the value are both integers. The second item is a list that contains two elements. The key is an integer. The elements in the list are also integers. Make everything up. Remember to end the list definition with a comma."
   ]
  },
  {
   "cell_type": "code",
   "execution_count": 4,
   "metadata": {},
   "outputs": [],
   "source": [
    "all_numbers = {\n",
    "    2: 4,\n",
    "    8: [16, 32],\n",
    "}"
   ]
  },
  {
   "cell_type": "markdown",
   "metadata": {},
   "source": [
    "##### 08. Code a dictionary that contains two items. Both items are lists. Each list contains two elements. All keys, values, and list items are strings. Make everything up."
   ]
  },
  {
   "cell_type": "code",
   "execution_count": 5,
   "metadata": {},
   "outputs": [],
   "source": [
    "drew_mcintyre = {\n",
    "    \"champion\": [\"wwe\", \"tag team\"],\n",
    "    \"moves\": [\"claymore\", \"future shock ddt\"],\n",
    "}"
   ]
  },
  {
   "cell_type": "markdown",
   "metadata": {},
   "source": [
    "##### 09. Code a list that contains one dictionary. The dictionary contains one pair. The key is a string. the value is an integer. Make everything up. You'll need two commas: one after the pair, and one after the closing curly bracket."
   ]
  },
  {
   "cell_type": "code",
   "execution_count": 6,
   "metadata": {},
   "outputs": [],
   "source": [
    "a_list = [\n",
    "    {\n",
    "        \"a_key\": 1,\n",
    "    },\n",
    "]"
   ]
  },
  {
   "cell_type": "markdown",
   "metadata": {},
   "source": [
    "##### 10. Code a dictionary that contains two lists. The keys are strings. Each list contains three integers. Make everything up."
   ]
  },
  {
   "cell_type": "code",
   "execution_count": 7,
   "metadata": {},
   "outputs": [],
   "source": [
    "dict_of_lists = {\n",
    "    \"three_ints\": [1, 2, 3],\n",
    "    \"another_three_ints\": [4, 5, 6],\n",
    "}"
   ]
  },
  {
   "cell_type": "markdown",
   "metadata": {},
   "source": [
    "##### 11. Complete the dictionary by adding a list containing three numbers. (Don't forget to close the dictionary with a curly bracket after adding the list). Then display the dictionary.\n",
    "```python\n",
    "dict = {\n",
    "    \"population\": 89076,\n",
    "```"
   ]
  },
  {
   "cell_type": "code",
   "execution_count": 9,
   "metadata": {},
   "outputs": [
    {
     "name": "stdout",
     "output_type": "stream",
     "text": [
      "{'population': 89076, 'zones': [1521, 1810, 2021]}\n"
     ]
    }
   ],
   "source": [
    "dict = {\n",
    "    \"population\": 89076,\n",
    "    \"zones\": [1521, 1810, 2021]\n",
    "}\n",
    "print(dict)"
   ]
  },
  {
   "cell_type": "markdown",
   "metadata": {},
   "source": [
    "##### 12. Code a dictionary containing two lists. The first list contains all strings. The second list contains all numbers. Display the dictionary."
   ]
  },
  {
   "cell_type": "code",
   "execution_count": 10,
   "metadata": {},
   "outputs": [
    {
     "name": "stdout",
     "output_type": "stream",
     "text": [
      "{'albums': ['Animal Nocturno', 'Historias', 'Santo Pecado'], 'songs_per_album': [10, 12, 11]}\n"
     ]
    }
   ],
   "source": [
    "arjona_discography = {\n",
    "    \"albums\": [\"Animal Nocturno\", \"Historias\", \"Santo Pecado\"],\n",
    "    \"songs_per_album\": [10, 12, 11],\n",
    "}\n",
    "print(arjona_discography)"
   ]
  }
 ],
 "metadata": {
  "kernelspec": {
   "display_name": "Python 3",
   "language": "python",
   "name": "python3"
  },
  "language_info": {
   "codemirror_mode": {
    "name": "ipython",
    "version": 3
   },
   "file_extension": ".py",
   "mimetype": "text/x-python",
   "name": "python",
   "nbconvert_exporter": "python",
   "pygments_lexer": "ipython3",
   "version": "3.10.8"
  },
  "orig_nbformat": 4
 },
 "nbformat": 4,
 "nbformat_minor": 2
}
