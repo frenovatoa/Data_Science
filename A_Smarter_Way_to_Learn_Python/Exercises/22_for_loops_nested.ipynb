{
 "cells": [
  {
   "cell_type": "markdown",
   "metadata": {},
   "source": [
    "# `for` loops nested"
   ]
  },
  {
   "cell_type": "markdown",
   "metadata": {},
   "source": [
    "> Loop each first name with each last name.\n",
    "\n",
    "| First Name    | Last Name     |\n",
    "|:-------------:|:-------------:|\n",
    "| César         | Zárate        |\n",
    "| Felipe        | Renovato      |\n",
    "| Mayra         | García        |\n",
    "| Orlando       | Álvarez       |\n",
    "| Gabriela      |               |\n"
   ]
  },
  {
   "cell_type": "code",
   "execution_count": 4,
   "metadata": {},
   "outputs": [
    {
     "name": "stdout",
     "output_type": "stream",
     "text": [
      "['César Zárate', 'César Renovato', 'César García', 'César Álvarez', 'Felipe Zárate', 'Felipe Renovato', 'Felipe García', 'Felipe Álvarez', 'Mayra Zárate', 'Mayra Renovato', 'Mayra García', 'Mayra Álvarez', 'Orlando Zárate', 'Orlando Renovato', 'Orlando García', 'Orlando Álvarez', 'Gabriela Zárate', 'Gabriela Renovato', 'Gabriela García', 'Gabriela Álvarez']\n"
     ]
    },
    {
     "data": {
      "text/plain": [
       "20"
      ]
     },
     "execution_count": 4,
     "metadata": {},
     "output_type": "execute_result"
    }
   ],
   "source": [
    "first_names = [\"César\", \"Felipe\", \"Mayra\", \"Orlando\", \"Gabriela\"]\n",
    "last_names = [\"Zárate\", \"Renovato\", \"García\", \"Álvarez\"]\n",
    "full_names = []\n",
    "for a_first_name in first_names:\n",
    "    for a_last_name in last_names:\n",
    "        full_names.append(a_first_name + \" \" + a_last_name)\n",
    "print(full_names)\n",
    "\n",
    "# Check the length of the list. It should be 20.\n",
    "len(full_names)"
   ]
  },
  {
   "cell_type": "markdown",
   "metadata": {},
   "source": [
    "##### 01. How many times will the **if** statement run? Answer with a numeral.\n",
    "```python\n",
    "chosen_letter = \"b\"\n",
    "letter_list = [\"a\", \"b\", \"c\", \"d\", \"e\", \"f\"]\n",
    "for a_letter in letter_list:\n",
    "    if a_letter == chosen_letter:\n",
    "        print(\"It's a match.\")\n",
    "        break\n",
    "```"
   ]
  },
  {
   "cell_type": "markdown",
   "metadata": {},
   "source": [
    "2"
   ]
  },
  {
   "cell_type": "markdown",
   "metadata": {},
   "source": [
    "##### 02. The next line interrupts the loop when there's a match. Code it. Remember to indent 2 tabs.\n",
    "```python\n",
    "chosen_letter = \"b\"\n",
    "letter_list = [\"a\", \"b\", \"c\", \"d\", \"e\", \"f\"]\n",
    "for a_letter in letter_list:\n",
    "  if a_letter == chosen_letter:\n",
    "    print(\"It's a match.\")\n",
    "```"
   ]
  },
  {
   "cell_type": "markdown",
   "metadata": {},
   "source": [
    "```python\n",
    "            break\n",
    "```"
   ]
  },
  {
   "cell_type": "markdown",
   "metadata": {},
   "source": [
    "##### 03. Code the first line of a **for** loop. The list name is **letter_list**. The variable name is **a_letter**."
   ]
  },
  {
   "cell_type": "markdown",
   "metadata": {},
   "source": [
    "```python\n",
    "for a_letter in letter_list:\n",
    "```"
   ]
  },
  {
   "cell_type": "markdown",
   "metadata": {},
   "source": [
    "##### 04. Code the first line of a loop that runs inside this loop. The list name is **b** and the variable name is **a**. Don't forget to indent.\n",
    "```python\n",
    "for x in y:\n",
    "```"
   ]
  },
  {
   "cell_type": "markdown",
   "metadata": {},
   "source": [
    "```python\n",
    "    for a in b:\n",
    "```"
   ]
  },
  {
   "cell_type": "markdown",
   "metadata": {},
   "source": [
    "##### 05. Code the first line of a **for** loop, and then the first line of an inner loop. Make up all the names. Don't forget to indent the second line."
   ]
  },
  {
   "cell_type": "markdown",
   "metadata": {},
   "source": [
    "```python\n",
    "for name in names:\n",
    "    for last_name in last_names:\n",
    "```"
   ]
  },
  {
   "cell_type": "markdown",
   "metadata": {},
   "source": [
    "##### 06. Code the first line of a **for** loop, then the first and second lines of an inner loop. The second line of the inner loop displays the element in the inner list. Make up the names. Remember to indent line 2 1 tab and line 3 2 tabs."
   ]
  },
  {
   "cell_type": "code",
   "execution_count": 1,
   "metadata": {},
   "outputs": [
    {
     "name": "stdout",
     "output_type": "stream",
     "text": [
      "Zárate\n",
      "Renovato\n",
      "García\n",
      "Álvarez\n",
      "Zárate\n",
      "Renovato\n",
      "García\n",
      "Álvarez\n",
      "Zárate\n",
      "Renovato\n",
      "García\n",
      "Álvarez\n",
      "Zárate\n",
      "Renovato\n",
      "García\n",
      "Álvarez\n"
     ]
    }
   ],
   "source": [
    "names = [\"César\", \"Felipe\", \"Mayra\", \"Orlando\"]\n",
    "last_names = [\"Zárate\", \"Renovato\", \"García\", \"Álvarez\"]\n",
    "for name in names:\n",
    "    for last_name in last_names:\n",
    "        print(last_name)"
   ]
  },
  {
   "cell_type": "markdown",
   "metadata": {},
   "source": [
    "##### 07. Run an inner loop inside an outer loop. If the inner list contains an element with the value of 1, display \"ok\". Remember to indent correctly."
   ]
  },
  {
   "cell_type": "markdown",
   "metadata": {},
   "source": [
    "```python\n",
    "for outer_element in outer_list:\n",
    "    for inner_element in inner_list:\n",
    "        if inner_element == 1:\n",
    "            print(\"ok\")\n",
    "```"
   ]
  },
  {
   "cell_type": "markdown",
   "metadata": {},
   "source": [
    "##### 08. Run an inner loop inside an outer loop. If the inner list contains an element less than 1, display \"ok\" and interrupt the loop. Remember to indent correctly."
   ]
  },
  {
   "cell_type": "markdown",
   "metadata": {},
   "source": [
    "```python\n",
    "for outer_element in outer_list:\n",
    "    for inner_element in inner_list:\n",
    "        if inner_element < 1:\n",
    "            print(\"ok\")\n",
    "            break\n",
    "```"
   ]
  },
  {
   "cell_type": "markdown",
   "metadata": {},
   "source": [
    "##### 09. Code three lines: the first line of an outer loop, then the first line of a loop that runs inside the outer loop, and finally the first line of a loop that runs inside the first inner loop. This is about indenting correctly."
   ]
  },
  {
   "cell_type": "markdown",
   "metadata": {},
   "source": [
    "```python\n",
    "for list1_element in list1:\n",
    "    for list2_element in list2:\n",
    "        for list3_element in list3:\n",
    "```"
   ]
  },
  {
   "cell_type": "markdown",
   "metadata": {},
   "source": [
    "##### 10. When the looping completes, what number will display? Answer with a numeral. Hint: After the outer loop has run once through one country and the inner loop has run once through four cities, **outer_loop_total** + **inner_loop_total** is 5.\n",
    "```python\n",
    "outer_loop_total = 0\n",
    "inner_loop_total = 0\n",
    "countries = [\"Albania\", \"Morocco\", \"Brazil\", \"Denmark\"]\n",
    "capitals = [\"Tel Aviv\", \"Abuja\", \"Brasília\", \"Islamabad\"]\n",
    "for country_to_check in countries:\n",
    "    outer_loop_total += 1\n",
    "    for city_to_check in capitals:\n",
    "        inner_loop_total += 1\n",
    "        if country_to_check == \"Brazil\" and city_to_check == \"Brasília\":\n",
    "            print(outer_loop_total + inner_loop_total)"
   ]
  },
  {
   "cell_type": "markdown",
   "metadata": {},
   "source": [
    "14"
   ]
  },
  {
   "cell_type": "markdown",
   "metadata": {},
   "source": [
    "##### 11. Code an outer loop that loops through the first list and an innner loop that loops through the second list. The inner loop displays each inner list value.\n",
    "```python\n",
    "b = [1, 2, 3, 4, 5, 6]\n",
    "d = [7, 8, 9, 10, 11]\n",
    "```"
   ]
  },
  {
   "cell_type": "code",
   "execution_count": 4,
   "metadata": {},
   "outputs": [
    {
     "name": "stdout",
     "output_type": "stream",
     "text": [
      "7\n",
      "8\n",
      "9\n",
      "10\n",
      "11\n",
      "7\n",
      "8\n",
      "9\n",
      "10\n",
      "11\n",
      "7\n",
      "8\n",
      "9\n",
      "10\n",
      "11\n",
      "7\n",
      "8\n",
      "9\n",
      "10\n",
      "11\n",
      "7\n",
      "8\n",
      "9\n",
      "10\n",
      "11\n",
      "7\n",
      "8\n",
      "9\n",
      "10\n",
      "11\n"
     ]
    }
   ],
   "source": [
    "b = [1, 2, 3, 4, 5, 6]\n",
    "d = [7, 8, 9, 10, 11]\n",
    "for a in b:\n",
    "    for c in d:\n",
    "        print(c)"
   ]
  },
  {
   "cell_type": "markdown",
   "metadata": {},
   "source": [
    "##### 12. Code nested for loops. When the outer tuple element is 4 and the inner tuple element is \"b\" display \"ok\".\n",
    "```python\n",
    "nums = (1, 2, 3, 4, 5, 6)\n",
    "strings = (\"a\", \"b\", \"c\", \"d\", \"e\")\n",
    "```\n"
   ]
  },
  {
   "cell_type": "code",
   "execution_count": 5,
   "metadata": {},
   "outputs": [
    {
     "name": "stdout",
     "output_type": "stream",
     "text": [
      "ok\n"
     ]
    }
   ],
   "source": [
    "nums = (1, 2, 3, 4, 5, 6)\n",
    "strings = (\"a\", \"b\", \"c\", \"d\", \"e\")\n",
    "for num in nums:\n",
    "    for string in strings:\n",
    "        if num == 4 and string == \"b\":\n",
    "            print(\"ok\")"
   ]
  }
 ],
 "metadata": {
  "kernelspec": {
   "display_name": "Python 3",
   "language": "python",
   "name": "python3"
  },
  "language_info": {
   "codemirror_mode": {
    "name": "ipython",
    "version": 3
   },
   "file_extension": ".py",
   "mimetype": "text/x-python",
   "name": "python",
   "nbconvert_exporter": "python",
   "pygments_lexer": "ipython3",
   "version": "3.10.8"
  },
  "orig_nbformat": 4
 },
 "nbformat": 4,
 "nbformat_minor": 2
}
