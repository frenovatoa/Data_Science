{
 "cells": [
  {
   "cell_type": "markdown",
   "metadata": {},
   "source": [
    "# Creating a list of dictionaries"
   ]
  },
  {
   "cell_type": "code",
   "execution_count": 1,
   "metadata": {},
   "outputs": [],
   "source": [
    "# Create 3 dictionaries in a list.\n",
    "customers = [\n",
    "    {\n",
    "        \"id\": 1,\n",
    "        \"name\": \"César\",\n",
    "        \"surname\": \"Zárate\",\n",
    "        \"rfc\": \"XAXX010101000\",\n",
    "    },\n",
    "    {\n",
    "        \"id\": 2,\n",
    "        \"name\": \"Felipe\",\n",
    "        \"surname\": \"Renovato\",\n",
    "        \"rfc\": \"XAXX010101001\",\n",
    "    },\n",
    "    {\n",
    "        \"id\": 3,\n",
    "        \"name\": \"Orlando\",\n",
    "        \"surname\": \"Alvarez\",\n",
    "        \"rfc\": \"XAXX010101002\",\n",
    "    },\n",
    "]"
   ]
  },
  {
   "cell_type": "markdown",
   "metadata": {},
   "source": [
    "##### 01. Complete the line to begin coding a list of dictionaries. (3 characters)\n",
    "```python\n",
    "customers _____\n",
    "```"
   ]
  },
  {
   "cell_type": "markdown",
   "metadata": {},
   "source": [
    "`= [`"
   ]
  },
  {
   "cell_type": "markdown",
   "metadata": {},
   "source": [
    "##### 02. The name of the list of dictionaries is **customers**. Code the first line."
   ]
  },
  {
   "cell_type": "markdown",
   "metadata": {},
   "source": [
    "```python\n",
    "customers = [\n",
    "```"
   ]
  },
  {
   "cell_type": "markdown",
   "metadata": {},
   "source": [
    "##### 03. The name of the list of dictionaries is **list_of_dictionaries**. Code the first line.\n",
    "```python\n",
    "list_of_dictionaries = [\n",
    "```"
   ]
  },
  {
   "cell_type": "markdown",
   "metadata": {},
   "source": [
    "##### 04. Code the second line. Remember to indent it.\n",
    "```python\n",
    "products = [\n",
    "```"
   ]
  },
  {
   "cell_type": "markdown",
   "metadata": {},
   "source": [
    "```python\n",
    "    {\n",
    "```"
   ]
  },
  {
   "cell_type": "markdown",
   "metadata": {},
   "source": [
    "##### 05. Code the first three lines of a list of dictionaries. Its keys and values are strings. Make up the other names. Remember to indent correctly and add a comma after the key-value pair."
   ]
  },
  {
   "cell_type": "markdown",
   "metadata": {},
   "source": [
    "```python\n",
    "products = [\n",
    "    {\n",
    "        \"name\": \"orange\",\n",
    "```"
   ]
  },
  {
   "cell_type": "markdown",
   "metadata": {},
   "source": [
    "##### 06. Code the first three lines of a list of dictionaries. The dictionary's keys and values are numbers. Make everything else up."
   ]
  },
  {
   "cell_type": "markdown",
   "metadata": {},
   "source": [
    "```python\n",
    "chemical_elements = [\n",
    "    {\n",
    "        1: 1,\n",
    "```"
   ]
  },
  {
   "cell_type": "markdown",
   "metadata": {},
   "source": [
    "##### 07. Code the first three lines of a list of dictionaries. The dictionary's keys are strings and its values are numbers. Make everything else up."
   ]
  },
  {
   "cell_type": "markdown",
   "metadata": {},
   "source": [
    "```python\n",
    "chemical_elements = [\n",
    "    {\n",
    "        \"hydrogen\": 1,\n",
    "```"
   ]
  },
  {
   "cell_type": "markdown",
   "metadata": {},
   "source": [
    "##### 08. I've coded the first line of a list of dictionaries. Code the first dictionary in the list. It has just two items. Both keys and values are strings. Make everything up. Remember to indent correctly. Remember to include the comma at the end.\n",
    "```python\n",
    "performers = [\n",
    "```"
   ]
  },
  {
   "cell_type": "markdown",
   "metadata": {},
   "source": [
    "```python\n",
    "    {\n",
    "        \"name\": \"Ricardo Arjona\",\n",
    "        \"genre\": \"Latin pop\",\n",
    "    },\n",
    "```"
   ]
  },
  {
   "cell_type": "markdown",
   "metadata": {},
   "source": [
    "##### 09. I've coded the first line of a list of dictionaries. Code the first dictionary in the list. It has just two items. Keys are numbers, values are strings. Make everything up. Remember to include the comma at the end.\n",
    "```python\t\n",
    "ranks = [\n",
    "```"
   ]
  },
  {
   "cell_type": "markdown",
   "metadata": {},
   "source": [
    "```python\n",
    "    {\n",
    "        1: \"Germany\",\n",
    "        2: \"Argentina\",\n",
    "    },\n",
    "```"
   ]
  },
  {
   "cell_type": "markdown",
   "metadata": {},
   "source": [
    "##### 10. Code a list containing two dictionaries. Each dictionary has two key-value pairs. All keys and values are numbers. Make everything up."
   ]
  },
  {
   "cell_type": "code",
   "execution_count": 1,
   "metadata": {},
   "outputs": [],
   "source": [
    "powers = [\n",
    "    {\n",
    "        2: 4,\n",
    "        3: 9,\n",
    "    },\n",
    "    {\n",
    "        2: 8,\n",
    "        3: 27,\n",
    "    },\n",
    "]"
   ]
  },
  {
   "cell_type": "markdown",
   "metadata": {},
   "source": [
    "##### 11. Code a list containing just one dictionary. The dictionary contains just one key-value pair. Display the dictionary."
   ]
  },
  {
   "cell_type": "code",
   "execution_count": 2,
   "metadata": {},
   "outputs": [
    {
     "name": "stdout",
     "output_type": "stream",
     "text": [
      "[{'a_key': 'a_value'}]\n"
     ]
    }
   ],
   "source": [
    "a_list = [\n",
    "    {\n",
    "        \"a_key\": \"a_value\",\n",
    "    },\n",
    "]\n",
    "print(a_list)"
   ]
  },
  {
   "cell_type": "markdown",
   "metadata": {},
   "source": [
    "##### 12. Code a list that contains two dictionaries. Each dictionary contains two key-value pairs. Display the list. \n",
    "> Important: Remember to add a comma after each curly bracket that closes a dictionary (})."
   ]
  },
  {
   "cell_type": "code",
   "execution_count": 4,
   "metadata": {},
   "outputs": [
    {
     "name": "stdout",
     "output_type": "stream",
     "text": [
      "[{'1st_key': '1st_value', '2nd_key': '2nd_value'}, {'1st_key': '1st_value', '2nd_key': '2nd_value'}]\n"
     ]
    }
   ],
   "source": [
    "list_of_two_dicts = [\n",
    "    {\n",
    "        \"1st_key\": \"1st_value\",\n",
    "        \"2nd_key\": \"2nd_value\",\n",
    "    },\n",
    "    {\n",
    "        \"1st_key\": \"1st_value\",\n",
    "        \"2nd_key\": \"2nd_value\",\n",
    "    },\n",
    "]\n",
    "print(list_of_two_dicts)"
   ]
  }
 ],
 "metadata": {
  "kernelspec": {
   "display_name": "Python 3",
   "language": "python",
   "name": "python3"
  },
  "language_info": {
   "codemirror_mode": {
    "name": "ipython",
    "version": 3
   },
   "file_extension": ".py",
   "mimetype": "text/x-python",
   "name": "python",
   "nbconvert_exporter": "python",
   "pygments_lexer": "ipython3",
   "version": "3.10.8"
  },
  "orig_nbformat": 4
 },
 "nbformat": 4,
 "nbformat_minor": 2
}
