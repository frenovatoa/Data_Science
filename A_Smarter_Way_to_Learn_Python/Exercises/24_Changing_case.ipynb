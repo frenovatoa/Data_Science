{
 "cells": [
  {
   "cell_type": "markdown",
   "metadata": {},
   "source": [
    "# Changing case"
   ]
  },
  {
   "cell_type": "code",
   "execution_count": 1,
   "metadata": {},
   "outputs": [
    {
     "name": "stdout",
     "output_type": "stream",
     "text": [
      "Your favourite TV series is: The Sopranos.\n"
     ]
    }
   ],
   "source": [
    "serie_to_check = input(\"Which is your favourite TV series? \")\n",
    "# The title() method returns a string where the first character in every word is upper case. Like a header, or a title.\n",
    "serie_to_check = serie_to_check.title()\n",
    "series = [\"The Walking Dead\", \"Entourage\", \"The Sopranos\", \"The Vampire Diaries\"]\n",
    "for serie in series:\n",
    "    if serie_to_check == serie:\n",
    "        print(\"Your favourite TV series is: \" + serie_to_check + \".\")\n",
    "        # The break statement terminates the loop containing it. Control of the program flows to the statement immediately after the body of the loop.\n",
    "        break"
   ]
  },
  {
   "cell_type": "markdown",
   "metadata": {},
   "source": [
    "##### 01. Complete this code to convert to lowercase:\n",
    "```python\n",
    "small_letters = big_letters.lower_____\n",
    "```"
   ]
  },
  {
   "cell_type": "markdown",
   "metadata": {},
   "source": [
    "()"
   ]
  },
  {
   "cell_type": "markdown",
   "metadata": {},
   "source": [
    "##### 02. Complete this code to convert to lowercase:\n",
    "```python\n",
    "small_letters = big_letters______________\n",
    "```\n"
   ]
  },
  {
   "cell_type": "markdown",
   "metadata": {},
   "source": [
    ".lower()"
   ]
  },
  {
   "cell_type": "markdown",
   "metadata": {},
   "source": [
    "##### 03. Convert the string stored in the variable **names** to lowercase and assign the converted string to the same variable, **names**."
   ]
  },
  {
   "cell_type": "markdown",
   "metadata": {},
   "source": [
    "```python\t\n",
    "names = names.lower()\n",
    "```"
   ]
  },
  {
   "cell_type": "markdown",
   "metadata": {},
   "source": [
    "##### 04. Convert the string stored in **y** to uppercase and assign the converted string to **x**."
   ]
  },
  {
   "cell_type": "markdown",
   "metadata": {},
   "source": [
    "```python\n",
    "x = y.upper()\n",
    "```"
   ]
  },
  {
   "cell_type": "markdown",
   "metadata": {},
   "source": [
    "##### 05. Convert \"abc\" to \"ABC\" and store the converted string in a variable. Make up the variable name."
   ]
  },
  {
   "cell_type": "markdown",
   "metadata": {},
   "source": [
    "```python\n",
    "x = \"abc\".upper()\n",
    "```"
   ]
  },
  {
   "cell_type": "markdown",
   "metadata": {},
   "source": [
    "##### 06. Convert \"robin hood\" to \"Robin Hood\" and store the converted string in a variable. Make up the variable name."
   ]
  },
  {
   "cell_type": "markdown",
   "metadata": {},
   "source": [
    "```python\n",
    "character = \"robin hood\".title()\n",
    "```"
   ]
  },
  {
   "cell_type": "markdown",
   "metadata": {},
   "source": [
    "##### 07. Convert the string stored in the variable to lowercase and assign the converted string to the same variable.\n",
    "```python\n",
    "name = \"aBRogasT\"\n",
    "```"
   ]
  },
  {
   "cell_type": "markdown",
   "metadata": {},
   "source": [
    "```python\n",
    "name = name.lower()\n",
    "```\n"
   ]
  },
  {
   "cell_type": "markdown",
   "metadata": {},
   "source": [
    "##### 08. Convert the string stored in the variable to uppercase and assign the converted string to a second variable. Make up the second variable's name.\n",
    "```python\n",
    "name = \"aBRogasT\"\n",
    "```"
   ]
  },
  {
   "cell_type": "markdown",
   "metadata": {},
   "source": [
    "```python\n",
    "upper_name = name.upper()\n",
    "```"
   ]
  },
  {
   "cell_type": "markdown",
   "metadata": {},
   "source": [
    "##### 09. Convert the string stored in a variable to uppercase. Then convert it to initial capital letters. Keep assigning the converted strings to that same variable. Make up the variable name."
   ]
  },
  {
   "cell_type": "markdown",
   "metadata": {},
   "source": [
    "```python\n",
    "book = book.upper()\n",
    "book = book.title()\n",
    "```"
   ]
  },
  {
   "cell_type": "markdown",
   "metadata": {},
   "source": [
    "##### 10. Run a **for** loop to convert all the elements of a list to lowercase. Make up the list name and the variable name."
   ]
  },
  {
   "cell_type": "markdown",
   "metadata": {},
   "source": [
    "```python\n",
    "for friend in friends:\n",
    "    friend = friend.lower()\n",
    "```"
   ]
  },
  {
   "cell_type": "markdown",
   "metadata": {},
   "source": [
    "##### 11. In a single line, capitalize the first letters and display the converted string.\n",
    "```python\n",
    "city = \"bengaluru, india\"\n",
    "```"
   ]
  },
  {
   "cell_type": "code",
   "execution_count": 2,
   "metadata": {},
   "outputs": [
    {
     "name": "stdout",
     "output_type": "stream",
     "text": [
      "Bengaluru, India\n"
     ]
    }
   ],
   "source": [
    "city = \"bengaluru, india\"\n",
    "print(city.title())"
   ]
  },
  {
   "cell_type": "markdown",
   "metadata": {},
   "source": [
    "##### 12. Run a for loop that converts all the elements in the list to lowercase and displays each converted string.\n",
    "```python\n",
    "cities = [\"cairo\", \"Turin\", \"manila\", \"Reykjavik\", \"riO\", \"JOHANNESBURG\", \"mELbourNE\"]\n",
    "```"
   ]
  },
  {
   "cell_type": "code",
   "execution_count": 3,
   "metadata": {},
   "outputs": [
    {
     "name": "stdout",
     "output_type": "stream",
     "text": [
      "cairo\n",
      "turin\n",
      "manila\n",
      "reykjavik\n",
      "rio\n",
      "johannesburg\n",
      "melbourne\n"
     ]
    }
   ],
   "source": [
    "cities = [\"cairo\", \"Turin\", \"manila\", \"Reykjavik\", \"riO\", \"JOHANNESBURG\", \"mELbourNE\"]\n",
    "for city in cities:\n",
    "    print(city.lower())"
   ]
  }
 ],
 "metadata": {
  "kernelspec": {
   "display_name": "Python 3",
   "language": "python",
   "name": "python3"
  },
  "language_info": {
   "codemirror_mode": {
    "name": "ipython",
    "version": 3
   },
   "file_extension": ".py",
   "mimetype": "text/x-python",
   "name": "python",
   "nbconvert_exporter": "python",
   "pygments_lexer": "ipython3",
   "version": "3.10.8"
  },
  "orig_nbformat": 4
 },
 "nbformat": 4,
 "nbformat_minor": 2
}
