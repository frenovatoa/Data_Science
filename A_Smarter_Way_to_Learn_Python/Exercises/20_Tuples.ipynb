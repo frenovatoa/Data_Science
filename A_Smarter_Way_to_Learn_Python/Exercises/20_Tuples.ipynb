{
 "cells": [
  {
   "cell_type": "markdown",
   "metadata": {},
   "source": [
    "# Tuples\n",
    "A tuple—pronounced \"toople\" by some people and \"tupple\" by others—is like a list, but the elements are fixed. They can't be changed—unless you redefine the whole tuple."
   ]
  },
  {
   "cell_type": "code",
   "execution_count": 2,
   "metadata": {},
   "outputs": [
    {
     "data": {
      "text/plain": [
       "('Ricky and Morty', 'Teen Titans', 'Tom and Jerry', 'Gravity Falls')"
      ]
     },
     "execution_count": 2,
     "metadata": {},
     "output_type": "execute_result"
    }
   ],
   "source": [
    "# Tuple\n",
    "cartoons = (\"Ricky and Morty\", \"Teen Titans\", \"Tom and Jerry\", \"Gravity Falls\")\n",
    "'''\n",
    "cartoons[0] = \"Rick and Morty\"  Error\n",
    "cartoons.append(\"Spongebob\")    Error\n",
    "cartoons.remove(\"Teen Titans\")  Error\n",
    "'''\n",
    "cartoons"
   ]
  },
  {
   "cell_type": "markdown",
   "metadata": {},
   "source": [
    "##### 01. It's like a list, but the elements are fixed. What is it called?"
   ]
  },
  {
   "cell_type": "markdown",
   "metadata": {},
   "source": [
    "tuple"
   ]
  },
  {
   "cell_type": "markdown",
   "metadata": {},
   "source": [
    "##### 02. Recode this list to make it a tuple.\n",
    "```python\n",
    "x = [10, 9]\n",
    "```"
   ]
  },
  {
   "cell_type": "markdown",
   "metadata": {},
   "source": [
    "```python\n",
    "x = (10, 9)\n",
    "```"
   ]
  },
  {
   "cell_type": "markdown",
   "metadata": {},
   "source": [
    "##### 03. Define a tuple with two elements, \"hi\" and \"bye\". The tuple's name is **greetings**."
   ]
  },
  {
   "cell_type": "markdown",
   "metadata": {},
   "source": [
    "```python\n",
    "greetings = (\"hi\", \"bye\")\n",
    "```"
   ]
  },
  {
   "cell_type": "markdown",
   "metadata": {},
   "source": [
    "##### 04. Define a tuple with two elements, 1 and 2. The tuple's name is nums."
   ]
  },
  {
   "cell_type": "markdown",
   "metadata": {},
   "source": [
    "```python\n",
    "nums = (1, 2)\n",
    "```"
   ]
  },
  {
   "cell_type": "markdown",
   "metadata": {},
   "source": [
    "##### 05. Rewrite this so you can make changes to the elements.\n",
    "```python\n",
    "sizes = (\"sm\", \"med\", \"lg\", \"xl\")\n",
    "```"
   ]
  },
  {
   "cell_type": "code",
   "execution_count": 7,
   "metadata": {},
   "outputs": [
    {
     "data": {
      "text/plain": [
       "['sm', 'med', 'lg', 'xl']"
      ]
     },
     "execution_count": 7,
     "metadata": {},
     "output_type": "execute_result"
    }
   ],
   "source": [
    "sizes = [\"sm\", \"med\", \"lg\", \"xl\"]\n",
    "sizes"
   ]
  },
  {
   "cell_type": "markdown",
   "metadata": {},
   "source": [
    "##### 06. Code a tuple with three elements that are numbers. Make up the tuple name and the numbers."
   ]
  },
  {
   "cell_type": "code",
   "execution_count": 9,
   "metadata": {},
   "outputs": [
    {
     "data": {
      "text/plain": [
       "(3.14, 2.71, 1.61)"
      ]
     },
     "execution_count": 9,
     "metadata": {},
     "output_type": "execute_result"
    }
   ],
   "source": [
    "numbers = (3.14, 2.71, 1.61)\n",
    "numbers"
   ]
  },
  {
   "cell_type": "markdown",
   "metadata": {},
   "source": [
    "##### 07. Concatenate the second element of tuple **x** with the third element of tuple **y**. In the concatenation include a comma and space in the middle. Assign the concatenated string to a variable. Make up the variable name.\n",
    "```python\n",
    "x = (3, \"Hello\", \"Howdy\", \"Greetings\")\n",
    "y = (\"earth\", \"sun\", \"World\", \"Pluto\", 144)\n",
    "```"
   ]
  },
  {
   "cell_type": "code",
   "execution_count": 11,
   "metadata": {},
   "outputs": [
    {
     "name": "stdout",
     "output_type": "stream",
     "text": [
      "Hello, World\n"
     ]
    }
   ],
   "source": [
    "x = (3, \"Hello\", \"Howdy\", \"Greetings\")\n",
    "y = (\"earth\", \"sun\", \"World\", \"Pluto\", 144)\n",
    "z = x[1] + \", \" + y[2]\n",
    "print(z)"
   ]
  },
  {
   "cell_type": "markdown",
   "metadata": {},
   "source": [
    "##### 08. Code a tuple with three elements—your first, middle, and last names. Make up the tuple name."
   ]
  },
  {
   "cell_type": "code",
   "execution_count": 12,
   "metadata": {},
   "outputs": [
    {
     "name": "stdout",
     "output_type": "stream",
     "text": [
      "('Luis Felipe', 'Renovato', 'Ávila')\n"
     ]
    }
   ],
   "source": [
    "my_name = (\"Luis Felipe\", \"Renovato\", \"Ávila\")\n",
    "print(my_name)"
   ]
  },
  {
   "cell_type": "markdown",
   "metadata": {},
   "source": [
    "##### 09. Code a tuple with three numbers. Make up the tuple name and the numbers."
   ]
  },
  {
   "cell_type": "code",
   "execution_count": 13,
   "metadata": {},
   "outputs": [
    {
     "name": "stdout",
     "output_type": "stream",
     "text": [
      "(619, 1512, 2019)\n"
     ]
    }
   ],
   "source": [
    "integers = (619, 1512, 2019)\n",
    "print(integers)"
   ]
  },
  {
   "cell_type": "markdown",
   "metadata": {},
   "source": [
    "##### 10. Code a tuple with three elements that are strings. Then, in a single line, append the last element to a list. Make up the names and strings."
   ]
  },
  {
   "cell_type": "code",
   "execution_count": 14,
   "metadata": {},
   "outputs": [
    {
     "name": "stdout",
     "output_type": "stream",
     "text": [
      "['fox']\n"
     ]
    }
   ],
   "source": [
    "domestic_animals = []\n",
    "canines = (\"dog\", \"wolf\", \"fox\")\n",
    "domestic_animals.append(canines[2])\n",
    "print(domestic_animals)"
   ]
  },
  {
   "cell_type": "markdown",
   "metadata": {},
   "source": [
    "##### 11. Create a tuple with at least two elements. Then display the second element."
   ]
  },
  {
   "cell_type": "code",
   "execution_count": 15,
   "metadata": {},
   "outputs": [
    {
     "name": "stdout",
     "output_type": "stream",
     "text": [
      "Celeste\n"
     ]
    }
   ],
   "source": [
    "videogames = (\"Hollow Knight\", \"Celeste\")\n",
    "print(videogames[1])"
   ]
  },
  {
   "cell_type": "markdown",
   "metadata": {},
   "source": [
    "##### 12. Insert an element of the tuple into the first position (index 0) in the list. Then display the list.\n",
    "```python\n",
    "list = [4, 5, 6]\n",
    "tuple = (1, 2, 3)\n",
    "```"
   ]
  },
  {
   "cell_type": "code",
   "execution_count": 19,
   "metadata": {},
   "outputs": [
    {
     "name": "stdout",
     "output_type": "stream",
     "text": [
      "[3, 4, 5, 6]\n"
     ]
    }
   ],
   "source": [
    "list = [4, 5, 6]\n",
    "tuple = (1, 2, 3)\n",
    "list.insert(0, tuple[2])\n",
    "print(list)"
   ]
  }
 ],
 "metadata": {
  "kernelspec": {
   "display_name": "Python 3",
   "language": "python",
   "name": "python3"
  },
  "language_info": {
   "codemirror_mode": {
    "name": "ipython",
    "version": 3
   },
   "file_extension": ".py",
   "mimetype": "text/x-python",
   "name": "python",
   "nbconvert_exporter": "python",
   "pygments_lexer": "ipython3",
   "version": "3.10.8"
  },
  "orig_nbformat": 4
 },
 "nbformat": 4,
 "nbformat_minor": 2
}
