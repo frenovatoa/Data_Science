{
 "cells": [
  {
   "cell_type": "markdown",
   "metadata": {},
   "source": [
    "# Functions: Passing information to them a different way"
   ]
  },
  {
   "cell_type": "markdown",
   "metadata": {},
   "source": [
    "The code that calls a function can pass information—one or more arguments—to the function. Each argument is loaded into a corresponding parameter—a variable enclosed in parentheses in the first line of the function definition—in order. This matching-by-order makes the arguments *positional arguments*. \n",
    "But you don't have to match arguments to parameters by order. You can code *keyword arguments*. Then the order doesn't matter."
   ]
  },
  {
   "cell_type": "code",
   "execution_count": 3,
   "metadata": {},
   "outputs": [
    {
     "data": {
      "text/plain": [
       "'Husband: Orlando Wife: Paola'"
      ]
     },
     "execution_count": 3,
     "metadata": {},
     "output_type": "execute_result"
    }
   ],
   "source": [
    "def names(husband, wife):\n",
    "    return \"Husband: \" + husband + \" Wife: \" + wife\n",
    "\n",
    "names(\"Orlando\", \"Paola\")"
   ]
  },
  {
   "cell_type": "code",
   "execution_count": 4,
   "metadata": {},
   "outputs": [
    {
     "data": {
      "text/plain": [
       "'Husband: Paola Wife: Orlando'"
      ]
     },
     "execution_count": 4,
     "metadata": {},
     "output_type": "execute_result"
    }
   ],
   "source": [
    "# What happens if we call the function with the arguments in the opposite order?\n",
    "names(\"Paola\", \"Orlando\")"
   ]
  },
  {
   "cell_type": "code",
   "execution_count": 5,
   "metadata": {},
   "outputs": [
    {
     "data": {
      "text/plain": [
       "'Husband: Orlando Wife: Paola'"
      ]
     },
     "execution_count": 5,
     "metadata": {},
     "output_type": "execute_result"
    }
   ],
   "source": [
    "# Well, we can fix that by using named arguments\n",
    "names(husband=\"Orlando\", wife=\"Paola\") # Keywords arguments -> TEST QUESTION"
   ]
  },
  {
   "cell_type": "markdown",
   "metadata": {},
   "source": [
    "##### 01. When you use positional arguments in a function call, the order of the arguments has to match the order of the ________s in the function."
   ]
  },
  {
   "cell_type": "markdown",
   "metadata": {},
   "source": [
    "parameter"
   ]
  },
  {
   "cell_type": "markdown",
   "metadata": {},
   "source": [
    "##### 02. When you use keyword arguments in a function call, the function's parameters match all the _________ in the function call, not the order of the arguments."
   ]
  },
  {
   "cell_type": "markdown",
   "metadata": {},
   "source": [
    "keys"
   ]
  },
  {
   "cell_type": "markdown",
   "metadata": {},
   "source": [
    "##### 03. The function call has two arguments. The key in the second argument is **second_pet**, and the value is \"dog\". Complete the code.\n",
    "```python\n",
    "compare(first_pet = \"cat\"_________________\n",
    "```"
   ]
  },
  {
   "cell_type": "markdown",
   "metadata": {},
   "source": [
    "```python\n",
    ", second_pet = \"dog\")\n",
    "```"
   ]
  },
  {
   "cell_type": "markdown",
   "metadata": {},
   "source": [
    "##### 04. Call the function named **calc**. The arguments are **x**, which is 23, and **y**, which is .4 (that's point 4)"
   ]
  },
  {
   "cell_type": "markdown",
   "metadata": {},
   "source": [
    "```python\n",
    "calc(x = 23, y = .4)\n",
    "```"
   ]
  },
  {
   "cell_type": "markdown",
   "metadata": {},
   "source": [
    "##### 05. Code the first line of the function that this code is calling.\n",
    "```python\n",
    "analyze(nation = \"Bangladesh\", pop = 163000000)\n",
    "```"
   ]
  },
  {
   "cell_type": "markdown",
   "metadata": {},
   "source": [
    "```python\n",
    "def analyze(nation, pop):\n",
    "```"
   ]
  },
  {
   "cell_type": "markdown",
   "metadata": {},
   "source": [
    "##### 06. Code the first line of a function with one keyword parameter. Then code the function call. The value paired with the key is \"Homer\". Make up the function name and the key."
   ]
  },
  {
   "cell_type": "markdown",
   "metadata": {},
   "source": [
    "```python\n",
    "def greet(name):\n",
    "greet(name = \"Homer\")\n",
    "```"
   ]
  },
  {
   "cell_type": "markdown",
   "metadata": {},
   "source": [
    "##### 07. Call this function using keyword arguments. Make up the values, which are strings."
   ]
  },
  {
   "cell_type": "code",
   "execution_count": 1,
   "metadata": {},
   "outputs": [],
   "source": [
    "def say_hi(greeting, name):\n",
    "    print(greeting + \", \" + name)"
   ]
  },
  {
   "cell_type": "code",
   "execution_count": 5,
   "metadata": {},
   "outputs": [
    {
     "name": "stdout",
     "output_type": "stream",
     "text": [
      "Hello, Mariana\n"
     ]
    }
   ],
   "source": [
    "say_hi(greeting = \"Hello\", name = \"Mariana\")"
   ]
  },
  {
   "cell_type": "markdown",
   "metadata": {},
   "source": [
    "##### 08. Code a function call with two keyword arguments. Use the following variables, not the literal numbers, to represent the values. Make up the function name and the keys.\n",
    "```python\n",
    "base = 100\n",
    "percentage = .015\n",
    "```"
   ]
  },
  {
   "cell_type": "markdown",
   "metadata": {},
   "source": [
    "```python\n",
    "calc(base = base, percentage = percentage)\n",
    "```"
   ]
  },
  {
   "cell_type": "markdown",
   "metadata": {},
   "source": [
    "##### 09. Code a function call with three keyword arguments. The first value is a string. The second value is an integer. The third value is the name of a dictionary. Make everything up."
   ]
  },
  {
   "cell_type": "markdown",
   "metadata": {},
   "source": [
    "```python\n",
    "add_student(key = \"enrollment\", value = 19051186, dict = students)\n",
    "```"
   ]
  },
  {
   "cell_type": "markdown",
   "metadata": {},
   "source": [
    "##### 10. Code a function call with a single keyword argument. Use the following variable as the value. Make up the function name and the key.\n",
    "```python\n",
    "best_guess = -10.3 % 1.98\n",
    "```"
   ]
  },
  {
   "cell_type": "markdown",
   "metadata": {},
   "source": [
    "```python\n",
    "calc(guess = best_guess)\n",
    "```"
   ]
  },
  {
   "cell_type": "markdown",
   "metadata": {},
   "source": [
    "##### 11. Code a function that has two keyword parameters, **first_name** and **last_name**. The function displays the concatenation of **first_name** plus a string that's just a space plus **last_name**. Call the function, assigning your first and last names to the keywords."
   ]
  },
  {
   "cell_type": "code",
   "execution_count": 6,
   "metadata": {},
   "outputs": [
    {
     "name": "stdout",
     "output_type": "stream",
     "text": [
      "Felipe Renovato\n"
     ]
    }
   ],
   "source": [
    "def say_my_name(first_name, last_name):\n",
    "    print(first_name + \" \" + last_name)\n",
    "say_my_name(first_name = \"Felipe\", last_name = \"Renovato\")"
   ]
  },
  {
   "cell_type": "markdown",
   "metadata": {},
   "source": [
    "##### 12. Begin by coding the function call on line 12. It has three keyword arguments. The values are the name of the dictionary, the name of one of the lists in the dictionary, and the index number of an element in the list. The function name and the keys are your choice. Code the function starting on line 4. It targets the element within the list within the dictionary. Then it displays the targeted name."
   ]
  },
  {
   "cell_type": "code",
   "execution_count": 7,
   "metadata": {},
   "outputs": [
    {
     "name": "stdout",
     "output_type": "stream",
     "text": [
      "Salvador\n"
     ]
    }
   ],
   "source": [
    "# First code the function call on line 12.\n",
    "# Then come back and code the function starting on line 4.\n",
    "# The function will take two or three lines, depending on how you approach it.\n",
    "def get_member(dict, list, idx):\n",
    "    target = (dict[list][idx])\n",
    "    print(target)\n",
    "members = {\n",
    "    \"adults\": [\"Ditmar\", \"Salvador\", \"Punya\"],\n",
    "    \"children\": [\"Caliban\", \"Eustis\", \"Ali\"],\n",
    "}\n",
    "# First code the function call on line 12.\n",
    "get_member(dict = members, list = \"adults\", idx = 1)"
   ]
  }
 ],
 "metadata": {
  "kernelspec": {
   "display_name": "Python 3",
   "language": "python",
   "name": "python3"
  },
  "language_info": {
   "codemirror_mode": {
    "name": "ipython",
    "version": 3
   },
   "file_extension": ".py",
   "mimetype": "text/x-python",
   "name": "python",
   "nbconvert_exporter": "python",
   "pygments_lexer": "ipython3",
   "version": "3.10.8"
  },
  "orig_nbformat": 4
 },
 "nbformat": 4,
 "nbformat_minor": 2
}
