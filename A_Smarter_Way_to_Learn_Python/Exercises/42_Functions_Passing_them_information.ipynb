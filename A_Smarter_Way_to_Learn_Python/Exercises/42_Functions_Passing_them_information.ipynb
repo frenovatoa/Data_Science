{
 "cells": [
  {
   "cell_type": "markdown",
   "metadata": {},
   "source": [
    "# Functions: Passing them information"
   ]
  },
  {
   "cell_type": "code",
   "execution_count": 3,
   "metadata": {},
   "outputs": [
    {
     "name": "stdout",
     "output_type": "stream",
     "text": [
      "30\n"
     ]
    }
   ],
   "source": [
    "# Function that add two numbers.\n",
    "def add_numbers(first_number, second_number):\n",
    "    total = first_number + second_number\n",
    "    print(total)\n",
    "    \n",
    "add_numbers(10, 20) # 10, 20 -> Positional arguments -> TEST QUESTION"
   ]
  },
  {
   "cell_type": "code",
   "execution_count": 4,
   "metadata": {},
   "outputs": [
    {
     "name": "stdout",
     "output_type": "stream",
     "text": [
      "Hello, Felipe!\n"
     ]
    }
   ],
   "source": [
    "# Receiving a string.\n",
    "def say_hello(name):\n",
    "    print(f\"Hello, {name}!\")\n",
    "    \n",
    "say_hello(\"Felipe\")"
   ]
  },
  {
   "cell_type": "markdown",
   "metadata": {},
   "source": [
    "##### 01. Rewrite this function call so it includes 100 as an argument.\n",
    "```python\n",
    "add_numbers()\n",
    "```"
   ]
  },
  {
   "cell_type": "markdown",
   "metadata": {},
   "source": [
    "```python\n",
    "add_numbers(100)\n",
    "```"
   ]
  },
  {
   "cell_type": "markdown",
   "metadata": {},
   "source": [
    "##### 02. Rewrite this first line of this function definition so it includes **number** as a parameter.\n",
    "```python\n",
    "def display_number():\n",
    "```"
   ]
  },
  {
   "cell_type": "markdown",
   "metadata": {},
   "source": [
    "```python\n",
    "def display_number(number):\n",
    "```"
   ]
  },
  {
   "cell_type": "markdown",
   "metadata": {},
   "source": [
    "##### 03. Call the function **add_numbers**, passing 10 and 20 as arguments."
   ]
  },
  {
   "cell_type": "markdown",
   "metadata": {},
   "source": [
    "```python\n",
    "add_numbers(10, 20)\n",
    "```\n"
   ]
  },
  {
   "cell_type": "markdown",
   "metadata": {},
   "source": [
    "##### 04. Code the first line of a function definition. The name of the function is **greet**. The parameter is **greeting**."
   ]
  },
  {
   "cell_type": "markdown",
   "metadata": {},
   "source": [
    "```python\n",
    "def greet(greeting):\n",
    "```"
   ]
  },
  {
   "cell_type": "markdown",
   "metadata": {},
   "source": [
    "##### 05. Call a function, passing a variable as the argument. Make up the names."
   ]
  },
  {
   "cell_type": "markdown",
   "metadata": {},
   "source": [
    "```python\n",
    "say_hello(name)\n",
    "```"
   ]
  },
  {
   "cell_type": "markdown",
   "metadata": {},
   "source": [
    "##### 06. Code the first line of a function definition that has two parameters. Make everything up."
   ]
  },
  {
   "cell_type": "markdown",
   "metadata": {},
   "source": [
    "```python\n",
    "def add_numbers(first_number, second_number):\n",
    "```"
   ]
  },
  {
   "cell_type": "markdown",
   "metadata": {},
   "source": [
    "##### 07. In two lines, code a function that displays the sum of its two parameters. Make everything up."
   ]
  },
  {
   "cell_type": "code",
   "execution_count": 1,
   "metadata": {},
   "outputs": [],
   "source": [
    "def add_numbers(first_number, second_number):\n",
    "    print(first_number + second_number)"
   ]
  },
  {
   "cell_type": "markdown",
   "metadata": {},
   "source": [
    "##### 08. Call a function, passing a variable and a string as arguments. Make everything up."
   ]
  },
  {
   "cell_type": "markdown",
   "metadata": {},
   "source": [
    "```python\n",
    "say_goodbye(name, \"See you later, \")\n",
    "```"
   ]
  },
  {
   "cell_type": "markdown",
   "metadata": {},
   "source": [
    "##### 09. Code a function that has two parameters. If the values of the two arguments are the same, display \"same\"."
   ]
  },
  {
   "cell_type": "code",
   "execution_count": 2,
   "metadata": {},
   "outputs": [],
   "source": [
    "def compare(first, second):\n",
    "    if first == second:\n",
    "        print(\"same\")"
   ]
  },
  {
   "cell_type": "markdown",
   "metadata": {},
   "source": [
    "##### 10. Code a function that has three parameters. The first argument is the name of a dictionary. The second and third arguments are a key and a value. The function adds the key and value to the dictionary. Make everything up."
   ]
  },
  {
   "cell_type": "code",
   "execution_count": 3,
   "metadata": {},
   "outputs": [],
   "source": [
    "def add_to_dict(dict, key, value):\n",
    "    dict[key] = value"
   ]
  },
  {
   "cell_type": "markdown",
   "metadata": {},
   "source": [
    "##### 11. Solve the following:\n",
    "1. You have to define a function before you can call it. But it'll be easier if you leave room at the top for the function definition and code the function call first. Then you can go back to the top and code the function.\n",
    "2. On line 9 call the function, passing the variables sales_total and tax_rate as arguments.\n",
    "3. Code the function. It calculates the tax on a sales total and displays a message.\n",
    "4. The function's two parameters are the total and the tax rate.\n",
    "5. Calculate the tax by multiplying the two parameters.\n",
    "6. Convert the result of the multiplication to a string.\n",
    "7. Display the concatenation of \"The tax is \" and the tax string."
   ]
  },
  {
   "cell_type": "code",
   "execution_count": 4,
   "metadata": {},
   "outputs": [
    {
     "name": "stdout",
     "output_type": "stream",
     "text": [
      "The tax is 3.0\n"
     ]
    }
   ],
   "source": [
    "# Code the function starting on line 2, but code line 9 first.\n",
    "def calc_tax(sales_total, tax_rate):\n",
    "    print(\"The tax is \" + str(sales_total * tax_rate))\n",
    "\n",
    "\n",
    "sales_total = 100\n",
    "tax_rate = .03\n",
    "# Start by coding the function call on line 9.\n",
    "calc_tax(sales_total, tax_rate)"
   ]
  },
  {
   "cell_type": "markdown",
   "metadata": {},
   "source": [
    "##### 12. Solve the following:\n",
    "1. On line 9 ask the user to enter a color and assign her answer to a variable.\n",
    "2. On line 15 call a function, passing it the name of the tuple I've coded and the name of the variable holding the user's color.\n",
    "3. Go to line 2 and code the function.\n",
    "4. The function loops through the tuple to see if the value of the variable is in it. If so, it displays a message and breaks the loop."
   ]
  },
  {
   "cell_type": "code",
   "execution_count": 7,
   "metadata": {},
   "outputs": [
    {
     "name": "stdout",
     "output_type": "stream",
     "text": [
      "You chose wisely.\n"
     ]
    }
   ],
   "source": [
    "# Code the function here, but do it last.\n",
    "def check_color(colors, color_to_check):\n",
    "    for color in colors:\n",
    "        if color_to_check == color:\n",
    "            print(\"You chose wisely.\")\n",
    "            break\n",
    "# Do this first.\n",
    "# Ask the user to enter a color. Assign it to a variable.\n",
    "selected_color = input(\"Name a color: \")\n",
    "# Here's the tuple:\n",
    "primary_colors = (\"yellow\", \"red\", \"blue\")\n",
    "# Do this second.\n",
    "# Call the function, passing the tuple name\n",
    "# and the variable containing the user's color choice.\n",
    "check_color(primary_colors, selected_color)"
   ]
  }
 ],
 "metadata": {
  "kernelspec": {
   "display_name": "Python 3",
   "language": "python",
   "name": "python3"
  },
  "language_info": {
   "codemirror_mode": {
    "name": "ipython",
    "version": 3
   },
   "file_extension": ".py",
   "mimetype": "text/x-python",
   "name": "python",
   "nbconvert_exporter": "python",
   "pygments_lexer": "ipython3",
   "version": "3.10.8"
  },
  "orig_nbformat": 4
 },
 "nbformat": 4,
 "nbformat_minor": 2
}
