{
 "cells": [
  {
   "cell_type": "markdown",
   "metadata": {},
   "source": [
    "# Dictionaries: How to code one\n",
    "A dictionary works something like a list, but instead of a simple series of things, a dictionary is a series of pairs of things. Each pair contains a **key**—\"first name\", \"last name\" etc.—and a **value**—\"David\", \"Elliott\", etc."
   ]
  },
  {
   "cell_type": "code",
   "execution_count": 1,
   "metadata": {},
   "outputs": [],
   "source": [
    "# Example of dictionary:\n",
    "customer_25 = {\"first_name\": \"Felipe\", \"last_name\": \"Renovato\", \"nss\": 151200}"
   ]
  },
  {
   "cell_type": "markdown",
   "metadata": {},
   "source": [
    "##### 01. Type the two characters that are missing from this dictionary definition.\n",
    "```python\n",
    "dictionary_of_capitals = \"Thailand\": \"Bangkok\", \"Mexico\": \"Mexico City\", \"Canada\": \"Ottawa\"\n",
    "```"
   ]
  },
  {
   "cell_type": "markdown",
   "metadata": {},
   "source": [
    "{}"
   ]
  },
  {
   "cell_type": "markdown",
   "metadata": {},
   "source": [
    "##### 02. Type the character that is missing from this dictionary definition. It's missing three times, but type it just once.\n",
    "```python\n",
    "dictionary_of_capitals = {\"Thailand\" \"Bangkok\", \"Mexico\" \"Mexico City\", \"Canada\" \"Ottawa\"}\n",
    "```"
   ]
  },
  {
   "cell_type": "markdown",
   "metadata": {},
   "source": [
    ":"
   ]
  },
  {
   "cell_type": "markdown",
   "metadata": {},
   "source": [
    "##### 03. Code a list named colors. The elements are \"red\" and \"blue\"."
   ]
  },
  {
   "cell_type": "code",
   "execution_count": 3,
   "metadata": {},
   "outputs": [],
   "source": [
    "colors = [\"red\", \"blue\"]"
   ]
  },
  {
   "cell_type": "markdown",
   "metadata": {},
   "source": [
    "##### 04. Code a dictionary named **relatives**. It has only one item. \"brother\" is paired with \"Bob\"."
   ]
  },
  {
   "cell_type": "code",
   "execution_count": 4,
   "metadata": {},
   "outputs": [],
   "source": [
    "relatives = {\"brother\": \"Bob\"}"
   ]
  },
  {
   "cell_type": "markdown",
   "metadata": {},
   "source": [
    "##### 05. Code an empty dictionary. Make up the name of the dictionary."
   ]
  },
  {
   "cell_type": "code",
   "execution_count": 1,
   "metadata": {},
   "outputs": [],
   "source": [
    "empty_dict = {}"
   ]
  },
  {
   "cell_type": "markdown",
   "metadata": {},
   "source": [
    "##### 06. A dictionary contains pairs. A key is paired with a ______."
   ]
  },
  {
   "cell_type": "markdown",
   "metadata": {},
   "source": [
    "value"
   ]
  },
  {
   "cell_type": "markdown",
   "metadata": {},
   "source": [
    "##### 07. A dictionary contains pairs. A _____ is paired with a value."
   ]
  },
  {
   "cell_type": "markdown",
   "metadata": {},
   "source": [
    "key"
   ]
  },
  {
   "cell_type": "markdown",
   "metadata": {},
   "source": [
    "##### 08. Define a dictionary with two items. The keys are \"population\" and \"life_expectancy\". The values are numbers. Make up the dictionary name and the values."
   ]
  },
  {
   "cell_type": "code",
   "execution_count": 2,
   "metadata": {},
   "outputs": [],
   "source": [
    "population_life_expectancy = {\"population\": 70, \"life_expectancy\": 80}"
   ]
  },
  {
   "cell_type": "markdown",
   "metadata": {},
   "source": [
    "##### 09. Code a dictionary with two key-value pairs. The keys are numbers. The values are strings. Make up the dictionary name, the keys, and the values."
   ]
  },
  {
   "cell_type": "code",
   "execution_count": 4,
   "metadata": {},
   "outputs": [],
   "source": [
    "numbers = {15: \"fifteen\", 16: \"sixteen\"}"
   ]
  },
  {
   "cell_type": "markdown",
   "metadata": {},
   "source": [
    "##### 10. Code a dictionary with two key-value pairs. The keys are strings. The values are numbers. Make up the dictionary name, the keys, and the values."
   ]
  },
  {
   "cell_type": "code",
   "execution_count": 5,
   "metadata": {},
   "outputs": [],
   "source": [
    "me = {\"age\": 22, \"friends\": 5}"
   ]
  },
  {
   "cell_type": "markdown",
   "metadata": {},
   "source": [
    "##### 11. Define a 3-item dictionary. Both the keys and the values are strings. Display the dictionary."
   ]
  },
  {
   "cell_type": "code",
   "execution_count": 6,
   "metadata": {},
   "outputs": [
    {
     "name": "stdout",
     "output_type": "stream",
     "text": [
      "{'name': 'Felipe', 'curp': 'REAL001215HCLNVSA8', 'phone_number': '861 109 5853'}\n"
     ]
    }
   ],
   "source": [
    "me = {\"name\": \"Felipe\", \"curp\": \"REAL001215HCLNVSA8\", \"phone_number\": \"861 109 5853\"}\n",
    "print(me)"
   ]
  },
  {
   "cell_type": "markdown",
   "metadata": {},
   "source": [
    "##### 12. Code a dictionary with just two items. The first item is a number key paired with a string. The second item is a string key paired with a number. Display the dictionary."
   ]
  },
  {
   "cell_type": "code",
   "execution_count": 7,
   "metadata": {},
   "outputs": [
    {
     "name": "stdout",
     "output_type": "stream",
     "text": [
      "{10: 'month', 'day': 16}\n"
     ]
    }
   ],
   "source": [
    "today_date = {10: \"month\", \"day\": 16}\n",
    "print(today_date)"
   ]
  }
 ],
 "metadata": {
  "kernelspec": {
   "display_name": "Python 3",
   "language": "python",
   "name": "python3"
  },
  "language_info": {
   "codemirror_mode": {
    "name": "ipython",
    "version": 3
   },
   "file_extension": ".py",
   "mimetype": "text/x-python",
   "name": "python",
   "nbconvert_exporter": "python",
   "pygments_lexer": "ipython3",
   "version": "3.10.8"
  },
  "orig_nbformat": 4
 },
 "nbformat": 4,
 "nbformat_minor": 2
}
