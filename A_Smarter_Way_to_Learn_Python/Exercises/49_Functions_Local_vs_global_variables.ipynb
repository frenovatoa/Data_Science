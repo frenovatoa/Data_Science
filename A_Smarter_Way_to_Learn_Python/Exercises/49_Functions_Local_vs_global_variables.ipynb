{
 "cells": [
  {
   "cell_type": "markdown",
   "metadata": {},
   "source": [
    "# Functions: Local vs. global variables\n",
    "A **global** variable is one you define in the main body of your code—that is, *not* in a function.\n",
    "```python\n",
    "what_to_say = \"Hi\"\n",
    "```\n",
    "\n",
    "A local variable is one that you define in a function.\n",
    "```python\n",
    "def say_something():\n",
    "    what_to_say = \"Hi\"\n",
    "```\n",
    "| Global variable | Local variable |\n",
    "| --- | --- |\n",
    "| What makes a global variable global is that it is recognized everywhere in your code. Global scope is like global fame. Wherever you go in the world, they've heard of the pope. | A local variable is one that's recognized only within the function that introduces it. Local scope is like local fame. The mayor of Saltillo is known only in Saltillo. |"
   ]
  },
  {
   "cell_type": "markdown",
   "metadata": {},
   "source": [
    "##### 01. When a variable is introduced within a function, its _______ is local."
   ]
  },
  {
   "cell_type": "markdown",
   "metadata": {},
   "source": [
    "scope"
   ]
  },
  {
   "cell_type": "markdown",
   "metadata": {},
   "source": [
    "##### 02. When a variable is introduced in the main body of code, its scope is _________."
   ]
  },
  {
   "cell_type": "markdown",
   "metadata": {},
   "source": [
    "global"
   ]
  },
  {
   "cell_type": "markdown",
   "metadata": {},
   "source": [
    "##### 03. In the following code, what is the value of **y**?\n",
    "```python\n",
    "def x(num):\n",
    "    a = 2\n",
    "    return num * a\n",
    "y = x(10)\n",
    "```"
   ]
  },
  {
   "cell_type": "markdown",
   "metadata": {},
   "source": [
    "20"
   ]
  },
  {
   "cell_type": "markdown",
   "metadata": {},
   "source": [
    "##### 04. In the following code, two of the variables are local. Type their names, separating the names by a comma. Type them in the order in which they appear in the code.\n",
    "```python\n",
    "def a(b):\n",
    "    total = b + c\n",
    "    return total\n",
    "c = 2\n",
    "num = a(10)\n",
    "```"
   ]
  },
  {
   "cell_type": "markdown",
   "metadata": {},
   "source": [
    "b,total"
   ]
  },
  {
   "cell_type": "markdown",
   "metadata": {},
   "source": [
    "##### 05. In the following code, what is the final value of a?\n",
    "```python\n",
    "def a():\n",
    "    b = 2\n",
    "    return b\n",
    "a = 1\n",
    "a = a()\n",
    "```"
   ]
  },
  {
   "cell_type": "markdown",
   "metadata": {},
   "source": [
    "2"
   ]
  },
  {
   "cell_type": "markdown",
   "metadata": {},
   "source": [
    "##### 06. If a function defines the variable **first_name** as \"George\" and code outside the function defines the variable **first_name** as \"Hamid\", and the function code says, **print(first_name)**, what name will display? Omit the quotation marks."
   ]
  },
  {
   "cell_type": "markdown",
   "metadata": {},
   "source": [
    "George"
   ]
  },
  {
   "cell_type": "markdown",
   "metadata": {},
   "source": [
    "##### 07. If a function defines the variable **first_name** as \"George\" and code outside the function defines the variable **first_name** as \"Hamid\", and the main code says, **print(first_name)**, what name will display? Omit the quotation marks."
   ]
  },
  {
   "cell_type": "markdown",
   "metadata": {},
   "source": [
    "Hamid"
   ]
  },
  {
   "cell_type": "markdown",
   "metadata": {},
   "source": [
    "##### 08. How many variables in this function can be changed by code outside the function? Enter a numeral.\n",
    "```python\n",
    "def calc(a):\n",
    "    b = 12\n",
    "    c = 404\n",
    "    result = (a / b) * c\n",
    "    return result\n",
    "```"
   ]
  },
  {
   "cell_type": "markdown",
   "metadata": {},
   "source": [
    "0"
   ]
  },
  {
   "cell_type": "markdown",
   "metadata": {},
   "source": [
    "##### 09. How many global variables are in the following function call? (Remember, a function name is a variable.) Answer with a numeral.\n",
    "```python\n",
    "a(b, c, d)\n",
    "```"
   ]
  },
  {
   "cell_type": "markdown",
   "metadata": {},
   "source": [
    "4"
   ]
  },
  {
   "cell_type": "markdown",
   "metadata": {},
   "source": [
    "##### 10. Below are two global variable definitions. Code a function that uses these same variable names to create local variables whose values are integers. (It's not a good idea to give local variables the same names as global variables, but this helps you understand.) Make up the name of the function and the integers.\n",
    "```python\n",
    "x = \"Marta\"\n",
    "y = \"Ingrid\"\n",
    "```"
   ]
  },
  {
   "cell_type": "markdown",
   "metadata": {},
   "source": [
    "```python\n",
    "def my_function():\n",
    "    x = 1\n",
    "    y = 2\n",
    "```"
   ]
  },
  {
   "cell_type": "markdown",
   "metadata": {},
   "source": [
    "##### 11. Code a simple function that assigns a value to a variable. Call the function. Outside the function, deliberately break Python by trying to display that local variable. Notice what the 🔴ERROR❗🔴 message says."
   ]
  },
  {
   "cell_type": "code",
   "execution_count": 2,
   "metadata": {},
   "outputs": [
    {
     "ename": "NameError",
     "evalue": "name 'var' is not defined",
     "output_type": "error",
     "traceback": [
      "\u001b[1;31m---------------------------------------------------------------------------\u001b[0m",
      "\u001b[1;31mNameError\u001b[0m                                 Traceback (most recent call last)",
      "\u001b[1;32mc:\\Users\\Admin\\Documents\\ITS\\Semestre 9\\Data_Science\\A_Smarter_Way_to_Learn_Python\\Exercises\\49_Functions_Local_vs_global_variables.ipynb Cell 23\u001b[0m line \u001b[0;36m4\n\u001b[0;32m      <a href='vscode-notebook-cell:/c%3A/Users/Admin/Documents/ITS/Semestre%209/Data_Science/A_Smarter_Way_to_Learn_Python/Exercises/49_Functions_Local_vs_global_variables.ipynb#X34sZmlsZQ%3D%3D?line=1'>2</a>\u001b[0m     var \u001b[39m=\u001b[39m \u001b[39m15\u001b[39m\n\u001b[0;32m      <a href='vscode-notebook-cell:/c%3A/Users/Admin/Documents/ITS/Semestre%209/Data_Science/A_Smarter_Way_to_Learn_Python/Exercises/49_Functions_Local_vs_global_variables.ipynb#X34sZmlsZQ%3D%3D?line=2'>3</a>\u001b[0m put_value()\n\u001b[1;32m----> <a href='vscode-notebook-cell:/c%3A/Users/Admin/Documents/ITS/Semestre%209/Data_Science/A_Smarter_Way_to_Learn_Python/Exercises/49_Functions_Local_vs_global_variables.ipynb#X34sZmlsZQ%3D%3D?line=3'>4</a>\u001b[0m \u001b[39mprint\u001b[39m(var)\n",
      "\u001b[1;31mNameError\u001b[0m: name 'var' is not defined"
     ]
    }
   ],
   "source": [
    "def put_value():\n",
    "    var = 15\n",
    "put_value()\n",
    "print(var)"
   ]
  },
  {
   "cell_type": "markdown",
   "metadata": {},
   "source": [
    "##### 12. Code a simple function that assigns a value to a variable and returns it to the calling code. Outside the function, code a print statement using the function as the variable inside the parentheses."
   ]
  },
  {
   "cell_type": "code",
   "execution_count": 4,
   "metadata": {},
   "outputs": [
    {
     "name": "stdout",
     "output_type": "stream",
     "text": [
      "15\n"
     ]
    }
   ],
   "source": [
    "def get_value():\n",
    "    var = 15\n",
    "    return var\n",
    "print(get_value())"
   ]
  }
 ],
 "metadata": {
  "kernelspec": {
   "display_name": "Python 3",
   "language": "python",
   "name": "python3"
  },
  "language_info": {
   "codemirror_mode": {
    "name": "ipython",
    "version": 3
   },
   "file_extension": ".py",
   "mimetype": "text/x-python",
   "name": "python",
   "nbconvert_exporter": "python",
   "pygments_lexer": "ipython3",
   "version": "3.10.8"
  },
  "orig_nbformat": 4
 },
 "nbformat": 4,
 "nbformat_minor": 2
}
