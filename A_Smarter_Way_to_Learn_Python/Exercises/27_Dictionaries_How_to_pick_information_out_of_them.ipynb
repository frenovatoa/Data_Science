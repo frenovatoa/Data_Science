{
 "cells": [
  {
   "cell_type": "markdown",
   "metadata": {},
   "source": [
    "# Dictionaries: How to pick information out of them"
   ]
  },
  {
   "cell_type": "code",
   "execution_count": 1,
   "metadata": {},
   "outputs": [
    {
     "name": "stdout",
     "output_type": "stream",
     "text": [
      "Renovato\n"
     ]
    }
   ],
   "source": [
    "# Example of dictionary:\n",
    "customer_25 = {\"first_name\": \"Felipe\", \"last_name\": \"Renovato\", \"nss\": 151200}\n",
    "\n",
    "# Get the value of the key \"last_name\".\n",
    "last_name = customer_25[\"last_name\"]\n",
    "\n",
    "# Print the value of the key \"last_name\".\n",
    "print(last_name)"
   ]
  },
  {
   "cell_type": "markdown",
   "metadata": {},
   "source": [
    "##### 01. Targeting the correct element in the following list, assign \"fi\" to the variable **giant_syllable**.\n",
    "```python\n",
    "giant_speak = [\"fee\", \"fi\", \"fo\", \"fum\"]\n",
    "```"
   ]
  },
  {
   "cell_type": "markdown",
   "metadata": {},
   "source": [
    "```python\n",
    "giant_syllable = giant_speak[1]\n",
    "```"
   ]
  },
  {
   "cell_type": "markdown",
   "metadata": {},
   "source": [
    "##### 02. To target a value in a dictionary, you specify the dictionary name plus the item's _____."
   ]
  },
  {
   "cell_type": "markdown",
   "metadata": {},
   "source": [
    "key"
   ]
  },
  {
   "cell_type": "markdown",
   "metadata": {},
   "source": [
    "##### 03. To target the dictionary item whose key is \"age\" complete this code:\n",
    "```python\n",
    "customer_age = info__________\n",
    "```"
   ]
  },
  {
   "cell_type": "markdown",
   "metadata": {},
   "source": [
    "```python\n",
    "[\"age\"]\n",
    "```"
   ]
  },
  {
   "cell_type": "markdown",
   "metadata": {},
   "source": [
    "##### 04. To target the dictionary item whose key is 100 complete this code:\n",
    "```python\n",
    "winner_name = signups_______\n",
    "```"
   ]
  },
  {
   "cell_type": "markdown",
   "metadata": {},
   "source": [
    "```python\n",
    "[100]\n",
    "```"
   ]
  },
  {
   "cell_type": "markdown",
   "metadata": {},
   "source": [
    "##### 05. Target the second item and assign its value to a variable. Make up the variable name.\n",
    "```python\n",
    "cust = {\"first name\": \"David\", \"last name\": \"Elliott\", \"address\": \"4803 Wellesley St.\"}\n",
    "```"
   ]
  },
  {
   "cell_type": "markdown",
   "metadata": {},
   "source": [
    "```python\n",
    "last_name = cust[\"last name\"]\n",
    "```"
   ]
  },
  {
   "cell_type": "markdown",
   "metadata": {},
   "source": [
    "##### 06. Target an item in a dictionary whose key is a string. Assign the item's value to a variable. Make everything up."
   ]
  },
  {
   "cell_type": "markdown",
   "metadata": {},
   "source": [
    "```python\n",
    "fish_name = pets[\"fish\"]\n",
    "```"
   ]
  },
  {
   "cell_type": "markdown",
   "metadata": {},
   "source": [
    "##### 07. A dictionary's item key can be a string that contains spaces. Target an item in a dictionary whose key is a string that contains a space. Assign the item's value to a variable. Make everything up."
   ]
  },
  {
   "cell_type": "markdown",
   "metadata": {},
   "source": [
    "```python\n",
    "student_name = student_15[\"student name\"]\n",
    "```"
   ]
  },
  {
   "cell_type": "markdown",
   "metadata": {},
   "source": [
    "##### 08. Assign a dictionary item's value to a variable using a key that's a string. Then append that value to a list. Make everything up."
   ]
  },
  {
   "cell_type": "code",
   "execution_count": 2,
   "metadata": {},
   "outputs": [
    {
     "name": "stdout",
     "output_type": "stream",
     "text": [
      "['Renovato']\n"
     ]
    }
   ],
   "source": [
    "student_25 = {\"first_name\": \"Felipe\", \"last_name\": \"Renovato\", \"nss\": 151200}\n",
    "student_last_names = []\n",
    "\n",
    "# Assign a dictionary item's value to a variable using a key that's a string. Then append that value to a list.\n",
    "student_25_last_name = student_25[\"last_name\"]\n",
    "student_last_names.append(student_25_last_name)\n",
    "\n",
    "print(student_last_names)"
   ]
  },
  {
   "cell_type": "markdown",
   "metadata": {},
   "source": [
    "##### 09. Assign a dictionary item's value to a variable using a key that's a string. Then create a list that contains only that value. Make everything up."
   ]
  },
  {
   "cell_type": "code",
   "execution_count": 7,
   "metadata": {},
   "outputs": [],
   "source": [
    "student_25_name = student_25[\"first_name\"]\n",
    "student_names = [student_25_name]"
   ]
  },
  {
   "cell_type": "markdown",
   "metadata": {},
   "source": [
    "##### 10. Assign a dictionary item's value to a variable using a key that's a string. Then create a dictionary that contains only that value. Make everything up, including the key (a string) for the value in the new dictionary."
   ]
  },
  {
   "cell_type": "markdown",
   "metadata": {},
   "source": [
    "```python\n",
    "value_to_get = dict[\"age\"]\n",
    "new_dictionary = {\"transferred number\": value_to_get}\n",
    "```"
   ]
  },
  {
   "cell_type": "markdown",
   "metadata": {},
   "source": [
    "##### 11. Targeting the second item by its key, assign the second item's value to a variable. Then display the value by specifying the variable."
   ]
  },
  {
   "cell_type": "code",
   "execution_count": 8,
   "metadata": {},
   "outputs": [
    {
     "name": "stdout",
     "output_type": "stream",
     "text": [
      "Elliott\n"
     ]
    }
   ],
   "source": [
    "info = {\"first name\": \"David\", \"last name\": \"Elliott\", \"address\": \"4803 Wellesley St.\"}\n",
    "second_item = info[\"last name\"]\n",
    "print(second_item)"
   ]
  },
  {
   "cell_type": "markdown",
   "metadata": {},
   "source": [
    "##### 12. In a single line of code, target the first item and display its value."
   ]
  },
  {
   "cell_type": "code",
   "execution_count": 9,
   "metadata": {},
   "outputs": [
    {
     "name": "stdout",
     "output_type": "stream",
     "text": [
      "2\n"
     ]
    }
   ],
   "source": [
    "crazy = {1: 2, \"three\": 4, \"cat\": \"dog\"}\n",
    "print(crazy[1])"
   ]
  }
 ],
 "metadata": {
  "kernelspec": {
   "display_name": "Python 3",
   "language": "python",
   "name": "python3"
  },
  "language_info": {
   "codemirror_mode": {
    "name": "ipython",
    "version": 3
   },
   "file_extension": ".py",
   "mimetype": "text/x-python",
   "name": "python",
   "nbconvert_exporter": "python",
   "pygments_lexer": "ipython3",
   "version": "3.10.8"
  },
  "orig_nbformat": 4
 },
 "nbformat": 4,
 "nbformat_minor": 2
}
