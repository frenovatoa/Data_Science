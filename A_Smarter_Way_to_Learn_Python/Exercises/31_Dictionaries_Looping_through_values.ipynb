{
 "cells": [
  {
   "cell_type": "markdown",
   "metadata": {},
   "source": [
    "# Dictionaries: Looping through values"
   ]
  },
  {
   "cell_type": "code",
   "execution_count": 1,
   "metadata": {},
   "outputs": [
    {
     "name": "stdout",
     "output_type": "stream",
     "text": [
      "Felipe\n",
      "Renovato\n",
      "151200\n"
     ]
    }
   ],
   "source": [
    "customer_25 = {\"first_name\": \"Felipe\", \"last_name\": \"Renovato\", \"nss\": 151200}\n",
    "\n",
    "# Print each value from the dictionary using a loop.\n",
    "for each_value in customer_25.values():\n",
    "    print(each_value)"
   ]
  },
  {
   "cell_type": "markdown",
   "metadata": {},
   "source": [
    "##### 01. Using a for loop, display each value in a dictionary. Make up the variable names and the dictionary name."
   ]
  },
  {
   "cell_type": "code",
   "execution_count": 2,
   "metadata": {},
   "outputs": [],
   "source": [
    "# Dogs dictionary:\n",
    "dogs = {\n",
    "    \"Coffee\": \"Chihuahua\",\n",
    "    \"Coquita\": \"Shih Tzu\",\n",
    "    \"Romeo\": \"Blue Heeler\",\n",
    "}"
   ]
  },
  {
   "cell_type": "code",
   "execution_count": 3,
   "metadata": {},
   "outputs": [
    {
     "name": "stdout",
     "output_type": "stream",
     "text": [
      "Chihuahua\n",
      "Shih Tzu\n",
      "Blue Heeler\n"
     ]
    }
   ],
   "source": [
    "for dog in dogs.values():\n",
    "    print(dog)"
   ]
  },
  {
   "cell_type": "markdown",
   "metadata": {},
   "source": [
    "##### 02. for each_value in customer_29876.values_____"
   ]
  },
  {
   "cell_type": "markdown",
   "metadata": {},
   "source": [
    "```python\t\n",
    "():\n",
    "```"
   ]
  },
  {
   "cell_type": "markdown",
   "metadata": {},
   "source": [
    "##### 03. To loop through the values in the products dictionary, complete this line:\n",
    "```python\n",
    "for x in y_dictionary_________\n",
    "```"
   ]
  },
  {
   "cell_type": "markdown",
   "metadata": {},
   "source": [
    "```python\n",
    ".values():\n",
    "```"
   ]
  },
  {
   "cell_type": "markdown",
   "metadata": {},
   "source": [
    "##### 04. Code the first line to loop through the values in the y dictionary. The variable **x** holds each value."
   ]
  },
  {
   "cell_type": "markdown",
   "metadata": {},
   "source": [
    "```python\n",
    "for x in y.values():\n",
    "```"
   ]
  },
  {
   "cell_type": "markdown",
   "metadata": {},
   "source": [
    "##### 05. Code the first line that loops through the values of a dictionary. Make everything up."
   ]
  },
  {
   "cell_type": "markdown",
   "metadata": {},
   "source": [
    "```python\n",
    "for student in students.values():\n",
    "```"
   ]
  },
  {
   "cell_type": "markdown",
   "metadata": {},
   "source": [
    "##### 06. Looping through the values in a dictionary, display each value. Make everything up."
   ]
  },
  {
   "cell_type": "code",
   "execution_count": 4,
   "metadata": {},
   "outputs": [
    {
     "name": "stdout",
     "output_type": "stream",
     "text": [
      "Chihuahua\n",
      "Shih Tzu\n",
      "Blue Heeler\n"
     ]
    }
   ],
   "source": [
    "for dog in dogs.values():\n",
    "    print(dog)"
   ]
  },
  {
   "cell_type": "markdown",
   "metadata": {},
   "source": [
    "##### 07. Looping through the values in a dictionary, test if any of the values is less than 0. If so, display \"ok\" and break the loop."
   ]
  },
  {
   "cell_type": "code",
   "execution_count": 33,
   "metadata": {},
   "outputs": [],
   "source": [
    "family_age = {\n",
    "    \"mom\": 41,\n",
    "    \"dad\": 45,\n",
    "    \"sis\": 17,\n",
    "    \"niece\": 1,\n",
    "    \"me\": 22,\n",
    "}"
   ]
  },
  {
   "cell_type": "code",
   "execution_count": 29,
   "metadata": {},
   "outputs": [
    {
     "name": "stdout",
     "output_type": "stream",
     "text": [
      "ok\n"
     ]
    }
   ],
   "source": [
    "for member_age in family_age.values():\n",
    "    if member_age < 0:\n",
    "        print(\"ok\")\n",
    "        break"
   ]
  },
  {
   "cell_type": "markdown",
   "metadata": {},
   "source": [
    "##### 08. Looping through the values in a dictionary, test if any of the values is equal to the modulo of 4 divided by 3. If so, display \"ok\" and break the loop."
   ]
  },
  {
   "cell_type": "code",
   "execution_count": 34,
   "metadata": {},
   "outputs": [
    {
     "name": "stdout",
     "output_type": "stream",
     "text": [
      "ok\n"
     ]
    }
   ],
   "source": [
    "for member_age in family_age.values():\n",
    "    if member_age == 4 % 3:\n",
    "        print(\"ok\")\n",
    "        break\n",
    "    "
   ]
  },
  {
   "cell_type": "markdown",
   "metadata": {},
   "source": [
    "##### 09. Looping through the values in a dictionary, test if any of the values is equal to \"arsenic\". If so, append the value to the **poisons** list (use the variable from the loop, not the string, when appending) and break the loop."
   ]
  },
  {
   "cell_type": "code",
   "execution_count": 45,
   "metadata": {},
   "outputs": [],
   "source": [
    "chemical_elements = {\n",
    "    \"Ag\": \"silver\",\n",
    "    \"Au\": \"gold\",\n",
    "    \"Cu\": \"copper\",\n",
    "    \"As\": \"arsenic\",\n",
    "    \"Fe\": \"iron\",\n",
    "    \"Hg\": \"mercury\",\n",
    "}\n",
    "\n",
    "poisons = []"
   ]
  },
  {
   "cell_type": "code",
   "execution_count": 46,
   "metadata": {},
   "outputs": [],
   "source": [
    "for element in chemical_elements.values():\n",
    "    if element == \"arsenic\":\n",
    "        poisons.append(element)\n",
    "        break"
   ]
  },
  {
   "cell_type": "code",
   "execution_count": 47,
   "metadata": {},
   "outputs": [
    {
     "name": "stdout",
     "output_type": "stream",
     "text": [
      "['arsenic']\n"
     ]
    }
   ],
   "source": [
    "print(poisons)"
   ]
  },
  {
   "cell_type": "markdown",
   "metadata": {},
   "source": [
    "##### 10. You loop through keys in a dictionary the same way you loop through values, but you substitute `keys` where you'd write `values`. Looping through the keys in a dictionary, test if any of the keys is equal to \"curse\". If so, delete that item and break the loop."
   ]
  },
  {
   "cell_type": "code",
   "execution_count": 51,
   "metadata": {},
   "outputs": [
    {
     "name": "stdout",
     "output_type": "stream",
     "text": [
      "{'phobia': 'An extreme or irrational fear of or aversion to something.', 'curse': 'An offensive word or phrase used to express anger or annoyance.', 'courage': 'The ability to do something that frightens one.'}\n"
     ]
    }
   ],
   "source": [
    "definitions = {\n",
    "    \"phobia\": \"An extreme or irrational fear of or aversion to something.\",\n",
    "    \"curse\": \"An offensive word or phrase used to express anger or annoyance.\",\n",
    "    \"courage\": \"The ability to do something that frightens one.\",\n",
    "}\n",
    "print(definitions)"
   ]
  },
  {
   "cell_type": "code",
   "execution_count": 52,
   "metadata": {},
   "outputs": [],
   "source": [
    "for definition in definitions.keys():\n",
    "    if definition == \"curse\":\n",
    "        del definitions[definition]\n",
    "        break"
   ]
  },
  {
   "cell_type": "code",
   "execution_count": 53,
   "metadata": {},
   "outputs": [
    {
     "name": "stdout",
     "output_type": "stream",
     "text": [
      "{'phobia': 'An extreme or irrational fear of or aversion to something.', 'courage': 'The ability to do something that frightens one.'}\n"
     ]
    }
   ],
   "source": [
    "print(definitions)"
   ]
  },
  {
   "cell_type": "markdown",
   "metadata": {},
   "source": [
    "##### 11. Loop through the dictionary, displaying each value.\n",
    "```python\n",
    "sites = {\n",
    "  \"search\": \"Google\",\n",
    "  \"social\": \"Facebook\",\n",
    "  \"travel\": \"Travelocity\",\n",
    "  \"retail\": \"Amazon\",\n",
    "}\n",
    "```"
   ]
  },
  {
   "cell_type": "code",
   "execution_count": 54,
   "metadata": {},
   "outputs": [
    {
     "name": "stdout",
     "output_type": "stream",
     "text": [
      "Google\n",
      "Facebook\n",
      "Travelocity\n",
      "Amazon\n"
     ]
    }
   ],
   "source": [
    "sites = {\n",
    "  \"search\": \"Google\",\n",
    "  \"social\": \"Facebook\",\n",
    "  \"travel\": \"Travelocity\",\n",
    "  \"retail\": \"Amazon\",\n",
    "}\n",
    "for site in sites.values():\n",
    "    print(site)"
   ]
  },
  {
   "cell_type": "markdown",
   "metadata": {},
   "source": [
    "##### 12. Loop through the dictionary looking for \"Amazon\".\n",
    "- If you find it, append the value to the list. (Use the variable, not the string, to append.)\n",
    "- Break the loop.\n",
    "- Display the list.\n",
    "```python\n",
    "a_list = [\"Argo\", \"Argon\", \"Altoona\"]\n",
    "sites = {\n",
    "    \"search\": \"Google\",\n",
    "    \"social\": \"Facebook\",\n",
    "    \"travel\": \"Travelocity\",\n",
    "    \"retail\": \"Amazon\",\n",
    "}\n",
    "```\n"
   ]
  },
  {
   "cell_type": "code",
   "execution_count": 55,
   "metadata": {},
   "outputs": [
    {
     "name": "stdout",
     "output_type": "stream",
     "text": [
      "['Argo', 'Argon', 'Altoona', 'Amazon']\n"
     ]
    }
   ],
   "source": [
    "a_list = [\"Argo\", \"Argon\", \"Altoona\"]\n",
    "sites = {\n",
    "    \"search\": \"Google\",\n",
    "    \"social\": \"Facebook\",\n",
    "    \"travel\": \"Travelocity\",\n",
    "    \"retail\": \"Amazon\",\n",
    "}\n",
    "for site in sites.values():\n",
    "    if site == \"Amazon\":\n",
    "        a_list.append(site)\n",
    "        break\n",
    "print(a_list)"
   ]
  }
 ],
 "metadata": {
  "kernelspec": {
   "display_name": "Python 3",
   "language": "python",
   "name": "python3"
  },
  "language_info": {
   "codemirror_mode": {
    "name": "ipython",
    "version": 3
   },
   "file_extension": ".py",
   "mimetype": "text/x-python",
   "name": "python",
   "nbconvert_exporter": "python",
   "pygments_lexer": "ipython3",
   "version": "3.10.8"
  },
  "orig_nbformat": 4
 },
 "nbformat": 4,
 "nbformat_minor": 2
}
