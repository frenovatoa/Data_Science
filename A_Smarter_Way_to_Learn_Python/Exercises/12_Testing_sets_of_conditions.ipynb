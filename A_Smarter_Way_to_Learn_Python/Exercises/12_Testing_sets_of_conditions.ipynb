{
 "cells": [
  {
   "cell_type": "markdown",
   "metadata": {},
   "source": [
    "# Testing sets of conditions\n",
    "If the condition is met, one or more statements execute. But suppose not one but two conditions have to be met in order for a test to succeed... 😨"
   ]
  },
  {
   "cell_type": "markdown",
   "metadata": {},
   "source": [
    "##### 01. You're testing whether both conditions are true. Fill in the blank.\n",
    "```python\n",
    "if a == b _____ c == d:\n",
    "```\t"
   ]
  },
  {
   "cell_type": "markdown",
   "metadata": {},
   "source": [
    "`and`"
   ]
  },
  {
   "cell_type": "markdown",
   "metadata": {},
   "source": [
    "##### 02. You're testing whether either condition is true. Fill in the blank.\n",
    "```python\n",
    "if a == b _____ c == d:\n",
    "```"
   ]
  },
  {
   "cell_type": "markdown",
   "metadata": {},
   "source": [
    "`or`"
   ]
  },
  {
   "cell_type": "markdown",
   "metadata": {},
   "source": [
    "##### 03. Code a line that tests whether the variable city is \"London\" or \"Tel Aviv.\""
   ]
  },
  {
   "cell_type": "code",
   "execution_count": 2,
   "metadata": {},
   "outputs": [
    {
     "name": "stdout",
     "output_type": "stream",
     "text": [
      "You are in London or Tel Aviv.\n"
     ]
    }
   ],
   "source": [
    "city = \"London\"\n",
    "if city == \"London\" or city == \"Tel Aviv\":\n",
    "    print(\"You are in London or Tel Aviv.\")"
   ]
  },
  {
   "cell_type": "markdown",
   "metadata": {},
   "source": [
    "##### 04. Code a line that tests whether the variable total is 10 or 20."
   ]
  },
  {
   "cell_type": "code",
   "execution_count": 3,
   "metadata": {},
   "outputs": [
    {
     "name": "stdout",
     "output_type": "stream",
     "text": [
      "The total is 10 or 20.\n"
     ]
    }
   ],
   "source": [
    "total = 10\n",
    "if total == 10 or total == 20:\n",
    "    print(\"The total is 10 or 20.\")"
   ]
  },
  {
   "cell_type": "markdown",
   "metadata": {},
   "source": [
    "##### 05. If the variable first_name is \"Isaac\" and the variable last_name is \"Newton\" display \"Thanks!\"."
   ]
  },
  {
   "cell_type": "code",
   "execution_count": 4,
   "metadata": {},
   "outputs": [
    {
     "name": "stdout",
     "output_type": "stream",
     "text": [
      "Thanks!\n"
     ]
    }
   ],
   "source": [
    "first_name = \"Isaac\"\n",
    "last_name = \"Newton\"\n",
    "if first_name == \"Isaac\" and last_name == \"Newton\":\n",
    "    print(\"Thanks!\")"
   ]
  },
  {
   "cell_type": "markdown",
   "metadata": {},
   "source": [
    "##### 06. if x is smaller or equal to 5 or y is greater or equal to 10 display \"yes\"."
   ]
  },
  {
   "cell_type": "code",
   "execution_count": 7,
   "metadata": {},
   "outputs": [
    {
     "name": "stdout",
     "output_type": "stream",
     "text": [
      "yes\n"
     ]
    }
   ],
   "source": [
    "x = 5\n",
    "y = 7\n",
    "if x <= 5 or y >= 10:\n",
    "    print(\"yes\")"
   ]
  },
  {
   "cell_type": "markdown",
   "metadata": {},
   "source": [
    "##### 07. If the variable animal is \"dog\", \"cat\", or \"mouse\" display \"mammal\"."
   ]
  },
  {
   "cell_type": "code",
   "execution_count": 8,
   "metadata": {},
   "outputs": [
    {
     "name": "stdout",
     "output_type": "stream",
     "text": [
      "mammal\n"
     ]
    }
   ],
   "source": [
    "animal = \"mouse\"\n",
    "if animal == \"dog\" or animal == \"cat\" or animal == \"mouse\":\n",
    "    print(\"mammal\")"
   ]
  },
  {
   "cell_type": "markdown",
   "metadata": {},
   "source": [
    "##### 08. If the variable nationality is \"UK\" and either the variable age is under 21 or it's over 64 display \"qualified\"."
   ]
  },
  {
   "cell_type": "code",
   "execution_count": 9,
   "metadata": {},
   "outputs": [
    {
     "name": "stdout",
     "output_type": "stream",
     "text": [
      "qualified\n"
     ]
    }
   ],
   "source": [
    "nationality = \"UK\"\n",
    "age = 77\n",
    "if nationality == \"UK\" and (age < 21 or age > 64):\n",
    "    print(\"qualified\")"
   ]
  },
  {
   "cell_type": "markdown",
   "metadata": {},
   "source": [
    "##### 09. If the variable age is greater than or equal to 21 or the variable permission is \"ok\" display a message of your choice."
   ]
  },
  {
   "cell_type": "code",
   "execution_count": 10,
   "metadata": {},
   "outputs": [
    {
     "name": "stdout",
     "output_type": "stream",
     "text": [
      "allowed\n"
     ]
    }
   ],
   "source": [
    "age = 22\n",
    "permission = \"not ok\"\n",
    "if age >= 21 or permission == \"ok\":\n",
    "    print(\"allowed\")"
   ]
  },
  {
   "cell_type": "markdown",
   "metadata": {},
   "source": [
    "##### 10. Code one line. If a equals b and c equals d, the test passes. Alternately, if e equals f or g equals h, the test passes. You could use elif to accomplish this, but don't. Use a combination of and, or, and parentheses."
   ]
  },
  {
   "cell_type": "code",
   "execution_count": 11,
   "metadata": {},
   "outputs": [
    {
     "name": "stdout",
     "output_type": "stream",
     "text": [
      "The test is true.\n"
     ]
    }
   ],
   "source": [
    "a = 5\n",
    "b = 5\n",
    "c = 7\n",
    "d = 7\n",
    "e = 8\n",
    "f = 9\n",
    "g = 8\n",
    "h = 9\n",
    "if (a == b and c == d) or (e == f or g == h):\n",
    "    print(\"The test is true.\")"
   ]
  },
  {
   "cell_type": "markdown",
   "metadata": {},
   "source": [
    "##### 11. If 2 equals 3 or 3 doesn't equal 4, display ok."
   ]
  },
  {
   "cell_type": "code",
   "execution_count": 12,
   "metadata": {},
   "outputs": [
    {
     "name": "stdout",
     "output_type": "stream",
     "text": [
      "ok\n"
     ]
    }
   ],
   "source": [
    "if 2 == 3 or 3 != 4:\n",
    "    print(\"ok\")"
   ]
  },
  {
   "cell_type": "markdown",
   "metadata": {},
   "source": [
    "##### 12. If 1 plus 1 equals 2 and 2 plus 2 equals 4, display ok."
   ]
  },
  {
   "cell_type": "code",
   "execution_count": 13,
   "metadata": {},
   "outputs": [
    {
     "name": "stdout",
     "output_type": "stream",
     "text": [
      "ok\n"
     ]
    }
   ],
   "source": [
    "if 1 + 1 == 2 and 2 + 2 == 4:\n",
    "    print(\"ok\")"
   ]
  }
 ],
 "metadata": {
  "kernelspec": {
   "display_name": "Python 3",
   "language": "python",
   "name": "python3"
  },
  "language_info": {
   "codemirror_mode": {
    "name": "ipython",
    "version": 3
   },
   "file_extension": ".py",
   "mimetype": "text/x-python",
   "name": "python",
   "nbconvert_exporter": "python",
   "pygments_lexer": "ipython3",
   "version": "3.10.8"
  },
  "orig_nbformat": 4
 },
 "nbformat": 4,
 "nbformat_minor": 2
}
