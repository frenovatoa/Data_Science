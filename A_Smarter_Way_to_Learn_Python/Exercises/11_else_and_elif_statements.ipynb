{
 "cells": [
  {
   "cell_type": "markdown",
   "metadata": {},
   "source": [
    "# `else` and `elif` statements\n",
    "The if statements you've coded so far have been all-or-nothing. If the condition tested true, something happened. If the condition tested false, nothing happened. **Often, you want something to happen either way**."
   ]
  },
  {
   "cell_type": "markdown",
   "metadata": {},
   "source": [
    "##### 01. Code line 3.\n",
    "```python\n",
    "if species == \"cat\":\n",
    "    print(\"Yep, it's cat.\")\n",
    "__________\n",
    "    print(\"Nope, not cat.\")\n",
    "```"
   ]
  },
  {
   "cell_type": "markdown",
   "metadata": {},
   "source": [
    "`else:`"
   ]
  },
  {
   "cell_type": "markdown",
   "metadata": {},
   "source": [
    "##### 02. If the condition tested in line 1 fails, line 3 tests for a different condition. What keyword goes in the blank?\n",
    "```python\n",
    "if donut_condition == \"fresh\":\n",
    "    buy_score = 10\n",
    "____ donut_price == \"low\":\n",
    "    buy_score = 5\n",
    "else:\n",
    "    buy_score = 0\n",
    "```"
   ]
  },
  {
   "cell_type": "markdown",
   "metadata": {},
   "source": [
    "`elif`"
   ]
  },
  {
   "cell_type": "markdown",
   "metadata": {},
   "source": [
    "##### 03. Code the next line that says what to do if the test fails.\n",
    "```python\n",
    "if a == b:\n",
    "    print(\"a equals b\")\n",
    "```\n"
   ]
  },
  {
   "cell_type": "markdown",
   "metadata": {},
   "source": [
    "`else:`"
   ]
  },
  {
   "cell_type": "markdown",
   "metadata": {},
   "source": [
    "##### 04. Code the next line. If a doesn't equal b, test whether c equals d.\n",
    "```python\n",
    "if a == b:\n",
    "    print(\"a equals b\")\n",
    "```"
   ]
  },
  {
   "cell_type": "markdown",
   "metadata": {},
   "source": [
    "```python\n",
    "elif c == d:\n",
    "```"
   ]
  },
  {
   "cell_type": "markdown",
   "metadata": {},
   "source": [
    "##### 05. Code four lines. If a equals b, c equals d. If the test fails, e equals f."
   ]
  },
  {
   "cell_type": "code",
   "execution_count": 4,
   "metadata": {},
   "outputs": [
    {
     "name": "stdout",
     "output_type": "stream",
     "text": [
      "C is 3 and E is 6\n"
     ]
    }
   ],
   "source": [
    "a = 1\n",
    "b = 2\n",
    "c = 3\n",
    "d = 4\n",
    "e = 5\n",
    "f = 6\n",
    "if a == b:\n",
    "    c = d\n",
    "else:\n",
    "    e = f\n",
    "print(\"C is\", c, \"and E is\", e)"
   ]
  },
  {
   "cell_type": "markdown",
   "metadata": {},
   "source": [
    "##### 06. Code four lines. If a equals b, c equals d. If that test fails, then if e equals f, g equals h."
   ]
  },
  {
   "cell_type": "code",
   "execution_count": 1,
   "metadata": {},
   "outputs": [
    {
     "name": "stdout",
     "output_type": "stream",
     "text": [
      "C is 3 and g is 6\n"
     ]
    }
   ],
   "source": [
    "a = 1\n",
    "b = 2\n",
    "c = 3\n",
    "d = 4\n",
    "e = 5\n",
    "f = 5\n",
    "h = 6\n",
    "if a == b:\n",
    "    c = d\n",
    "elif e == f:\n",
    "    g = h\n",
    "print(\"C is\", c, \"and g is\", g)"
   ]
  },
  {
   "cell_type": "markdown",
   "metadata": {},
   "source": [
    "##### 07. What is the value of x?\n",
    "```python\n",
    "if 2 + 3 == 4:\n",
    "    x = 0\n",
    "elif 2 - 1 == 1:\n",
    "    x = 1\n",
    "elif 3 + 3 == 6:\n",
    "    x = 2\n",
    "else:\n",
    "    x = 3\n",
    "```"
   ]
  },
  {
   "cell_type": "markdown",
   "metadata": {},
   "source": [
    "1"
   ]
  },
  {
   "cell_type": "markdown",
   "metadata": {},
   "source": [
    "##### 08. Code the next two lines. If the test fails, test if a equals 2. If so, display \"a equals 2\".\n",
    "```python\n",
    "if a == 1:\n",
    "    print(\"a equals 1\")\n",
    "```"
   ]
  },
  {
   "cell_type": "markdown",
   "metadata": {},
   "source": [
    "```python\n",
    "elif a == 2:\n",
    "    print(\"a equals 2\")\n",
    "```"
   ]
  },
  {
   "cell_type": "markdown",
   "metadata": {},
   "source": [
    "##### 09. Code the next two lines. If the first two tests fail, display \"failed\".\n",
    "```python\n",
    "if a == b:\n",
    "    print(\"ok\")\n",
    "elif c == d:\n",
    "    print(\"ok\")\n",
    "```"
   ]
  },
  {
   "cell_type": "markdown",
   "metadata": {},
   "source": [
    "```python\n",
    "else:\n",
    "    print(\"failed\")\n",
    "```\t"
   ]
  },
  {
   "cell_type": "markdown",
   "metadata": {},
   "source": [
    "##### 10. Code six lines. If a equals b, display \"ok\". If not, then if c equals d, display \"ok\". If both tests fail, display \"failed\"."
   ]
  },
  {
   "cell_type": "code",
   "execution_count": 2,
   "metadata": {},
   "outputs": [
    {
     "name": "stdout",
     "output_type": "stream",
     "text": [
      "failed\n"
     ]
    }
   ],
   "source": [
    "a = 1\n",
    "b = 2\n",
    "c = 3\n",
    "d = 4\n",
    "if a == b:\n",
    "    print(\"ok\")\n",
    "elif c == d:\n",
    "    print(\"ok\")\n",
    "else:\n",
    "    print(\"failed\")"
   ]
  },
  {
   "cell_type": "markdown",
   "metadata": {},
   "source": [
    "##### 11. Display wrong if the condition isn't met."
   ]
  },
  {
   "cell_type": "code",
   "execution_count": 5,
   "metadata": {},
   "outputs": [
    {
     "name": "stdout",
     "output_type": "stream",
     "text": [
      "wrong\n"
     ]
    }
   ],
   "source": [
    "if \"dog\" == \"cat\":\n",
    "  print (\"That's crazy\")\n",
    "# On the next two lines, display \"wrong\" if the condition isn't met.\n",
    "else:\n",
    "  print (\"wrong\")"
   ]
  },
  {
   "cell_type": "markdown",
   "metadata": {},
   "source": [
    "##### 12. If the first condition isn't met, test whether \"cat\" equals \"cat.\" If so display ok. If you've coded correctly, ok will display."
   ]
  },
  {
   "cell_type": "code",
   "execution_count": 6,
   "metadata": {},
   "outputs": [
    {
     "name": "stdout",
     "output_type": "stream",
     "text": [
      "ok\n"
     ]
    }
   ],
   "source": [
    "if \"dog\" == \"cat\":\n",
    "  proposition = \"crazy\"\n",
    "# On the next two lines, if the condition above isn't met,\n",
    "# test whether \"cat\" is equal to \"cat\"\n",
    "# If so, display \"ok\"\n",
    "elif \"cat\" == \"cat\":\n",
    "  print (\"ok\")"
   ]
  }
 ],
 "metadata": {
  "kernelspec": {
   "display_name": "Python 3",
   "language": "python",
   "name": "python3"
  },
  "language_info": {
   "codemirror_mode": {
    "name": "ipython",
    "version": 3
   },
   "file_extension": ".py",
   "mimetype": "text/x-python",
   "name": "python",
   "nbconvert_exporter": "python",
   "pygments_lexer": "ipython3",
   "version": "3.10.8"
  },
  "orig_nbformat": 4
 },
 "nbformat": 4,
 "nbformat_minor": 2
}
