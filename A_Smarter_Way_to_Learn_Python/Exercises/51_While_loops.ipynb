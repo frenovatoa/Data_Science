{
 "cells": [
  {
   "cell_type": "markdown",
   "metadata": {},
   "source": [
    "# While loops\n",
    "A `for` loop, as you learned, cycles through a series of things, repeating itself until it comes to the end of the series, or until it encounters a `break` statement.\n",
    "\n",
    "*Suppose you want the user to be able to check an element in a list, and then if he wants, check another element after that, and then another element after that, etc*. For this, you use a `while` loop:"
   ]
  },
  {
   "cell_type": "code",
   "execution_count": 1,
   "metadata": {},
   "outputs": [
    {
     "name": "stdout",
     "output_type": "stream",
     "text": [
      "You are in Sabinas\n",
      "You are in Saltillo\n",
      "You are in Torreon\n"
     ]
    }
   ],
   "source": [
    "cities = [\"Sabinas\", \"Monterrey\", \"Saltillo\", \"Torreon\", \"Parras\"]\n",
    "user_city = \"\"\n",
    "while user_city != \"q\":\n",
    "    user_city = input(\"Enter your city: \")\n",
    "    if user_city != \"q\":\n",
    "        for a_city in cities:\n",
    "            if user_city == a_city:\n",
    "                print(\"You are in\", user_city)\n",
    "                break"
   ]
  },
  {
   "cell_type": "markdown",
   "metadata": {},
   "source": [
    "##### 01. What is the keyword in a loop that keeps repeating as long as some condition is met?"
   ]
  },
  {
   "cell_type": "markdown",
   "metadata": {},
   "source": [
    "while"
   ]
  },
  {
   "cell_type": "markdown",
   "metadata": {},
   "source": [
    "##### 02. Code the first line of a **while** loop that keeps repeating as long as x equals 1."
   ]
  },
  {
   "cell_type": "markdown",
   "metadata": {},
   "source": [
    "```python\n",
    "while x == 1:\n",
    "```"
   ]
  },
  {
   "cell_type": "markdown",
   "metadata": {},
   "source": [
    "##### 03. Code the first line of a **while** loop that keeps repeating as long as **x** doesn't equal \"Hanoi\"."
   ]
  },
  {
   "cell_type": "markdown",
   "metadata": {},
   "source": [
    "```python\n",
    "while x != \"Hanoi\":\n",
    "```"
   ]
  },
  {
   "cell_type": "markdown",
   "metadata": {},
   "source": [
    "##### 04. Code the line that must precede this line.\n",
    "```python\n",
    "while name != \"Hanoi\":\n",
    "```"
   ]
  },
  {
   "cell_type": "markdown",
   "metadata": {},
   "source": [
    "```python\n",
    "name = \"\"\n",
    "```"
   ]
  },
  {
   "cell_type": "markdown",
   "metadata": {},
   "source": [
    "##### 05. As long as **x** doesn't equal 99, display **x**, then increment it by 1 using the concise way to increment."
   ]
  },
  {
   "cell_type": "markdown",
   "metadata": {},
   "source": [
    "```python\n",
    "while x != 99:\n",
    "    print(x)\n",
    "    x += 1\n",
    "```"
   ]
  },
  {
   "cell_type": "markdown",
   "metadata": {},
   "source": [
    "##### 06. As long a one integer variable is less than another integer variable, increment the first variable by 3 using the concise way to increment. Make up the variable names."
   ]
  },
  {
   "cell_type": "markdown",
   "metadata": {},
   "source": [
    "```python\n",
    "while x < y:\n",
    "    x += 3\n",
    "```"
   ]
  },
  {
   "cell_type": "markdown",
   "metadata": {},
   "source": [
    "##### 07. Code a function that has two parameters that are lists. As long as the first list is shorter than the second list, append an element, \"empty\", to the first list. Make up the names of the function and variables."
   ]
  },
  {
   "cell_type": "markdown",
   "metadata": {},
   "source": [
    "```python\n",
    "def append_empty(list1, list2):\n",
    "    while len(list1) < len(list2):\n",
    "        list1.append(\"empty\")\n",
    "```"
   ]
  },
  {
   "cell_type": "markdown",
   "metadata": {},
   "source": [
    "##### 08. Code a function with three parameters that hold integers passed to them by the calling code. As long as the total of the first two variables is greater than the third variable, subtract half of the third variable from the first variable using the concise way to subtract. Make everything up."
   ]
  },
  {
   "cell_type": "markdown",
   "metadata": {},
   "source": [
    "```python\n",
    "def subtract_half(var1, var2, var3):\n",
    "    while var1 + var2 > var3:\n",
    "        var1 -= var3 / 2\n",
    "```"
   ]
  },
  {
   "cell_type": "markdown",
   "metadata": {},
   "source": [
    "##### 09. Code a function that asks for the user's input. Keep asking until the user enters \"You're right\" Make up the name of the function, the text that prompts the user, and the variable that holds the user's input. Remember to declare the variable as an empty string in line 2."
   ]
  },
  {
   "cell_type": "markdown",
   "metadata": {},
   "source": [
    "```python\n",
    "def ask_user():\n",
    "    user_input = \"\"\n",
    "    while user_input != \"You're right\":\n",
    "        user_input = input(\"Enter 'You're right': \")\n",
    "```"
   ]
  },
  {
   "cell_type": "markdown",
   "metadata": {},
   "source": [
    "##### 10. As long as a variable holding an integer is less than the value of another variable, run a for loop that loops through all the elements of a list and adds each element of the list to the first variable. Use the concise approach to increment the first variable. Make everything up."
   ]
  },
  {
   "cell_type": "markdown",
   "metadata": {},
   "source": [
    "```python\n",
    "while var1 < var2:\n",
    "    for element in list1:\n",
    "        var1 += element\n",
    "```"
   ]
  },
  {
   "cell_type": "markdown",
   "metadata": {},
   "source": [
    "##### 11. Code a while loop. As long as x is less than or equal to 10, display x then add 2 to it."
   ]
  },
  {
   "cell_type": "code",
   "execution_count": 1,
   "metadata": {},
   "outputs": [
    {
     "name": "stdout",
     "output_type": "stream",
     "text": [
      "0\n",
      "2\n",
      "4\n",
      "6\n",
      "8\n",
      "10\n"
     ]
    }
   ],
   "source": [
    "x = 0\n",
    "while x <= 10:\n",
    "    print(x)\n",
    "    x += 2"
   ]
  },
  {
   "cell_type": "markdown",
   "metadata": {},
   "source": [
    "##### 12. As long as the counter is less than the length of **list_of_names**, append an element of **list_of_names** to **second_list_of_names**. Then increment the counter. (Use the counter as the index of each element as you loop through list_of_names). Display **second_list_of_names**."
   ]
  },
  {
   "cell_type": "code",
   "execution_count": 1,
   "metadata": {},
   "outputs": [
    {
     "name": "stdout",
     "output_type": "stream",
     "text": [
      "['Farina', 'Madi', 'Annie', 'Max', 'Vlad', 'Punya', 'Muhammad']\n"
     ]
    }
   ],
   "source": [
    "list_of_names = [\"Farina\", \"Madi\", \"Annie\", \"Max\", \"Vlad\", \"Punya\", \"Muhammad\"]\n",
    "second_list_of_names = []\n",
    "counter = 0\n",
    "while counter < len(list_of_names):\n",
    "    second_list_of_names.append(list_of_names[counter])\n",
    "    counter += 1\n",
    "print (second_list_of_names)"
   ]
  }
 ],
 "metadata": {
  "kernelspec": {
   "display_name": "Python 3",
   "language": "python",
   "name": "python3"
  },
  "language_info": {
   "codemirror_mode": {
    "name": "ipython",
    "version": 3
   },
   "file_extension": ".py",
   "mimetype": "text/x-python",
   "name": "python",
   "nbconvert_exporter": "python",
   "pygments_lexer": "ipython3",
   "version": "3.10.8"
  },
  "orig_nbformat": 4
 },
 "nbformat": 4,
 "nbformat_minor": 2
}
