{
 "cells": [
  {
   "cell_type": "markdown",
   "metadata": {},
   "source": [
    "# Creating a dictionary that contains a dictionary"
   ]
  },
  {
   "cell_type": "code",
   "execution_count": 7,
   "metadata": {},
   "outputs": [
    {
     "name": "stdout",
     "output_type": "stream",
     "text": [
      "{0: {'first name': 'Felipe', 'last name': 'Renovato', 'address': 'Sabinas'}, 1: {'first name': 'César', 'last name': 'Zárate', 'address': 'Saltillo'}, 2: {'first name': 'Orlando', 'last name': 'Alvarez', 'address': 'Saltillo'}}\n"
     ]
    }
   ],
   "source": [
    "customers = {\n",
    "    0: {\n",
    "        \"first name\":\"Felipe\",\n",
    "        \"last name\": \"Renovato\",\n",
    "        \"address\": \"Sabinas\",\n",
    "    },\n",
    "    1: {\n",
    "        \"first name\":\"César\",\n",
    "        \"last name\": \"Zárate\",\n",
    "        \"address\": \"Saltillo\",\n",
    "    },\n",
    "    2: {\n",
    "        \"first name\":\"Orlando\",\n",
    "        \"last name\": \"Alvarez\",\n",
    "        \"address\": \"Saltillo\",\n",
    "    },\n",
    " }\n",
    "print(customers)"
   ]
  },
  {
   "cell_type": "markdown",
   "metadata": {},
   "source": [
    "##### 01. In the following code, 0 is the name of a _________.\n",
    "```python\n",
    "customers = {\n",
    "    0: [\n",
    "```"
   ]
  },
  {
   "cell_type": "markdown",
   "metadata": {},
   "source": [
    "list"
   ]
  },
  {
   "cell_type": "markdown",
   "metadata": {},
   "source": [
    "##### 02. In the following code, 0 is the name of a _________.\n",
    "```python\n",
    "customers = {\n",
    "    0: {\n",
    "```"
   ]
  },
  {
   "cell_type": "markdown",
   "metadata": {},
   "source": [
    "dictionary"
   ]
  },
  {
   "cell_type": "markdown",
   "metadata": {},
   "source": [
    "##### 03. The first pair in the **0** dictionary is \"first name\" and \"John\". Fill in the blank. Remember to end the line with a comma.\n",
    "```python\n",
    "customers = {\n",
    "    0: {\n",
    "        _________________\n",
    "```"
   ]
  },
  {
   "cell_type": "markdown",
   "metadata": {},
   "source": [
    "```python\n",
    "\"first name\": \"John\",\n",
    "```"
   ]
  },
  {
   "cell_type": "markdown",
   "metadata": {},
   "source": [
    "##### 04. Code the next line. The dictionary name is **0**. Remember to indent.\n",
    "```python\n",
    "customers = {\n",
    "```"
   ]
  },
  {
   "cell_type": "markdown",
   "metadata": {},
   "source": [
    "```python\n",
    "    0: {\n",
    "```"
   ]
  },
  {
   "cell_type": "markdown",
   "metadata": {},
   "source": [
    "##### 05. Code the first two lines of a dictionary within a dictionary. The inner dictionary name is **0**. Make up the name of the outer dictionary. Remember to indent the second line."
   ]
  },
  {
   "cell_type": "markdown",
   "metadata": {},
   "source": [
    "```python\n",
    "dict = {\n",
    "    0: {\n",
    "```"
   ]
  },
  {
   "cell_type": "markdown",
   "metadata": {},
   "source": [
    "##### 06. The first pair in the **0** dictionary is \"wrench\" and 9.37. Code the line. Remember to double-indent it and to end the line with a comma.\n",
    "```python\n",
    "products = {\n",
    "    0: {\n",
    "```"
   ]
  },
  {
   "cell_type": "markdown",
   "metadata": {},
   "source": [
    "```python\n",
    "        \"wrench\": 9.37,\n",
    "```"
   ]
  },
  {
   "cell_type": "markdown",
   "metadata": {},
   "source": [
    "##### 07. The next pair is \"saw\" and 23.47. Code the line, then close the **0** dictionary. Pay attention to the indents. End both lines with a comma.\n",
    "```python\n",
    "products = {\n",
    "    0: {\n",
    "        \"wrench\": 9.37,\n",
    "```"
   ]
  },
  {
   "cell_type": "markdown",
   "metadata": {},
   "source": [
    "```python\n",
    "        \"saw\": 23.47,\n",
    "    },\n",
    "```"
   ]
  },
  {
   "cell_type": "markdown",
   "metadata": {},
   "source": [
    "##### 08. Code the first two lines of a dictionary that includes an inner dictionary. The name of the outer dictionary is a variable. The name of the inner dictionary is an integer. Make everything up."
   ]
  },
  {
   "cell_type": "markdown",
   "metadata": {},
   "source": [
    "```python\n",
    "var = {\n",
    "    0: {\n",
    "```\n"
   ]
  },
  {
   "cell_type": "markdown",
   "metadata": {},
   "source": [
    "##### 09. Code a complete dictionary that includes nothing but one inner dictionary. The name of the outer dictionary is a variable. The name of the inner dictionary is an integer. The inner dictionary contains only one pair, a string key and a string value. Make everything up."
   ]
  },
  {
   "cell_type": "code",
   "execution_count": 1,
   "metadata": {},
   "outputs": [],
   "source": [
    "a_dict = {\n",
    "    1: {\n",
    "        \"name\": \"Felipe\",\n",
    "    },\n",
    "}"
   ]
  },
  {
   "cell_type": "markdown",
   "metadata": {},
   "source": [
    "##### 10. Add a second inner dictionary, then close both the inner and outer dictionaries. The dictionary's name is 1. It contains just one pair. Its key is \"name\". Make up the value, a string.\n",
    "```python\n",
    "x = {\n",
    "  0: {\n",
    "    \"name\": \"Ortiz\",\n",
    "  },\n",
    "```"
   ]
  },
  {
   "cell_type": "markdown",
   "metadata": {},
   "source": [
    "```python\n",
    "    1: {\n",
    "        \"name\": \"Felipe\",\n",
    "    },\n",
    "}\n",
    "```"
   ]
  },
  {
   "cell_type": "markdown",
   "metadata": {},
   "source": [
    "##### 11. Code a dictionary that contains an inner dictionary with at least one pair, then display it."
   ]
  },
  {
   "cell_type": "code",
   "execution_count": 2,
   "metadata": {},
   "outputs": [
    {
     "name": "stdout",
     "output_type": "stream",
     "text": [
      "{'personal_data': {'name': 'Felipe', 'last_name': 'Renovato'}}\n"
     ]
    }
   ],
   "source": [
    "me = {\n",
    "    \"personal_data\": {\n",
    "        \"name\": \"Felipe\",\n",
    "        \"last_name\": \"Renovato\",\n",
    "    },\n",
    "}\n",
    "print(me)"
   ]
  },
  {
   "cell_type": "markdown",
   "metadata": {},
   "source": [
    "##### 12. Code a dictionary and display it. The dictionary contains a list and another dictionary. The list has at least two elements, the dictionary has at least two pairs."
   ]
  },
  {
   "cell_type": "code",
   "execution_count": 3,
   "metadata": {},
   "outputs": [
    {
     "name": "stdout",
     "output_type": "stream",
     "text": [
      "{'pets': ['Coquita', 'Coffee', 'Rock', 'Romeo', 'Princesa'], 'general': {'name': 'Felipe', 'last_name': 'Renovato', 'age': 22}}\n"
     ]
    }
   ],
   "source": [
    "me = {\n",
    "    \"pets\": [\"Coquita\", \"Coffee\", \"Rock\", \"Romeo\", \"Princesa\"],\n",
    "    \"general\": {\n",
    "        \"name\": \"Felipe\",\n",
    "        \"last_name\": \"Renovato\",\n",
    "        \"age\": 22,\n",
    "    },\n",
    "}\n",
    "print(me)"
   ]
  }
 ],
 "metadata": {
  "kernelspec": {
   "display_name": "Python 3",
   "language": "python",
   "name": "python3"
  },
  "language_info": {
   "codemirror_mode": {
    "name": "ipython",
    "version": 3
   },
   "file_extension": ".py",
   "mimetype": "text/x-python",
   "name": "python",
   "nbconvert_exporter": "python",
   "pygments_lexer": "ipython3",
   "version": "3.10.8"
  },
  "orig_nbformat": 4
 },
 "nbformat": 4,
 "nbformat_minor": 2
}
