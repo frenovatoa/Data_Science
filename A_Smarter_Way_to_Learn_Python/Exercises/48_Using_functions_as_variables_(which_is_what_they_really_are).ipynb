{
 "cells": [
  {
   "cell_type": "markdown",
   "metadata": {},
   "source": [
    "# Using functions as variables (which is what they really are)"
   ]
  },
  {
   "cell_type": "code",
   "execution_count": 3,
   "metadata": {},
   "outputs": [],
   "source": [
    "def add_numbers(first, second):\n",
    "    return first + second"
   ]
  },
  {
   "cell_type": "code",
   "execution_count": 4,
   "metadata": {},
   "outputs": [],
   "source": [
    "def subtract_numbers(first, second):\n",
    "    return first - second"
   ]
  },
  {
   "cell_type": "code",
   "execution_count": 6,
   "metadata": {},
   "outputs": [
    {
     "name": "stdout",
     "output_type": "stream",
     "text": [
      "6\n"
     ]
    }
   ],
   "source": [
    "add_result = add_numbers(1, 2)\n",
    "subtract_result = subtract_numbers(5, 2)\n",
    "result = add_result + subtract_result\n",
    "print(result)"
   ]
  },
  {
   "cell_type": "code",
   "execution_count": 7,
   "metadata": {},
   "outputs": [
    {
     "name": "stdout",
     "output_type": "stream",
     "text": [
      "6\n"
     ]
    }
   ],
   "source": [
    "# Using the functions like variables:\n",
    "result = add_numbers(1, 2) + subtract_numbers(5, 2)\n",
    "print(result)"
   ]
  },
  {
   "cell_type": "markdown",
   "metadata": {},
   "source": [
    "> **Exercise:**: Make three functions that do whatever, print on one line the result of the sum of the three."
   ]
  },
  {
   "cell_type": "code",
   "execution_count": 9,
   "metadata": {},
   "outputs": [
    {
     "name": "stdout",
     "output_type": "stream",
     "text": [
      "92.4\n"
     ]
    }
   ],
   "source": [
    "# Calculating the sum of the multiplication table from 1 to 10.\n",
    "def calculate_multiplication_table_sum():\n",
    "    sum = 0\n",
    "    for i in range(1, 11):\n",
    "        sum += i\n",
    "    return sum\n",
    "\n",
    "# Calculating the sum if three numbers.\n",
    "def calculate_sum(a, b, c):\n",
    "    return a + b + c\n",
    "\n",
    "# Calculating the circumference of a circle.\n",
    "def calculate_circumference(radius):\n",
    "    return 2 * 3.14 * radius\n",
    "\n",
    "print(calculate_multiplication_table_sum() + calculate_sum(1, 2, 3) + calculate_circumference(5))"
   ]
  },
  {
   "cell_type": "markdown",
   "metadata": {},
   "source": [
    "---"
   ]
  },
  {
   "cell_type": "code",
   "execution_count": 10,
   "metadata": {},
   "outputs": [
    {
     "data": {
      "text/plain": [
       "9"
      ]
     },
     "execution_count": 10,
     "metadata": {},
     "output_type": "execute_result"
    }
   ],
   "source": [
    "# It is possible to use functions as parameters.\n",
    "def x(a, b):\n",
    "    return a + b\n",
    "x(3, calculate_sum(1, 2, 3))"
   ]
  },
  {
   "cell_type": "markdown",
   "metadata": {},
   "source": [
    "##### 01. Condense this code to one line, using the function as a variable.\n",
    "```python\n",
    "result = calc(20, 30)\n",
    "    print(result)\n",
    "```"
   ]
  },
  {
   "cell_type": "markdown",
   "metadata": {},
   "source": [
    "```python\n",
    "print(calc(20, 30))\n",
    "```"
   ]
  },
  {
   "cell_type": "markdown",
   "metadata": {},
   "source": [
    "##### 02. Condense this code to one line using the functions as variables.\n",
    "```python\n",
    "first_result = calc(20, 30)\n",
    "second_result = calc(40, 50)\n",
    "total = first_result + second_result\n",
    "```"
   ]
  },
  {
   "cell_type": "markdown",
   "metadata": {},
   "source": [
    "```python\n",
    "total = calc(20, 30) + calc(40, 50)\n",
    "```"
   ]
  },
  {
   "cell_type": "markdown",
   "metadata": {},
   "source": [
    "##### 03. In a single line of code, concatenate the value returned by the function **greet** and the value returned by the function **name**. Assign the result to the variable **whole_thing**."
   ]
  },
  {
   "cell_type": "markdown",
   "metadata": {},
   "source": [
    "```python\n",
    "whole_thing = greet() + name()\n",
    "```"
   ]
  },
  {
   "cell_type": "markdown",
   "metadata": {},
   "source": [
    "##### 04. Code the first line of an **if** statement that tests whether the value returned by the function **calc** is equal to 1."
   ]
  },
  {
   "cell_type": "markdown",
   "metadata": {},
   "source": [
    "```python\n",
    "if calc() == 1:\n",
    "```"
   ]
  },
  {
   "cell_type": "markdown",
   "metadata": {},
   "source": [
    "##### 05. Code a two-line function that returns the result of one function divided by another function. The functions have no arguments. Make everything up."
   ]
  },
  {
   "cell_type": "markdown",
   "metadata": {},
   "source": [
    "```python\n",
    "def get_quotient():\n",
    "    return get_numerator() / get_denominator()\n",
    "```"
   ]
  },
  {
   "cell_type": "markdown",
   "metadata": {},
   "source": [
    "##### 06. Call a function, assigning its returned value to a variable. The function's argument is another function with one positional argument, a string. Make everything up."
   ]
  },
  {
   "cell_type": "markdown",
   "metadata": {},
   "source": [
    "```python\t\n",
    "about_me = get_bio(get_name(\"Felipe\"))\n",
    "```"
   ]
  },
  {
   "cell_type": "markdown",
   "metadata": {},
   "source": [
    "##### 07. In a single line of code, do all this: Concatenate the value returned by one function and the value returned by another function. Assign the concatenated string to a variable. The functions have no arguments. Make everything up."
   ]
  },
  {
   "cell_type": "markdown",
   "metadata": {},
   "source": [
    "```python\t\n",
    "my_name = get_first_name() + get_last_name()\n",
    "```"
   ]
  },
  {
   "cell_type": "markdown",
   "metadata": {},
   "source": [
    "##### 08. Code the first line of a **for** loop. It loops through the result returned by a function. Make everything up."
   ]
  },
  {
   "cell_type": "markdown",
   "metadata": {},
   "source": [
    "```python\n",
    "for product in get_products():\n",
    "```"
   ]
  },
  {
   "cell_type": "markdown",
   "metadata": {},
   "source": [
    "##### 09. Code a function that loops through a result returned by a function and appends each returned value to a list. The outer function has one positional parameter, the name of the list. Make everything up."
   ]
  },
  {
   "cell_type": "markdown",
   "metadata": {},
   "source": [
    "```python\n",
    "def add_products(products):\n",
    "    for product in get_products():\n",
    "        products.append(product)\n",
    "```"
   ]
  },
  {
   "cell_type": "markdown",
   "metadata": {},
   "source": [
    "##### 10. Code the first line of an **if** statement that tests whether the result returned by one function is the same as the result returned by another function. Both functions have keyword arguments whose values are variables."
   ]
  },
  {
   "cell_type": "markdown",
   "metadata": {},
   "source": [
    "```python\n",
    "if x(y=z) == a(b=c):\n",
    "```"
   ]
  },
  {
   "cell_type": "markdown",
   "metadata": {},
   "source": [
    "##### 11. In a single line display the result returned by the first function divided by the result returned by the second function. Provide two numbers as positional arguments for each function. The arguments can be the same for both functions, or different."
   ]
  },
  {
   "cell_type": "code",
   "execution_count": 1,
   "metadata": {},
   "outputs": [
    {
     "name": "stdout",
     "output_type": "stream",
     "text": [
      "2.0\n"
     ]
    }
   ],
   "source": [
    "def divide_numbers(first_number, second_number):\n",
    "    return first_number / second_number\n",
    "def calc_leftover(first_number, second_number):\n",
    "    return first_number % second_number\n",
    "print(divide_numbers(12, 3) / calc_leftover(14, 3))\n"
   ]
  },
  {
   "cell_type": "markdown",
   "metadata": {},
   "source": [
    "##### 12. Call the function, providing three positional arguments. The first argument is the name of the list, list_of_numbers. The second argument is the the index number of the element to increment. The third argument is a math expression, for example 9 / 3. Display the changed element."
   ]
  },
  {
   "cell_type": "code",
   "execution_count": 3,
   "metadata": {},
   "outputs": [
    {
     "name": "stdout",
     "output_type": "stream",
     "text": [
      "60\n"
     ]
    }
   ],
   "source": [
    "list_of_numbers = [12, 24, 36]\n",
    "def increment_list_element(list_name, index_of_element, how_much_to_add):\n",
    "    list_name[index_of_element] += how_much_to_add\n",
    "increment_list_element(list_of_numbers, 2, 8 * 3)\n",
    "print(list_of_numbers[2])"
   ]
  }
 ],
 "metadata": {
  "kernelspec": {
   "display_name": "Python 3",
   "language": "python",
   "name": "python3"
  },
  "language_info": {
   "codemirror_mode": {
    "name": "ipython",
    "version": 3
   },
   "file_extension": ".py",
   "mimetype": "text/x-python",
   "name": "python",
   "nbconvert_exporter": "python",
   "pygments_lexer": "ipython3",
   "version": "3.10.8"
  },
  "orig_nbformat": 4
 },
 "nbformat": 4,
 "nbformat_minor": 2
}
