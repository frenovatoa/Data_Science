{
 "cells": [
  {
   "cell_type": "markdown",
   "metadata": {},
   "source": [
    "# How to append a new dictionary to a list of dictionaries"
   ]
  },
  {
   "cell_type": "markdown",
   "metadata": {},
   "source": [
    "##### A list of dictionaries is still a list:"
   ]
  },
  {
   "cell_type": "code",
   "execution_count": 2,
   "metadata": {},
   "outputs": [],
   "source": [
    "# Create 3 dictionaries in a list.\n",
    "customers = [\n",
    "    {\n",
    "        \"id\": 1,\n",
    "        \"name\": \"César\",\n",
    "        \"surname\": \"Zárate\",\n",
    "        \"rfc\": \"XAXX010101000\",\n",
    "    },\n",
    "    {\n",
    "        \"id\": 2,\n",
    "        \"name\": \"Felipe\",\n",
    "        \"surname\": \"Renovato\",\n",
    "        \"rfc\": \"XAXX010101001\",\n",
    "    },\n",
    "    {\n",
    "        \"id\": 3,\n",
    "        \"name\": \"Orlando\",\n",
    "        \"surname\": \"Alvarez\",\n",
    "        \"rfc\": \"XAXX010101002\",\n",
    "    },\n",
    "]"
   ]
  },
  {
   "cell_type": "code",
   "execution_count": 1,
   "metadata": {},
   "outputs": [],
   "source": [
    "customer_4 = {\n",
    "    \"id\": 4,\n",
    "    \"name\": \"Mayra\",\n",
    "    \"surname\": \"Escobedo\",\n",
    "    \"rfc\": \"XAXX010101003\",\n",
    "}"
   ]
  },
  {
   "cell_type": "code",
   "execution_count": 3,
   "metadata": {},
   "outputs": [
    {
     "name": "stdout",
     "output_type": "stream",
     "text": [
      "[{'id': 1, 'name': 'César', 'surname': 'Zárate', 'rfc': 'XAXX010101000'}, {'id': 2, 'name': 'Felipe', 'surname': 'Renovato', 'rfc': 'XAXX010101001'}, {'id': 3, 'name': 'Orlando', 'surname': 'Alvarez', 'rfc': 'XAXX010101002'}, {'id': 4, 'name': 'Mayra', 'surname': 'Escobedo', 'rfc': 'XAXX010101003'}]\n"
     ]
    }
   ],
   "source": [
    "# Append the new dictionary to the list.\n",
    "customers.append(customer_4)\n",
    "print(customers)"
   ]
  },
  {
   "cell_type": "code",
   "execution_count": 4,
   "metadata": {},
   "outputs": [
    {
     "data": {
      "text/plain": [
       "[500,\n",
       " {'id': 1, 'name': 'César', 'surname': 'Zárate', 'rfc': 'XAXX010101000'},\n",
       " {'id': 2, 'name': 'Felipe', 'surname': 'Renovato', 'rfc': 'XAXX010101001'},\n",
       " {'id': 3, 'name': 'Orlando', 'surname': 'Alvarez', 'rfc': 'XAXX010101002'},\n",
       " {'id': 4, 'name': 'Mayra', 'surname': 'Escobedo', 'rfc': 'XAXX010101003'}]"
      ]
     },
     "execution_count": 4,
     "metadata": {},
     "output_type": "execute_result"
    }
   ],
   "source": [
    "# Insert a number in the list.\n",
    "customers.insert(0, 500)\n",
    "customers"
   ]
  },
  {
   "cell_type": "code",
   "execution_count": 5,
   "metadata": {},
   "outputs": [],
   "source": [
    "# Remove the last element of the list.\n",
    "del customers[-1]"
   ]
  },
  {
   "cell_type": "code",
   "execution_count": 6,
   "metadata": {},
   "outputs": [
    {
     "data": {
      "text/plain": [
       "[500,\n",
       " {'id': 1, 'name': 'César', 'surname': 'Zárate', 'rfc': 'XAXX010101000'},\n",
       " {'id': 2, 'name': 'Felipe', 'surname': 'Renovato', 'rfc': 'XAXX010101001'},\n",
       " {'id': 3, 'name': 'Orlando', 'surname': 'Alvarez', 'rfc': 'XAXX010101002'}]"
      ]
     },
     "execution_count": 6,
     "metadata": {},
     "output_type": "execute_result"
    }
   ],
   "source": [
    "customers"
   ]
  },
  {
   "cell_type": "code",
   "execution_count": 7,
   "metadata": {},
   "outputs": [
    {
     "name": "stdout",
     "output_type": "stream",
     "text": [
      "500\n"
     ]
    }
   ],
   "source": [
    "# Pop the first element of the list.\n",
    "popped_customer = customers.pop(0)\n",
    "print(popped_customer)"
   ]
  },
  {
   "cell_type": "code",
   "execution_count": 8,
   "metadata": {},
   "outputs": [
    {
     "data": {
      "text/plain": [
       "[{'id': 1, 'name': 'César', 'surname': 'Zárate', 'rfc': 'XAXX010101000'},\n",
       " {'id': 2, 'name': 'Felipe', 'surname': 'Renovato', 'rfc': 'XAXX010101001'}]"
      ]
     },
     "execution_count": 8,
     "metadata": {},
     "output_type": "execute_result"
    }
   ],
   "source": [
    "# Slice the first 2 elements of the list.\n",
    "customers[:2]"
   ]
  },
  {
   "cell_type": "markdown",
   "metadata": {},
   "source": [
    "##### 01. To find how many dictionaries are in the customers list and load the number into the variable, complete the line.\n",
    "```python\n",
    "num_of_dicts = ____________\n",
    "```"
   ]
  },
  {
   "cell_type": "markdown",
   "metadata": {},
   "source": [
    "```python\n",
    "len(customers)\n",
    "```"
   ]
  },
  {
   "cell_type": "markdown",
   "metadata": {},
   "source": [
    "##### 02. Measure the number of dictionaries in a list and load the number into a variable. Make everything up."
   ]
  },
  {
   "cell_type": "markdown",
   "metadata": {},
   "source": [
    "```python\n",
    "num_of_dicts = len(list_of_dicts)\n",
    "```"
   ]
  },
  {
   "cell_type": "markdown",
   "metadata": {},
   "source": [
    "##### 03. We're adding a new dictionary to a list of dictionaries. The index number of the new dictionary will be the same as the ________ of the list before we add the new dictionary."
   ]
  },
  {
   "cell_type": "markdown",
   "metadata": {},
   "source": [
    "length"
   ]
  },
  {
   "cell_type": "markdown",
   "metadata": {},
   "source": [
    "##### 04. The length (number of dictionaries) of the customers list will be both the index number and the customer id of the new dictionary. Code the line that finds the length of the **customers** list and assigns it to the variable **new_customer_id**."
   ]
  },
  {
   "cell_type": "markdown",
   "metadata": {},
   "source": [
    "```python\n",
    "new_customer_id = len(customers)\n",
    "```"
   ]
  },
  {
   "cell_type": "markdown",
   "metadata": {},
   "source": [
    "##### 05. Find the length of a list and assign it to a variable. Make everything up."
   ]
  },
  {
   "cell_type": "markdown",
   "metadata": {},
   "source": [
    "```python\n",
    "list_length = len(list)\n",
    "```"
   ]
  },
  {
   "cell_type": "markdown",
   "metadata": {},
   "source": [
    "##### 06. We're creating the new dictionary to add to the list **customers**. The first key-value pair is \"id\" and the value stored in **new_customer_id**. Code the next line. Remember to indent it and add a comma at the end.\n",
    "```python\n",
    "new_dictionary = {\n",
    "```"
   ]
  },
  {
   "cell_type": "markdown",
   "metadata": {},
   "source": [
    "```python\n",
    "    \"id\": new_customer_id,\n",
    "```"
   ]
  },
  {
   "cell_type": "markdown",
   "metadata": {},
   "source": [
    "##### 07. Code the next key-value pair in the new dictionary. The key is \"last name\". The value is stored in the variable new_last_name. Remember to indent the line and end the line with a comma.\n",
    "```python\n",
    "new_dictionary = {\n",
    "    \"id\": new_customer_id,\n",
    "```"
   ]
  },
  {
   "cell_type": "markdown",
   "metadata": {},
   "source": [
    "```python\n",
    "    \"last name\": new_last_name,\n",
    "```"
   ]
  },
  {
   "cell_type": "markdown",
   "metadata": {},
   "source": [
    "##### 08. The last pair in the dictionary is \"first name\" and the value stored in **new_first_name**. Code the line. Remember to indent and to end the line with a comma.\n",
    "```python\n",
    "new_dictionary = {\n",
    "    \"id\": new_customer_id,\n",
    "    \"last name\": new_last_name,\n",
    "```"
   ]
  },
  {
   "cell_type": "markdown",
   "metadata": {},
   "source": [
    "```python\n",
    "    \"first name\": new_first_name,\n",
    "```"
   ]
  },
  {
   "cell_type": "markdown",
   "metadata": {},
   "source": [
    "##### 09. All the pairs in the dictionary are now defined. Complete the definition of the new dictionary.\n",
    "```python\n",
    "new_dictionary = {\n",
    "    \"id\": new_customer_id,\n",
    "    \"last name\": new_last_name,\n",
    "    \"first name\": new_first_name,\n",
    "```"
   ]
  },
  {
   "cell_type": "markdown",
   "metadata": {},
   "source": [
    "```python\n",
    "}\n",
    "```"
   ]
  },
  {
   "cell_type": "markdown",
   "metadata": {},
   "source": [
    "##### 10. You've defined a new dictionary and assigned it to the variable **new_dictionary**. Now append it to the **customers** list."
   ]
  },
  {
   "cell_type": "markdown",
   "metadata": {},
   "source": [
    "```python\n",
    "customers.append(new_dictionary)\n",
    "```"
   ]
  },
  {
   "cell_type": "markdown",
   "metadata": {},
   "source": [
    "##### 11. Find the number of elements in the list and assign the number to a variable. Then display the value of the variable.\n",
    "```python\n",
    "list_of_numbers = [1, 2, 3, 4, 5, 6]\n",
    "```"
   ]
  },
  {
   "cell_type": "code",
   "execution_count": 1,
   "metadata": {},
   "outputs": [
    {
     "name": "stdout",
     "output_type": "stream",
     "text": [
      "6\n"
     ]
    }
   ],
   "source": [
    "list_of_numbers = [1, 2, 3, 4, 5, 6]\n",
    "list_length = len(list_of_numbers)\n",
    "print(list_length)"
   ]
  },
  {
   "cell_type": "markdown",
   "metadata": {},
   "source": [
    "##### 12. Using the variables **new_customer_id**, **new_first_name** and **new_last_name**, code a new dictionary. Append the new dictionary to the list. Display the list."
   ]
  },
  {
   "cell_type": "code",
   "execution_count": 2,
   "metadata": {},
   "outputs": [
    {
     "name": "stdout",
     "output_type": "stream",
     "text": [
      "[{'customer id': 0, 'first name': 'John', 'last name': 'Ogden'}, {'customer id': 1, 'first name': 'Ariel', 'last name': 'Winter'}]\n"
     ]
    }
   ],
   "source": [
    "customers = [\n",
    "    {\n",
    "        \"customer id\": 0,\n",
    "        \"first name\":\"John\",\n",
    "        \"last name\": \"Ogden\",\n",
    "    },\n",
    "]\n",
    "new_customer_id = len(customers)\n",
    "new_first_name = \"Ariel\"\n",
    "new_last_name = \"Winter\"\n",
    "new_dict = {\n",
    "    \"customer id\": new_customer_id,\n",
    "    \"first name\": new_first_name,\n",
    "    \"last name\": new_last_name,\n",
    "}\n",
    "customers.append(new_dict)\n",
    "print(customers)"
   ]
  }
 ],
 "metadata": {
  "kernelspec": {
   "display_name": "Python 3",
   "language": "python",
   "name": "python3"
  },
  "language_info": {
   "codemirror_mode": {
    "name": "ipython",
    "version": 3
   },
   "file_extension": ".py",
   "mimetype": "text/x-python",
   "name": "python",
   "nbconvert_exporter": "python",
   "pygments_lexer": "ipython3",
   "version": "3.10.8"
  },
  "orig_nbformat": 4
 },
 "nbformat": 4,
 "nbformat_minor": 2
}
