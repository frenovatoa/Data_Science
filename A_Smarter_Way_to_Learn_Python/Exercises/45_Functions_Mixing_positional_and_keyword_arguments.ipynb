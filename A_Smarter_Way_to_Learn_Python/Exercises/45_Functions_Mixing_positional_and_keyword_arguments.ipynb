{
 "cells": [
  {
   "cell_type": "markdown",
   "metadata": {},
   "source": [
    "# Functions: Mixing positional and keyword arguments"
   ]
  },
  {
   "cell_type": "markdown",
   "metadata": {},
   "source": [
    "You can mix positional arguments and keyword arguments. For example, you can code:\n",
    "```python\n",
    "give_greeting(\"Hello there\", first_name=\"Al\")\n",
    "```"
   ]
  },
  {
   "cell_type": "markdown",
   "metadata": {},
   "source": [
    "##### 01. In the following code, the first argument is a _____________ argument.\n",
    "```python\n",
    "give_greeting(\"Hello there\", first_name=\"Al\")\n",
    "```"
   ]
  },
  {
   "cell_type": "markdown",
   "metadata": {},
   "source": [
    "positional"
   ]
  },
  {
   "cell_type": "markdown",
   "metadata": {},
   "source": [
    "##### 02. In the following code, the second argument is a _____________ argument.\n",
    "```python\n",
    "give_greeting(\"Hello there\", first_name=\"Al\")\n",
    "```"
   ]
  },
  {
   "cell_type": "markdown",
   "metadata": {},
   "source": [
    "keyword"
   ]
  },
  {
   "cell_type": "markdown",
   "metadata": {},
   "source": [
    "##### 03. Call the function **concat**, providing two positional arguments, **x** and **y**."
   ]
  },
  {
   "cell_type": "markdown",
   "metadata": {},
   "source": [
    "```python\n",
    "concat(x, y)\n",
    "```"
   ]
  },
  {
   "cell_type": "markdown",
   "metadata": {},
   "source": [
    "##### 04. Call the function **calc**, providing **x**, a positional argument, and a keyword argument. The key is **y**, the value is **0**."
   ]
  },
  {
   "cell_type": "markdown",
   "metadata": {},
   "source": [
    "```python\n",
    "calc(x, y = 0)\n",
    "```"
   ]
  },
  {
   "cell_type": "markdown",
   "metadata": {},
   "source": [
    "##### 05. Call a function, providing a positional argument first and then a keyword argument. The values of both arguments are variables. Make everything up."
   ]
  },
  {
   "cell_type": "markdown",
   "metadata": {},
   "source": [
    "```python\t\n",
    "calc(multiplier, num = chosen_num)\n",
    "```"
   ]
  },
  {
   "cell_type": "markdown",
   "metadata": {},
   "source": [
    "##### 06. Here is the first line of a function and the code that calls it. Rewrite the calling code so it's legal.\n",
    "```python\n",
    "def calc(first_number, second_number):\n",
    "calc(second_number = 10, 8)\n",
    "```"
   ]
  },
  {
   "cell_type": "markdown",
   "metadata": {},
   "source": [
    "```python\n",
    "calc(8, second_number = 10)\n",
    "```"
   ]
  },
  {
   "cell_type": "markdown",
   "metadata": {},
   "source": [
    "##### 07. Call this function. Override the default. Make up the strings.\n",
    "```python\n",
    "def combine(first_name, last_name = \"Jones\"):\n",
    "```"
   ]
  },
  {
   "cell_type": "markdown",
   "metadata": {},
   "source": [
    "```python\n",
    "combine(\"Felipe\", last_name = \"Renovato\")\n",
    "```"
   ]
  },
  {
   "cell_type": "markdown",
   "metadata": {},
   "source": [
    "##### 08. Call the function **name_the_star**. The key is **star**. The value is the value matching \"Justified\" in the **shows** dictionary."
   ]
  },
  {
   "cell_type": "markdown",
   "metadata": {},
   "source": [
    "```python\n",
    "name_the_star(star = shows[\"Justified\"])\n",
    "```"
   ]
  },
  {
   "cell_type": "markdown",
   "metadata": {},
   "source": [
    "##### 09. Code the first line of a function. The first two parameters are positional, the third parameter is a keyword parameter with a default. The default is an integer. Make everything up."
   ]
  },
  {
   "cell_type": "markdown",
   "metadata": {},
   "source": [
    "```python\n",
    "def a(b, c, d = 4):\n",
    "```"
   ]
  },
  {
   "cell_type": "markdown",
   "metadata": {},
   "source": [
    "##### 10. Code a function call. The first and second arguments are positional arguments. The third and fourth arguments are keyword arguments. All values are variables. Make everything up."
   ]
  },
  {
   "cell_type": "markdown",
   "metadata": {},
   "source": [
    "```python\n",
    "add_nums(num1, num2, num3 = n3, num4 = n4)\n",
    "```"
   ]
  },
  {
   "cell_type": "markdown",
   "metadata": {},
   "source": [
    "##### 11. Code a function that does a math operation on two parameters and displays the result. Call the function. The first argument is a positional argument. The second argument is a keyword argument."
   ]
  },
  {
   "cell_type": "code",
   "execution_count": 1,
   "metadata": {},
   "outputs": [
    {
     "name": "stdout",
     "output_type": "stream",
     "text": [
      "5.0\n"
     ]
    }
   ],
   "source": [
    "def calc_quotient(dividend, divisor):\n",
    "    print(dividend / divisor)\n",
    "calc_quotient(15, divisor = 3)"
   ]
  },
  {
   "cell_type": "markdown",
   "metadata": {},
   "source": [
    "##### 12. Code a function with two parameters that have defaults. The function displays the parameters on separate lines. Call the function, overriding both defaults."
   ]
  },
  {
   "cell_type": "code",
   "execution_count": 5,
   "metadata": {},
   "outputs": [
    {
     "name": "stdout",
     "output_type": "stream",
     "text": [
      "Eggs\n",
      "Pizza\n"
     ]
    }
   ],
   "source": [
    "def get_meals(breakfast = \"Chilaquiles\", lunch = \"Tacos\"):\n",
    "    print(breakfast)\n",
    "    print(lunch)\n",
    "get_meals(breakfast = \"Eggs\", lunch = \"Pizza\")"
   ]
  }
 ],
 "metadata": {
  "kernelspec": {
   "display_name": "Python 3",
   "language": "python",
   "name": "python3"
  },
  "language_info": {
   "codemirror_mode": {
    "name": "ipython",
    "version": 3
   },
   "file_extension": ".py",
   "mimetype": "text/x-python",
   "name": "python",
   "nbconvert_exporter": "python",
   "pygments_lexer": "ipython3",
   "version": "3.10.8"
  },
  "orig_nbformat": 4
 },
 "nbformat": 4,
 "nbformat_minor": 2
}
