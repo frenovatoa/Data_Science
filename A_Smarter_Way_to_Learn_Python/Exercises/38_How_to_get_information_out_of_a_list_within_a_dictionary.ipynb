{
 "cells": [
  {
   "cell_type": "markdown",
   "metadata": {},
   "source": [
    "# How to get information out of a list within a dictionary"
   ]
  },
  {
   "cell_type": "markdown",
   "metadata": {},
   "source": [
    "##### 01. In this code, customer_29876 is a ______. (one word)\n",
    "```python\n",
    " if \"brother-in-law\" in customer_29876[\"discounts\"]:\n",
    "    discount_amount = .30\n",
    " elif \"loyalty\" in customer_29876[\"discounts\"]:\n",
    "    discount_amount = .15\n",
    "```"
   ]
  },
  {
   "cell_type": "markdown",
   "metadata": {},
   "source": [
    "dictionary"
   ]
  },
  {
   "cell_type": "markdown",
   "metadata": {},
   "source": [
    "##### 02. In this code, \"discounts\" is a ______. (one word)\n",
    "```python\n",
    " if \"brother-in-law\" in customer_29876[\"discounts\"]:\n",
    "    discount_amount = .30\n",
    " elif \"loyalty\" in customer_29876[\"discounts\"]:\n",
    "    discount_amount = .15\n",
    "```"
   ]
  },
  {
   "cell_type": "markdown",
   "metadata": {},
   "source": [
    "list"
   ]
  },
  {
   "cell_type": "markdown",
   "metadata": {},
   "source": [
    "##### 03. To check whether \"spanner\" is in the \"wrenches\" list inside the tools dictionary, complete the line.\n",
    "```python\n",
    "if \"spanner\" in ______________\n",
    "```"
   ]
  },
  {
   "cell_type": "markdown",
   "metadata": {},
   "source": [
    "```python\t\n",
    "tools[\"wrenches\"]:\n",
    "```"
   ]
  },
  {
   "cell_type": "markdown",
   "metadata": {},
   "source": [
    "##### 04. To check whether \"weaving\" is in the \"electives\" list inside the **courses** dictionary, complete the line.\n"
   ]
  },
  {
   "cell_type": "markdown",
   "metadata": {},
   "source": [
    "```python\n",
    "if \"weaving\" in courses[\"electives\"]:\n",
    "```"
   ]
  },
  {
   "cell_type": "markdown",
   "metadata": {},
   "source": [
    "##### 05. Check whether \"Mary\" is in the \"enrolled\" list inside the students dictionary."
   ]
  },
  {
   "cell_type": "markdown",
   "metadata": {},
   "source": [
    "```python\n",
    "if \"Mary\" in students[\"enrolled\"]:\n",
    "```"
   ]
  },
  {
   "cell_type": "markdown",
   "metadata": {},
   "source": [
    "##### 06. Check whether \"Marx\" is in a list within a dictionary. Make up the list and dictionary names."
   ]
  },
  {
   "cell_type": "markdown",
   "metadata": {},
   "source": [
    "```python\n",
    "if \"Marx\" in philosophers[\"german\"]:\n",
    "```"
   ]
  },
  {
   "cell_type": "markdown",
   "metadata": {},
   "source": [
    "##### 07. Test whether an integer is in a list within a dictionary. Make everything up."
   ]
  },
  {
   "cell_type": "markdown",
   "metadata": {},
   "source": [
    "```python\n",
    "if 5 in numbers[\"odd\"]:\n",
    "```"
   ]
  },
  {
   "cell_type": "markdown",
   "metadata": {},
   "source": [
    "##### 08. Test whether \"red\" is in the list within the dictionary.\n",
    "```python\n",
    "specs = {\n",
    "    \"colors\": [\"green\", \"blue\", \"purple\"],\n",
    "}\n",
    "```"
   ]
  },
  {
   "cell_type": "markdown",
   "metadata": {},
   "source": [
    "```python\n",
    "if \"red\" in specs[\"colors\"]:\n",
    "```"
   ]
  },
  {
   "cell_type": "markdown",
   "metadata": {},
   "source": [
    "##### 09. Test whether a color is in the list within the dictionary. Make up the color.\n",
    "```python\n",
    "specs = {\n",
    "    \"colors\": [\"green\", \"blue\", \"purple\"],\n",
    "}\n",
    "```"
   ]
  },
  {
   "cell_type": "markdown",
   "metadata": {},
   "source": [
    "```python\n",
    "if \"green\" in specs[\"colors\"]:\n",
    "```"
   ]
  },
  {
   "cell_type": "markdown",
   "metadata": {},
   "source": [
    "##### 10. Test whether a color is in the list within the dictionary. If so, display \"first\". If not, test whether another color is in the list. If so, display \"second\". Your choice of colors."
   ]
  },
  {
   "cell_type": "code",
   "execution_count": 1,
   "metadata": {},
   "outputs": [],
   "source": [
    "specs = {\n",
    "    \"colors\": [\"green\", \"blue\", \"purple\"],\n",
    "}"
   ]
  },
  {
   "cell_type": "code",
   "execution_count": 2,
   "metadata": {},
   "outputs": [
    {
     "name": "stdout",
     "output_type": "stream",
     "text": [
      "first\n"
     ]
    }
   ],
   "source": [
    "if \"blue\" in specs[\"colors\"]:\n",
    "    print(\"first\")\n",
    "elif \"purple\" in specs[\"colors\"]:\n",
    "    print(\"second\")"
   ]
  },
  {
   "cell_type": "markdown",
   "metadata": {},
   "source": [
    "##### 11. Test whether a particular career is in the list. If so, display \"yes\". If not, display \"no\"."
   ]
  },
  {
   "cell_type": "code",
   "execution_count": 3,
   "metadata": {},
   "outputs": [
    {
     "name": "stdout",
     "output_type": "stream",
     "text": [
      "yes\n"
     ]
    }
   ],
   "source": [
    "details = {\n",
    "    \"nickname\": \"Flash\",\n",
    "    \"married\": \"no\",\n",
    "    \"careers\": [\"firefighter\", \"mathematician\", \"movie star\"],\n",
    "}\n",
    "if \"mathematician\" in details[\"careers\"]:\n",
    "    print(\"yes\")\n",
    "else:\n",
    "    print(\"no\")"
   ]
  },
  {
   "cell_type": "markdown",
   "metadata": {},
   "source": [
    "##### 12. If he is married and has \"rock star\" in his career **list**, display \"Uh-oh\"."
   ]
  },
  {
   "cell_type": "code",
   "execution_count": 5,
   "metadata": {},
   "outputs": [
    {
     "name": "stdout",
     "output_type": "stream",
     "text": [
      "Uh-oh\n"
     ]
    }
   ],
   "source": [
    "details = {\n",
    "    \"nickname\": \"Mick\",\n",
    "    \"married\": \"yes\",\n",
    "    \"careers\": [\"firefighter\", \"mathematician\", \"rock star\"],\n",
    "}\n",
    "if details[\"married\"] == \"yes\" and \"rock star\" in details[\"careers\"]:\n",
    "    print(\"Uh-oh\")"
   ]
  }
 ],
 "metadata": {
  "kernelspec": {
   "display_name": "Python 3",
   "language": "python",
   "name": "python3"
  },
  "language_info": {
   "codemirror_mode": {
    "name": "ipython",
    "version": 3
   },
   "file_extension": ".py",
   "mimetype": "text/x-python",
   "name": "python",
   "nbconvert_exporter": "python",
   "pygments_lexer": "ipython3",
   "version": "3.10.8"
  },
  "orig_nbformat": 4
 },
 "nbformat": 4,
 "nbformat_minor": 2
}
