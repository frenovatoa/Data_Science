{
 "cells": [
  {
   "cell_type": "markdown",
   "metadata": {},
   "source": [
    "# Lists: Deleting and removing elements"
   ]
  },
  {
   "cell_type": "code",
   "execution_count": 4,
   "metadata": {},
   "outputs": [
    {
     "name": "stdout",
     "output_type": "stream",
     "text": [
      "Original list: ['call mom', 'go to the gym', 'do homework']\n",
      "After deleting the second task: ['call mom', 'do homework']\n",
      "After removing the last task: ['call mom']\n"
     ]
    }
   ],
   "source": [
    "# Suppose you have a list of things to do:\n",
    "tasks = [\"call mom\", \"go to the gym\", \"do homework\"]\n",
    "print(\"Original list: \" + str(tasks))\n",
    "\n",
    "# You can delete any list element by specifying its index number.\n",
    "del tasks[1]\n",
    "print(\"After deleting the second task: \" + str(tasks))\n",
    "\n",
    "# You can also remove an item from a list by specifying its value.\n",
    "tasks.remove(\"do homework\")\n",
    "print(\"After removing the last task: \" + str(tasks))"
   ]
  },
  {
   "cell_type": "markdown",
   "metadata": {},
   "source": [
    "##### 01. What is the keyword for eliminating a list element by specifying its index number?"
   ]
  },
  {
   "cell_type": "markdown",
   "metadata": {},
   "source": [
    "del"
   ]
  },
  {
   "cell_type": "markdown",
   "metadata": {},
   "source": [
    "##### 02. What is the keyword for eliminating a list element by specifying its value?"
   ]
  },
  {
   "cell_type": "markdown",
   "metadata": {},
   "source": [
    "remove"
   ]
  },
  {
   "cell_type": "markdown",
   "metadata": {},
   "source": [
    "##### 03. Eliminate the element with an index of 2 from a list whose name is **products**."
   ]
  },
  {
   "cell_type": "markdown",
   "metadata": {},
   "source": [
    "```python\n",
    "del products[2]\n",
    "```"
   ]
  },
  {
   "cell_type": "markdown",
   "metadata": {},
   "source": [
    "##### 04. Eliminate \"lamp\" from the **products** list."
   ]
  },
  {
   "cell_type": "markdown",
   "metadata": {},
   "source": [
    "```python\n",
    "products.remove(\"lamp\")\n",
    "```"
   ]
  },
  {
   "cell_type": "markdown",
   "metadata": {},
   "source": [
    "##### 05. Eliminate \"lamp\" from the list using its index number.\n",
    "```python\n",
    "products = [\"chair\", \"table\", \"lamp\", \"rug\", \"couch\"]\n",
    "```"
   ]
  },
  {
   "cell_type": "markdown",
   "metadata": {},
   "source": [
    "```python\n",
    "del products[2]\n",
    "```"
   ]
  },
  {
   "cell_type": "markdown",
   "metadata": {},
   "source": [
    "##### 06. Eliminate \"chair\" from the list using its value.\n",
    "```python\n",
    "products = [\"chair\", \"table\", \"lamp\", \"rug\", \"couch\"]\n",
    "```"
   ]
  },
  {
   "cell_type": "markdown",
   "metadata": {},
   "source": [
    "```python\n",
    "products.remove(\"chair\")\n",
    "```"
   ]
  },
  {
   "cell_type": "markdown",
   "metadata": {},
   "source": [
    "##### 07. Eliminate an element from a list using its index number. Make up the list name and index number."
   ]
  },
  {
   "cell_type": "code",
   "execution_count": 5,
   "metadata": {},
   "outputs": [
    {
     "name": "stdout",
     "output_type": "stream",
     "text": [
      "['Pikachu', 'Charizard', 'Gyarados', 'Dragonite', 'Onyx']\n"
     ]
    }
   ],
   "source": [
    "pokemon = [\"Pikachu\", \"Charizard\", \"Bulbasaur\", \"Gyarados\", \"Dragonite\", \"Onyx\"]\n",
    "del pokemon[2]\n",
    "print(pokemon)"
   ]
  },
  {
   "cell_type": "markdown",
   "metadata": {},
   "source": [
    "##### 08. Using **remove**, eliminate a string element from a list using its value. Make up the list name and the value."
   ]
  },
  {
   "cell_type": "code",
   "execution_count": 6,
   "metadata": {},
   "outputs": [
    {
     "name": "stdout",
     "output_type": "stream",
     "text": [
      "['Pikachu', 'Charizard', 'Dragonite', 'Onyx']\n"
     ]
    }
   ],
   "source": [
    "pokemon.remove(\"Gyarados\")\n",
    "print(pokemon)"
   ]
  },
  {
   "cell_type": "markdown",
   "metadata": {},
   "source": [
    "##### 09. On one line add a string to the end of a list using the **append** keyword. On the next line eliminate it by specifying its value. Make up the string and the name of the list."
   ]
  },
  {
   "cell_type": "markdown",
   "metadata": {},
   "source": [
    "```python\n",
    "fruits.append(\"apple\")\n",
    "fruits.remove(\"apple\")\n",
    "```"
   ]
  },
  {
   "cell_type": "markdown",
   "metadata": {},
   "source": [
    "##### 10. Eliminate \"rose\" by specifying its index number.\n",
    "```python\n",
    "flowers = [\"hyacinth\", \"tulip\", \"lotus\", \"rose\", \"geranium\"]\n",
    "```"
   ]
  },
  {
   "cell_type": "markdown",
   "metadata": {},
   "source": [
    "```python\n",
    "del flowers[3]\n",
    "```"
   ]
  },
  {
   "cell_type": "markdown",
   "metadata": {},
   "source": [
    "##### 11. Eliminate \"sink\" from the list using its index number. Then display the list.\n",
    "```python\n",
    "products = [\"lamp\", \"table\", \"chair\", \"couch\", \"sink\"]\n",
    "```"
   ]
  },
  {
   "cell_type": "code",
   "execution_count": 7,
   "metadata": {},
   "outputs": [
    {
     "name": "stdout",
     "output_type": "stream",
     "text": [
      "['lamp', 'table', 'chair', 'couch']\n"
     ]
    }
   ],
   "source": [
    "products = [\"lamp\", \"table\", \"chair\", \"couch\", \"sink\"]\n",
    "del products[4]\n",
    "print(products)"
   ]
  },
  {
   "cell_type": "markdown",
   "metadata": {},
   "source": [
    "##### 12. Eliminate \"sink\" from the list using its value. Then display the list.\n",
    "```python\n",
    "products = [\"lamp\", \"table\", \"chair\", \"couch\", \"sink\"]\n",
    "```"
   ]
  },
  {
   "cell_type": "code",
   "execution_count": 8,
   "metadata": {},
   "outputs": [
    {
     "name": "stdout",
     "output_type": "stream",
     "text": [
      "['lamp', 'table', 'chair', 'couch']\n"
     ]
    }
   ],
   "source": [
    "products = [\"lamp\", \"table\", \"chair\", \"couch\", \"sink\"]\n",
    "products.remove(\"sink\")\n",
    "print(products)"
   ]
  }
 ],
 "metadata": {
  "kernelspec": {
   "display_name": "Python 3",
   "language": "python",
   "name": "python3"
  },
  "language_info": {
   "codemirror_mode": {
    "name": "ipython",
    "version": 3
   },
   "file_extension": ".py",
   "mimetype": "text/x-python",
   "name": "python",
   "nbconvert_exporter": "python",
   "pygments_lexer": "ipython3",
   "version": "3.10.8"
  },
  "orig_nbformat": 4
 },
 "nbformat": 4,
 "nbformat_minor": 2
}
