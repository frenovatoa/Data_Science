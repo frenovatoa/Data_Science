{
 "cells": [
  {
   "cell_type": "markdown",
   "metadata": {},
   "source": [
    "# Dictionaries: Removing and changing items"
   ]
  },
  {
   "cell_type": "code",
   "execution_count": 1,
   "metadata": {},
   "outputs": [
    {
     "name": "stdout",
     "output_type": "stream",
     "text": [
      "{'first_name': 'Felipe', 'last_name': 'Avila'}\n"
     ]
    }
   ],
   "source": [
    "# We have a dictionary of a customer with the following keys:\n",
    "customer_25 = {\"first_name\": \"Felipe\", \"last_name\": \"Renovato\", \"nss\": 151200}\n",
    "\n",
    "# Delete the key \"nss\" from the dictionary.\n",
    "del customer_25[\"nss\"]\n",
    "\n",
    "# Rename value of key \"last_name\" to \"Avila\".\n",
    "customer_25[\"last_name\"] = \"Avila\"\n",
    "\n",
    "# Print the dictionary.\n",
    "print(customer_25)"
   ]
  },
  {
   "cell_type": "markdown",
   "metadata": {},
   "source": [
    "##### 01. Eliminate a list element using the element's value, which is \"gold\". Make up the name of the list."
   ]
  },
  {
   "cell_type": "code",
   "execution_count": 4,
   "metadata": {},
   "outputs": [],
   "source": [
    "# List of metals.\n",
    "metals = [\"copper\", \"gold\", \"silver\"]"
   ]
  },
  {
   "cell_type": "code",
   "execution_count": 5,
   "metadata": {},
   "outputs": [],
   "source": [
    "metals.remove(\"gold\")"
   ]
  },
  {
   "cell_type": "code",
   "execution_count": 6,
   "metadata": {},
   "outputs": [
    {
     "name": "stdout",
     "output_type": "stream",
     "text": [
      "['copper', 'silver']\n"
     ]
    }
   ],
   "source": [
    "print(metals)"
   ]
  },
  {
   "cell_type": "markdown",
   "metadata": {},
   "source": [
    "##### 02. Eliminate a list element using the element's index number. Make up the name of the list and the index number."
   ]
  },
  {
   "cell_type": "code",
   "execution_count": 7,
   "metadata": {},
   "outputs": [],
   "source": [
    "del metals[0]"
   ]
  },
  {
   "cell_type": "code",
   "execution_count": 8,
   "metadata": {},
   "outputs": [
    {
     "name": "stdout",
     "output_type": "stream",
     "text": [
      "['silver']\n"
     ]
    }
   ],
   "source": [
    "print(metals)"
   ]
  },
  {
   "cell_type": "markdown",
   "metadata": {},
   "source": [
    "##### 03. Complete the code to eliminate the item whose key is \"part 355\".\n",
    "```python\n",
    "del maritime_equipment_________\n",
    "```"
   ]
  },
  {
   "cell_type": "markdown",
   "metadata": {},
   "source": [
    "```python\n",
    "[\"part 355\"]\n",
    "```"
   ]
  },
  {
   "cell_type": "markdown",
   "metadata": {},
   "source": [
    "##### 04. Eliminate the element whose key is \"fifth place\" from the dictionary **winners**."
   ]
  },
  {
   "cell_type": "markdown",
   "metadata": {},
   "source": [
    "```python\n",
    "del winners[\"fifth place\"]\n",
    "```"
   ]
  },
  {
   "cell_type": "markdown",
   "metadata": {},
   "source": [
    "##### 05. Delete a dictionary item whose key is an integer. Make everything up."
   ]
  },
  {
   "cell_type": "code",
   "execution_count": 9,
   "metadata": {},
   "outputs": [],
   "source": [
    "multiples_of_3 = {\n",
    "    3: \"three\",\n",
    "    \"six\": 6,\n",
    "    9: \"nine\",\n",
    "    12: \"twelve\",\n",
    "}"
   ]
  },
  {
   "cell_type": "code",
   "execution_count": 10,
   "metadata": {},
   "outputs": [],
   "source": [
    "del multiples_of_3[3]"
   ]
  },
  {
   "cell_type": "code",
   "execution_count": 11,
   "metadata": {},
   "outputs": [
    {
     "name": "stdout",
     "output_type": "stream",
     "text": [
      "{'six': 6, 9: 'nine', 12: 'twelve'}\n"
     ]
    }
   ],
   "source": [
    "# Result of deleting key 3 from the dictionary.\n",
    "print(multiples_of_3)"
   ]
  },
  {
   "cell_type": "markdown",
   "metadata": {},
   "source": [
    "##### 06. Delete a dictionary item whose key is a string. Make everything up."
   ]
  },
  {
   "cell_type": "code",
   "execution_count": 12,
   "metadata": {},
   "outputs": [],
   "source": [
    "del multiples_of_3[\"six\"]"
   ]
  },
  {
   "cell_type": "markdown",
   "metadata": {},
   "source": [
    "##### 07. Delete the second item in this dictionary:"
   ]
  },
  {
   "cell_type": "code",
   "execution_count": 13,
   "metadata": {},
   "outputs": [],
   "source": [
    "numbers = {\n",
    "    \"first\": 1,\n",
    "    \"second\": 2,\n",
    "    \"third\": 3,\n",
    "    \"fourth\": 4,\n",
    "}"
   ]
  },
  {
   "cell_type": "code",
   "execution_count": 14,
   "metadata": {},
   "outputs": [],
   "source": [
    "del numbers[\"second\"]"
   ]
  },
  {
   "cell_type": "markdown",
   "metadata": {},
   "source": [
    "##### 08. Change the value of the third item to 3.0."
   ]
  },
  {
   "cell_type": "code",
   "execution_count": 18,
   "metadata": {},
   "outputs": [],
   "source": [
    "numbers = {\n",
    "    \"first\": 1,\n",
    "    \"second\": 2,\n",
    "    \"third\": 3,\n",
    "    \"fourth\": 4,\n",
    "}"
   ]
  },
  {
   "cell_type": "code",
   "execution_count": 19,
   "metadata": {},
   "outputs": [],
   "source": [
    "numbers[\"third\"] = 3.0"
   ]
  },
  {
   "cell_type": "code",
   "execution_count": 20,
   "metadata": {},
   "outputs": [
    {
     "name": "stdout",
     "output_type": "stream",
     "text": [
      "{'first': 1, 'second': 2, 'third': 3.0, 'fourth': 4}\n"
     ]
    }
   ],
   "source": [
    "# Result of changing the value of key \"third\" to \"3.0\".\n",
    "print(numbers)"
   ]
  },
  {
   "cell_type": "markdown",
   "metadata": {},
   "source": [
    "##### 09. Code a three-item dictionary in five lines of code. Then delete the first item. The keys are numbers. The values are strings. Make everything up."
   ]
  },
  {
   "cell_type": "code",
   "execution_count": 21,
   "metadata": {},
   "outputs": [],
   "source": [
    "noble_gases = {\n",
    "    2: \"helium\",\n",
    "    10: \"neon\",\n",
    "    18: \"argon\",\n",
    "}\n",
    "del noble_gases[2]"
   ]
  },
  {
   "cell_type": "markdown",
   "metadata": {},
   "source": [
    "##### 10. Code a three-item dictionary using five lines of code. Then delete the first item. The keys are strings. The values are numbers. Make everything up."
   ]
  },
  {
   "cell_type": "code",
   "execution_count": 22,
   "metadata": {},
   "outputs": [],
   "source": [
    "heavy_metals = {\n",
    "    \"Mercury\": 80,\n",
    "    \"Cadmium\": 48,\n",
    "    \"Thallium\": 81,\n",
    "}\n",
    "del heavy_metals[\"Mercury\"]"
   ]
  },
  {
   "cell_type": "markdown",
   "metadata": {},
   "source": [
    "##### 11. Solve the following:\n",
    "1. Code a 3-item dictionary.\n",
    "2. Delete one of the items.\n",
    "3. Display the dictionary."
   ]
  },
  {
   "cell_type": "code",
   "execution_count": 23,
   "metadata": {},
   "outputs": [
    {
     "name": "stdout",
     "output_type": "stream",
     "text": [
      "{'Breaking Bad': 'Walter White', 'Rick and Morty': 'Rick Sanchez'}\n"
     ]
    }
   ],
   "source": [
    "protagonists = {\n",
    "    \"The Sopranos\": \"Tony Soprano\",\n",
    "    \"Breaking Bad\": \"Walter White\",\n",
    "    \"Rick and Morty\": \"Rick Sanchez\",\n",
    "}\n",
    "del protagonists[\"The Sopranos\"]\n",
    "print(protagonists)"
   ]
  },
  {
   "cell_type": "markdown",
   "metadata": {},
   "source": [
    "##### 12. Solve the following:\n",
    "1. Code a 3-item dictionary.\n",
    "2. Change the value of one of the items.\n",
    "3. Display the dictionary."
   ]
  },
  {
   "cell_type": "code",
   "execution_count": 24,
   "metadata": {},
   "outputs": [
    {
     "name": "stdout",
     "output_type": "stream",
     "text": [
      "{'Sherlock Holmes': 'James Moriarty', 'One Piece': 'Kaido', 'Harry Potter': 'Lord Voldemort'}\n"
     ]
    }
   ],
   "source": [
    "antagonists = {\n",
    "    \"Sherlock Holmes\": \"James Moriarty\",\n",
    "    \"One Piece\": \"Marshall D. Teach\",\n",
    "    \"Harry Potter\": \"Lord Voldemort\",\n",
    "}\n",
    "antagonists[\"One Piece\"] = \"Kaido\"\n",
    "print(antagonists)"
   ]
  }
 ],
 "metadata": {
  "kernelspec": {
   "display_name": "Python 3",
   "language": "python",
   "name": "python3"
  },
  "language_info": {
   "codemirror_mode": {
    "name": "ipython",
    "version": 3
   },
   "file_extension": ".py",
   "mimetype": "text/x-python",
   "name": "python",
   "nbconvert_exporter": "python",
   "pygments_lexer": "ipython3",
   "version": "3.10.8"
  },
  "orig_nbformat": 4
 },
 "nbformat": 4,
 "nbformat_minor": 2
}
