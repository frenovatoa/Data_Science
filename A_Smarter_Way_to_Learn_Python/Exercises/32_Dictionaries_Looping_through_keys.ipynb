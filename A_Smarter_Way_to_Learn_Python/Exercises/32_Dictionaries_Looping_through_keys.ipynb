{
 "cells": [
  {
   "cell_type": "markdown",
   "metadata": {},
   "source": [
    "# Dictionaries: Looping through keys"
   ]
  },
  {
   "cell_type": "code",
   "execution_count": 1,
   "metadata": {},
   "outputs": [
    {
     "name": "stdout",
     "output_type": "stream",
     "text": [
      "first_name\n",
      "last_name\n",
      "nss\n"
     ]
    }
   ],
   "source": [
    "customer_25 = {\"first_name\": \"Felipe\", \"last_name\": \"Renovato\", \"nss\": 151200}\n",
    "\n",
    "# Print each key from the dictionary using a loop.\n",
    "for each_key in customer_25.keys():\n",
    "    print(each_key)"
   ]
  },
  {
   "cell_type": "markdown",
   "metadata": {},
   "source": [
    "##### 01. Code the first line to loop through the values in a dictionary. Make up the dictionary name and the name of the variable that stores each value."
   ]
  },
  {
   "cell_type": "markdown",
   "metadata": {},
   "source": [
    "```python\n",
    "for word in definitions.values():\n",
    "```"
   ]
  },
  {
   "cell_type": "markdown",
   "metadata": {},
   "source": [
    "##### 02. Code the first line to loop through the keys of a dictionary. Make up the dictionary name and the name of the variable that stores keys."
   ]
  },
  {
   "cell_type": "markdown",
   "metadata": {},
   "source": [
    "```python\t\n",
    "for symbol in chemical_elements.keys():\n",
    "```"
   ]
  },
  {
   "cell_type": "markdown",
   "metadata": {},
   "source": [
    "##### 03. Code the first line to loop through the keys of the **customers** dictionary. The name of the variable that holds the keys is **k**."
   ]
  },
  {
   "cell_type": "markdown",
   "metadata": {},
   "source": [
    "```python\n",
    "for k in customers.keys():\n",
    "```"
   ]
  },
  {
   "cell_type": "markdown",
   "metadata": {},
   "source": [
    "##### 04. Code the first line to loop through the elements in a list named **numbers**. The variable that holds the elements is **num**."
   ]
  },
  {
   "cell_type": "markdown",
   "metadata": {},
   "source": [
    "```python\n",
    "for num in numbers:\n",
    "```"
   ]
  },
  {
   "cell_type": "markdown",
   "metadata": {},
   "source": [
    "##### 05. Loop through the keys of a dictionary. Display each key. Make everything up."
   ]
  },
  {
   "cell_type": "code",
   "execution_count": 1,
   "metadata": {},
   "outputs": [],
   "source": [
    "atomic_numbers = {\n",
    "    \"H\": 1,\n",
    "    \"He\": 2,\n",
    "    \"Li\": 3,\n",
    "    \"Be\": 4,\n",
    "    \"B\": 5\n",
    "}"
   ]
  },
  {
   "cell_type": "code",
   "execution_count": 2,
   "metadata": {},
   "outputs": [
    {
     "name": "stdout",
     "output_type": "stream",
     "text": [
      "H\n",
      "He\n",
      "Li\n",
      "Be\n",
      "B\n"
     ]
    }
   ],
   "source": [
    "for each_key in atomic_numbers.keys():\n",
    "    print(each_key)"
   ]
  },
  {
   "cell_type": "markdown",
   "metadata": {},
   "source": [
    "##### 06. In a single line, display the value paired with a key in a dictionary. The key is a string. Make up the name of the dictionary and the key."
   ]
  },
  {
   "cell_type": "code",
   "execution_count": 4,
   "metadata": {},
   "outputs": [
    {
     "name": "stdout",
     "output_type": "stream",
     "text": [
      "3\n"
     ]
    }
   ],
   "source": [
    "print(atomic_numbers[\"Li\"])"
   ]
  },
  {
   "cell_type": "markdown",
   "metadata": {},
   "source": [
    "##### 07. Loop through the keys in a dictionary and display the value for each key. Make everything up."
   ]
  },
  {
   "cell_type": "code",
   "execution_count": 5,
   "metadata": {},
   "outputs": [
    {
     "name": "stdout",
     "output_type": "stream",
     "text": [
      "1\n",
      "2\n",
      "3\n",
      "4\n",
      "5\n"
     ]
    }
   ],
   "source": [
    "for each_key in atomic_numbers.keys():\n",
    "    print(each_key)"
   ]
  },
  {
   "cell_type": "markdown",
   "metadata": {},
   "source": [
    "##### 08. Loop through a dictionary's keys. Append the value of each key to a list. Make everything up."
   ]
  },
  {
   "cell_type": "code",
   "execution_count": 6,
   "metadata": {},
   "outputs": [],
   "source": [
    "chemical_symbols = []"
   ]
  },
  {
   "cell_type": "code",
   "execution_count": 7,
   "metadata": {},
   "outputs": [],
   "source": [
    "for each_symbol in atomic_numbers.keys():\n",
    "    chemical_symbols.append(each_symbol)"
   ]
  },
  {
   "cell_type": "code",
   "execution_count": 8,
   "metadata": {},
   "outputs": [
    {
     "name": "stdout",
     "output_type": "stream",
     "text": [
      "['H', 'He', 'Li', 'Be', 'B']\n"
     ]
    }
   ],
   "source": [
    "print(chemical_symbols)"
   ]
  },
  {
   "cell_type": "markdown",
   "metadata": {},
   "source": [
    "##### 09. Loop through a dictionary's keys. If a key's value is greater than or equal to 99, display \"ok\" and break the loop."
   ]
  },
  {
   "cell_type": "markdown",
   "metadata": {},
   "source": [
    "```python\n",
    "for key in dictionary.keys():\n",
    "    if key >= 99:\n",
    "        print(\"ok\")\n",
    "        break\n",
    "```"
   ]
  },
  {
   "cell_type": "markdown",
   "metadata": {},
   "source": [
    "##### 10. Loop through a dictionary's keys. Add each item—both its key and value—to a second dictionary. Make everything up."
   ]
  },
  {
   "cell_type": "code",
   "execution_count": 10,
   "metadata": {},
   "outputs": [],
   "source": [
    "atomic_numbers_2 = {}"
   ]
  },
  {
   "cell_type": "code",
   "execution_count": 11,
   "metadata": {},
   "outputs": [],
   "source": [
    "for each_symbol in atomic_numbers.keys():\n",
    "    atomic_numbers_2[each_symbol] = atomic_numbers[each_symbol]"
   ]
  },
  {
   "cell_type": "code",
   "execution_count": 12,
   "metadata": {},
   "outputs": [
    {
     "name": "stdout",
     "output_type": "stream",
     "text": [
      "{'H': 1, 'He': 2, 'Li': 3, 'Be': 4, 'B': 5}\n"
     ]
    }
   ],
   "source": [
    "print(atomic_numbers_2)"
   ]
  },
  {
   "cell_type": "markdown",
   "metadata": {},
   "source": [
    "##### 11. Loop through the dictionary's keys, displaying each of the dictionary's values. Store the keys in the variable a_key.\n",
    "```python\n",
    "hardness_scale = {\n",
    "    \"talc\": 1,\n",
    "    \"gypsum\": 3,\n",
    "    \"calcite\": 9,\n",
    "}\n",
    "```"
   ]
  },
  {
   "cell_type": "code",
   "execution_count": 13,
   "metadata": {},
   "outputs": [
    {
     "name": "stdout",
     "output_type": "stream",
     "text": [
      "1\n",
      "3\n",
      "9\n"
     ]
    }
   ],
   "source": [
    "hardness_scale = {\n",
    "    \"talc\": 1,\n",
    "    \"gypsum\": 3,\n",
    "    \"calcite\": 9,\n",
    "}\n",
    "for a_key in hardness_scale.keys():\n",
    "    print(hardness_scale[a_key])"
   ]
  },
  {
   "cell_type": "markdown",
   "metadata": {},
   "source": [
    "##### 12. Loop through the hardness_scale dictionary, adding each key-value pair in it to the minerals dictionary. Display the minerals dictionary.\n",
    "```python\n",
    "minerals = {}\n",
    "hardness_scale = {\n",
    "    \"talc\": 1,\n",
    "    \"gypsum\": 3,\n",
    "    \"calcite\": 9,\n",
    "}\n",
    "```"
   ]
  },
  {
   "cell_type": "code",
   "execution_count": 14,
   "metadata": {},
   "outputs": [
    {
     "name": "stdout",
     "output_type": "stream",
     "text": [
      "{'talc': 1, 'gypsum': 3, 'calcite': 9}\n"
     ]
    }
   ],
   "source": [
    "minerals = {}\n",
    "hardness_scale = {\n",
    "    \"talc\": 1,\n",
    "    \"gypsum\": 3,\n",
    "    \"calcite\": 9,\n",
    "}\n",
    "for a_key in hardness_scale.keys():\n",
    "    minerals[a_key] = hardness_scale[a_key]\n",
    "print(minerals)\n"
   ]
  }
 ],
 "metadata": {
  "kernelspec": {
   "display_name": "Python 3",
   "language": "python",
   "name": "python3"
  },
  "language_info": {
   "codemirror_mode": {
    "name": "ipython",
    "version": 3
   },
   "file_extension": ".py",
   "mimetype": "text/x-python",
   "name": "python",
   "nbconvert_exporter": "python",
   "pygments_lexer": "ipython3",
   "version": "3.10.8"
  },
  "orig_nbformat": 4
 },
 "nbformat": 4,
 "nbformat_minor": 2
}
