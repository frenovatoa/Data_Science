{
 "cells": [
  {
   "cell_type": "markdown",
   "metadata": {},
   "source": [
    "# `for` loops"
   ]
  },
  {
   "cell_type": "code",
   "execution_count": 3,
   "metadata": {},
   "outputs": [
    {
     "name": "stdout",
     "output_type": "stream",
     "text": [
      "I love soccer!\n"
     ]
    }
   ],
   "source": [
    "sports = [\"soccer\", \"baseball\", \"football\", \"hockey\"]\n",
    "\n",
    "# Loop through the list of sports.\n",
    "my_favorite_sport = \"soccer\"\n",
    "for sport in sports:\n",
    "    if my_favorite_sport == sport:\n",
    "        print(\"I love \" + sport + \"!\")"
   ]
  },
  {
   "cell_type": "code",
   "execution_count": 2,
   "metadata": {},
   "outputs": [
    {
     "name": "stdout",
     "output_type": "stream",
     "text": [
      "1\n",
      "2\n",
      "3\n",
      "4\n",
      "5\n",
      "6\n",
      "7\n",
      "8\n",
      "9\n"
     ]
    }
   ],
   "source": [
    "# Loop through the numbers 1 to 10.\n",
    "for i in range(1, 10):\n",
    "    print(i)"
   ]
  },
  {
   "cell_type": "markdown",
   "metadata": {},
   "source": [
    "##### 01.What is the name of the list that we're looping through here?\n",
    "```python\n",
    "for a_clean_city in cleanest_cities:\n",
    "```"
   ]
  },
  {
   "cell_type": "markdown",
   "metadata": {},
   "source": [
    "cleanest_cities"
   ]
  },
  {
   "cell_type": "markdown",
   "metadata": {},
   "source": [
    "##### 02. What is the name of the variable that stores a list element each time through the loop?\n",
    "```python\n",
    "for a_clean_city in cleanest_cities:\n",
    "```"
   ]
  },
  {
   "cell_type": "markdown",
   "metadata": {},
   "source": [
    "a_clean_city"
   ]
  },
  {
   "cell_type": "markdown",
   "metadata": {},
   "source": [
    "##### 03. Looping through the list cleanest_cities, complete the line.\n",
    "```python\n",
    "for a_clean_city ______________\n",
    "```"
   ]
  },
  {
   "cell_type": "markdown",
   "metadata": {},
   "source": [
    "in cleanest_cities:"
   ]
  },
  {
   "cell_type": "markdown",
   "metadata": {},
   "source": [
    "##### 04. We're looping through the list **y** and assigning each element to the variable **x**. Code the first line."
   ]
  },
  {
   "cell_type": "markdown",
   "metadata": {},
   "source": [
    "```python\n",
    "for x in y:\n",
    "```"
   ]
  },
  {
   "cell_type": "markdown",
   "metadata": {},
   "source": [
    "##### 05. Looping through y, we're testing if **x** has the same value as **z**. Write the second line. Don't forget to indent the line.\n",
    "```python\n",
    "for x in y:\n",
    "```"
   ]
  },
  {
   "cell_type": "markdown",
   "metadata": {},
   "source": [
    "```python\n",
    "    if x == z:\n",
    "```"
   ]
  },
  {
   "cell_type": "markdown",
   "metadata": {},
   "source": [
    "##### 06. Looping through **y**, we're testing if **x** has the same value as **z**. If so, display \"ok\". Write the third line. Don't forget to indent the line two tabs.\n",
    "```python\n",
    "for x in y:\n",
    "    if x == z:\n",
    "```"
   ]
  },
  {
   "cell_type": "markdown",
   "metadata": {},
   "source": [
    "```python\n",
    "        print(\"ok\")\n",
    "```"
   ]
  },
  {
   "cell_type": "markdown",
   "metadata": {},
   "source": [
    "##### 07. Write the first line of a for loop. Make up the variable name and the list name."
   ]
  },
  {
   "cell_type": "markdown",
   "metadata": {},
   "source": [
    "```python\n",
    "for animal in animals:\n",
    "```"
   ]
  },
  {
   "cell_type": "markdown",
   "metadata": {},
   "source": [
    "##### 08. Write the first two lines of a **for** loop. The second line tests whether the list element is greater than or equal to 99. Make everything else up. Don't forget to indent the second line."
   ]
  },
  {
   "cell_type": "code",
   "execution_count": 2,
   "metadata": {},
   "outputs": [
    {
     "name": "stdout",
     "output_type": "stream",
     "text": [
      "That number is big!\n",
      "That number is big!\n"
     ]
    }
   ],
   "source": [
    "numbers = [97, 900, 55, 1000]\n",
    "for number in numbers:\n",
    "    if number >= 99:\n",
    "        print(\"That number is big!\")"
   ]
  },
  {
   "cell_type": "markdown",
   "metadata": {},
   "source": [
    "##### 09. Loop through a list, displaying each element. Make up the names."
   ]
  },
  {
   "cell_type": "code",
   "execution_count": 3,
   "metadata": {},
   "outputs": [
    {
     "name": "stdout",
     "output_type": "stream",
     "text": [
      "97\n",
      "900\n",
      "55\n",
      "1000\n"
     ]
    }
   ],
   "source": [
    "for number in numbers:\n",
    "    print(number)"
   ]
  },
  {
   "cell_type": "markdown",
   "metadata": {},
   "source": [
    "##### 10. Loop through a list. If the element has the same value as some variable, display \"ok\". Make everything up."
   ]
  },
  {
   "cell_type": "code",
   "execution_count": 4,
   "metadata": {},
   "outputs": [
    {
     "name": "stdout",
     "output_type": "stream",
     "text": [
      "ok\n"
     ]
    }
   ],
   "source": [
    "my_number = 1000\n",
    "for number in numbers:\n",
    "    if number == my_number:\n",
    "        print(\"ok\")"
   ]
  },
  {
   "cell_type": "markdown",
   "metadata": {},
   "source": [
    "##### 11. Loop through the tuple. If one of the elements has the same value as my_street, display \"yes\".\n",
    "```python\n",
    "my_street = \"Main\"\n",
    "streets = (\"Elm\", \"Walnut\", \"Center\", \"Main\", \"Front\")\n",
    "```"
   ]
  },
  {
   "cell_type": "code",
   "execution_count": 5,
   "metadata": {},
   "outputs": [
    {
     "name": "stdout",
     "output_type": "stream",
     "text": [
      "yes\n"
     ]
    }
   ],
   "source": [
    "my_street = \"Main\"\n",
    "streets = (\"Elm\", \"Walnut\", \"Center\", \"Main\", \"Front\")\n",
    "for street in streets:\n",
    "    if street == my_street:\n",
    "        print(\"yes\")"
   ]
  },
  {
   "cell_type": "markdown",
   "metadata": {},
   "source": [
    "##### 12. Code a list with 3 elements in it. Loop through the list, displaying each element."
   ]
  },
  {
   "cell_type": "code",
   "execution_count": 6,
   "metadata": {},
   "outputs": [
    {
     "name": "stdout",
     "output_type": "stream",
     "text": [
      "Coffee\n",
      "Coquita\n",
      "Rock\n"
     ]
    }
   ],
   "source": [
    "my_pets = [\"Coffee\", \"Coquita\", \"Rock\"]\n",
    "for my_pet in my_pets:\n",
    "    print(my_pet)"
   ]
  }
 ],
 "metadata": {
  "kernelspec": {
   "display_name": "Python 3",
   "language": "python",
   "name": "python3"
  },
  "language_info": {
   "codemirror_mode": {
    "name": "ipython",
    "version": 3
   },
   "file_extension": ".py",
   "mimetype": "text/x-python",
   "name": "python",
   "nbconvert_exporter": "python",
   "pygments_lexer": "ipython3",
   "version": "3.10.8"
  },
  "orig_nbformat": 4
 },
 "nbformat": 4,
 "nbformat_minor": 2
}
