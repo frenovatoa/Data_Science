{
 "cells": [
  {
   "cell_type": "markdown",
   "metadata": {},
   "source": [
    "# Functions: Assigning a default value to a parameter"
   ]
  },
  {
   "cell_type": "code",
   "execution_count": 1,
   "metadata": {},
   "outputs": [],
   "source": [
    "def calc_tax(sales_total, tax_rate):\n",
    "    print(sales_total * tax_rate)"
   ]
  },
  {
   "cell_type": "markdown",
   "metadata": {},
   "source": [
    "Suppose 98 percent of your sales take place in your state. Your state has a tax rate of 4%. Python allows you to make that rate the default value for the key **tax_rate**. Here's how:"
   ]
  },
  {
   "cell_type": "code",
   "execution_count": 2,
   "metadata": {},
   "outputs": [],
   "source": [
    "def calc_tax(sales_total, tax_rate = 0.04):\n",
    "    print(sales_total * tax_rate)"
   ]
  },
  {
   "cell_type": "markdown",
   "metadata": {},
   "source": [
    "Now you can skip the second argument in the function call…"
   ]
  },
  {
   "cell_type": "code",
   "execution_count": 3,
   "metadata": {},
   "outputs": [
    {
     "name": "stdout",
     "output_type": "stream",
     "text": [
      "4.0\n"
     ]
    }
   ],
   "source": [
    "calc_tax(sales_total = 100)"
   ]
  },
  {
   "cell_type": "markdown",
   "metadata": {},
   "source": [
    "In the rare case when you make a sale in another state with a different tax rate, you just put the second argument back into the function call…"
   ]
  },
  {
   "cell_type": "code",
   "execution_count": 5,
   "metadata": {},
   "outputs": [
    {
     "name": "stdout",
     "output_type": "stream",
     "text": [
      "7.5\n"
     ]
    }
   ],
   "source": [
    "calc_tax(sales_total = 100, tax_rate = 0.075)"
   ]
  },
  {
   "cell_type": "markdown",
   "metadata": {},
   "source": [
    "> Exercise: Function that indicates which is Pip's team."
   ]
  },
  {
   "cell_type": "code",
   "execution_count": 8,
   "metadata": {},
   "outputs": [
    {
     "name": "stdout",
     "output_type": "stream",
     "text": [
      "Patriots\n"
     ]
    }
   ],
   "source": [
    "customers = {\n",
    "    \"Joseph\": {\n",
    "        \"team\": \"Patriots\",\n",
    "        \"number\": 9,\n",
    "    },\n",
    "    \"Pip\": {\n",
    "        \"team\": \"Eagles\",\n",
    "        \"number\": 25\n",
    "    },\n",
    "}\n",
    "def get_dict_value(dict, key, target):\n",
    "    print(dict[key][target])\n",
    "get_dict_value(customers, \"Joseph\", \"team\")"
   ]
  },
  {
   "cell_type": "markdown",
   "metadata": {},
   "source": [
    "##### 01. In the following code, what is the value of **total** if the function call doesn't pass any arguments?"
   ]
  },
  {
   "cell_type": "code",
   "execution_count": 9,
   "metadata": {},
   "outputs": [],
   "source": [
    "def add_numbers(first_number = 2, second_number = 4):\n",
    "    total = first_number + second_number"
   ]
  },
  {
   "cell_type": "markdown",
   "metadata": {},
   "source": [
    "6"
   ]
  },
  {
   "cell_type": "markdown",
   "metadata": {},
   "source": [
    "##### 02. In the following code, what is the value of total?"
   ]
  },
  {
   "cell_type": "code",
   "execution_count": 10,
   "metadata": {},
   "outputs": [],
   "source": [
    "def add_numbers(first_number = 2, second_number = 4):\n",
    "    total = first_number + second_number\n",
    "add_numbers(second_number = 10)"
   ]
  },
  {
   "cell_type": "markdown",
   "metadata": {},
   "source": [
    "12"
   ]
  },
  {
   "cell_type": "markdown",
   "metadata": {},
   "source": [
    "##### 03. Code the first line of a function, **analyze**, that has a single parameter, **name**, with a default of \"Jones\"."
   ]
  },
  {
   "cell_type": "markdown",
   "metadata": {},
   "source": [
    "```python\n",
    "def analyze(name = \"Jones\"):\n",
    "```"
   ]
  },
  {
   "cell_type": "markdown",
   "metadata": {},
   "source": [
    "##### 04. Code the first line of a function, **x**, that has two parameters, **y** and **z**. The first parameter has no default. The second parameter has a default of 1."
   ]
  },
  {
   "cell_type": "markdown",
   "metadata": {},
   "source": [
    "```python\n",
    "def x(y, z = 1):\n",
    "```"
   ]
  },
  {
   "cell_type": "markdown",
   "metadata": {},
   "source": [
    "##### 05. Rewrite this code so it's legal.\n",
    "```python\n",
    "def x(y = 1, z):\n",
    "```"
   ]
  },
  {
   "cell_type": "markdown",
   "metadata": {},
   "source": [
    "```python\n",
    "def x(z, y = 1):\n",
    "```"
   ]
  },
  {
   "cell_type": "markdown",
   "metadata": {},
   "source": [
    "---\n",
    "📝 **NOTE**\n",
    "\n",
    "Keyword parameters without defaults must come before keyword parameters with defaults.\n",
    "\n",
    "---"
   ]
  },
  {
   "cell_type": "markdown",
   "metadata": {},
   "source": [
    "##### 06. Code the first line of a function with one parameter whose default is a string. Make everything up."
   ]
  },
  {
   "cell_type": "markdown",
   "metadata": {},
   "source": [
    "```python\n",
    "def say_hello(name = \"Felipe\"):\n",
    "```"
   ]
  },
  {
   "cell_type": "markdown",
   "metadata": {},
   "source": [
    "##### 07. Call this function. Don't override the defaults.\n",
    "```python\n",
    "def x(y = \"Bulgaria\", z = 1.89):\n",
    "```"
   ]
  },
  {
   "cell_type": "markdown",
   "metadata": {},
   "source": [
    "```python\n",
    "x()\n",
    "```"
   ]
  },
  {
   "cell_type": "markdown",
   "metadata": {},
   "source": [
    "##### 08. Code the first line of a function. It has one parameter without a default and a second parameter whose default is an integer. Make everything up."
   ]
  },
  {
   "cell_type": "markdown",
   "metadata": {},
   "source": [
    "```python\n",
    "def calculate_vat(price, vat = 16):\n",
    "```"
   ]
  },
  {
   "cell_type": "markdown",
   "metadata": {},
   "source": [
    "##### 09. Code the first line of a function. It has three parameters. All of them have defaults. The first parameter is the name of a list. The second parameter is a string. The third parameter is an integer. Make everything up."
   ]
  },
  {
   "cell_type": "markdown",
   "metadata": {},
   "source": [
    "```python\n",
    "def add_to_list(list_name = products, item = \"milk\", position = 4):\n",
    "```"
   ]
  },
  {
   "cell_type": "markdown",
   "metadata": {},
   "source": [
    "##### 10. Code a call to this function that makes full_name equal \"Hugo Jones\". Don't pass any information to the function that you don't have to pass."
   ]
  },
  {
   "cell_type": "code",
   "execution_count": 12,
   "metadata": {},
   "outputs": [],
   "source": [
    "def assemble_name(last_name = \"Jones\", first_name = \"John\"):\n",
    "    full_name = first_name + \" \" + last_name"
   ]
  },
  {
   "cell_type": "code",
   "execution_count": 15,
   "metadata": {},
   "outputs": [],
   "source": [
    "assemble_name(first_name = \"Hugo\")"
   ]
  },
  {
   "cell_type": "markdown",
   "metadata": {},
   "source": [
    "##### 11. Code a function that has two parameters, both of them numbers. Assign a default value to each parameter. The function does an arithmetic operation using the two numbers and displays the result. Call the function without passing arguments."
   ]
  },
  {
   "cell_type": "code",
   "execution_count": 16,
   "metadata": {},
   "outputs": [
    {
     "name": "stdout",
     "output_type": "stream",
     "text": [
      "15\n"
     ]
    }
   ],
   "source": [
    "def subtract_numbers(first_number = 27, second_number = 12):\n",
    "    print(first_number - second_number)\n",
    "subtract_numbers()"
   ]
  },
  {
   "cell_type": "markdown",
   "metadata": {},
   "source": [
    "##### 12. Run this code. See that it displays **hammock: 12**. Revise the function call to make **rug: 144** display."
   ]
  },
  {
   "cell_type": "code",
   "execution_count": 17,
   "metadata": {},
   "outputs": [
    {
     "name": "stdout",
     "output_type": "stream",
     "text": [
      "rug: 144\n"
     ]
    }
   ],
   "source": [
    "products = [\"hammock\", \"basket\", \"lounge\", \"rug\"]\n",
    "qtys = [12, 48, 60, 144]\n",
    "def show_level(first_list = products, second_list = qtys, first_index = 0, second_index = 0):\n",
    "    product = first_list[first_index]\n",
    "    qty = str(second_list[second_index])\n",
    "    info_to_show = product + \": \" + qty\n",
    "    print (info_to_show)\n",
    "# show_level()\n",
    "show_level(first_index = 3, second_index = 3)"
   ]
  }
 ],
 "metadata": {
  "kernelspec": {
   "display_name": "Python 3",
   "language": "python",
   "name": "python3"
  },
  "language_info": {
   "codemirror_mode": {
    "name": "ipython",
    "version": 3
   },
   "file_extension": ".py",
   "mimetype": "text/x-python",
   "name": "python",
   "nbconvert_exporter": "python",
   "pygments_lexer": "ipython3",
   "version": "3.10.8"
  },
  "orig_nbformat": 4
 },
 "nbformat": 4,
 "nbformat_minor": 2
}
