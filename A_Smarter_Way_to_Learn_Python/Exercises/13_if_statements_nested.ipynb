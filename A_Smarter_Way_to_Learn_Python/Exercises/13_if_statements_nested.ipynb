{
 "cells": [
  {
   "cell_type": "markdown",
   "metadata": {},
   "source": [
    "# `if` statements nested\n",
    "Check out this code.\n",
    "```python\n",
    "if (x == y or a == b) and c == d:\n",
    "    g = h\n",
    "else:\n",
    "    e = f\n",
    "```\n",
    "In the code above, if either of the first conditions is true—**x** has the same value as **y** or **a** has the same value as **b**— and, in addition, the third condition is true—**c** has the same value as **d**—then **g** is assigned the value of **h**. Otherwise, **e** is assigned the value of **f**.\n",
    "\n",
    "There's another way to code this, using nesting.\n",
    "```python\n",
    "if c == d:\n",
    "    if x == y:\n",
    "        g = h\n",
    "    elif a == b:\n",
    "        g = h\n",
    "    else:\n",
    "        e = f\n",
    "else:\n",
    "    e = f\n",
    "```"
   ]
  },
  {
   "cell_type": "markdown",
   "metadata": {},
   "source": [
    "Example: Nest the following code.\n",
    "```python\n",
    "if a == b and (c == d or e == f)\n",
    "    g = h\n",
    "```"
   ]
  },
  {
   "cell_type": "code",
   "execution_count": 1,
   "metadata": {},
   "outputs": [
    {
     "name": "stdout",
     "output_type": "stream",
     "text": [
      "6\n"
     ]
    }
   ],
   "source": [
    "a = 2\n",
    "b = 2\n",
    "c = 3\n",
    "d = 4\n",
    "e = 5\n",
    "f = 5\n",
    "h = 6\n",
    "if a == b:\n",
    "    if c == d:\n",
    "        g = h\n",
    "    elif e == f:\n",
    "        g = h\n",
    "print(g)"
   ]
  },
  {
   "cell_type": "markdown",
   "metadata": {},
   "source": [
    "##### 01. Translate this into nested ifs:\n",
    "```python\t\n",
    "if a == b and c == d:\n",
    "```"
   ]
  },
  {
   "cell_type": "markdown",
   "metadata": {},
   "source": [
    "```python\n",
    "if a == b:\n",
    "    if c == d:\n",
    "```"
   ]
  },
  {
   "cell_type": "markdown",
   "metadata": {},
   "source": [
    "##### 02. Translate this into a four-line if and elif:\n",
    "```python\n",
    "if a == b or c == d:\n",
    "    print(\"ok\")\n",
    "```"
   ]
  },
  {
   "cell_type": "markdown",
   "metadata": {},
   "source": [
    "```python\n",
    "if a == b:\n",
    "    print(\"ok\")\n",
    "elif c == d:\n",
    "    print(\"ok\")\n",
    "```"
   ]
  },
  {
   "cell_type": "markdown",
   "metadata": {},
   "source": [
    "##### 03. If both the first and second test don't pass, something else happens. Write the next line.\n",
    "```python\n",
    "if a == b:\n",
    "    if c == d:\n",
    "        e = f\n",
    "```"
   ]
  },
  {
   "cell_type": "markdown",
   "metadata": {},
   "source": [
    "```python\n",
    "else:\n",
    "```\t"
   ]
  },
  {
   "cell_type": "markdown",
   "metadata": {},
   "source": [
    "##### 04. Rewrite the second line so it's legal.\n",
    "```python\n",
    "if a == b:\n",
    "    if c == d\n",
    "        g = h\n",
    "```"
   ]
  },
  {
   "cell_type": "markdown",
   "metadata": {},
   "source": [
    "```python\n",
    "    if c == d:\n",
    "```"
   ]
  },
  {
   "cell_type": "markdown",
   "metadata": {},
   "source": [
    "##### 05. If a equals b and if c equals d, e equals f. Code all three lines using nesting."
   ]
  },
  {
   "cell_type": "code",
   "execution_count": 3,
   "metadata": {},
   "outputs": [
    {
     "name": "stdout",
     "output_type": "stream",
     "text": [
      "e = 5\n"
     ]
    }
   ],
   "source": [
    "a = 2\n",
    "b = 2\n",
    "c = 3\n",
    "d = 4\n",
    "f = 5\n",
    "if a == b:\n",
    "    if c == d:\n",
    "        e = f\n",
    "print(\"e =\", e)"
   ]
  },
  {
   "cell_type": "markdown",
   "metadata": {},
   "source": [
    "##### 06. Translate this into two lines with the second line nested:\n",
    "```python\n",
    "if a == b and c == d:\n",
    "```"
   ]
  },
  {
   "cell_type": "markdown",
   "metadata": {},
   "source": [
    "```python\n",
    "if a == b:\n",
    "    if c == d:\n",
    "```"
   ]
  },
  {
   "cell_type": "markdown",
   "metadata": {},
   "source": [
    "##### 07. Translate this into three lines using nesting:\n",
    "```python\n",
    "if a == 1 and b == 2 and c == 3:\n",
    "```"
   ]
  },
  {
   "cell_type": "markdown",
   "metadata": {},
   "source": [
    "```python\n",
    "if a == 1:\n",
    "    if b == 2:\n",
    "        if c == 3:\n",
    "```"
   ]
  },
  {
   "cell_type": "markdown",
   "metadata": {},
   "source": [
    "##### 08. Translate this into four lines using nesting:\n",
    "```python\n",
    "if a == 1 and b == 2 and c == 3:\n",
    "    d = 6\n",
    "```"
   ]
  },
  {
   "cell_type": "markdown",
   "metadata": {},
   "source": [
    "```python\n",
    "if a == 1:\n",
    "    if b == 2:\n",
    "        if c == 3:\n",
    "            d = 6\n",
    "```"
   ]
  },
  {
   "cell_type": "markdown",
   "metadata": {},
   "source": [
    "##### 09. Translate this using nesting.\n",
    "```python\n",
    "if a == b and (c == d or e == f):\n",
    "    g = h\n",
    "```"
   ]
  },
  {
   "cell_type": "markdown",
   "metadata": {},
   "source": [
    "```python\n",
    "if a == b:\n",
    "    if c == d:\n",
    "        g = h\n",
    "    elif e == f:\n",
    "        g = h\n",
    "```"
   ]
  },
  {
   "cell_type": "markdown",
   "metadata": {},
   "source": [
    "##### 10. If the first test succeeds but the nested test fails, code a second nested test for whether **a** is not equal to **b**. Don't forget to indent it.\n",
    "```python\n",
    "if c == d:\n",
    "    if x == y:\n",
    "        g = h\n",
    "```"
   ]
  },
  {
   "cell_type": "markdown",
   "metadata": {},
   "source": [
    "```python\n",
    "    elif a != b:\n",
    "```"
   ]
  },
  {
   "cell_type": "markdown",
   "metadata": {},
   "source": [
    "##### 11. Rewrite this code using a nested if statement.\n",
    "```python\t\n",
    "if 1 + 1 == 2 and 2 + 2 == 4:\n",
    "    print(\"ok\")\n",
    "```"
   ]
  },
  {
   "cell_type": "code",
   "execution_count": 4,
   "metadata": {},
   "outputs": [
    {
     "name": "stdout",
     "output_type": "stream",
     "text": [
      "ok\n"
     ]
    }
   ],
   "source": [
    "if 1 + 1 == 2:\n",
    "    if 2 + 2 == 4:\n",
    "        print(\"ok\")"
   ]
  },
  {
   "cell_type": "markdown",
   "metadata": {},
   "source": [
    "##### 12. If 1 plus 1 equals 2 and 2 plus 2 equals 4, display ok.\n",
    "```python\n",
    "if 1 + 1 == 2 and 2 + 2 == 4:\n",
    "    print(\"ok\")\n",
    "```"
   ]
  },
  {
   "cell_type": "code",
   "execution_count": 5,
   "metadata": {},
   "outputs": [
    {
     "name": "stdout",
     "output_type": "stream",
     "text": [
      "ok\n"
     ]
    }
   ],
   "source": [
    "if 1 + 1 == 2:\n",
    "    if 2 + 2 == 4:\n",
    "        print(\"ok\")"
   ]
  }
 ],
 "metadata": {
  "kernelspec": {
   "display_name": "Python 3",
   "language": "python",
   "name": "python3"
  },
  "language_info": {
   "codemirror_mode": {
    "name": "ipython",
    "version": 3
   },
   "file_extension": ".py",
   "mimetype": "text/x-python",
   "name": "python",
   "nbconvert_exporter": "python",
   "pygments_lexer": "ipython3",
   "version": "3.10.8"
  },
  "orig_nbformat": 4
 },
 "nbformat": 4,
 "nbformat_minor": 2
}
