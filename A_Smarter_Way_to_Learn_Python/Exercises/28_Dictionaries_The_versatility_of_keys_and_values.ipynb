{
 "cells": [
  {
   "cell_type": "markdown",
   "metadata": {},
   "source": [
    "# Dictionaries: The versatility of keys and values"
   ]
  },
  {
   "cell_type": "code",
   "execution_count": 3,
   "metadata": {},
   "outputs": [
    {
     "name": "stdout",
     "output_type": "stream",
     "text": [
      "9\n"
     ]
    }
   ],
   "source": [
    "fifa_ranking = { 'Belgium': 1, 'France': 2, 'Brazil': 3, 'England': 4, 'Uruguay': 5, 'Croatia': 6, 'Portugal': 7, 'Spain': 8, 'Argentina': 9, 'Colombia': 10 }\n",
    "\n",
    "# Get the Argentina ranking:\n",
    "argentina_ranking = fifa_ranking['Argentina']\n",
    "print(argentina_ranking)"
   ]
  },
  {
   "cell_type": "code",
   "execution_count": 5,
   "metadata": {},
   "outputs": [],
   "source": [
    "# This is a valid format for a dictionary:\n",
    "things_to_remember = {\n",
    "    0: \"first_index\",\n",
    "    12: \"a dozen\",\n",
    "    \"messi\": 10,\n",
    "    \"ronaldo\": 7,\n",
    "    \"country\": \"Mexico\",\n",
    "    \"costco\": \"cake\",\n",
    "}"
   ]
  },
  {
   "cell_type": "markdown",
   "metadata": {},
   "source": [
    "##### 01. A key can be a string. It can also be a _________."
   ]
  },
  {
   "cell_type": "markdown",
   "metadata": {},
   "source": [
    "number"
   ]
  },
  {
   "cell_type": "markdown",
   "metadata": {},
   "source": [
    "##### 02. A value paired with a key can be a number. It can also be a _________."
   ]
  },
  {
   "cell_type": "markdown",
   "metadata": {},
   "source": [
    "string"
   ]
  },
  {
   "cell_type": "markdown",
   "metadata": {},
   "source": [
    "##### 03. The dictionary has just one item. The dictionary's name is **products**. The key is 101. The value is \"wrench.\" Code the dictionary."
   ]
  },
  {
   "cell_type": "code",
   "execution_count": 1,
   "metadata": {},
   "outputs": [],
   "source": [
    "products = {101: \"wrench\"}"
   ]
  },
  {
   "cell_type": "markdown",
   "metadata": {},
   "source": [
    "##### 04. The dictionary has just one item. The dictionary's name is x. The key is \"A12\". The value is 9.99 Code the dictionary."
   ]
  },
  {
   "cell_type": "code",
   "execution_count": 2,
   "metadata": {},
   "outputs": [],
   "source": [
    "x = {\"A12\": 9.99}"
   ]
  },
  {
   "cell_type": "markdown",
   "metadata": {},
   "source": [
    "##### 05. Code a dictionary with a single item. Both the key and the value are numbers. Make everything up."
   ]
  },
  {
   "cell_type": "code",
   "execution_count": 3,
   "metadata": {},
   "outputs": [],
   "source": [
    "numbers = {3.1416: 3.14159265}"
   ]
  },
  {
   "cell_type": "markdown",
   "metadata": {},
   "source": [
    "##### 06. Code a dictionary with a single item. Both the key and the value are strings. Make everything up."
   ]
  },
  {
   "cell_type": "code",
   "execution_count": 4,
   "metadata": {},
   "outputs": [],
   "source": [
    "words = {\"first\": \"alpha\"}"
   ]
  },
  {
   "cell_type": "markdown",
   "metadata": {},
   "source": [
    "##### 07. Code a one-item dictionary. The key is a number. The value is a string. Make everything up."
   ]
  },
  {
   "cell_type": "code",
   "execution_count": 5,
   "metadata": {},
   "outputs": [],
   "source": [
    "months = {1: \"January\"}"
   ]
  },
  {
   "cell_type": "markdown",
   "metadata": {},
   "source": [
    "##### 08. Code a one-item dictionary. The key is a string. The value is a number. Make everything up."
   ]
  },
  {
   "cell_type": "code",
   "execution_count": 6,
   "metadata": {},
   "outputs": [],
   "source": [
    "months = {\"february\": 2}"
   ]
  },
  {
   "cell_type": "markdown",
   "metadata": {},
   "source": [
    "##### 09. Code a two-item dictionary, breaking the code into four lines. All keys and values are strings. Don't forget to indent properly. Don't forget the optional comma after the second item. Make everything up."
   ]
  },
  {
   "cell_type": "code",
   "execution_count": 8,
   "metadata": {},
   "outputs": [],
   "source": [
    "equivalences = {\n",
    "    \"foot\": \"12 inches\",\n",
    "    \"yard\": \"3 feet\",\n",
    "}"
   ]
  },
  {
   "cell_type": "markdown",
   "metadata": {},
   "source": [
    "##### 10. Code a three-item dictionary, breaking the code into five lines. All keys are numbers. All values are strings. Make everything up."
   ]
  },
  {
   "cell_type": "code",
   "execution_count": 9,
   "metadata": {},
   "outputs": [],
   "source": [
    "numbers = {\n",
    "    1: \"one\",\n",
    "    2: \"two\",\n",
    "    3: \"three\",\n",
    "}"
   ]
  },
  {
   "cell_type": "markdown",
   "metadata": {},
   "source": [
    "##### 11. Code a three-item dictionary, breaking it into five separate lines. Then display one of the values."
   ]
  },
  {
   "cell_type": "code",
   "execution_count": 11,
   "metadata": {},
   "outputs": [
    {
     "name": "stdout",
     "output_type": "stream",
     "text": [
      "green\n"
     ]
    }
   ],
   "source": [
    "daenerys_dragons = {\n",
    "    \"drogon\": \"black\",\n",
    "    \"rhaegal\": \"green\",\n",
    "    \"viserion\": \"gold\",\n",
    "}\n",
    "print(daenerys_dragons[\"rhaegal\"])"
   ]
  },
  {
   "cell_type": "markdown",
   "metadata": {},
   "source": [
    "##### 12. Code a three-item dictionary on five lines. The keys are integers. The values are floats. Display the sum of the dictionary's three values."
   ]
  },
  {
   "cell_type": "code",
   "execution_count": 2,
   "metadata": {},
   "outputs": [
    {
     "name": "stdout",
     "output_type": "stream",
     "text": [
      "24.5\n"
     ]
    }
   ],
   "source": [
    "my_math_grades = {\n",
    "  1: 9.0,\n",
    "  2: 8.5,\n",
    "  3: 7.0,\n",
    "}\n",
    "print(my_math_grades[1] + my_math_grades[2] + my_math_grades[3])"
   ]
  }
 ],
 "metadata": {
  "kernelspec": {
   "display_name": "Python 3",
   "language": "python",
   "name": "python3"
  },
  "language_info": {
   "codemirror_mode": {
    "name": "ipython",
    "version": 3
   },
   "file_extension": ".py",
   "mimetype": "text/x-python",
   "name": "python",
   "nbconvert_exporter": "python",
   "pygments_lexer": "ipython3",
   "version": "3.10.8"
  },
  "orig_nbformat": 4
 },
 "nbformat": 4,
 "nbformat_minor": 2
}
