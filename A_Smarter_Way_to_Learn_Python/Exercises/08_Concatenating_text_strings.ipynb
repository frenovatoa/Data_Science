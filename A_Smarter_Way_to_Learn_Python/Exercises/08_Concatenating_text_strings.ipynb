{
 "cells": [
  {
   "cell_type": "markdown",
   "metadata": {},
   "source": [
    "# Concatenating text strings"
   ]
  },
  {
   "cell_type": "markdown",
   "metadata": {},
   "source": [
    "##### 01. To combine two strings, you __________ them."
   ]
  },
  {
   "cell_type": "markdown",
   "metadata": {},
   "source": [
    "concatenate"
   ]
  },
  {
   "cell_type": "markdown",
   "metadata": {},
   "source": [
    "##### 02. Strings have been assigned to the variables a and b. Concatenate them and assign the result to the variable c."
   ]
  },
  {
   "cell_type": "code",
   "execution_count": 1,
   "metadata": {},
   "outputs": [
    {
     "name": "stdout",
     "output_type": "stream",
     "text": [
      "I'm Felipe.\n"
     ]
    }
   ],
   "source": [
    "a = \"I'm \"\n",
    "b = \"Felipe.\"\n",
    "c = a + b\n",
    "print(c)"
   ]
  },
  {
   "cell_type": "markdown",
   "metadata": {},
   "source": [
    "##### 03. Concatenate \"Mr. \" and \"Brown\". Assign the result to the variable person."
   ]
  },
  {
   "cell_type": "code",
   "execution_count": 2,
   "metadata": {},
   "outputs": [
    {
     "name": "stdout",
     "output_type": "stream",
     "text": [
      "Mr. Brown\n"
     ]
    }
   ],
   "source": [
    "person = \"Mr. \" + \"Brown\"\n",
    "print(person)"
   ]
  },
  {
   "cell_type": "markdown",
   "metadata": {},
   "source": [
    "##### 04. Concatenate **first_string** and **second_string**. Assign the result to the variable **combo**."
   ]
  },
  {
   "cell_type": "code",
   "execution_count": 4,
   "metadata": {},
   "outputs": [
    {
     "name": "stdout",
     "output_type": "stream",
     "text": [
      "Hello, world!\n"
     ]
    }
   ],
   "source": [
    "first_string = \"Hello, \"\n",
    "second_string = \"world!\"\n",
    "combo = first_string + second_string\n",
    "print(combo)"
   ]
  },
  {
   "cell_type": "markdown",
   "metadata": {},
   "source": [
    "##### 05. Concatenate \"Hello, \" and \"world!\". Assign the result to a variable. Make up the variable name. Don't forget the space at the end of the first string."
   ]
  },
  {
   "cell_type": "code",
   "execution_count": 5,
   "metadata": {},
   "outputs": [
    {
     "data": {
      "text/plain": [
       "'Hello, world!'"
      ]
     },
     "execution_count": 5,
     "metadata": {},
     "output_type": "execute_result"
    }
   ],
   "source": [
    "greeting = \"Hello, \" + \"world!\"\n",
    "greeting"
   ]
  },
  {
   "cell_type": "markdown",
   "metadata": {},
   "source": [
    "##### 06. Concatenate three variables. Assign the result to a fourth variable. Make up the variable names."
   ]
  },
  {
   "cell_type": "code",
   "execution_count": 6,
   "metadata": {},
   "outputs": [
    {
     "name": "stdout",
     "output_type": "stream",
     "text": [
      "Python is awesome.\n"
     ]
    }
   ],
   "source": [
    "a = \"Python \"\n",
    "b = \"is \"\n",
    "c = \"awesome.\"\n",
    "d = a + b + c\n",
    "print(d)"
   ]
  },
  {
   "cell_type": "markdown",
   "metadata": {},
   "source": [
    "##### 07. Concatenate three strings: your first name, a space, and your last name. Assign the result to a variable. Make up the variable name."
   ]
  },
  {
   "cell_type": "code",
   "execution_count": 8,
   "metadata": {},
   "outputs": [
    {
     "name": "stdout",
     "output_type": "stream",
     "text": [
      "Luis Felipe Renovato Ávila\n"
     ]
    }
   ],
   "source": [
    "my_name = \"Luis Felipe\" + \" \" + \"Renovato Ávila\"\n",
    "print(my_name)"
   ]
  },
  {
   "cell_type": "markdown",
   "metadata": {},
   "source": [
    "##### 08. Give yourself a fancy title, like Sir Mark or Lady Judith. Concatenate the title plus a space plus your first name. Assign the result to a variable. Make up the variable name."
   ]
  },
  {
   "cell_type": "code",
   "execution_count": 9,
   "metadata": {},
   "outputs": [
    {
     "name": "stdout",
     "output_type": "stream",
     "text": [
      "Sir Felipe\n"
     ]
    }
   ],
   "source": [
    "my_title = \"Sir\" + \" \" + \"Felipe\"\n",
    "print(my_title) "
   ]
  },
  {
   "cell_type": "markdown",
   "metadata": {},
   "source": [
    "##### 09. Give yourself a fancy title. But this time include the space in the first string. So you'll be concatenating the title and space as the first string, and your first name as the second string. Assign the result to a variable. Make up the variable name."
   ]
  },
  {
   "cell_type": "code",
   "execution_count": 10,
   "metadata": {},
   "outputs": [
    {
     "name": "stdout",
     "output_type": "stream",
     "text": [
      "Sir Felipe\n"
     ]
    }
   ],
   "source": [
    "my_title = \"Sir \" + \"Felipe\"\n",
    "print(my_title) "
   ]
  },
  {
   "cell_type": "markdown",
   "metadata": {},
   "source": [
    "##### 10. In a single statement, tell Python to display the concatenation of two variables. Make up the variable names."
   ]
  },
  {
   "cell_type": "code",
   "execution_count": 13,
   "metadata": {},
   "outputs": [
    {
     "name": "stdout",
     "output_type": "stream",
     "text": [
      "I'm coding!\n"
     ]
    }
   ],
   "source": [
    "subject = \"I'm \"\n",
    "verb = \"coding!\"\n",
    "print(subject + verb)"
   ]
  },
  {
   "cell_type": "markdown",
   "metadata": {},
   "source": [
    "##### 11. On line 3 code a single line, using the two variables plus a string between them, that displays **Hello, World!**"
   ]
  },
  {
   "cell_type": "code",
   "execution_count": 15,
   "metadata": {},
   "outputs": [
    {
     "name": "stdout",
     "output_type": "stream",
     "text": [
      "Hello, World!\n"
     ]
    }
   ],
   "source": [
    "first_word = \"Hello\"  \n",
    "second_word = \"World!\"\n",
    "print(first_word + \", \" + second_word)"
   ]
  },
  {
   "cell_type": "markdown",
   "metadata": {},
   "source": [
    "##### 12. Assign three strings to three different variables. Concatenate them and assign the result to a fourth variable. Display the concatenated string using the fourth variable."
   ]
  },
  {
   "cell_type": "code",
   "execution_count": 16,
   "metadata": {},
   "outputs": [
    {
     "name": "stdout",
     "output_type": "stream",
     "text": [
      "Coqui is the best dog in the world.\n"
     ]
    }
   ],
   "source": [
    "subject = \"Coqui \"\n",
    "verb = \"is \"\n",
    "complement = \"the best dog in the world.\"\n",
    "sentence = subject + verb + complement\n",
    "print(sentence)"
   ]
  }
 ],
 "metadata": {
  "kernelspec": {
   "display_name": "Python 3",
   "language": "python",
   "name": "python3"
  },
  "language_info": {
   "codemirror_mode": {
    "name": "ipython",
    "version": 3
   },
   "file_extension": ".py",
   "mimetype": "text/x-python",
   "name": "python",
   "nbconvert_exporter": "python",
   "pygments_lexer": "ipython3",
   "version": "3.10.8"
  },
  "orig_nbformat": 4
 },
 "nbformat": 4,
 "nbformat_minor": 2
}
