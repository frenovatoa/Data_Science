{
 "cells": [
  {
   "cell_type": "markdown",
   "metadata": {},
   "source": [
    "# Variables for Strings"
   ]
  },
  {
   "cell_type": "markdown",
   "metadata": {},
   "source": [
    "##### 01. Because of the quotation marks, Python identifies the greeting below as a _______ (1 word, lowercase).\n",
    "`\"Hello, World!\"`"
   ]
  },
  {
   "cell_type": "markdown",
   "metadata": {},
   "source": [
    "string"
   ]
  },
  {
   "cell_type": "markdown",
   "metadata": {},
   "source": [
    "##### 02. Because there are no quotation marks, Python identifies the set of characters below as a _______.\n",
    "`country_of_origin`"
   ]
  },
  {
   "cell_type": "markdown",
   "metadata": {},
   "source": [
    "variable"
   ]
  },
  {
   "cell_type": "markdown",
   "metadata": {},
   "source": [
    "##### 03. Assign the string \"Boo!\" to the variable scare."
   ]
  },
  {
   "cell_type": "code",
   "execution_count": 1,
   "metadata": {},
   "outputs": [
    {
     "name": "stdout",
     "output_type": "stream",
     "text": [
      "Boo!\n"
     ]
    }
   ],
   "source": [
    "scare = \"Boo!\"\n",
    "print(scare)"
   ]
  },
  {
   "cell_type": "markdown",
   "metadata": {},
   "source": [
    "##### 04. Assign the string \"jay\" to the variable bird."
   ]
  },
  {
   "cell_type": "code",
   "execution_count": 2,
   "metadata": {},
   "outputs": [
    {
     "name": "stdout",
     "output_type": "stream",
     "text": [
      "jay\n"
     ]
    }
   ],
   "source": [
    "bird = \"jay\"\n",
    "print(bird)"
   ]
  },
  {
   "cell_type": "markdown",
   "metadata": {},
   "source": [
    "##### 05. Assign your first name to a variable. You choose the variable name."
   ]
  },
  {
   "cell_type": "code",
   "execution_count": 3,
   "metadata": {},
   "outputs": [
    {
     "name": "stdout",
     "output_type": "stream",
     "text": [
      "Luis Felipe\n"
     ]
    }
   ],
   "source": [
    "first_name = \"Luis Felipe\"\n",
    "print(first_name)"
   ]
  },
  {
   "cell_type": "markdown",
   "metadata": {},
   "source": [
    "##### 06. Assign a string to a variable. You choose the variable name and the string."
   ]
  },
  {
   "cell_type": "code",
   "execution_count": 4,
   "metadata": {},
   "outputs": [
    {
     "name": "stdout",
     "output_type": "stream",
     "text": [
      "Coquita\n"
     ]
    }
   ],
   "source": [
    "pet_name = \"Coquita\"\n",
    "print(pet_name)"
   ]
  },
  {
   "cell_type": "markdown",
   "metadata": {},
   "source": [
    "##### 07. In the statement below, I assign a string to a variable. Using the variable, write the statement that displays the string on the screen.\n",
    "`my_name = \"Mark\"`"
   ]
  },
  {
   "cell_type": "code",
   "execution_count": 5,
   "metadata": {},
   "outputs": [
    {
     "name": "stdout",
     "output_type": "stream",
     "text": [
      "Mark\n"
     ]
    }
   ],
   "source": [
    "my_name = \"Mark\"\n",
    "print(my_name)"
   ]
  },
  {
   "cell_type": "markdown",
   "metadata": {},
   "source": [
    "##### 08. Assign a string to a variable. You choose the variable name and the string. Using the variable, write a statement that displays the string on the screen."
   ]
  },
  {
   "cell_type": "code",
   "execution_count": 6,
   "metadata": {},
   "outputs": [
    {
     "name": "stdout",
     "output_type": "stream",
     "text": [
      "22\n"
     ]
    }
   ],
   "source": [
    "age = \"22\"\n",
    "print(age)"
   ]
  },
  {
   "cell_type": "markdown",
   "metadata": {},
   "source": [
    "##### 09. Revise this variable name as the Python governing body recommends.\n",
    "`countryoforigin`"
   ]
  },
  {
   "cell_type": "markdown",
   "metadata": {},
   "source": [
    "country_of_origin"
   ]
  },
  {
   "cell_type": "markdown",
   "metadata": {},
   "source": [
    "##### 10. Assign the string \"Hi\" to the variable **greeting**."
   ]
  },
  {
   "cell_type": "code",
   "execution_count": 7,
   "metadata": {},
   "outputs": [
    {
     "name": "stdout",
     "output_type": "stream",
     "text": [
      "Hi\n"
     ]
    }
   ],
   "source": [
    "greeting = \"Hi\"\n",
    "print(greeting)"
   ]
  },
  {
   "cell_type": "markdown",
   "metadata": {},
   "source": [
    "##### 11. On line 1, assign a string of your choice to a variable of your choice. On line 2, tell Python to display the string, using the variable."
   ]
  },
  {
   "cell_type": "code",
   "execution_count": 8,
   "metadata": {},
   "outputs": [
    {
     "name": "stdout",
     "output_type": "stream",
     "text": [
      "dragon\n"
     ]
    }
   ],
   "source": [
    "mythical_creature = \"dragon\"\n",
    "print(mythical_creature)"
   ]
  },
  {
   "cell_type": "markdown",
   "metadata": {},
   "source": [
    "##### 12. On line 1, assign your first name to a variable. On line 2, tell Python to display your first name using that variable."
   ]
  },
  {
   "cell_type": "code",
   "execution_count": 9,
   "metadata": {},
   "outputs": [
    {
     "name": "stdout",
     "output_type": "stream",
     "text": [
      "Luis Felipe\n"
     ]
    }
   ],
   "source": [
    "first_name = \"Luis Felipe\"\n",
    "print(first_name)"
   ]
  }
 ],
 "metadata": {
  "kernelspec": {
   "display_name": "Python 3",
   "language": "python",
   "name": "python3"
  },
  "language_info": {
   "codemirror_mode": {
    "name": "ipython",
    "version": 3
   },
   "file_extension": ".py",
   "mimetype": "text/x-python",
   "name": "python",
   "nbconvert_exporter": "python",
   "pygments_lexer": "ipython3",
   "version": "3.10.8"
  },
  "orig_nbformat": 4
 },
 "nbformat": 4,
 "nbformat_minor": 2
}
