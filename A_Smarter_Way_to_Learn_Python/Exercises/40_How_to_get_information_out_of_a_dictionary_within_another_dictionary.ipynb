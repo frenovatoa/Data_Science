{
 "cells": [
  {
   "cell_type": "markdown",
   "metadata": {},
   "source": [
    "# How to get information out of a dictionary within another dictionary"
   ]
  },
  {
   "cell_type": "markdown",
   "metadata": {},
   "source": [
    "##### 01. Get an element in a list and assign it to a variable. Make everything up."
   ]
  },
  {
   "cell_type": "markdown",
   "metadata": {},
   "source": [
    "```python\n",
    "my_color = colors[0]\n",
    "```"
   ]
  },
  {
   "cell_type": "markdown",
   "metadata": {},
   "source": [
    "##### 02. Get a value in a dictionary and assign it to a variable. The key is a string."
   ]
  },
  {
   "cell_type": "markdown",
   "metadata": {},
   "source": [
    "```python\n",
    "my_color = colors[\"blue\"]\n",
    "```"
   ]
  },
  {
   "cell_type": "markdown",
   "metadata": {},
   "source": [
    "##### 03. In a single line, display the element in the **animals** whose index is 3."
   ]
  },
  {
   "cell_type": "markdown",
   "metadata": {},
   "source": [
    "```python\n",
    "print(animals[3])\n",
    "```"
   ]
  },
  {
   "cell_type": "markdown",
   "metadata": {},
   "source": [
    "##### 04. In a single line, display the value in the **animals** dictionary's whose key is \"wings\"."
   ]
  },
  {
   "cell_type": "markdown",
   "metadata": {},
   "source": [
    "```python\n",
    "print(animals[\"wings\"])\n",
    "```"
   ]
  },
  {
   "cell_type": "markdown",
   "metadata": {},
   "source": [
    "##### 05. The **animals** list contains dictionaries. Get a value out of dictionary **76** and assign it to a variable. The key is \"name\". Make up the variable name."
   ]
  },
  {
   "cell_type": "markdown",
   "metadata": {},
   "source": [
    "```python\n",
    "favorite_animal = animals[76][\"name\"]\n",
    "```"
   ]
  },
  {
   "cell_type": "markdown",
   "metadata": {},
   "source": [
    "##### 06. The **animals** dictionary contains lists. Get an element out of the \"9\" list that has an index of 0 and assign it to a variable. Make up the variable name."
   ]
  },
  {
   "cell_type": "markdown",
   "metadata": {},
   "source": [
    "```python\n",
    "favorite_animal = animals[\"9\"][0]\n",
    "```"
   ]
  },
  {
   "cell_type": "markdown",
   "metadata": {},
   "source": [
    "##### 07. The dictionary **flowers** contains a dictionary whose name is **43**. Get the value out of the dictionary whose key is a string and assign it to a variable. Make up the names of the key and the variable."
   ]
  },
  {
   "cell_type": "markdown",
   "metadata": {},
   "source": [
    "```python\n",
    "favorite_flower = flowers[43][\"name\"]\n",
    "```"
   ]
  },
  {
   "cell_type": "markdown",
   "metadata": {},
   "source": [
    "##### 08. The dictionary **students** contains a dictionary whose name is **340**. Get the value out of the dictionary whose key is a number and assign it to a variable. Make up the names of the key and the variable."
   ]
  },
  {
   "cell_type": "markdown",
   "metadata": {},
   "source": [
    "```python\n",
    "the_student = students[340][0]\n",
    "```"
   ]
  },
  {
   "cell_type": "markdown",
   "metadata": {},
   "source": [
    "##### 09. Find the number of pairs in the **students** dictionary and assign the number to a variable. Make up the variable name."
   ]
  },
  {
   "cell_type": "markdown",
   "metadata": {},
   "source": [
    "```python\n",
    "num = len(students)\n",
    "```"
   ]
  },
  {
   "cell_type": "markdown",
   "metadata": {},
   "source": [
    "##### 10. The dictionary **students** contains a dictionary whose name is **340**. Find the number of pairs in the **340** dictionary and assign the number to a variable. Make up the variable name."
   ]
  },
  {
   "cell_type": "markdown",
   "metadata": {},
   "source": [
    "```python\n",
    "dict_len = len(students[340])\n",
    "```"
   ]
  },
  {
   "cell_type": "markdown",
   "metadata": {},
   "source": [
    "##### 11. In a single statement, target one of the values in one of the inner dictionaries and display it."
   ]
  },
  {
   "cell_type": "code",
   "execution_count": 2,
   "metadata": {},
   "outputs": [
    {
     "name": "stdout",
     "output_type": "stream",
     "text": [
      "Anna\n"
     ]
    }
   ],
   "source": [
    "students = {\n",
    "    0: {\n",
    "        \"last name\": \"Wei\",\n",
    "        \"first name\": \"Robert\",\n",
    "    },\n",
    "    1: {\n",
    "        \"last name\": \"Wheeler\",\n",
    "        \"first name\": \"Anna\",    \n",
    "    },\n",
    "    2: {\n",
    "        \"last name\": \"Fillo\",\n",
    "        \"first name\": \"Phaedra\",    \n",
    "    },  \n",
    "}\n",
    "print(students[1][\"first name\"])"
   ]
  },
  {
   "cell_type": "markdown",
   "metadata": {},
   "source": [
    "##### 12. In a single statement, select the correct target in the inner dictionary and display it so **Wei** shows up in the right-hand results panel."
   ]
  },
  {
   "cell_type": "code",
   "execution_count": 3,
   "metadata": {},
   "outputs": [
    {
     "name": "stdout",
     "output_type": "stream",
     "text": [
      "Wei\n"
     ]
    }
   ],
   "source": [
    "students = {\n",
    "    0: {\n",
    "        \"last name\": \"Wei\",\n",
    "        \"first name\": \"Robert\",\n",
    "    },\n",
    "    1: {\n",
    "        \"last name\": \"Wheeler\",\n",
    "        \"first name\": \"Anna\",    \n",
    "    },\n",
    "    2: {\n",
    "        \"last name\": \"Fillo\",\n",
    "        \"first name\": \"Phaedra\",    \n",
    "    },  \n",
    "}\n",
    "print(students[0][\"last name\"])"
   ]
  }
 ],
 "metadata": {
  "kernelspec": {
   "display_name": "Python 3",
   "language": "python",
   "name": "python3"
  },
  "language_info": {
   "codemirror_mode": {
    "name": "ipython",
    "version": 3
   },
   "file_extension": ".py",
   "mimetype": "text/x-python",
   "name": "python",
   "nbconvert_exporter": "python",
   "pygments_lexer": "ipython3",
   "version": "3.10.8"
  },
  "orig_nbformat": 4
 },
 "nbformat": 4,
 "nbformat_minor": 2
}
