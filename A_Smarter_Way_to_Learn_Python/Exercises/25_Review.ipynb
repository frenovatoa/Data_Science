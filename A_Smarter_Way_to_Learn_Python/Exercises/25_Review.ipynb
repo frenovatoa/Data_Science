{
 "cells": [
  {
   "cell_type": "markdown",
   "metadata": {},
   "source": [
    "# Review\n",
    "This set of exercises reviews some things you learned in previous chapters."
   ]
  },
  {
   "cell_type": "markdown",
   "metadata": {},
   "source": [
    "##### 01. Code the first line of an **if** statement testing whether the value stored in **x** is greater or equal to the value stored in **y**."
   ]
  },
  {
   "cell_type": "markdown",
   "metadata": {},
   "source": [
    "```python\n",
    "if x >= y:\n",
    "```"
   ]
  },
  {
   "cell_type": "markdown",
   "metadata": {},
   "source": [
    "##### 02. In a single statement, display the remainder when 9 is divided by 4."
   ]
  },
  {
   "cell_type": "code",
   "execution_count": 1,
   "metadata": {},
   "outputs": [
    {
     "name": "stdout",
     "output_type": "stream",
     "text": [
      "1\n"
     ]
    }
   ],
   "source": [
    "print(9 % 4)"
   ]
  },
  {
   "cell_type": "markdown",
   "metadata": {},
   "source": [
    "##### 03. Code the shorthand version of this code:\n",
    "```python\n",
    "total = total - discount\n",
    "```"
   ]
  },
  {
   "cell_type": "code",
   "execution_count": 2,
   "metadata": {},
   "outputs": [],
   "source": [
    "total = 524.58\n",
    "discount = 120"
   ]
  },
  {
   "cell_type": "code",
   "execution_count": 3,
   "metadata": {},
   "outputs": [],
   "source": [
    "# The shorthand for total = total - discount is:\n",
    "total -= discount"
   ]
  },
  {
   "cell_type": "markdown",
   "metadata": {},
   "source": [
    "##### 04. x equals 3 times 4 divided by the sum of 5 plus 3. Code it to eliminate ambiguity."
   ]
  },
  {
   "cell_type": "code",
   "execution_count": 4,
   "metadata": {},
   "outputs": [],
   "source": [
    "x = (3 * 4) / (5 + 3)"
   ]
  },
  {
   "cell_type": "markdown",
   "metadata": {},
   "source": [
    "##### 05. Concatenate the strings stored in two variables and assign the combination to a third variable. Make up all the variable names."
   ]
  },
  {
   "cell_type": "markdown",
   "metadata": {},
   "source": [
    "```python\n",
    "me = first_name + last_name\n",
    "```"
   ]
  },
  {
   "cell_type": "markdown",
   "metadata": {},
   "source": [
    "##### 06. Write the first line that tests whether **a** equals **b** and either **c** is greater than **d** or **e** is less than **f**. Use a pair of parentheses to eliminate ambiguity."
   ]
  },
  {
   "cell_type": "markdown",
   "metadata": {},
   "source": [
    "```python\n",
    "if a == b and (c > d or e < f):\n",
    "```"
   ]
  },
  {
   "cell_type": "markdown",
   "metadata": {},
   "source": [
    "##### 07. In a single line, display \"yellowtail\" by specifying the list name and index number.\n",
    "```python\n",
    "fishes = [\"cod\", \"trout\", \"yellowtail\", \"tuna\", \"salmon\"]\n",
    "```"
   ]
  },
  {
   "cell_type": "markdown",
   "metadata": {},
   "source": [
    "```python\n",
    "print(fishes[2])\n",
    "```"
   ]
  },
  {
   "cell_type": "markdown",
   "metadata": {},
   "source": [
    "##### 08. In a single line, add two elements to a list. The elements are numbers. Make up the numbers and the list name."
   ]
  },
  {
   "cell_type": "markdown",
   "metadata": {},
   "source": [
    "```python\n",
    "numbers = numbers + [12, 15]\n",
    "```"
   ]
  },
  {
   "cell_type": "markdown",
   "metadata": {},
   "source": [
    "##### 09. Slice \"tablet\" and \"smart watch\" from this list and assign the slice to the variable **piece**.\n",
    "```python\n",
    "devices = [\"computer\", \"smart phone\", \"tablet\", \"smart watch\", \"video game console\"]\n",
    "```"
   ]
  },
  {
   "cell_type": "markdown",
   "metadata": {},
   "source": [
    "```python\n",
    "piece = devices[2:4]\n",
    "```"
   ]
  },
  {
   "cell_type": "markdown",
   "metadata": {},
   "source": [
    "##### 10. Eliminate \"computer\" by specifying the element's value.\n",
    "```python\n",
    "devices = [\"computer\", \"smart phone\", \"tablet\", \"smart watch\", \"video game console\"]\n",
    "```"
   ]
  },
  {
   "cell_type": "markdown",
   "metadata": {},
   "source": [
    "```python\n",
    "devices.remove(\"computer\")\n",
    "```"
   ]
  },
  {
   "cell_type": "markdown",
   "metadata": {},
   "source": [
    "##### 11. Pop \"bunny\" off the **hoppers** list and append it to the **pets** list. Then display the pets list.\n",
    "```python\n",
    "hoppers = [\"rabbit\", \"hare\", \"bunny\", \"cottontail\"]\n",
    "pets = [\"dog\", \"cat\", \"fish\"]\n",
    "```"
   ]
  },
  {
   "cell_type": "code",
   "execution_count": 5,
   "metadata": {},
   "outputs": [
    {
     "name": "stdout",
     "output_type": "stream",
     "text": [
      "['dog', 'cat', 'fish', 'bunny']\n"
     ]
    }
   ],
   "source": [
    "hoppers = [\"rabbit\", \"hare\", \"bunny\", \"cottontail\"]\n",
    "pets = [\"dog\", \"cat\", \"fish\"]\n",
    "pets.append(hoppers.pop(2))\n",
    "print(pets)"
   ]
  },
  {
   "cell_type": "markdown",
   "metadata": {},
   "source": [
    "##### 12. Insert an element of the tuple into the first position (index 0) in the list. Then display the list.\n",
    "```python\n",
    "fruits_i_like = [\"apple\", \"pear\", \"plum\"]\n",
    "citrus_fruit_list = (\"tangerine\", \"orange\", \"grapefruit\")\n",
    "```"
   ]
  },
  {
   "cell_type": "code",
   "execution_count": 6,
   "metadata": {},
   "outputs": [
    {
     "name": "stdout",
     "output_type": "stream",
     "text": [
      "['grapefruit', 'apple', 'pear', 'plum']\n"
     ]
    }
   ],
   "source": [
    "fruits_i_like = [\"apple\", \"pear\", \"plum\"]\n",
    "citrus_fruit_list = (\"tangerine\", \"orange\", \"grapefruit\")\n",
    "fruits_i_like.insert(0, citrus_fruit_list[2])\n",
    "print(fruits_i_like)"
   ]
  }
 ],
 "metadata": {
  "kernelspec": {
   "display_name": "Python 3",
   "language": "python",
   "name": "python3"
  },
  "language_info": {
   "codemirror_mode": {
    "name": "ipython",
    "version": 3
   },
   "file_extension": ".py",
   "mimetype": "text/x-python",
   "name": "python",
   "nbconvert_exporter": "python",
   "pygments_lexer": "ipython3",
   "version": "3.10.8"
  },
  "orig_nbformat": 4
 },
 "nbformat": 4,
 "nbformat_minor": 2
}
