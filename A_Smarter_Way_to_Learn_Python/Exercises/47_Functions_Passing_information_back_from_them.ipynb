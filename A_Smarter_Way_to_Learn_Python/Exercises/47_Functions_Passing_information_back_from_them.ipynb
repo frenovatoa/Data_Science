{
 "cells": [
  {
   "cell_type": "markdown",
   "metadata": {},
   "source": [
    "# Functions: Passing information back from them"
   ]
  },
  {
   "cell_type": "code",
   "execution_count": 1,
   "metadata": {},
   "outputs": [],
   "source": [
    "# It is possible condense n code lines into 1 line by using the return statement:\n",
    "def calc_tax(sales_total, tax_rate):\n",
    "    return (sales_total * tax_rate)"
   ]
  },
  {
   "cell_type": "code",
   "execution_count": 2,
   "metadata": {},
   "outputs": [
    {
     "name": "stdout",
     "output_type": "stream",
     "text": [
      "5.0\n"
     ]
    }
   ],
   "source": [
    "print(calc_tax(sales_total = 100, tax_rate = 0.05))"
   ]
  },
  {
   "cell_type": "markdown",
   "metadata": {},
   "source": [
    "##### 01.To pass information back from a function to the code that called it, you use the keyword ______"
   ]
  },
  {
   "cell_type": "markdown",
   "metadata": {},
   "source": [
    "return"
   ]
  },
  {
   "cell_type": "markdown",
   "metadata": {},
   "source": [
    "##### 02. The calling code needs to provide a _______ that will receive the value that is returned by the function."
   ]
  },
  {
   "cell_type": "markdown",
   "metadata": {},
   "source": [
    "variable"
   ]
  },
  {
   "cell_type": "markdown",
   "metadata": {},
   "source": [
    "##### 03. To pass the result of the math operation back to the calling code, code the last line of the function.\n",
    "```python\n",
    "def calc():\n",
    "    total = 2 + 2\n",
    "```"
   ]
  },
  {
   "cell_type": "markdown",
   "metadata": {},
   "source": [
    "```python\n",
    "return total\n",
    "```"
   ]
  },
  {
   "cell_type": "markdown",
   "metadata": {},
   "source": [
    "##### 04. Call the function **calc**, which will return a value. The variable that will receive the returned value is named **result**."
   ]
  },
  {
   "cell_type": "markdown",
   "metadata": {},
   "source": [
    "```python\n",
    "result = calc()\n",
    "```"
   ]
  },
  {
   "cell_type": "markdown",
   "metadata": {},
   "source": [
    "##### 05. Code a function, named **trivial**, that does nothing but pass the value 2 back to the calling code."
   ]
  },
  {
   "cell_type": "code",
   "execution_count": 3,
   "metadata": {},
   "outputs": [],
   "source": [
    "def trivial():\n",
    "    return 2"
   ]
  },
  {
   "cell_type": "markdown",
   "metadata": {},
   "source": [
    "##### 06. Call a function that receives a value returned by the function. The function call has no arguments. Make everything up."
   ]
  },
  {
   "cell_type": "markdown",
   "metadata": {},
   "source": [
    "```python\n",
    "result = calc()\n",
    "```"
   ]
  },
  {
   "cell_type": "markdown",
   "metadata": {},
   "source": [
    "##### 07. Code a function that adds 2 plus 2, assigns the result to a variable, and passes the result back to the calling code. Make up the function name and variable."
   ]
  },
  {
   "cell_type": "code",
   "execution_count": 6,
   "metadata": {},
   "outputs": [],
   "source": [
    "def add_two_numbers():\n",
    "    total = 2 + 2\n",
    "    return total"
   ]
  },
  {
   "cell_type": "markdown",
   "metadata": {},
   "source": [
    "##### 08. This time, code a function that adds 2 + 2, but condense the code into two lines. Don't assign 2 + 2 to a variable. Pass the result itself back to the calling code. Make up the name of the function."
   ]
  },
  {
   "cell_type": "code",
   "execution_count": 7,
   "metadata": {},
   "outputs": [],
   "source": [
    "def add_two_numbers():\n",
    "    return 2 + 2"
   ]
  },
  {
   "cell_type": "markdown",
   "metadata": {},
   "source": [
    "##### 09. Call a function, but this time, instead of assigning the returned value to a variable, just display the returned value. Make up the name of the function. Code the function and the print statement in a single line."
   ]
  },
  {
   "cell_type": "code",
   "execution_count": 8,
   "metadata": {},
   "outputs": [
    {
     "name": "stdout",
     "output_type": "stream",
     "text": [
      "4\n"
     ]
    }
   ],
   "source": [
    "print(add_two_numbers())"
   ]
  },
  {
   "cell_type": "markdown",
   "metadata": {},
   "source": [
    "##### 10. Code a three-line function that creates a list with three integers. Pass the list back to the calling code. Make everything up."
   ]
  },
  {
   "cell_type": "code",
   "execution_count": 10,
   "metadata": {},
   "outputs": [],
   "source": [
    "def make_list():\n",
    "    numbers = [15, 27, 39]\n",
    "    return numbers"
   ]
  },
  {
   "cell_type": "markdown",
   "metadata": {},
   "source": [
    "##### 11. Solve the following:\n",
    "1. Code a function that performs a calculation on its two parameters and passes the result back.\n",
    "2. Call the function, passing two positional arguments that are integers.\n",
    "3. Display the result produced by the function call.\n",
    "4. There are two opportunities here to condense your code. Take them if you wish."
   ]
  },
  {
   "cell_type": "code",
   "execution_count": 11,
   "metadata": {},
   "outputs": [
    {
     "name": "stdout",
     "output_type": "stream",
     "text": [
      "33\n"
     ]
    }
   ],
   "source": [
    "def calc(x, y):\n",
    "    return x * y\n",
    "print(calc(11, 3))"
   ]
  },
  {
   "cell_type": "markdown",
   "metadata": {},
   "source": [
    "##### 12. Solve the following:\n",
    "1. I've code a dictionary. Code a function that will change one of the values in the dictionary.\n",
    "2. The function has three parameters—the name of a dictionary, a dictionary key, and a dictionary value. The function uses these parameters to change one of the values in the dictionary. Then it returns the revised dictionary.\n",
    "3. Call the function, providing three keyword arguments—the name of the dictionary, the key for the animal whose sound you're going to change, and the new sound for the animal.\n",
    "4. Display the revised dictionary."
   ]
  },
  {
   "cell_type": "code",
   "execution_count": 12,
   "metadata": {},
   "outputs": [
    {
     "name": "stdout",
     "output_type": "stream",
     "text": [
      "{'cat': 'meow', 'dog': 'woof', 'fish': 'glug'}\n"
     ]
    }
   ],
   "source": [
    "creatures = {\n",
    "    \"cat\": \"meow\",\n",
    "    \"dog\": \"bow-wow\",\n",
    "    \"fish\": \"glug\",\n",
    "}\n",
    "def update_dict(dict, key, value):\n",
    "    dict[key] = value\n",
    "    return dict\n",
    "print(update_dict(creatures, \"dog\", \"woof\"))"
   ]
  }
 ],
 "metadata": {
  "kernelspec": {
   "display_name": "Python 3",
   "language": "python",
   "name": "python3"
  },
  "language_info": {
   "codemirror_mode": {
    "name": "ipython",
    "version": 3
   },
   "file_extension": ".py",
   "mimetype": "text/x-python",
   "name": "python",
   "nbconvert_exporter": "python",
   "pygments_lexer": "ipython3",
   "version": "3.10.8"
  },
  "orig_nbformat": 4
 },
 "nbformat": 4,
 "nbformat_minor": 2
}
