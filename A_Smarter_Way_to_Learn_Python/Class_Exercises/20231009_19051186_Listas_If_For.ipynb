{
 "cells": [
  {
   "cell_type": "markdown",
   "metadata": {},
   "source": [
    "# Ejercicios de listas, sentecia if y ciclos for\n",
    "> Para los siguientes ejercicios, utilizar listas, sentencias `if`/`for` cuando sea necesario. "
   ]
  },
  {
   "cell_type": "markdown",
   "metadata": {},
   "source": [
    "##### 01. Suma de elementos:\n",
    "```python\n",
    "numeros = [1, 2, 3, 4, 5, 10, 15, 3.1416]\n",
    "```\n",
    "> Imprimir la sumatoria."
   ]
  },
  {
   "cell_type": "code",
   "execution_count": 4,
   "metadata": {},
   "outputs": [
    {
     "name": "stdout",
     "output_type": "stream",
     "text": [
      "43.1416\n"
     ]
    }
   ],
   "source": [
    "numeros = [1, 2, 3, 4, 5, 10, 15, 3.1416]\n",
    "\n",
    "# Sumatoria de los elementos de la lista usando un ciclo for.\n",
    "suma = 0\n",
    "for numero in numeros:\n",
    "    suma += numero\n",
    "print(suma)"
   ]
  },
  {
   "cell_type": "markdown",
   "metadata": {},
   "source": [
    "##### 02. Promedio de elementos: \n",
    "```python\n",
    "numeros = [1, 2, 3, 4, 5, 10, 15, 3.1416] \n",
    "```\n",
    "> Imprimir el promedio."
   ]
  },
  {
   "cell_type": "code",
   "execution_count": 5,
   "metadata": {},
   "outputs": [
    {
     "name": "stdout",
     "output_type": "stream",
     "text": [
      "5.3927\n"
     ]
    }
   ],
   "source": [
    "numeros = [1, 2, 3, 4, 5, 10, 15, 3.1416]\n",
    "\n",
    "# Promedio de los elementos de la lista usando un ciclo for.\n",
    "suma = 0\n",
    "for numero in numeros:\n",
    "    suma += numero\n",
    "# La función len() devuelve la cantidad de elementos de una lista.\n",
    "promedio = suma / len(numeros)\n",
    "print(promedio)"
   ]
  },
  {
   "cell_type": "markdown",
   "metadata": {},
   "source": [
    "##### 03. Máximo y mínimo:\n",
    "```python\n",
    "numeros = [1, 2, 3, 4, 5, 10, 15, 3.1416] \n",
    "```\n",
    "> Imprimir el valor máximo y mínimo. "
   ]
  },
  {
   "cell_type": "code",
   "execution_count": 6,
   "metadata": {},
   "outputs": [
    {
     "name": "stdout",
     "output_type": "stream",
     "text": [
      "Número máximo: 15\n",
      "Número mínimo: 1\n"
     ]
    }
   ],
   "source": [
    "numeros = [1, 2, 3, 4, 5, 10, 15, 3.1416] \n",
    "\n",
    "# Número mayor y menor de la lista usando un ciclo for.\n",
    "numero_mayor = numeros[0]\n",
    "numero_menor = numeros[0]\n",
    "for numero in numeros:\n",
    "    if numero > numero_mayor:\n",
    "        numero_mayor = numero\n",
    "    if numero < numero_menor:\n",
    "        numero_menor = numero\n",
    "print(\"Número máximo:\", numero_mayor)\n",
    "print(\"Número mínimo:\", numero_menor)"
   ]
  },
  {
   "cell_type": "markdown",
   "metadata": {},
   "source": [
    "##### 04. Filtrado de elementos pares/impares:\n",
    "```python\n",
    "lista_original = [1, 2, 3, 4, 5, 6, 7, 8, 9, 10, 11, 12, 13, 14, 15, 20, 25]\n",
    "pares = []\n",
    "impares = []\n",
    "```\n",
    "> Guardarlo en las listas. "
   ]
  },
  {
   "cell_type": "code",
   "execution_count": 7,
   "metadata": {},
   "outputs": [
    {
     "name": "stdout",
     "output_type": "stream",
     "text": [
      "Cantidad de números pares: 8\n",
      "Cantidad de números impares: 9\n"
     ]
    }
   ],
   "source": [
    "lista_original = [1, 2, 3, 4, 5, 6, 7, 8, 9, 10, 11, 12, 13, 14, 15, 20, 25] \n",
    "pares = [] \n",
    "impares = [] \n",
    "# Contabilizar la cantidad de números pares e impares de la lista.\n",
    "for numero in lista_original:\n",
    "    if numero % 2 == 0:\n",
    "        pares.append(numero)\n",
    "    else:\n",
    "        impares.append(numero)\n",
    "print(\"Cantidad de números pares:\", len(pares))\n",
    "print(\"Cantidad de números impares:\", len(impares))"
   ]
  },
  {
   "cell_type": "markdown",
   "metadata": {},
   "source": [
    "##### 05. Búsqueda de un elemento: \n",
    "\n",
    "Buscar con la función \"input\": *basketball*.\n",
    "\n",
    "```python\n",
    "sports = [\"tenis\", \"baseball\", \"basketball\", \"voleyball\"]\n",
    "```  \n",
    "\n",
    "> Imprimir \"El deporte favorito es basketball.\" "
   ]
  },
  {
   "cell_type": "code",
   "execution_count": 7,
   "metadata": {},
   "outputs": [
    {
     "name": "stdout",
     "output_type": "stream",
     "text": [
      "El deporte favorito es basketball.\n"
     ]
    }
   ],
   "source": [
    "sports = [\"tenis\", \"baseball\", \"basketball\", \"voleyball\"]\n",
    "\n",
    "sport_to_check = input(\"Ingrese un deporte: \")\n",
    "for sport in sports:\n",
    "    if sport_to_check == sport:\n",
    "        print(\"El deporte favorito es \" + sport + \".\")\n",
    "        break"
   ]
  },
  {
   "cell_type": "markdown",
   "metadata": {},
   "source": [
    "##### 06. Contar números pares/impares: \n",
    "\n",
    "```python\n",
    "range(1,11)\n",
    "``` \n",
    "\n",
    "> Imprimir cuántos pares e impares hay."
   ]
  },
  {
   "cell_type": "code",
   "execution_count": 8,
   "metadata": {},
   "outputs": [
    {
     "name": "stdout",
     "output_type": "stream",
     "text": [
      "Cantidad de números pares: 5\n",
      "Cantidad de números impares: 5\n"
     ]
    }
   ],
   "source": [
    "pares = 0\n",
    "impares = 0\n",
    "\n",
    "for i in range(1,11):\n",
    "    if i % 2 == 0:\n",
    "        pares += 1\n",
    "    else:\n",
    "        impares += 1\n",
    "print(\"Cantidad de números pares:\", pares)\n",
    "print(\"Cantidad de números impares:\", impares)"
   ]
  },
  {
   "cell_type": "markdown",
   "metadata": {},
   "source": [
    "##### 07. Tabla de multiplicación del 7: \n",
    "\n",
    "Multiplicar del 1 al 10 e imprimir:\n",
    "\n",
    "```python\n",
    "print(numero x i = resultado) \n",
    "```"
   ]
  },
  {
   "cell_type": "code",
   "execution_count": 9,
   "metadata": {},
   "outputs": [
    {
     "name": "stdout",
     "output_type": "stream",
     "text": [
      "7 x 1 = 7\n",
      "7 x 2 = 14\n",
      "7 x 3 = 21\n",
      "7 x 4 = 28\n",
      "7 x 5 = 35\n",
      "7 x 6 = 42\n",
      "7 x 7 = 49\n",
      "7 x 8 = 56\n",
      "7 x 9 = 63\n",
      "7 x 10 = 70\n"
     ]
    }
   ],
   "source": [
    "# Imprimir tabla del 7 de 1 a 10.\n",
    "for i in range(1,11):\n",
    "    print(\"7 x\", i, \"=\", 7 * i)"
   ]
  }
 ],
 "metadata": {
  "kernelspec": {
   "display_name": "Python 3",
   "language": "python",
   "name": "python3"
  },
  "language_info": {
   "codemirror_mode": {
    "name": "ipython",
    "version": 3
   },
   "file_extension": ".py",
   "mimetype": "text/x-python",
   "name": "python",
   "nbconvert_exporter": "python",
   "pygments_lexer": "ipython3",
   "version": "3.10.8"
  },
  "orig_nbformat": 4
 },
 "nbformat": 4,
 "nbformat_minor": 2
}
