{
 "cells": [
  {
   "cell_type": "markdown",
   "metadata": {},
   "source": [
    "# 🐍📝 Examen - Python 📝🐍"
   ]
  },
  {
   "cell_type": "markdown",
   "metadata": {},
   "source": [
    "## Ejercicio 1️⃣"
   ]
  },
  {
   "cell_type": "markdown",
   "metadata": {},
   "source": [
    "> Defina una función llamada calculadora(), que cuando ésta sea llamada pida ingresar sea llamada pida ingresar lo siguiente y de el resultado correcto:\n",
    "\n",
    "Ingrese el primer número: 4\n",
    "\n",
    "Ingrese un operador (+, -, *, /): *\n",
    "\n",
    "Ingrese el segundo número: 3\n",
    "\n",
    "12.0"
   ]
  },
  {
   "cell_type": "code",
   "execution_count": 14,
   "metadata": {},
   "outputs": [
    {
     "name": "stdout",
     "output_type": "stream",
     "text": [
      "25.0\n"
     ]
    }
   ],
   "source": [
    "def calculadora():\n",
    "    num1 = float(input(\"Ingrese el primer número: \"))\n",
    "    operador = input(\"Ingrese un operador (+, -, *, /): \")\n",
    "    num2 = float(input(\"Ingrese el segundo número: \"))\n",
    "    if operador == \"+\":\n",
    "        print(num1 + num2)\n",
    "    elif operador == \"-\":\n",
    "        print(num1 - num2)\n",
    "    elif operador == \"*\":\n",
    "        print(num1 * num2)\n",
    "    elif operador == \"/\":\n",
    "        print(num1 / num2)\n",
    "    else:\n",
    "        print(\"Operador no válido\")\n",
    "calculadora()"
   ]
  },
  {
   "cell_type": "markdown",
   "metadata": {},
   "source": [
    "## Ejercicio 2️⃣"
   ]
  },
  {
   "cell_type": "markdown",
   "metadata": {},
   "source": [
    "> Suma de Números Pares (con entrada). Defina una función llamada suma_pares(), que cuando ésta sea llamada pida ingresar lo siguiente y de el resultado correcto.\n",
    "\n",
    "Ingrese un número entero: 1000\n",
    "\n",
    "250500"
   ]
  },
  {
   "cell_type": "code",
   "execution_count": 15,
   "metadata": {},
   "outputs": [
    {
     "name": "stdout",
     "output_type": "stream",
     "text": [
      "30\n"
     ]
    }
   ],
   "source": [
    "def suma_pares():\n",
    "    i = 1\n",
    "    num = input(\"Ingrese un número entero: \")\n",
    "    suma = 0\n",
    "    while i <= int(num):\n",
    "        if i % 2 == 0:\n",
    "            suma += i\n",
    "        i += 1\n",
    "    print(suma)\n",
    "suma_pares()"
   ]
  }
 ],
 "metadata": {
  "kernelspec": {
   "display_name": "Python 3",
   "language": "python",
   "name": "python3"
  },
  "language_info": {
   "codemirror_mode": {
    "name": "ipython",
    "version": 3
   },
   "file_extension": ".py",
   "mimetype": "text/x-python",
   "name": "python",
   "nbconvert_exporter": "python",
   "pygments_lexer": "ipython3",
   "version": "3.10.8"
  },
  "orig_nbformat": 4
 },
 "nbformat": 4,
 "nbformat_minor": 2
}
